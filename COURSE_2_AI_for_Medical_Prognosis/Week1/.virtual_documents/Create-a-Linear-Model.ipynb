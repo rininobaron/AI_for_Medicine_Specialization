








# Import the module 'LinearRegression' from sklearn
from sklearn.linear_model import LinearRegression





# Create an object of type LinearRegression
model = LinearRegression()
model





!pip uninstall util


# Import the load_data function from the utils module
from utils import load_data


# Generate features and labels using the imported function
X, y = load_data(100)





# View the features
X.head()


# Plot a histogram of the Age feature
X['Age'].hist();


# Plot a histogram of the systolic blood pressure feature
X['Systolic_BP'].hist();


# Plot a histogram of the diastolic blood pressure feature
X['Diastolic_BP'].hist();


# Plot a histogram of the cholesterol feature
X['Cholesterol'].hist();





# View a few values of the labels
y.head()


# Plot a histogram of the labels
y.hist();





# Fit the linear regression model
model.fit(X, y)
model





# View the coefficients of the model
model.coef_







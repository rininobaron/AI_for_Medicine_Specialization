





<!DOCTYPE html>
<html
  lang="en"
  
  data-color-mode="auto" data-light-theme="light" data-dark-theme="dark"
  data-a11y-animated-images="system" data-a11y-link-underlines="true"
  >



  <head>
    <meta charset="utf-8">
  <link rel="dns-prefetch" href="https://github.githubassets.com">
  <link rel="dns-prefetch" href="https://avatars.githubusercontent.com">
  <link rel="dns-prefetch" href="https://github-cloud.s3.amazonaws.com">
  <link rel="dns-prefetch" href="https://user-images.githubusercontent.com/">
  <link rel="preconnect" href="https://github.githubassets.com" crossorigin>
  <link rel="preconnect" href="https://avatars.githubusercontent.com">

  


  <link crossorigin="anonymous" media="all" rel="stylesheet" href="https://github.githubassets.com/assets/light-f552bab6ce72.css" /><link crossorigin="anonymous" media="all" rel="stylesheet" href="https://github.githubassets.com/assets/dark-4589f64a2275.css" /><link data-color-theme="dark_dimmed" crossorigin="anonymous" media="all" rel="stylesheet" data-href="https://github.githubassets.com/assets/dark_dimmed-a7246d2d6733.css" /><link data-color-theme="dark_high_contrast" crossorigin="anonymous" media="all" rel="stylesheet" data-href="https://github.githubassets.com/assets/dark_high_contrast-f2ef05cef2f1.css" /><link data-color-theme="dark_colorblind" crossorigin="anonymous" media="all" rel="stylesheet" data-href="https://github.githubassets.com/assets/dark_colorblind-daa1fe317131.css" /><link data-color-theme="light_colorblind" crossorigin="anonymous" media="all" rel="stylesheet" data-href="https://github.githubassets.com/assets/light_colorblind-1ab6fcc64845.css" /><link data-color-theme="light_high_contrast" crossorigin="anonymous" media="all" rel="stylesheet" data-href="https://github.githubassets.com/assets/light_high_contrast-46de871e876c.css" /><link data-color-theme="light_tritanopia" crossorigin="anonymous" media="all" rel="stylesheet" data-href="https://github.githubassets.com/assets/light_tritanopia-c9754fef2a31.css" /><link data-color-theme="dark_tritanopia" crossorigin="anonymous" media="all" rel="stylesheet" data-href="https://github.githubassets.com/assets/dark_tritanopia-dba748981a29.css" />
    <link crossorigin="anonymous" media="all" rel="stylesheet" href="https://github.githubassets.com/assets/primer-primitives-4cbeaa0795ef.css" />
    <link crossorigin="anonymous" media="all" rel="stylesheet" href="https://github.githubassets.com/assets/primer-87f353b17355.css" />
    <link crossorigin="anonymous" media="all" rel="stylesheet" href="https://github.githubassets.com/assets/global-b169e665f6fa.css" />
    <link crossorigin="anonymous" media="all" rel="stylesheet" href="https://github.githubassets.com/assets/github-f1af66156f94.css" />
  <link crossorigin="anonymous" media="all" rel="stylesheet" href="https://github.githubassets.com/assets/repository-2e900f0ac288.css" />
<link crossorigin="anonymous" media="all" rel="stylesheet" href="https://github.githubassets.com/assets/code-ac15a98582bf.css" />

  


  <script type="application/json" id="client-env">{"locale":"en","featureFlags":["code_vulnerability_scanning","copilot_chat_static_thread_suggestions","copilot_conversational_ux_history_refs","copilot_followup_to_agent","copilot_smell_icebreaker_ux","copilot_implicit_context","copilot_stop_response","failbot_handle_non_errors","geojson_azure_maps","image_metric_tracking","marketing_forms_api_integration_contact_request","marketing_pages_search_explore_provider","turbo_experiment_risky","sample_network_conn_type","no_character_key_shortcuts_in_inputs","react_start_transition_for_navigations","custom_inp","remove_child_patch","kb_source_repos"]}</script>
<script crossorigin="anonymous" defer="defer" type="application/javascript" src="https://github.githubassets.com/assets/wp-runtime-ffb8ffd5c2c3.js"></script>
<script crossorigin="anonymous" defer="defer" type="application/javascript" src="https://github.githubassets.com/assets/vendors-node_modules_dompurify_dist_purify_js-810e4b1b9abd.js"></script>
<script crossorigin="anonymous" defer="defer" type="application/javascript" src="https://github.githubassets.com/assets/vendors-node_modules_oddbird_popover-polyfill_dist_popover_js-4ac41d0a76fd.js"></script>
<script crossorigin="anonymous" defer="defer" type="application/javascript" src="https://github.githubassets.com/assets/vendors-node_modules_smoothscroll-polyfill_dist_smoothscroll_js-node_modules_stacktrace-parse-a448e4-bdc28e06dc01.js"></script>
<script crossorigin="anonymous" defer="defer" type="application/javascript" src="https://github.githubassets.com/assets/environment-65dcc25bed15.js"></script>
<script crossorigin="anonymous" defer="defer" type="application/javascript" src="https://github.githubassets.com/assets/vendors-node_modules_primer_behaviors_dist_esm_focus-zone_js-f669b9466f06.js"></script>
<script crossorigin="anonymous" defer="defer" type="application/javascript" src="https://github.githubassets.com/assets/vendors-node_modules_github_selector-observer_dist_index_esm_js-9f960d9b217c.js"></script>
<script crossorigin="anonymous" defer="defer" type="application/javascript" src="https://github.githubassets.com/assets/vendors-node_modules_github_combobox-nav_dist_index_js-node_modules_github_markdown-toolbar-e-820fc0-1176135e4d90.js"></script>
<script crossorigin="anonymous" defer="defer" type="application/javascript" src="https://github.githubassets.com/assets/vendors-node_modules_github_auto-complete-element_dist_index_js-node_modules_github_catalyst_-392fe4-5df1d85d02da.js"></script>
<script crossorigin="anonymous" defer="defer" type="application/javascript" src="https://github.githubassets.com/assets/vendors-node_modules_github_text-expander-element_dist_index_js-b2135edb5ced.js"></script>
<script crossorigin="anonymous" defer="defer" type="application/javascript" src="https://github.githubassets.com/assets/vendors-node_modules_github_filter-input-element_dist_index_js-node_modules_github_remote-inp-b7d8f4-6e6f83bcc978.js"></script>
<script crossorigin="anonymous" defer="defer" type="application/javascript" src="https://github.githubassets.com/assets/vendors-node_modules_github_mini-throttle_dist_index_js-node_modules_delegated-events_dist_in-b63d41-1e3984e4dd2f.js"></script>
<script crossorigin="anonymous" defer="defer" type="application/javascript" src="https://github.githubassets.com/assets/vendors-node_modules_github_file-attachment-element_dist_index_js-node_modules_primer_view-co-3959a9-1ccb1cef5682.js"></script>
<script crossorigin="anonymous" defer="defer" type="application/javascript" src="https://github.githubassets.com/assets/app_assets_modules_github_onfocus_ts-ui_packages_trusted-types-policies_policy_ts-ui_packages-6fe316-4083e7233d28.js"></script>
<script crossorigin="anonymous" defer="defer" type="application/javascript" src="https://github.githubassets.com/assets/github-elements-c9cd2492b1b3.js"></script>
<script crossorigin="anonymous" defer="defer" type="application/javascript" src="https://github.githubassets.com/assets/element-registry-48527b3ba457.js"></script>
<script crossorigin="anonymous" defer="defer" type="application/javascript" src="https://github.githubassets.com/assets/vendors-node_modules_braintree_browser-detection_dist_browser-detection_js-node_modules_githu-fd5530-79ffdad54bcd.js"></script>
<script crossorigin="anonymous" defer="defer" type="application/javascript" src="https://github.githubassets.com/assets/vendors-node_modules_lit-html_lit-html_js-cc7cb714ead5.js"></script>
<script crossorigin="anonymous" defer="defer" type="application/javascript" src="https://github.githubassets.com/assets/vendors-node_modules_morphdom_dist_morphdom-esm_js-node_modules_github_memoize_dist_esm_index_js-8d7117d67c36.js"></script>
<script crossorigin="anonymous" defer="defer" type="application/javascript" src="https://github.githubassets.com/assets/vendors-node_modules_github_turbo_dist_turbo_es2017-esm_js-1cea0f5eff45.js"></script>
<script crossorigin="anonymous" defer="defer" type="application/javascript" src="https://github.githubassets.com/assets/vendors-node_modules_github_remote-form_dist_index_js-node_modules_delegated-events_dist_inde-893f9f-880ac2bbb719.js"></script>
<script crossorigin="anonymous" defer="defer" type="application/javascript" src="https://github.githubassets.com/assets/vendors-node_modules_scroll-anchoring_dist_scroll-anchoring_esm_js-node_modules_github_hotkey-1a1d91-1bb71f3f93c2.js"></script>
<script crossorigin="anonymous" defer="defer" type="application/javascript" src="https://github.githubassets.com/assets/vendors-node_modules_color-convert_index_js-cdd1e82b3795.js"></script>
<script crossorigin="anonymous" defer="defer" type="application/javascript" src="https://github.githubassets.com/assets/vendors-node_modules_primer_behaviors_dist_esm_dimensions_js-node_modules_github_jtml_lib_index_js-b1947a1d4855.js"></script>
<script crossorigin="anonymous" defer="defer" type="application/javascript" src="https://github.githubassets.com/assets/vendors-node_modules_github_session-resume_dist_index_js-node_modules_primer_behaviors_dist_e-da6ec6-77ce2f267f4e.js"></script>
<script crossorigin="anonymous" defer="defer" type="application/javascript" src="https://github.githubassets.com/assets/vendors-node_modules_github_quote-selection_dist_index_js-node_modules_github_textarea-autosi-9e0349-7c78ee755ad3.js"></script>
<script crossorigin="anonymous" defer="defer" type="application/javascript" src="https://github.githubassets.com/assets/app_assets_modules_github_updatable-content_ts-7fcc5f2841d8.js"></script>
<script crossorigin="anonymous" defer="defer" type="application/javascript" src="https://github.githubassets.com/assets/app_assets_modules_github_behaviors_task-list_ts-app_assets_modules_github_onfocus_ts-app_ass-421cec-d3af2356fb47.js"></script>
<script crossorigin="anonymous" defer="defer" type="application/javascript" src="https://github.githubassets.com/assets/app_assets_modules_github_sticky-scroll-into-view_ts-3dc342dedcb0.js"></script>
<script crossorigin="anonymous" defer="defer" type="application/javascript" src="https://github.githubassets.com/assets/app_assets_modules_github_behaviors_ajax-error_ts-app_assets_modules_github_behaviors_include-467754-0b06f9573e1c.js"></script>
<script crossorigin="anonymous" defer="defer" type="application/javascript" src="https://github.githubassets.com/assets/app_assets_modules_github_behaviors_commenting_edit_ts-app_assets_modules_github_behaviors_ht-83c235-5276a3faf037.js"></script>
<script crossorigin="anonymous" defer="defer" type="application/javascript" src="https://github.githubassets.com/assets/app_assets_modules_github_blob-anchor_ts-app_assets_modules_github_filter-sort_ts-app_assets_-c96432-b934f03f8602.js"></script>
<script crossorigin="anonymous" defer="defer" type="application/javascript" src="https://github.githubassets.com/assets/behaviors-9311ca403c7e.js"></script>
<script crossorigin="anonymous" defer="defer" type="application/javascript" src="https://github.githubassets.com/assets/vendors-node_modules_delegated-events_dist_index_js-node_modules_github_catalyst_lib_index_js-06ff531-2ea61fcc9a71.js"></script>
<script crossorigin="anonymous" defer="defer" type="application/javascript" src="https://github.githubassets.com/assets/notifications-global-0409f6303340.js"></script>
<script crossorigin="anonymous" defer="defer" type="application/javascript" src="https://github.githubassets.com/assets/app_assets_modules_github_repositories_get-repo-element_ts-e21ae6671295.js"></script>
<script crossorigin="anonymous" defer="defer" type="application/javascript" src="https://github.githubassets.com/assets/code-menu-67595c3a6d0c.js"></script>
  
  <script crossorigin="anonymous" defer="defer" type="application/javascript" src="https://github.githubassets.com/assets/react-lib-dc88c1a68b28.js"></script>
<script crossorigin="anonymous" defer="defer" type="application/javascript" src="https://github.githubassets.com/assets/vendors-node_modules_primer_octicons-react_dist_index_esm_js-node_modules_primer_react_lib-es-541a38-2ad77ede4dad.js"></script>
<script crossorigin="anonymous" defer="defer" type="application/javascript" src="https://github.githubassets.com/assets/vendors-node_modules_primer_react_lib-esm_Box_Box_js-5a335cbe71ad.js"></script>
<script crossorigin="anonymous" defer="defer" type="application/javascript" src="https://github.githubassets.com/assets/vendors-node_modules_primer_react_lib-esm_FeatureFlags_FeatureFlags_js-node_modules_github_ca-9009bd-47065f21e9ac.js"></script>
<script crossorigin="anonymous" defer="defer" type="application/javascript" src="https://github.githubassets.com/assets/vendors-node_modules_primer_react_lib-esm_Button_Button_js-618154c88198.js"></script>
<script crossorigin="anonymous" defer="defer" type="application/javascript" src="https://github.githubassets.com/assets/vendors-node_modules_primer_react_lib-esm_TooltipV2_Tooltip_js-98aea6945770.js"></script>
<script crossorigin="anonymous" defer="defer" type="application/javascript" src="https://github.githubassets.com/assets/vendors-node_modules_primer_react_node_modules_primer_octicons-react_dist_index_esm_mjs-dc98a76c65d6.js"></script>
<script crossorigin="anonymous" defer="defer" type="application/javascript" src="https://github.githubassets.com/assets/vendors-node_modules_primer_react_lib-esm_ActionList_index_js-a2fe8fc7236e.js"></script>
<script crossorigin="anonymous" defer="defer" type="application/javascript" src="https://github.githubassets.com/assets/vendors-node_modules_primer_react_lib-esm_TextInput_TextInput_js-57e9c5f82efe.js"></script>
<script crossorigin="anonymous" defer="defer" type="application/javascript" src="https://github.githubassets.com/assets/vendors-node_modules_primer_react_lib-esm_FormControl_FormControl_js-61ac46c67a7e.js"></script>
<script crossorigin="anonymous" defer="defer" type="application/javascript" src="https://github.githubassets.com/assets/vendors-node_modules_primer_react_lib-esm_ActionMenu_ActionMenu_js-node_modules_primer_react_-5b2420-3d111386e1c1.js"></script>
<script crossorigin="anonymous" defer="defer" type="application/javascript" src="https://github.githubassets.com/assets/vendors-node_modules_react-router-dom_dist_index_js-2b1dbeadb6d4.js"></script>
<script crossorigin="anonymous" defer="defer" type="application/javascript" src="https://github.githubassets.com/assets/vendors-node_modules_primer_react_lib-esm_Link_Link_js-node_modules_primer_react_lib-esm_Rela-a903d7-17c01d44f123.js"></script>
<script crossorigin="anonymous" defer="defer" type="application/javascript" src="https://github.githubassets.com/assets/vendors-node_modules_primer_react_lib-esm_ConfirmationDialog_ConfirmationDialog_js-1811321a7c22.js"></script>
<script crossorigin="anonymous" defer="defer" type="application/javascript" src="https://github.githubassets.com/assets/vendors-node_modules_primer_react_lib-esm_Heading_Heading_js-node_modules_primer_react_lib-es-d8d6f0-041d9de40b9a.js"></script>
<script crossorigin="anonymous" defer="defer" type="application/javascript" src="https://github.githubassets.com/assets/vendors-node_modules_primer_react_lib-esm_Button_LinkButton_js-node_modules_primer_react_lib--a52ff3-7e9e67a2b35e.js"></script>
<script crossorigin="anonymous" defer="defer" type="application/javascript" src="https://github.githubassets.com/assets/vendors-node_modules_primer_react_lib-esm_TreeView_TreeView_js-9456d871c361.js"></script>
<script crossorigin="anonymous" defer="defer" type="application/javascript" src="https://github.githubassets.com/assets/vendors-node_modules_primer_react_lib-esm_Flash_Flash_js-node_modules_primer_react_lib-esm_La-0046ca-f78267fddf9f.js"></script>
<script crossorigin="anonymous" defer="defer" type="application/javascript" src="https://github.githubassets.com/assets/vendors-node_modules_primer_react_lib-esm_AvatarStack_AvatarStack_js-node_modules_primer_reac-b27144-74a13f323a4c.js"></script>
<script crossorigin="anonymous" defer="defer" type="application/javascript" src="https://github.githubassets.com/assets/ui_packages_react-core_create-browser-history_ts-ui_packages_safe-storage_safe-storage_ts-ui_-682c2c-44ed51a2083d.js"></script>
<script crossorigin="anonymous" defer="defer" type="application/javascript" src="https://github.githubassets.com/assets/ui_packages_react-core_register-app_ts-a7b9de7616e6.js"></script>
<script crossorigin="anonymous" defer="defer" type="application/javascript" src="https://github.githubassets.com/assets/ui_packages_paths_index_ts-3271f4d81cab.js"></script>
<script crossorigin="anonymous" defer="defer" type="application/javascript" src="https://github.githubassets.com/assets/ui_packages_ref-selector_RefSelector_tsx-84a0dce6bcb2.js"></script>
<script crossorigin="anonymous" defer="defer" type="application/javascript" src="https://github.githubassets.com/assets/ui_packages_code-view-shared_hooks_shortcuts_ts-ui_packages_code-view-shared_utilities_web-wo-02859b-9ab39a48c0f9.js"></script>
<script crossorigin="anonymous" defer="defer" type="application/javascript" src="https://github.githubassets.com/assets/ui_packages_code-view-shared_hooks_use-canonical-object_ts-ui_packages_code-view-shared_hooks-5efa81-354e6a50d2b7.js"></script>
<script crossorigin="anonymous" defer="defer" type="application/javascript" src="https://github.githubassets.com/assets/ui_packages_code-view-shared_components_files-search_FileResultsList_tsx-c58157244fbb.js"></script>
<script crossorigin="anonymous" defer="defer" type="application/javascript" src="https://github.githubassets.com/assets/ui_packages_code-view-shared_hooks_use-file-page-payload_ts-ui_packages_code-view-shared_util-0109ca-90beba3b1d15.js"></script>
<script crossorigin="anonymous" defer="defer" type="application/javascript" src="https://github.githubassets.com/assets/ui_packages_repos-file-tree-view_repos-file-tree-view_ts-ui_packages_react-core_JsonRoute_tsx-cdf9ad5903ec.js"></script>
<script crossorigin="anonymous" defer="defer" type="application/javascript" src="https://github.githubassets.com/assets/react-code-view-1e502b1aeb63.js"></script>
<link crossorigin="anonymous" media="all" rel="stylesheet" href="https://github.githubassets.com/assets/react-code-view.98a0f4bdacd6223a0b70.module.css" />


  <title>Coursera-DeepLearning.AI-AI-FOR-MEDICINE-SPECIALIZATION/Course-2-AI for Medical Prognosis/Course-2-Week-3/Course-2-Week-3-Practice-Labs/Course-2-Week-3-Practice-Labs-1-Survival-Estimates-that-Vary-with-Time.ipynb at main · shantanu1109/Coursera-DeepLearning.AI-AI-FOR-MEDICINE-SPECIALIZATION · GitHub</title>



  <meta name="route-pattern" content="/:user_id/:repository/blob/*name(/*path)" data-turbo-transient>
  <meta name="route-controller" content="blob" data-turbo-transient>
  <meta name="route-action" content="show" data-turbo-transient>

    
  <meta name="current-catalog-service-hash" content="82c569b93da5c18ed649ebd4c2c79437db4611a6a1373e805a3cb001c64130b7">


  <meta name="request-id" content="CC06:2C4C9A:525A4AE:72C63B4:6673EDE4" data-pjax-transient="true"/><meta name="html-safe-nonce" content="9671bf9ef9ba545a33a3eab2d53b29b614c8467377a297b1fcc20b8b94f3dc25" data-pjax-transient="true"/><meta name="visitor-payload" content="eyJyZWZlcnJlciI6IiIsInJlcXVlc3RfaWQiOiJDQzA2OjJDNEM5QTo1MjVBNEFFOjcyQzYzQjQ6NjY3M0VERTQiLCJ2aXNpdG9yX2lkIjoiNzgxMjg2ODI1MjQ1NTM1NzE2IiwicmVnaW9uX2VkZ2UiOiJpYWQiLCJyZWdpb25fcmVuZGVyIjoiaWFkIn0=" data-pjax-transient="true"/><meta name="visitor-hmac" content="5fe692f88b2e911d0010de0e06ce4717efad45bbf5a99d6d6fe055e5b88e2f3a" data-pjax-transient="true"/>


    <meta name="hovercard-subject-tag" content="repository:645241650" data-turbo-transient>


  <meta name="github-keyboard-shortcuts" content="repository,source-code,file-tree,copilot" data-turbo-transient="true" />
  

  <meta name="selected-link" value="repo_source" data-turbo-transient>
  <link rel="assets" href="https://github.githubassets.com/">

    <meta name="google-site-verification" content="Apib7-x98H0j5cPqHWwSMm6dNU4GmODRoqxLiDzdx9I">

<meta name="octolytics-url" content="https://collector.github.com/github/collect" />

  <meta name="analytics-location" content="/&lt;user-name&gt;/&lt;repo-name&gt;/blob/show" data-turbo-transient="true" />

  




    <meta name="user-login" content="">

  

    <meta name="viewport" content="width=device-width">

    

      <meta name="description" content="This Repository Contains Solution to the Assignments of the AI for Medicine Specialization from Deeplearning.ai on Coursera Taught by Pranav Rajpurkar, Bora Uyumazturk, Amirhossein Kiani, Eddy Shyu - Coursera-DeepLearning.AI-AI-FOR-MEDICINE-SPECIALIZATION/Course-2-AI for Medical Prognosis/Course-2-Week-3/Course-2-Week-3-Practice-Labs/Course-2-Week-3-Practice-Labs-1-Survival-Estimates-that-Vary-with-Time.ipynb at main · shantanu1109/Coursera-DeepLearning.AI-AI-FOR-MEDICINE-SPECIALIZATION">

      <link rel="search" type="application/opensearchdescription+xml" href="/opensearch.xml" title="GitHub">

    <link rel="fluid-icon" href="https://github.com/fluidicon.png" title="GitHub">
    <meta property="fb:app_id" content="1401488693436528">
    <meta name="apple-itunes-app" content="app-id=1477376905, app-argument=https://github.com/shantanu1109/Coursera-DeepLearning.AI-AI-FOR-MEDICINE-SPECIALIZATION/blob/main/Course-2-AI%20for%20Medical%20Prognosis/Course-2-Week-3/Course-2-Week-3-Practice-Labs/Course-2-Week-3-Practice-Labs-1-Survival-Estimates-that-Vary-with-Time.ipynb" />

      <meta name="twitter:image:src" content="https://opengraph.githubassets.com/18a3da7c5765cfb664d0b08eaa0bc962915f986b4898b25803d5299a807019b1/shantanu1109/Coursera-DeepLearning.AI-AI-FOR-MEDICINE-SPECIALIZATION" /><meta name="twitter:site" content="@github" /><meta name="twitter:card" content="summary_large_image" /><meta name="twitter:title" content="Coursera-DeepLearning.AI-AI-FOR-MEDICINE-SPECIALIZATION/Course-2-AI for Medical Prognosis/Course-2-Week-3/Course-2-Week-3-Practice-Labs/Course-2-Week-3-Practice-Labs-1-Survival-Estimates-that-Vary-with-Time.ipynb at main · shantanu1109/Coursera-DeepLearning.AI-AI-FOR-MEDICINE-SPECIALIZATION" /><meta name="twitter:description" content="This Repository Contains Solution to the Assignments of the AI for Medicine Specialization from Deeplearning.ai on Coursera Taught by Pranav Rajpurkar, Bora Uyumazturk, Amirhossein Kiani, Eddy Shyu..." />
  <meta property="og:image" content="https://opengraph.githubassets.com/18a3da7c5765cfb664d0b08eaa0bc962915f986b4898b25803d5299a807019b1/shantanu1109/Coursera-DeepLearning.AI-AI-FOR-MEDICINE-SPECIALIZATION" /><meta property="og:image:alt" content="This Repository Contains Solution to the Assignments of the AI for Medicine Specialization from Deeplearning.ai on Coursera Taught by Pranav Rajpurkar, Bora Uyumazturk, Amirhossein Kiani, Eddy Shyu..." /><meta property="og:image:width" content="1200" /><meta property="og:image:height" content="600" /><meta property="og:site_name" content="GitHub" /><meta property="og:type" content="object" /><meta property="og:title" content="Coursera-DeepLearning.AI-AI-FOR-MEDICINE-SPECIALIZATION/Course-2-AI for Medical Prognosis/Course-2-Week-3/Course-2-Week-3-Practice-Labs/Course-2-Week-3-Practice-Labs-1-Survival-Estimates-that-Vary-with-Time.ipynb at main · shantanu1109/Coursera-DeepLearning.AI-AI-FOR-MEDICINE-SPECIALIZATION" /><meta property="og:url" content="https://github.com/shantanu1109/Coursera-DeepLearning.AI-AI-FOR-MEDICINE-SPECIALIZATION/blob/main/Course-2-AI%20for%20Medical%20Prognosis/Course-2-Week-3/Course-2-Week-3-Practice-Labs/Course-2-Week-3-Practice-Labs-1-Survival-Estimates-that-Vary-with-Time.ipynb" /><meta property="og:description" content="This Repository Contains Solution to the Assignments of the AI for Medicine Specialization from Deeplearning.ai on Coursera Taught by Pranav Rajpurkar, Bora Uyumazturk, Amirhossein Kiani, Eddy Shyu..." />
  




      <meta name="hostname" content="github.com">



        <meta name="expected-hostname" content="github.com">


  <meta http-equiv="x-pjax-version" content="3651c316e093622758b8bb55d4a356c2b1c688561e34109017cfbdea8a238342" data-turbo-track="reload">
  <meta http-equiv="x-pjax-csp-version" content="cd708ee2def842997e00c6ea48122249b3249615ca3c50f1e66cc10581f34f3c" data-turbo-track="reload">
  <meta http-equiv="x-pjax-css-version" content="b6badfac5b2843ce61eb9c9d65e2e407e85a8697eb2fc9fa8fdf27ec7b5c68aa" data-turbo-track="reload">
  <meta http-equiv="x-pjax-js-version" content="604d3dcdbc61c1a7448c1b6deb5e180e9d68d4fa77eed3b6a263be8572f7e3d2" data-turbo-track="reload">

  <meta name="turbo-cache-control" content="no-preview" data-turbo-transient="">

      <meta name="turbo-cache-control" content="no-cache" data-turbo-transient>
    <meta data-hydrostats="publish">
  <meta name="go-import" content="github.com/shantanu1109/Coursera-DeepLearning.AI-AI-FOR-MEDICINE-SPECIALIZATION git https://github.com/shantanu1109/Coursera-DeepLearning.AI-AI-FOR-MEDICINE-SPECIALIZATION.git">

  <meta name="octolytics-dimension-user_id" content="43478328" /><meta name="octolytics-dimension-user_login" content="shantanu1109" /><meta name="octolytics-dimension-repository_id" content="645241650" /><meta name="octolytics-dimension-repository_nwo" content="shantanu1109/Coursera-DeepLearning.AI-AI-FOR-MEDICINE-SPECIALIZATION" /><meta name="octolytics-dimension-repository_public" content="true" /><meta name="octolytics-dimension-repository_is_fork" content="false" /><meta name="octolytics-dimension-repository_network_root_id" content="645241650" /><meta name="octolytics-dimension-repository_network_root_nwo" content="shantanu1109/Coursera-DeepLearning.AI-AI-FOR-MEDICINE-SPECIALIZATION" />



    

    <meta name="turbo-body-classes" content="logged-out env-production page-responsive">


  <meta name="browser-stats-url" content="https://api.github.com/_private/browser/stats">

  <meta name="browser-errors-url" content="https://api.github.com/_private/browser/errors">

  <link rel="mask-icon" href="https://github.githubassets.com/assets/pinned-octocat-093da3e6fa40.svg" color="#000000">
  <link rel="alternate icon" class="js-site-favicon" type="image/png" href="https://github.githubassets.com/favicons/favicon.png">
  <link rel="icon" class="js-site-favicon" type="image/svg+xml" href="https://github.githubassets.com/favicons/favicon.svg">

<meta name="theme-color" content="#1e2327">
<meta name="color-scheme" content="light dark" />


  <link rel="manifest" href="/manifest.json" crossOrigin="use-credentials">

  </head>

  <body class="logged-out env-production page-responsive" style="word-wrap: break-word;">
    <div data-turbo-body class="logged-out env-production page-responsive" style="word-wrap: break-word;">
      


    <div class="position-relative js-header-wrapper ">
      <a href="#start-of-content" data-skip-target-assigned="false" class="px-2 py-4 color-bg-accent-emphasis color-fg-on-emphasis show-on-focus js-skip-to-content">Skip to content</a>

      <span data-view-component="true" class="progress-pjax-loader Progress position-fixed width-full">
    <span style="width: 0%;" data-view-component="true" class="Progress-item progress-pjax-loader-bar left-0 top-0 color-bg-accent-emphasis"></span>
</span>      
      
      







<script crossorigin="anonymous" defer="defer" type="application/javascript" src="https://github.githubassets.com/assets/vendors-node_modules_primer_react_lib-esm_Button_IconButton_js-node_modules_primer_react_lib--1cd808-94bb79d8a6de.js"></script>

<script crossorigin="anonymous" defer="defer" type="application/javascript" src="https://github.githubassets.com/assets/keyboard-shortcuts-dialog-5e74c9152183.js"></script>

<react-partial
  partial-name="keyboard-shortcuts-dialog"
  data-ssr="false"
>
  
  <script type="application/json" data-target="react-partial.embeddedData">{"props":{"docsUrl":"https://docs.github.com/get-started/accessibility/keyboard-shortcuts"}}</script>
  <div data-target="react-partial.reactRoot"></div>
</react-partial>




      

        

            
<script crossorigin="anonymous" defer="defer" type="application/javascript" src="https://github.githubassets.com/assets/vendors-node_modules_github_remote-form_dist_index_js-node_modules_delegated-events_dist_inde-94fd67-8743f7dc256e.js"></script>
<script crossorigin="anonymous" defer="defer" type="application/javascript" src="https://github.githubassets.com/assets/sessions-458fee042571.js"></script>
<header class="Header-old header-logged-out js-details-container Details position-relative f4 py-3" role="banner" data-color-mode=light data-light-theme=light data-dark-theme=dark>
  <h2 class="sr-only">Navigation Menu</h2>

  <button type="button" class="Header-backdrop d-lg-none border-0 position-fixed top-0 left-0 width-full height-full js-details-target" aria-label="Toggle navigation">
    <span class="d-none">Toggle navigation</span>
  </button>

  <div class=" d-flex flex-column flex-lg-row flex-items-center p-responsive height-full position-relative z-1">
    <div class="d-flex flex-justify-between flex-items-center width-full width-lg-auto">
      <a class="mr-lg-3 color-fg-inherit flex-order-2" href="https://github.com/" aria-label="Homepage" data-ga-click="(Logged out) Header, go to homepage, icon:logo-wordmark">
        <svg height="32" aria-hidden="true" viewBox="0 0 16 16" version="1.1" width="32" data-view-component="true" class="octicon octicon-mark-github">
    <path d="M8 0c4.42 0 8 3.58 8 8a8.013 8.013 0 0 1-5.45 7.59c-.4.08-.55-.17-.55-.38 0-.27.01-1.13.01-2.2 0-.75-.25-1.23-.54-1.48 1.78-.2 3.65-.88 3.65-3.95 0-.88-.31-1.59-.82-2.15.08-.2.36-1.02-.08-2.12 0 0-.67-.22-2.2.82-.64-.18-1.32-.27-2-.27-.68 0-1.36.09-2 .27-1.53-1.03-2.2-.82-2.2-.82-.44 1.1-.16 1.92-.08 2.12-.51.56-.82 1.28-.82 2.15 0 3.06 1.86 3.75 3.64 3.95-.23.2-.44.55-.51 1.07-.46.21-1.61.55-2.33-.66-.15-.24-.6-.83-1.23-.82-.67.01-.27.38.01.53.34.19.73.9.82 1.13.16.45.68 1.31 2.69.94 0 .67.01 1.3.01 1.49 0 .21-.15.45-.55.38A7.995 7.995 0 0 1 0 8c0-4.42 3.58-8 8-8Z"></path>
</svg>
      </a>

      <div class="flex-1">
        <a href="/login?return_to=https%3A%2F%2Fgithub.com%2Fshantanu1109%2FCoursera-DeepLearning.AI-AI-FOR-MEDICINE-SPECIALIZATION%2Fblob%2Fmain%2FCourse-2-AI%2520for%2520Medical%2520Prognosis%2FCourse-2-Week-3%2FCourse-2-Week-3-Practice-Labs%2FCourse-2-Week-3-Practice-Labs-1-Survival-Estimates-that-Vary-with-Time.ipynb"
          class="d-inline-block d-lg-none flex-order-1 f5 no-underline border color-border-default rounded-2 px-2 py-1 color-fg-inherit"
          data-hydro-click="{&quot;event_type&quot;:&quot;authentication.click&quot;,&quot;payload&quot;:{&quot;location_in_page&quot;:&quot;site header menu&quot;,&quot;repository_id&quot;:null,&quot;auth_type&quot;:&quot;SIGN_UP&quot;,&quot;originating_url&quot;:&quot;https://github.com/shantanu1109/Coursera-DeepLearning.AI-AI-FOR-MEDICINE-SPECIALIZATION/blob/main/Course-2-AI%20for%20Medical%20Prognosis/Course-2-Week-3/Course-2-Week-3-Practice-Labs/Course-2-Week-3-Practice-Labs-1-Survival-Estimates-that-Vary-with-Time.ipynb&quot;,&quot;user_id&quot;:null}}" data-hydro-click-hmac="e7be4294528ba0557dddea842fae958ca652b632c1fa2c113b0ef5bc3315d5d1"
          data-ga-click="(Logged out) Header, clicked Sign in, text:sign-in">
          Sign in
        </a>
      </div>

      <div class="flex-1 flex-order-2 text-right">
        <button aria-label="Toggle navigation" aria-expanded="false" type="button" data-view-component="true" class="js-details-target Button--link Button--medium Button d-lg-none color-fg-inherit p-1">  <span class="Button-content">
    <span class="Button-label"><div class="HeaderMenu-toggle-bar rounded my-1"></div>
            <div class="HeaderMenu-toggle-bar rounded my-1"></div>
            <div class="HeaderMenu-toggle-bar rounded my-1"></div></span>
  </span>
</button>
      </div>
    </div>


    <div class="HeaderMenu--logged-out p-responsive height-fit position-lg-relative d-lg-flex flex-column flex-auto pt-7 pb-4 top-0">
      <div class="header-menu-wrapper d-flex flex-column flex-self-end flex-lg-row flex-justify-between flex-auto p-3 p-lg-0 rounded rounded-lg-0 mt-3 mt-lg-0">
          <nav class="mt-0 px-3 px-lg-0 mb-3 mb-lg-0" aria-label="Global">
            <ul class="d-lg-flex list-style-none">
                <li class="HeaderMenu-item position-relative flex-wrap flex-justify-between flex-items-center d-block d-lg-flex flex-lg-nowrap flex-lg-items-center js-details-container js-header-menu-item">
      <button type="button" class="HeaderMenu-link border-0 width-full width-lg-auto px-0 px-lg-2 py-3 py-lg-2 no-wrap d-flex flex-items-center flex-justify-between js-details-target" aria-expanded="false">
        Product
        <svg opacity="0.5" aria-hidden="true" height="16" viewBox="0 0 16 16" version="1.1" width="16" data-view-component="true" class="octicon octicon-chevron-down HeaderMenu-icon ml-1">
    <path d="M12.78 5.22a.749.749 0 0 1 0 1.06l-4.25 4.25a.749.749 0 0 1-1.06 0L3.22 6.28a.749.749 0 1 1 1.06-1.06L8 8.939l3.72-3.719a.749.749 0 0 1 1.06 0Z"></path>
</svg>
      </button>
      <div class="HeaderMenu-dropdown dropdown-menu rounded m-0 p-0 py-2 py-lg-4 position-relative position-lg-absolute left-0 left-lg-n3 d-lg-flex dropdown-menu-wide">
          <div class="px-lg-4 border-lg-right mb-4 mb-lg-0 pr-lg-7">
            <ul class="list-style-none f5" >
                <li>
  <a class="HeaderMenu-dropdown-link lh-condensed d-block no-underline position-relative py-2 Link--secondary d-flex flex-items-center pb-lg-3" data-analytics-event="{&quot;category&quot;:&quot;Header dropdown (logged out), Product&quot;,&quot;action&quot;:&quot;click to go to Actions&quot;,&quot;label&quot;:&quot;ref_cta:Actions;&quot;}" href="https://github.com/features/actions">
      <svg aria-hidden="true" height="24" viewBox="0 0 24 24" version="1.1" width="24" data-view-component="true" class="octicon octicon-workflow color-fg-subtle mr-3">
    <path d="M1 3a2 2 0 0 1 2-2h6.5a2 2 0 0 1 2 2v6.5a2 2 0 0 1-2 2H7v4.063C7 16.355 7.644 17 8.438 17H12.5v-2.5a2 2 0 0 1 2-2H21a2 2 0 0 1 2 2V21a2 2 0 0 1-2 2h-6.5a2 2 0 0 1-2-2v-2.5H8.437A2.939 2.939 0 0 1 5.5 15.562V11.5H3a2 2 0 0 1-2-2Zm2-.5a.5.5 0 0 0-.5.5v6.5a.5.5 0 0 0 .5.5h6.5a.5.5 0 0 0 .5-.5V3a.5.5 0 0 0-.5-.5ZM14.5 14a.5.5 0 0 0-.5.5V21a.5.5 0 0 0 .5.5H21a.5.5 0 0 0 .5-.5v-6.5a.5.5 0 0 0-.5-.5Z"></path>
</svg>
      <div>
        <div class="color-fg-default h4">Actions</div>
        Automate any workflow
      </div>

    
</a></li>

                <li>
  <a class="HeaderMenu-dropdown-link lh-condensed d-block no-underline position-relative py-2 Link--secondary d-flex flex-items-center pb-lg-3" data-analytics-event="{&quot;category&quot;:&quot;Header dropdown (logged out), Product&quot;,&quot;action&quot;:&quot;click to go to Packages&quot;,&quot;label&quot;:&quot;ref_cta:Packages;&quot;}" href="https://github.com/features/packages">
      <svg aria-hidden="true" height="24" viewBox="0 0 24 24" version="1.1" width="24" data-view-component="true" class="octicon octicon-package color-fg-subtle mr-3">
    <path d="M12.876.64V.639l8.25 4.763c.541.313.875.89.875 1.515v9.525a1.75 1.75 0 0 1-.875 1.516l-8.25 4.762a1.748 1.748 0 0 1-1.75 0l-8.25-4.763a1.75 1.75 0 0 1-.875-1.515V6.917c0-.625.334-1.202.875-1.515L11.126.64a1.748 1.748 0 0 1 1.75 0Zm-1 1.298L4.251 6.34l7.75 4.474 7.75-4.474-7.625-4.402a.248.248 0 0 0-.25 0Zm.875 19.123 7.625-4.402a.25.25 0 0 0 .125-.216V7.639l-7.75 4.474ZM3.501 7.64v8.803c0 .09.048.172.125.216l7.625 4.402v-8.947Z"></path>
</svg>
      <div>
        <div class="color-fg-default h4">Packages</div>
        Host and manage packages
      </div>

    
</a></li>

                <li>
  <a class="HeaderMenu-dropdown-link lh-condensed d-block no-underline position-relative py-2 Link--secondary d-flex flex-items-center pb-lg-3" data-analytics-event="{&quot;category&quot;:&quot;Header dropdown (logged out), Product&quot;,&quot;action&quot;:&quot;click to go to Security&quot;,&quot;label&quot;:&quot;ref_cta:Security;&quot;}" href="https://github.com/features/security">
      <svg aria-hidden="true" height="24" viewBox="0 0 24 24" version="1.1" width="24" data-view-component="true" class="octicon octicon-shield-check color-fg-subtle mr-3">
    <path d="M16.53 9.78a.75.75 0 0 0-1.06-1.06L11 13.19l-1.97-1.97a.75.75 0 0 0-1.06 1.06l2.5 2.5a.75.75 0 0 0 1.06 0l5-5Z"></path><path d="m12.54.637 8.25 2.675A1.75 1.75 0 0 1 22 4.976V10c0 6.19-3.771 10.704-9.401 12.83a1.704 1.704 0 0 1-1.198 0C5.77 20.705 2 16.19 2 10V4.976c0-.758.489-1.43 1.21-1.664L11.46.637a1.748 1.748 0 0 1 1.08 0Zm-.617 1.426-8.25 2.676a.249.249 0 0 0-.173.237V10c0 5.46 3.28 9.483 8.43 11.426a.199.199 0 0 0 .14 0C17.22 19.483 20.5 15.461 20.5 10V4.976a.25.25 0 0 0-.173-.237l-8.25-2.676a.253.253 0 0 0-.154 0Z"></path>
</svg>
      <div>
        <div class="color-fg-default h4">Security</div>
        Find and fix vulnerabilities
      </div>

    
</a></li>

                <li>
  <a class="HeaderMenu-dropdown-link lh-condensed d-block no-underline position-relative py-2 Link--secondary d-flex flex-items-center pb-lg-3" data-analytics-event="{&quot;category&quot;:&quot;Header dropdown (logged out), Product&quot;,&quot;action&quot;:&quot;click to go to Codespaces&quot;,&quot;label&quot;:&quot;ref_cta:Codespaces;&quot;}" href="https://github.com/features/codespaces">
      <svg aria-hidden="true" height="24" viewBox="0 0 24 24" version="1.1" width="24" data-view-component="true" class="octicon octicon-codespaces color-fg-subtle mr-3">
    <path d="M3.5 3.75C3.5 2.784 4.284 2 5.25 2h13.5c.966 0 1.75.784 1.75 1.75v7.5A1.75 1.75 0 0 1 18.75 13H5.25a1.75 1.75 0 0 1-1.75-1.75Zm-2 12c0-.966.784-1.75 1.75-1.75h17.5c.966 0 1.75.784 1.75 1.75v4a1.75 1.75 0 0 1-1.75 1.75H3.25a1.75 1.75 0 0 1-1.75-1.75ZM5.25 3.5a.25.25 0 0 0-.25.25v7.5c0 .138.112.25.25.25h13.5a.25.25 0 0 0 .25-.25v-7.5a.25.25 0 0 0-.25-.25Zm-2 12a.25.25 0 0 0-.25.25v4c0 .138.112.25.25.25h17.5a.25.25 0 0 0 .25-.25v-4a.25.25 0 0 0-.25-.25Z"></path><path d="M10 17.75a.75.75 0 0 1 .75-.75h6.5a.75.75 0 0 1 0 1.5h-6.5a.75.75 0 0 1-.75-.75Zm-4 0a.75.75 0 0 1 .75-.75h.5a.75.75 0 0 1 0 1.5h-.5a.75.75 0 0 1-.75-.75Z"></path>
</svg>
      <div>
        <div class="color-fg-default h4">Codespaces</div>
        Instant dev environments
      </div>

    
</a></li>

                <li>
  <a class="HeaderMenu-dropdown-link lh-condensed d-block no-underline position-relative py-2 Link--secondary d-flex flex-items-center pb-lg-3" data-analytics-event="{&quot;category&quot;:&quot;Header dropdown (logged out), Product&quot;,&quot;action&quot;:&quot;click to go to GitHub Copilot&quot;,&quot;label&quot;:&quot;ref_cta:GitHub Copilot;&quot;}" href="https://github.com/features/copilot">
      <svg aria-hidden="true" height="24" viewBox="0 0 24 24" version="1.1" width="24" data-view-component="true" class="octicon octicon-copilot color-fg-subtle mr-3">
    <path d="M23.922 16.992c-.861 1.495-5.859 5.023-11.922 5.023-6.063 0-11.061-3.528-11.922-5.023A.641.641 0 0 1 0 16.736v-2.869a.841.841 0 0 1 .053-.22c.372-.935 1.347-2.292 2.605-2.656.167-.429.414-1.055.644-1.517a10.195 10.195 0 0 1-.052-1.086c0-1.331.282-2.499 1.132-3.368.397-.406.89-.717 1.474-.952 1.399-1.136 3.392-2.093 6.122-2.093 2.731 0 4.767.957 6.166 2.093.584.235 1.077.546 1.474.952.85.869 1.132 2.037 1.132 3.368 0 .368-.014.733-.052 1.086.23.462.477 1.088.644 1.517 1.258.364 2.233 1.721 2.605 2.656a.832.832 0 0 1 .053.22v2.869a.641.641 0 0 1-.078.256ZM12.172 11h-.344a4.323 4.323 0 0 1-.355.508C10.703 12.455 9.555 13 7.965 13c-1.725 0-2.989-.359-3.782-1.259a2.005 2.005 0 0 1-.085-.104L4 11.741v6.585c1.435.779 4.514 2.179 8 2.179 3.486 0 6.565-1.4 8-2.179v-6.585l-.098-.104s-.033.045-.085.104c-.793.9-2.057 1.259-3.782 1.259-1.59 0-2.738-.545-3.508-1.492a4.323 4.323 0 0 1-.355-.508h-.016.016Zm.641-2.935c.136 1.057.403 1.913.878 2.497.442.544 1.134.938 2.344.938 1.573 0 2.292-.337 2.657-.751.384-.435.558-1.15.558-2.361 0-1.14-.243-1.847-.705-2.319-.477-.488-1.319-.862-2.824-1.025-1.487-.161-2.192.138-2.533.529-.269.307-.437.808-.438 1.578v.021c0 .265.021.562.063.893Zm-1.626 0c.042-.331.063-.628.063-.894v-.02c-.001-.77-.169-1.271-.438-1.578-.341-.391-1.046-.69-2.533-.529-1.505.163-2.347.537-2.824 1.025-.462.472-.705 1.179-.705 2.319 0 1.211.175 1.926.558 2.361.365.414 1.084.751 2.657.751 1.21 0 1.902-.394 2.344-.938.475-.584.742-1.44.878-2.497Z"></path><path d="M14.5 14.25a1 1 0 0 1 1 1v2a1 1 0 0 1-2 0v-2a1 1 0 0 1 1-1Zm-5 0a1 1 0 0 1 1 1v2a1 1 0 0 1-2 0v-2a1 1 0 0 1 1-1Z"></path>
</svg>
      <div>
        <div class="color-fg-default h4">GitHub Copilot</div>
        Write better code with AI
      </div>

    
</a></li>

                <li>
  <a class="HeaderMenu-dropdown-link lh-condensed d-block no-underline position-relative py-2 Link--secondary d-flex flex-items-center pb-lg-3" data-analytics-event="{&quot;category&quot;:&quot;Header dropdown (logged out), Product&quot;,&quot;action&quot;:&quot;click to go to Code review&quot;,&quot;label&quot;:&quot;ref_cta:Code review;&quot;}" href="https://github.com/features/code-review">
      <svg aria-hidden="true" height="24" viewBox="0 0 24 24" version="1.1" width="24" data-view-component="true" class="octicon octicon-code-review color-fg-subtle mr-3">
    <path d="M10.3 6.74a.75.75 0 0 1-.04 1.06l-2.908 2.7 2.908 2.7a.75.75 0 1 1-1.02 1.1l-3.5-3.25a.75.75 0 0 1 0-1.1l3.5-3.25a.75.75 0 0 1 1.06.04Zm3.44 1.06a.75.75 0 1 1 1.02-1.1l3.5 3.25a.75.75 0 0 1 0 1.1l-3.5 3.25a.75.75 0 1 1-1.02-1.1l2.908-2.7-2.908-2.7Z"></path><path d="M1.5 4.25c0-.966.784-1.75 1.75-1.75h17.5c.966 0 1.75.784 1.75 1.75v12.5a1.75 1.75 0 0 1-1.75 1.75h-9.69l-3.573 3.573A1.458 1.458 0 0 1 5 21.043V18.5H3.25a1.75 1.75 0 0 1-1.75-1.75ZM3.25 4a.25.25 0 0 0-.25.25v12.5c0 .138.112.25.25.25h2.5a.75.75 0 0 1 .75.75v3.19l3.72-3.72a.749.749 0 0 1 .53-.22h10a.25.25 0 0 0 .25-.25V4.25a.25.25 0 0 0-.25-.25Z"></path>
</svg>
      <div>
        <div class="color-fg-default h4">Code review</div>
        Manage code changes
      </div>

    
</a></li>

                <li>
  <a class="HeaderMenu-dropdown-link lh-condensed d-block no-underline position-relative py-2 Link--secondary d-flex flex-items-center pb-lg-3" data-analytics-event="{&quot;category&quot;:&quot;Header dropdown (logged out), Product&quot;,&quot;action&quot;:&quot;click to go to Issues&quot;,&quot;label&quot;:&quot;ref_cta:Issues;&quot;}" href="https://github.com/features/issues">
      <svg aria-hidden="true" height="24" viewBox="0 0 24 24" version="1.1" width="24" data-view-component="true" class="octicon octicon-issue-opened color-fg-subtle mr-3">
    <path d="M12 1c6.075 0 11 4.925 11 11s-4.925 11-11 11S1 18.075 1 12 5.925 1 12 1ZM2.5 12a9.5 9.5 0 0 0 9.5 9.5 9.5 9.5 0 0 0 9.5-9.5A9.5 9.5 0 0 0 12 2.5 9.5 9.5 0 0 0 2.5 12Zm9.5 2a2 2 0 1 1-.001-3.999A2 2 0 0 1 12 14Z"></path>
</svg>
      <div>
        <div class="color-fg-default h4">Issues</div>
        Plan and track work
      </div>

    
</a></li>

                <li>
  <a class="HeaderMenu-dropdown-link lh-condensed d-block no-underline position-relative py-2 Link--secondary d-flex flex-items-center" data-analytics-event="{&quot;category&quot;:&quot;Header dropdown (logged out), Product&quot;,&quot;action&quot;:&quot;click to go to Discussions&quot;,&quot;label&quot;:&quot;ref_cta:Discussions;&quot;}" href="https://github.com/features/discussions">
      <svg aria-hidden="true" height="24" viewBox="0 0 24 24" version="1.1" width="24" data-view-component="true" class="octicon octicon-comment-discussion color-fg-subtle mr-3">
    <path d="M1.75 1h12.5c.966 0 1.75.784 1.75 1.75v9.5A1.75 1.75 0 0 1 14.25 14H8.061l-2.574 2.573A1.458 1.458 0 0 1 3 15.543V14H1.75A1.75 1.75 0 0 1 0 12.25v-9.5C0 1.784.784 1 1.75 1ZM1.5 2.75v9.5c0 .138.112.25.25.25h2a.75.75 0 0 1 .75.75v2.19l2.72-2.72a.749.749 0 0 1 .53-.22h6.5a.25.25 0 0 0 .25-.25v-9.5a.25.25 0 0 0-.25-.25H1.75a.25.25 0 0 0-.25.25Z"></path><path d="M22.5 8.75a.25.25 0 0 0-.25-.25h-3.5a.75.75 0 0 1 0-1.5h3.5c.966 0 1.75.784 1.75 1.75v9.5A1.75 1.75 0 0 1 22.25 20H21v1.543a1.457 1.457 0 0 1-2.487 1.03L15.939 20H10.75A1.75 1.75 0 0 1 9 18.25v-1.465a.75.75 0 0 1 1.5 0v1.465c0 .138.112.25.25.25h5.5a.75.75 0 0 1 .53.22l2.72 2.72v-2.19a.75.75 0 0 1 .75-.75h2a.25.25 0 0 0 .25-.25v-9.5Z"></path>
</svg>
      <div>
        <div class="color-fg-default h4">Discussions</div>
        Collaborate outside of code
      </div>

    
</a></li>

            </ul>
          </div>
          <div class="px-lg-4">
              <span class="d-block h4 color-fg-default my-1" id="product-explore-heading">Explore</span>
            <ul class="list-style-none f5" aria-labelledby="product-explore-heading">
                <li>
  <a class="HeaderMenu-dropdown-link lh-condensed d-block no-underline position-relative py-2 Link--secondary" data-analytics-event="{&quot;category&quot;:&quot;Header dropdown (logged out), Product&quot;,&quot;action&quot;:&quot;click to go to All features&quot;,&quot;label&quot;:&quot;ref_cta:All features;&quot;}" href="https://github.com/features">
      All features

    
</a></li>

                <li>
  <a class="HeaderMenu-dropdown-link lh-condensed d-block no-underline position-relative py-2 Link--secondary" target="_blank" data-analytics-event="{&quot;category&quot;:&quot;Header dropdown (logged out), Product&quot;,&quot;action&quot;:&quot;click to go to Documentation&quot;,&quot;label&quot;:&quot;ref_cta:Documentation;&quot;}" href="https://docs.github.com">
      Documentation

    <svg aria-hidden="true" height="16" viewBox="0 0 16 16" version="1.1" width="16" data-view-component="true" class="octicon octicon-link-external HeaderMenu-external-icon color-fg-subtle">
    <path d="M3.75 2h3.5a.75.75 0 0 1 0 1.5h-3.5a.25.25 0 0 0-.25.25v8.5c0 .138.112.25.25.25h8.5a.25.25 0 0 0 .25-.25v-3.5a.75.75 0 0 1 1.5 0v3.5A1.75 1.75 0 0 1 12.25 14h-8.5A1.75 1.75 0 0 1 2 12.25v-8.5C2 2.784 2.784 2 3.75 2Zm6.854-1h4.146a.25.25 0 0 1 .25.25v4.146a.25.25 0 0 1-.427.177L13.03 4.03 9.28 7.78a.751.751 0 0 1-1.042-.018.751.751 0 0 1-.018-1.042l3.75-3.75-1.543-1.543A.25.25 0 0 1 10.604 1Z"></path>
</svg>
</a></li>

                <li>
  <a class="HeaderMenu-dropdown-link lh-condensed d-block no-underline position-relative py-2 Link--secondary" target="_blank" data-analytics-event="{&quot;category&quot;:&quot;Header dropdown (logged out), Product&quot;,&quot;action&quot;:&quot;click to go to GitHub Skills&quot;,&quot;label&quot;:&quot;ref_cta:GitHub Skills;&quot;}" href="https://skills.github.com">
      GitHub Skills

    <svg aria-hidden="true" height="16" viewBox="0 0 16 16" version="1.1" width="16" data-view-component="true" class="octicon octicon-link-external HeaderMenu-external-icon color-fg-subtle">
    <path d="M3.75 2h3.5a.75.75 0 0 1 0 1.5h-3.5a.25.25 0 0 0-.25.25v8.5c0 .138.112.25.25.25h8.5a.25.25 0 0 0 .25-.25v-3.5a.75.75 0 0 1 1.5 0v3.5A1.75 1.75 0 0 1 12.25 14h-8.5A1.75 1.75 0 0 1 2 12.25v-8.5C2 2.784 2.784 2 3.75 2Zm6.854-1h4.146a.25.25 0 0 1 .25.25v4.146a.25.25 0 0 1-.427.177L13.03 4.03 9.28 7.78a.751.751 0 0 1-1.042-.018.751.751 0 0 1-.018-1.042l3.75-3.75-1.543-1.543A.25.25 0 0 1 10.604 1Z"></path>
</svg>
</a></li>

                <li>
  <a class="HeaderMenu-dropdown-link lh-condensed d-block no-underline position-relative py-2 Link--secondary" target="_blank" data-analytics-event="{&quot;category&quot;:&quot;Header dropdown (logged out), Product&quot;,&quot;action&quot;:&quot;click to go to Blog&quot;,&quot;label&quot;:&quot;ref_cta:Blog;&quot;}" href="https://github.blog">
      Blog

    <svg aria-hidden="true" height="16" viewBox="0 0 16 16" version="1.1" width="16" data-view-component="true" class="octicon octicon-link-external HeaderMenu-external-icon color-fg-subtle">
    <path d="M3.75 2h3.5a.75.75 0 0 1 0 1.5h-3.5a.25.25 0 0 0-.25.25v8.5c0 .138.112.25.25.25h8.5a.25.25 0 0 0 .25-.25v-3.5a.75.75 0 0 1 1.5 0v3.5A1.75 1.75 0 0 1 12.25 14h-8.5A1.75 1.75 0 0 1 2 12.25v-8.5C2 2.784 2.784 2 3.75 2Zm6.854-1h4.146a.25.25 0 0 1 .25.25v4.146a.25.25 0 0 1-.427.177L13.03 4.03 9.28 7.78a.751.751 0 0 1-1.042-.018.751.751 0 0 1-.018-1.042l3.75-3.75-1.543-1.543A.25.25 0 0 1 10.604 1Z"></path>
</svg>
</a></li>

            </ul>
          </div>
      </div>
</li>


                <li class="HeaderMenu-item position-relative flex-wrap flex-justify-between flex-items-center d-block d-lg-flex flex-lg-nowrap flex-lg-items-center js-details-container js-header-menu-item">
      <button type="button" class="HeaderMenu-link border-0 width-full width-lg-auto px-0 px-lg-2 py-3 py-lg-2 no-wrap d-flex flex-items-center flex-justify-between js-details-target" aria-expanded="false">
        Solutions
        <svg opacity="0.5" aria-hidden="true" height="16" viewBox="0 0 16 16" version="1.1" width="16" data-view-component="true" class="octicon octicon-chevron-down HeaderMenu-icon ml-1">
    <path d="M12.78 5.22a.749.749 0 0 1 0 1.06l-4.25 4.25a.749.749 0 0 1-1.06 0L3.22 6.28a.749.749 0 1 1 1.06-1.06L8 8.939l3.72-3.719a.749.749 0 0 1 1.06 0Z"></path>
</svg>
      </button>
      <div class="HeaderMenu-dropdown dropdown-menu rounded m-0 p-0 py-2 py-lg-4 position-relative position-lg-absolute left-0 left-lg-n3 px-lg-4">
          <div class="border-bottom pb-3 mb-3">
              <span class="d-block h4 color-fg-default my-1" id="solutions-for-heading">For</span>
            <ul class="list-style-none f5" aria-labelledby="solutions-for-heading">
                <li>
  <a class="HeaderMenu-dropdown-link lh-condensed d-block no-underline position-relative py-2 Link--secondary" data-analytics-event="{&quot;category&quot;:&quot;Header dropdown (logged out), Solutions&quot;,&quot;action&quot;:&quot;click to go to Enterprise&quot;,&quot;label&quot;:&quot;ref_cta:Enterprise;&quot;}" href="https://github.com/enterprise">
      Enterprise

    
</a></li>

                <li>
  <a class="HeaderMenu-dropdown-link lh-condensed d-block no-underline position-relative py-2 Link--secondary" data-analytics-event="{&quot;category&quot;:&quot;Header dropdown (logged out), Solutions&quot;,&quot;action&quot;:&quot;click to go to Teams&quot;,&quot;label&quot;:&quot;ref_cta:Teams;&quot;}" href="https://github.com/team">
      Teams

    
</a></li>

                <li>
  <a class="HeaderMenu-dropdown-link lh-condensed d-block no-underline position-relative py-2 Link--secondary" data-analytics-event="{&quot;category&quot;:&quot;Header dropdown (logged out), Solutions&quot;,&quot;action&quot;:&quot;click to go to Startups&quot;,&quot;label&quot;:&quot;ref_cta:Startups;&quot;}" href="https://github.com/enterprise/startups">
      Startups

    
</a></li>

                <li>
  <a class="HeaderMenu-dropdown-link lh-condensed d-block no-underline position-relative py-2 Link--secondary" target="_blank" data-analytics-event="{&quot;category&quot;:&quot;Header dropdown (logged out), Solutions&quot;,&quot;action&quot;:&quot;click to go to Education&quot;,&quot;label&quot;:&quot;ref_cta:Education;&quot;}" href="https://education.github.com">
      Education

    <svg aria-hidden="true" height="16" viewBox="0 0 16 16" version="1.1" width="16" data-view-component="true" class="octicon octicon-link-external HeaderMenu-external-icon color-fg-subtle">
    <path d="M3.75 2h3.5a.75.75 0 0 1 0 1.5h-3.5a.25.25 0 0 0-.25.25v8.5c0 .138.112.25.25.25h8.5a.25.25 0 0 0 .25-.25v-3.5a.75.75 0 0 1 1.5 0v3.5A1.75 1.75 0 0 1 12.25 14h-8.5A1.75 1.75 0 0 1 2 12.25v-8.5C2 2.784 2.784 2 3.75 2Zm6.854-1h4.146a.25.25 0 0 1 .25.25v4.146a.25.25 0 0 1-.427.177L13.03 4.03 9.28 7.78a.751.751 0 0 1-1.042-.018.751.751 0 0 1-.018-1.042l3.75-3.75-1.543-1.543A.25.25 0 0 1 10.604 1Z"></path>
</svg>
</a></li>

            </ul>
          </div>
          <div class="border-bottom pb-3 mb-3">
              <span class="d-block h4 color-fg-default my-1" id="solutions-by-solution-heading">By Solution</span>
            <ul class="list-style-none f5" aria-labelledby="solutions-by-solution-heading">
                <li>
  <a class="HeaderMenu-dropdown-link lh-condensed d-block no-underline position-relative py-2 Link--secondary" data-analytics-event="{&quot;category&quot;:&quot;Header dropdown (logged out), Solutions&quot;,&quot;action&quot;:&quot;click to go to CI/CD &amp;amp; Automation&quot;,&quot;label&quot;:&quot;ref_cta:CI/CD &amp;amp; Automation;&quot;}" href="https://github.com/solutions/ci-cd">
      CI/CD &amp; Automation

    
</a></li>

                <li>
  <a class="HeaderMenu-dropdown-link lh-condensed d-block no-underline position-relative py-2 Link--secondary" data-analytics-event="{&quot;category&quot;:&quot;Header dropdown (logged out), Solutions&quot;,&quot;action&quot;:&quot;click to go to DevOps&quot;,&quot;label&quot;:&quot;ref_cta:DevOps;&quot;}" href="https://github.com/solutions/devops">
      DevOps

    
</a></li>

                <li>
  <a class="HeaderMenu-dropdown-link lh-condensed d-block no-underline position-relative py-2 Link--secondary" data-analytics-event="{&quot;category&quot;:&quot;Header dropdown (logged out), Solutions&quot;,&quot;action&quot;:&quot;click to go to DevSecOps&quot;,&quot;label&quot;:&quot;ref_cta:DevSecOps;&quot;}" href="https://github.com/solutions/devsecops">
      DevSecOps

    
</a></li>

            </ul>
          </div>
          <div class="">
              <span class="d-block h4 color-fg-default my-1" id="solutions-resources-heading">Resources</span>
            <ul class="list-style-none f5" aria-labelledby="solutions-resources-heading">
                <li>
  <a class="HeaderMenu-dropdown-link lh-condensed d-block no-underline position-relative py-2 Link--secondary" target="_blank" data-analytics-event="{&quot;category&quot;:&quot;Header dropdown (logged out), Solutions&quot;,&quot;action&quot;:&quot;click to go to Learning Pathways&quot;,&quot;label&quot;:&quot;ref_cta:Learning Pathways;&quot;}" href="https://resources.github.com/learn/pathways">
      Learning Pathways

    <svg aria-hidden="true" height="16" viewBox="0 0 16 16" version="1.1" width="16" data-view-component="true" class="octicon octicon-link-external HeaderMenu-external-icon color-fg-subtle">
    <path d="M3.75 2h3.5a.75.75 0 0 1 0 1.5h-3.5a.25.25 0 0 0-.25.25v8.5c0 .138.112.25.25.25h8.5a.25.25 0 0 0 .25-.25v-3.5a.75.75 0 0 1 1.5 0v3.5A1.75 1.75 0 0 1 12.25 14h-8.5A1.75 1.75 0 0 1 2 12.25v-8.5C2 2.784 2.784 2 3.75 2Zm6.854-1h4.146a.25.25 0 0 1 .25.25v4.146a.25.25 0 0 1-.427.177L13.03 4.03 9.28 7.78a.751.751 0 0 1-1.042-.018.751.751 0 0 1-.018-1.042l3.75-3.75-1.543-1.543A.25.25 0 0 1 10.604 1Z"></path>
</svg>
</a></li>

                <li>
  <a class="HeaderMenu-dropdown-link lh-condensed d-block no-underline position-relative py-2 Link--secondary" target="_blank" data-analytics-event="{&quot;category&quot;:&quot;Header dropdown (logged out), Solutions&quot;,&quot;action&quot;:&quot;click to go to White papers, Ebooks, Webinars&quot;,&quot;label&quot;:&quot;ref_cta:White papers, Ebooks, Webinars;&quot;}" href="https://resources.github.com">
      White papers, Ebooks, Webinars

    <svg aria-hidden="true" height="16" viewBox="0 0 16 16" version="1.1" width="16" data-view-component="true" class="octicon octicon-link-external HeaderMenu-external-icon color-fg-subtle">
    <path d="M3.75 2h3.5a.75.75 0 0 1 0 1.5h-3.5a.25.25 0 0 0-.25.25v8.5c0 .138.112.25.25.25h8.5a.25.25 0 0 0 .25-.25v-3.5a.75.75 0 0 1 1.5 0v3.5A1.75 1.75 0 0 1 12.25 14h-8.5A1.75 1.75 0 0 1 2 12.25v-8.5C2 2.784 2.784 2 3.75 2Zm6.854-1h4.146a.25.25 0 0 1 .25.25v4.146a.25.25 0 0 1-.427.177L13.03 4.03 9.28 7.78a.751.751 0 0 1-1.042-.018.751.751 0 0 1-.018-1.042l3.75-3.75-1.543-1.543A.25.25 0 0 1 10.604 1Z"></path>
</svg>
</a></li>

                <li>
  <a class="HeaderMenu-dropdown-link lh-condensed d-block no-underline position-relative py-2 Link--secondary" data-analytics-event="{&quot;category&quot;:&quot;Header dropdown (logged out), Solutions&quot;,&quot;action&quot;:&quot;click to go to Customer Stories&quot;,&quot;label&quot;:&quot;ref_cta:Customer Stories;&quot;}" href="https://github.com/customer-stories">
      Customer Stories

    
</a></li>

                <li>
  <a class="HeaderMenu-dropdown-link lh-condensed d-block no-underline position-relative py-2 Link--secondary" target="_blank" data-analytics-event="{&quot;category&quot;:&quot;Header dropdown (logged out), Solutions&quot;,&quot;action&quot;:&quot;click to go to Partners&quot;,&quot;label&quot;:&quot;ref_cta:Partners;&quot;}" href="https://partner.github.com">
      Partners

    <svg aria-hidden="true" height="16" viewBox="0 0 16 16" version="1.1" width="16" data-view-component="true" class="octicon octicon-link-external HeaderMenu-external-icon color-fg-subtle">
    <path d="M3.75 2h3.5a.75.75 0 0 1 0 1.5h-3.5a.25.25 0 0 0-.25.25v8.5c0 .138.112.25.25.25h8.5a.25.25 0 0 0 .25-.25v-3.5a.75.75 0 0 1 1.5 0v3.5A1.75 1.75 0 0 1 12.25 14h-8.5A1.75 1.75 0 0 1 2 12.25v-8.5C2 2.784 2.784 2 3.75 2Zm6.854-1h4.146a.25.25 0 0 1 .25.25v4.146a.25.25 0 0 1-.427.177L13.03 4.03 9.28 7.78a.751.751 0 0 1-1.042-.018.751.751 0 0 1-.018-1.042l3.75-3.75-1.543-1.543A.25.25 0 0 1 10.604 1Z"></path>
</svg>
</a></li>

            </ul>
          </div>
      </div>
</li>


                <li class="HeaderMenu-item position-relative flex-wrap flex-justify-between flex-items-center d-block d-lg-flex flex-lg-nowrap flex-lg-items-center js-details-container js-header-menu-item">
      <button type="button" class="HeaderMenu-link border-0 width-full width-lg-auto px-0 px-lg-2 py-3 py-lg-2 no-wrap d-flex flex-items-center flex-justify-between js-details-target" aria-expanded="false">
        Open Source
        <svg opacity="0.5" aria-hidden="true" height="16" viewBox="0 0 16 16" version="1.1" width="16" data-view-component="true" class="octicon octicon-chevron-down HeaderMenu-icon ml-1">
    <path d="M12.78 5.22a.749.749 0 0 1 0 1.06l-4.25 4.25a.749.749 0 0 1-1.06 0L3.22 6.28a.749.749 0 1 1 1.06-1.06L8 8.939l3.72-3.719a.749.749 0 0 1 1.06 0Z"></path>
</svg>
      </button>
      <div class="HeaderMenu-dropdown dropdown-menu rounded m-0 p-0 py-2 py-lg-4 position-relative position-lg-absolute left-0 left-lg-n3 px-lg-4">
          <div class="border-bottom pb-3 mb-3">
            <ul class="list-style-none f5" >
                <li>
  <a class="HeaderMenu-dropdown-link lh-condensed d-block no-underline position-relative py-2 Link--secondary d-flex flex-items-center" data-analytics-event="{&quot;category&quot;:&quot;Header dropdown (logged out), Open Source&quot;,&quot;action&quot;:&quot;click to go to GitHub Sponsors&quot;,&quot;label&quot;:&quot;ref_cta:GitHub Sponsors;&quot;}" href="/sponsors">
      
      <div>
        <div class="color-fg-default h4">GitHub Sponsors</div>
        Fund open source developers
      </div>

    
</a></li>

            </ul>
          </div>
          <div class="border-bottom pb-3 mb-3">
            <ul class="list-style-none f5" >
                <li>
  <a class="HeaderMenu-dropdown-link lh-condensed d-block no-underline position-relative py-2 Link--secondary d-flex flex-items-center" data-analytics-event="{&quot;category&quot;:&quot;Header dropdown (logged out), Open Source&quot;,&quot;action&quot;:&quot;click to go to The ReadME Project&quot;,&quot;label&quot;:&quot;ref_cta:The ReadME Project;&quot;}" href="https://github.com/readme">
      
      <div>
        <div class="color-fg-default h4">The ReadME Project</div>
        GitHub community articles
      </div>

    
</a></li>

            </ul>
          </div>
          <div class="">
              <span class="d-block h4 color-fg-default my-1" id="open-source-repositories-heading">Repositories</span>
            <ul class="list-style-none f5" aria-labelledby="open-source-repositories-heading">
                <li>
  <a class="HeaderMenu-dropdown-link lh-condensed d-block no-underline position-relative py-2 Link--secondary" data-analytics-event="{&quot;category&quot;:&quot;Header dropdown (logged out), Open Source&quot;,&quot;action&quot;:&quot;click to go to Topics&quot;,&quot;label&quot;:&quot;ref_cta:Topics;&quot;}" href="https://github.com/topics">
      Topics

    
</a></li>

                <li>
  <a class="HeaderMenu-dropdown-link lh-condensed d-block no-underline position-relative py-2 Link--secondary" data-analytics-event="{&quot;category&quot;:&quot;Header dropdown (logged out), Open Source&quot;,&quot;action&quot;:&quot;click to go to Trending&quot;,&quot;label&quot;:&quot;ref_cta:Trending;&quot;}" href="https://github.com/trending">
      Trending

    
</a></li>

                <li>
  <a class="HeaderMenu-dropdown-link lh-condensed d-block no-underline position-relative py-2 Link--secondary" data-analytics-event="{&quot;category&quot;:&quot;Header dropdown (logged out), Open Source&quot;,&quot;action&quot;:&quot;click to go to Collections&quot;,&quot;label&quot;:&quot;ref_cta:Collections;&quot;}" href="https://github.com/collections">
      Collections

    
</a></li>

            </ul>
          </div>
      </div>
</li>


                <li class="HeaderMenu-item position-relative flex-wrap flex-justify-between flex-items-center d-block d-lg-flex flex-lg-nowrap flex-lg-items-center js-details-container js-header-menu-item">
      <button type="button" class="HeaderMenu-link border-0 width-full width-lg-auto px-0 px-lg-2 py-3 py-lg-2 no-wrap d-flex flex-items-center flex-justify-between js-details-target" aria-expanded="false">
        Enterprise
        <svg opacity="0.5" aria-hidden="true" height="16" viewBox="0 0 16 16" version="1.1" width="16" data-view-component="true" class="octicon octicon-chevron-down HeaderMenu-icon ml-1">
    <path d="M12.78 5.22a.749.749 0 0 1 0 1.06l-4.25 4.25a.749.749 0 0 1-1.06 0L3.22 6.28a.749.749 0 1 1 1.06-1.06L8 8.939l3.72-3.719a.749.749 0 0 1 1.06 0Z"></path>
</svg>
      </button>
      <div class="HeaderMenu-dropdown dropdown-menu rounded m-0 p-0 py-2 py-lg-4 position-relative position-lg-absolute left-0 left-lg-n3 px-lg-4">
          <div class="border-bottom pb-3 mb-3">
            <ul class="list-style-none f5" >
                <li>
  <a class="HeaderMenu-dropdown-link lh-condensed d-block no-underline position-relative py-2 Link--secondary d-flex flex-items-center" data-analytics-event="{&quot;category&quot;:&quot;Header dropdown (logged out), Enterprise&quot;,&quot;action&quot;:&quot;click to go to Enterprise platform&quot;,&quot;label&quot;:&quot;ref_cta:Enterprise platform;&quot;}" href="/enterprise">
      <svg aria-hidden="true" height="24" viewBox="0 0 24 24" version="1.1" width="24" data-view-component="true" class="octicon octicon-stack color-fg-subtle mr-3">
    <path d="M11.063 1.456a1.749 1.749 0 0 1 1.874 0l8.383 5.316a1.751 1.751 0 0 1 0 2.956l-8.383 5.316a1.749 1.749 0 0 1-1.874 0L2.68 9.728a1.751 1.751 0 0 1 0-2.956Zm1.071 1.267a.25.25 0 0 0-.268 0L3.483 8.039a.25.25 0 0 0 0 .422l8.383 5.316a.25.25 0 0 0 .268 0l8.383-5.316a.25.25 0 0 0 0-.422Z"></path><path d="M1.867 12.324a.75.75 0 0 1 1.035-.232l8.964 5.685a.25.25 0 0 0 .268 0l8.964-5.685a.75.75 0 0 1 .804 1.267l-8.965 5.685a1.749 1.749 0 0 1-1.874 0l-8.965-5.685a.75.75 0 0 1-.231-1.035Z"></path><path d="M1.867 16.324a.75.75 0 0 1 1.035-.232l8.964 5.685a.25.25 0 0 0 .268 0l8.964-5.685a.75.75 0 0 1 .804 1.267l-8.965 5.685a1.749 1.749 0 0 1-1.874 0l-8.965-5.685a.75.75 0 0 1-.231-1.035Z"></path>
</svg>
      <div>
        <div class="color-fg-default h4">Enterprise platform</div>
        AI-powered developer platform
      </div>

    
</a></li>

            </ul>
          </div>
          <div class="">
              <span class="d-block h4 color-fg-default my-1" id="enterprise-available-add-ons-heading">Available add-ons</span>
            <ul class="list-style-none f5" aria-labelledby="enterprise-available-add-ons-heading">
                <li>
  <a class="HeaderMenu-dropdown-link lh-condensed d-block no-underline position-relative py-2 Link--secondary d-flex flex-items-center pb-lg-3" data-analytics-event="{&quot;category&quot;:&quot;Header dropdown (logged out), Enterprise&quot;,&quot;action&quot;:&quot;click to go to Advanced Security&quot;,&quot;label&quot;:&quot;ref_cta:Advanced Security;&quot;}" href="https://github.com/enterprise/advanced-security">
      <svg aria-hidden="true" height="24" viewBox="0 0 24 24" version="1.1" width="24" data-view-component="true" class="octicon octicon-shield-check color-fg-subtle mr-3">
    <path d="M16.53 9.78a.75.75 0 0 0-1.06-1.06L11 13.19l-1.97-1.97a.75.75 0 0 0-1.06 1.06l2.5 2.5a.75.75 0 0 0 1.06 0l5-5Z"></path><path d="m12.54.637 8.25 2.675A1.75 1.75 0 0 1 22 4.976V10c0 6.19-3.771 10.704-9.401 12.83a1.704 1.704 0 0 1-1.198 0C5.77 20.705 2 16.19 2 10V4.976c0-.758.489-1.43 1.21-1.664L11.46.637a1.748 1.748 0 0 1 1.08 0Zm-.617 1.426-8.25 2.676a.249.249 0 0 0-.173.237V10c0 5.46 3.28 9.483 8.43 11.426a.199.199 0 0 0 .14 0C17.22 19.483 20.5 15.461 20.5 10V4.976a.25.25 0 0 0-.173-.237l-8.25-2.676a.253.253 0 0 0-.154 0Z"></path>
</svg>
      <div>
        <div class="color-fg-default h4">Advanced Security</div>
        Enterprise-grade security features
      </div>

    
</a></li>

                <li>
  <a class="HeaderMenu-dropdown-link lh-condensed d-block no-underline position-relative py-2 Link--secondary d-flex flex-items-center pb-lg-3" data-analytics-event="{&quot;category&quot;:&quot;Header dropdown (logged out), Enterprise&quot;,&quot;action&quot;:&quot;click to go to GitHub Copilot&quot;,&quot;label&quot;:&quot;ref_cta:GitHub Copilot;&quot;}" href="/features/copilot#enterprise">
      <svg aria-hidden="true" height="24" viewBox="0 0 24 24" version="1.1" width="24" data-view-component="true" class="octicon octicon-copilot color-fg-subtle mr-3">
    <path d="M23.922 16.992c-.861 1.495-5.859 5.023-11.922 5.023-6.063 0-11.061-3.528-11.922-5.023A.641.641 0 0 1 0 16.736v-2.869a.841.841 0 0 1 .053-.22c.372-.935 1.347-2.292 2.605-2.656.167-.429.414-1.055.644-1.517a10.195 10.195 0 0 1-.052-1.086c0-1.331.282-2.499 1.132-3.368.397-.406.89-.717 1.474-.952 1.399-1.136 3.392-2.093 6.122-2.093 2.731 0 4.767.957 6.166 2.093.584.235 1.077.546 1.474.952.85.869 1.132 2.037 1.132 3.368 0 .368-.014.733-.052 1.086.23.462.477 1.088.644 1.517 1.258.364 2.233 1.721 2.605 2.656a.832.832 0 0 1 .053.22v2.869a.641.641 0 0 1-.078.256ZM12.172 11h-.344a4.323 4.323 0 0 1-.355.508C10.703 12.455 9.555 13 7.965 13c-1.725 0-2.989-.359-3.782-1.259a2.005 2.005 0 0 1-.085-.104L4 11.741v6.585c1.435.779 4.514 2.179 8 2.179 3.486 0 6.565-1.4 8-2.179v-6.585l-.098-.104s-.033.045-.085.104c-.793.9-2.057 1.259-3.782 1.259-1.59 0-2.738-.545-3.508-1.492a4.323 4.323 0 0 1-.355-.508h-.016.016Zm.641-2.935c.136 1.057.403 1.913.878 2.497.442.544 1.134.938 2.344.938 1.573 0 2.292-.337 2.657-.751.384-.435.558-1.15.558-2.361 0-1.14-.243-1.847-.705-2.319-.477-.488-1.319-.862-2.824-1.025-1.487-.161-2.192.138-2.533.529-.269.307-.437.808-.438 1.578v.021c0 .265.021.562.063.893Zm-1.626 0c.042-.331.063-.628.063-.894v-.02c-.001-.77-.169-1.271-.438-1.578-.341-.391-1.046-.69-2.533-.529-1.505.163-2.347.537-2.824 1.025-.462.472-.705 1.179-.705 2.319 0 1.211.175 1.926.558 2.361.365.414 1.084.751 2.657.751 1.21 0 1.902-.394 2.344-.938.475-.584.742-1.44.878-2.497Z"></path><path d="M14.5 14.25a1 1 0 0 1 1 1v2a1 1 0 0 1-2 0v-2a1 1 0 0 1 1-1Zm-5 0a1 1 0 0 1 1 1v2a1 1 0 0 1-2 0v-2a1 1 0 0 1 1-1Z"></path>
</svg>
      <div>
        <div class="color-fg-default h4">GitHub Copilot</div>
        Enterprise-grade AI features
      </div>

    
</a></li>

                <li>
  <a class="HeaderMenu-dropdown-link lh-condensed d-block no-underline position-relative py-2 Link--secondary d-flex flex-items-center" data-analytics-event="{&quot;category&quot;:&quot;Header dropdown (logged out), Enterprise&quot;,&quot;action&quot;:&quot;click to go to Premium Support&quot;,&quot;label&quot;:&quot;ref_cta:Premium Support;&quot;}" href="/premium-support">
      <svg aria-hidden="true" height="24" viewBox="0 0 24 24" version="1.1" width="24" data-view-component="true" class="octicon octicon-comment-discussion color-fg-subtle mr-3">
    <path d="M1.75 1h12.5c.966 0 1.75.784 1.75 1.75v9.5A1.75 1.75 0 0 1 14.25 14H8.061l-2.574 2.573A1.458 1.458 0 0 1 3 15.543V14H1.75A1.75 1.75 0 0 1 0 12.25v-9.5C0 1.784.784 1 1.75 1ZM1.5 2.75v9.5c0 .138.112.25.25.25h2a.75.75 0 0 1 .75.75v2.19l2.72-2.72a.749.749 0 0 1 .53-.22h6.5a.25.25 0 0 0 .25-.25v-9.5a.25.25 0 0 0-.25-.25H1.75a.25.25 0 0 0-.25.25Z"></path><path d="M22.5 8.75a.25.25 0 0 0-.25-.25h-3.5a.75.75 0 0 1 0-1.5h3.5c.966 0 1.75.784 1.75 1.75v9.5A1.75 1.75 0 0 1 22.25 20H21v1.543a1.457 1.457 0 0 1-2.487 1.03L15.939 20H10.75A1.75 1.75 0 0 1 9 18.25v-1.465a.75.75 0 0 1 1.5 0v1.465c0 .138.112.25.25.25h5.5a.75.75 0 0 1 .53.22l2.72 2.72v-2.19a.75.75 0 0 1 .75-.75h2a.25.25 0 0 0 .25-.25v-9.5Z"></path>
</svg>
      <div>
        <div class="color-fg-default h4">Premium Support</div>
        Enterprise-grade 24/7 support
      </div>

    
</a></li>

            </ul>
          </div>
      </div>
</li>


                <li class="HeaderMenu-item position-relative flex-wrap flex-justify-between flex-items-center d-block d-lg-flex flex-lg-nowrap flex-lg-items-center js-details-container js-header-menu-item">
    <a class="HeaderMenu-link no-underline px-0 px-lg-2 py-3 py-lg-2 d-block d-lg-inline-block" data-analytics-event="{&quot;category&quot;:&quot;Header menu top item (logged out)&quot;,&quot;action&quot;:&quot;click to go to Pricing&quot;,&quot;label&quot;:&quot;ref_cta:Pricing;&quot;}" href="https://github.com/pricing">Pricing</a>
</li>

            </ul>
          </nav>

        <div class="d-lg-flex flex-items-center mb-3 mb-lg-0 text-center text-lg-left ml-3" style="">
                


<qbsearch-input class="search-input" data-scope="repo:shantanu1109/Coursera-DeepLearning.AI-AI-FOR-MEDICINE-SPECIALIZATION" data-custom-scopes-path="/search/custom_scopes" data-delete-custom-scopes-csrf="ZbvYfjlDyaKF4wOWr0cZ0Rd59DcgejojWg2gfZyRg6AUeboThtZuWJQUGggeNF3hUWj4jH-XLjl29kQhixjMFg" data-max-custom-scopes="10" data-header-redesign-enabled="false" data-initial-value="" data-blackbird-suggestions-path="/search/suggestions" data-jump-to-suggestions-path="/_graphql/GetSuggestedNavigationDestinations" data-current-repository="shantanu1109/Coursera-DeepLearning.AI-AI-FOR-MEDICINE-SPECIALIZATION" data-current-org="" data-current-owner="shantanu1109" data-logged-in="false" data-copilot-chat-enabled="false" data-blackbird-indexed-repo-csrf="<esi:include src=&quot;/_esi/rails_csrf_token_form_hidden?r=aFKuoWqDDbBycHpz%2FMHWdFexIjztmVx4zrWQc9swheWcyqyKHa%2FiyD8mk%2Bh3nu79ZmvAMOBkQA%2BMGMwgaMYqcsYm%2FuvQQfIDVlA7jLgJFQ5YlnjvjzqESXrV4MAJOxdef9zSh2yLzZLhS%2BhURsaWVtDHpdQHSiANoeV2o6%2F7sP7Wqpu9NlsDITrB2sjYKtHMxu4jAFaDTd9DQzynivRi2%2B%2FrBfFjJ7UUvMSStbWBqwlvpdNsW9E6MYAdlH7YSkcd9nt1qD7DHk%2FG4PDVvta1MEiQHxTE4WebhoC0YzsSEpZPPpBG9RiMDyV3hFojimLAqg00e4RjsOssWoSymOC8wdMmV2386VtoJ02B20OomgKGltHmaSnlEsyj%2FyHTKdK%2Bb7Td%2FaSL24GjfI%2Fe2lc7gnTYkKG5Ii25VuoUU%2B9pDYYAr8oc8BEM2fYCL0gg2DLJ37qn%2FGg5FZEOKrcVjXQTZlxukX1xZZMwhhoAzjK41TjpcgJ368EZo69rDEbGlkACqNY3CtKR6XcK4YrvHs5p%2FyBwAfzOsBaCHdO6vnwTRJfIfJeuPsJ33wgt3J8JExkrtlJ9dwFYkoDx9sYzEGhxut0lYKkwmNVE0YDuH2nHAbJyldejGlLrkLoHgNBFInW%2FbhuJMIKBV79fVKSoEo32%2F6RhpYz1MjzAvqOAZRFIgbTXrBo2KY8EVFTBk9u%2FBJsF9aOyL95X%2F2brvaLSzeoR6jXDAYHJnYBTJWEIufkS0Igij6Mr0jL4Mya1T38S0Aob4GBPgREnTGx%2BqfaJrYV%2BvmwRwk1DOBOyq5MCtwQAfZ7CKWWTL3g6OYz0RdYX7DWo5xPZYBIj2rCmWZmpXq7MbdqV2EKEnYHHjdE7GT5mNM4kTxh6Ak24nFG4daJ5plbM2w7QOXAiwgIDXSa1z0hLjYXHPlStJnGZOmA%3D--X%2BUGxH5T7yx0T7pR--jKy%2Bn7rCU%2F4Oui8ut4U8fg%3D%3D&quot; />">
  <div
    class="search-input-container search-with-dialog position-relative d-flex flex-row flex-items-center mr-4 rounded"
    data-action="click:qbsearch-input#searchInputContainerClicked"
  >
      <button
        type="button"
        class="header-search-button placeholder  input-button form-control d-flex flex-1 flex-self-stretch flex-items-center no-wrap width-full py-0 pl-2 pr-0 text-left border-0 box-shadow-none"
        data-target="qbsearch-input.inputButton"
        placeholder="Search or jump to..."
        data-hotkey=s,/
        autocapitalize="off"
        data-action="click:qbsearch-input#handleExpand"
      >
        <div class="mr-2 color-fg-muted">
          <svg aria-hidden="true" height="16" viewBox="0 0 16 16" version="1.1" width="16" data-view-component="true" class="octicon octicon-search">
    <path d="M10.68 11.74a6 6 0 0 1-7.922-8.982 6 6 0 0 1 8.982 7.922l3.04 3.04a.749.749 0 0 1-.326 1.275.749.749 0 0 1-.734-.215ZM11.5 7a4.499 4.499 0 1 0-8.997 0A4.499 4.499 0 0 0 11.5 7Z"></path>
</svg>
        </div>
        <span class="flex-1" data-target="qbsearch-input.inputButtonText">Search or jump to...</span>
          <div class="d-flex" data-target="qbsearch-input.hotkeyIndicator">
            <svg xmlns="http://www.w3.org/2000/svg" width="22" height="20" aria-hidden="true" class="mr-1"><path fill="none" stroke="#979A9C" opacity=".4" d="M3.5.5h12c1.7 0 3 1.3 3 3v13c0 1.7-1.3 3-3 3h-12c-1.7 0-3-1.3-3-3v-13c0-1.7 1.3-3 3-3z"></path><path fill="#979A9C" d="M11.8 6L8 15.1h-.9L10.8 6h1z"></path></svg>

          </div>
      </button>

    <input type="hidden" name="type" class="js-site-search-type-field">

    
<div class="Overlay--hidden " data-modal-dialog-overlay>
  <modal-dialog data-action="close:qbsearch-input#handleClose cancel:qbsearch-input#handleClose" data-target="qbsearch-input.searchSuggestionsDialog" role="dialog" id="search-suggestions-dialog" aria-modal="true" aria-labelledby="search-suggestions-dialog-header" data-view-component="true" class="Overlay Overlay--width-large Overlay--height-auto">
      <h1 id="search-suggestions-dialog-header" class="sr-only">Search code, repositories, users, issues, pull requests...</h1>
    <div class="Overlay-body Overlay-body--paddingNone">
      
          <div data-view-component="true">        <div class="search-suggestions position-fixed width-full color-shadow-large border color-fg-default color-bg-default overflow-hidden d-flex flex-column query-builder-container"
          style="border-radius: 12px;"
          data-target="qbsearch-input.queryBuilderContainer"
          hidden
        >
          <!-- '"` --><!-- </textarea></xmp> --></option></form><form id="query-builder-test-form" action="" accept-charset="UTF-8" method="get">
  <query-builder data-target="qbsearch-input.queryBuilder" id="query-builder-query-builder-test" data-filter-key=":" data-view-component="true" class="QueryBuilder search-query-builder">
    <div class="FormControl FormControl--fullWidth">
      <label id="query-builder-test-label" for="query-builder-test" class="FormControl-label sr-only">
        Search
      </label>
      <div
        class="QueryBuilder-StyledInput width-fit "
        data-target="query-builder.styledInput"
      >
          <span id="query-builder-test-leadingvisual-wrap" class="FormControl-input-leadingVisualWrap QueryBuilder-leadingVisualWrap">
            <svg aria-hidden="true" height="16" viewBox="0 0 16 16" version="1.1" width="16" data-view-component="true" class="octicon octicon-search FormControl-input-leadingVisual">
    <path d="M10.68 11.74a6 6 0 0 1-7.922-8.982 6 6 0 0 1 8.982 7.922l3.04 3.04a.749.749 0 0 1-.326 1.275.749.749 0 0 1-.734-.215ZM11.5 7a4.499 4.499 0 1 0-8.997 0A4.499 4.499 0 0 0 11.5 7Z"></path>
</svg>
          </span>
        <div data-target="query-builder.styledInputContainer" class="QueryBuilder-StyledInputContainer">
          <div
            aria-hidden="true"
            class="QueryBuilder-StyledInputContent"
            data-target="query-builder.styledInputContent"
          ></div>
          <div class="QueryBuilder-InputWrapper">
            <div aria-hidden="true" class="QueryBuilder-Sizer" data-target="query-builder.sizer"></div>
            <input id="query-builder-test" name="query-builder-test" value="" autocomplete="off" type="text" role="combobox" spellcheck="false" aria-expanded="false" aria-describedby="validation-baa7d29d-da9f-4a13-9ab7-70b2727e0f00" data-target="query-builder.input" data-action="
          input:query-builder#inputChange
          blur:query-builder#inputBlur
          keydown:query-builder#inputKeydown
          focus:query-builder#inputFocus
        " data-view-component="true" class="FormControl-input QueryBuilder-Input FormControl-medium" />
          </div>
        </div>
          <span class="sr-only" id="query-builder-test-clear">Clear</span>
          <button role="button" id="query-builder-test-clear-button" aria-labelledby="query-builder-test-clear query-builder-test-label" data-target="query-builder.clearButton" data-action="
                click:query-builder#clear
                focus:query-builder#clearButtonFocus
                blur:query-builder#clearButtonBlur
              " variant="small" hidden="hidden" type="button" data-view-component="true" class="Button Button--iconOnly Button--invisible Button--medium mr-1 px-2 py-0 d-flex flex-items-center rounded-1 color-fg-muted">  <svg aria-hidden="true" height="16" viewBox="0 0 16 16" version="1.1" width="16" data-view-component="true" class="octicon octicon-x-circle-fill Button-visual">
    <path d="M2.343 13.657A8 8 0 1 1 13.658 2.343 8 8 0 0 1 2.343 13.657ZM6.03 4.97a.751.751 0 0 0-1.042.018.751.751 0 0 0-.018 1.042L6.94 8 4.97 9.97a.749.749 0 0 0 .326 1.275.749.749 0 0 0 .734-.215L8 9.06l1.97 1.97a.749.749 0 0 0 1.275-.326.749.749 0 0 0-.215-.734L9.06 8l1.97-1.97a.749.749 0 0 0-.326-1.275.749.749 0 0 0-.734.215L8 6.94Z"></path>
</svg>
</button>

      </div>
      <template id="search-icon">
  <svg aria-hidden="true" height="16" viewBox="0 0 16 16" version="1.1" width="16" data-view-component="true" class="octicon octicon-search">
    <path d="M10.68 11.74a6 6 0 0 1-7.922-8.982 6 6 0 0 1 8.982 7.922l3.04 3.04a.749.749 0 0 1-.326 1.275.749.749 0 0 1-.734-.215ZM11.5 7a4.499 4.499 0 1 0-8.997 0A4.499 4.499 0 0 0 11.5 7Z"></path>
</svg>
</template>

<template id="code-icon">
  <svg aria-hidden="true" height="16" viewBox="0 0 16 16" version="1.1" width="16" data-view-component="true" class="octicon octicon-code">
    <path d="m11.28 3.22 4.25 4.25a.75.75 0 0 1 0 1.06l-4.25 4.25a.749.749 0 0 1-1.275-.326.749.749 0 0 1 .215-.734L13.94 8l-3.72-3.72a.749.749 0 0 1 .326-1.275.749.749 0 0 1 .734.215Zm-6.56 0a.751.751 0 0 1 1.042.018.751.751 0 0 1 .018 1.042L2.06 8l3.72 3.72a.749.749 0 0 1-.326 1.275.749.749 0 0 1-.734-.215L.47 8.53a.75.75 0 0 1 0-1.06Z"></path>
</svg>
</template>

<template id="file-code-icon">
  <svg aria-hidden="true" height="16" viewBox="0 0 16 16" version="1.1" width="16" data-view-component="true" class="octicon octicon-file-code">
    <path d="M4 1.75C4 .784 4.784 0 5.75 0h5.586c.464 0 .909.184 1.237.513l2.914 2.914c.329.328.513.773.513 1.237v8.586A1.75 1.75 0 0 1 14.25 15h-9a.75.75 0 0 1 0-1.5h9a.25.25 0 0 0 .25-.25V6h-2.75A1.75 1.75 0 0 1 10 4.25V1.5H5.75a.25.25 0 0 0-.25.25v2.5a.75.75 0 0 1-1.5 0Zm1.72 4.97a.75.75 0 0 1 1.06 0l2 2a.75.75 0 0 1 0 1.06l-2 2a.749.749 0 0 1-1.275-.326.749.749 0 0 1 .215-.734l1.47-1.47-1.47-1.47a.75.75 0 0 1 0-1.06ZM3.28 7.78 1.81 9.25l1.47 1.47a.751.751 0 0 1-.018 1.042.751.751 0 0 1-1.042.018l-2-2a.75.75 0 0 1 0-1.06l2-2a.751.751 0 0 1 1.042.018.751.751 0 0 1 .018 1.042Zm8.22-6.218V4.25c0 .138.112.25.25.25h2.688l-.011-.013-2.914-2.914-.013-.011Z"></path>
</svg>
</template>

<template id="history-icon">
  <svg aria-hidden="true" height="16" viewBox="0 0 16 16" version="1.1" width="16" data-view-component="true" class="octicon octicon-history">
    <path d="m.427 1.927 1.215 1.215a8.002 8.002 0 1 1-1.6 5.685.75.75 0 1 1 1.493-.154 6.5 6.5 0 1 0 1.18-4.458l1.358 1.358A.25.25 0 0 1 3.896 6H.25A.25.25 0 0 1 0 5.75V2.104a.25.25 0 0 1 .427-.177ZM7.75 4a.75.75 0 0 1 .75.75v2.992l2.028.812a.75.75 0 0 1-.557 1.392l-2.5-1A.751.751 0 0 1 7 8.25v-3.5A.75.75 0 0 1 7.75 4Z"></path>
</svg>
</template>

<template id="repo-icon">
  <svg aria-hidden="true" height="16" viewBox="0 0 16 16" version="1.1" width="16" data-view-component="true" class="octicon octicon-repo">
    <path d="M2 2.5A2.5 2.5 0 0 1 4.5 0h8.75a.75.75 0 0 1 .75.75v12.5a.75.75 0 0 1-.75.75h-2.5a.75.75 0 0 1 0-1.5h1.75v-2h-8a1 1 0 0 0-.714 1.7.75.75 0 1 1-1.072 1.05A2.495 2.495 0 0 1 2 11.5Zm10.5-1h-8a1 1 0 0 0-1 1v6.708A2.486 2.486 0 0 1 4.5 9h8ZM5 12.25a.25.25 0 0 1 .25-.25h3.5a.25.25 0 0 1 .25.25v3.25a.25.25 0 0 1-.4.2l-1.45-1.087a.249.249 0 0 0-.3 0L5.4 15.7a.25.25 0 0 1-.4-.2Z"></path>
</svg>
</template>

<template id="bookmark-icon">
  <svg aria-hidden="true" height="16" viewBox="0 0 16 16" version="1.1" width="16" data-view-component="true" class="octicon octicon-bookmark">
    <path d="M3 2.75C3 1.784 3.784 1 4.75 1h6.5c.966 0 1.75.784 1.75 1.75v11.5a.75.75 0 0 1-1.227.579L8 11.722l-3.773 3.107A.751.751 0 0 1 3 14.25Zm1.75-.25a.25.25 0 0 0-.25.25v9.91l3.023-2.489a.75.75 0 0 1 .954 0l3.023 2.49V2.75a.25.25 0 0 0-.25-.25Z"></path>
</svg>
</template>

<template id="plus-circle-icon">
  <svg aria-hidden="true" height="16" viewBox="0 0 16 16" version="1.1" width="16" data-view-component="true" class="octicon octicon-plus-circle">
    <path d="M8 0a8 8 0 1 1 0 16A8 8 0 0 1 8 0ZM1.5 8a6.5 6.5 0 1 0 13 0 6.5 6.5 0 0 0-13 0Zm7.25-3.25v2.5h2.5a.75.75 0 0 1 0 1.5h-2.5v2.5a.75.75 0 0 1-1.5 0v-2.5h-2.5a.75.75 0 0 1 0-1.5h2.5v-2.5a.75.75 0 0 1 1.5 0Z"></path>
</svg>
</template>

<template id="circle-icon">
  <svg aria-hidden="true" height="16" viewBox="0 0 16 16" version="1.1" width="16" data-view-component="true" class="octicon octicon-dot-fill">
    <path d="M8 4a4 4 0 1 1 0 8 4 4 0 0 1 0-8Z"></path>
</svg>
</template>

<template id="trash-icon">
  <svg aria-hidden="true" height="16" viewBox="0 0 16 16" version="1.1" width="16" data-view-component="true" class="octicon octicon-trash">
    <path d="M11 1.75V3h2.25a.75.75 0 0 1 0 1.5H2.75a.75.75 0 0 1 0-1.5H5V1.75C5 .784 5.784 0 6.75 0h2.5C10.216 0 11 .784 11 1.75ZM4.496 6.675l.66 6.6a.25.25 0 0 0 .249.225h5.19a.25.25 0 0 0 .249-.225l.66-6.6a.75.75 0 0 1 1.492.149l-.66 6.6A1.748 1.748 0 0 1 10.595 15h-5.19a1.75 1.75 0 0 1-1.741-1.575l-.66-6.6a.75.75 0 1 1 1.492-.15ZM6.5 1.75V3h3V1.75a.25.25 0 0 0-.25-.25h-2.5a.25.25 0 0 0-.25.25Z"></path>
</svg>
</template>

<template id="team-icon">
  <svg aria-hidden="true" height="16" viewBox="0 0 16 16" version="1.1" width="16" data-view-component="true" class="octicon octicon-people">
    <path d="M2 5.5a3.5 3.5 0 1 1 5.898 2.549 5.508 5.508 0 0 1 3.034 4.084.75.75 0 1 1-1.482.235 4 4 0 0 0-7.9 0 .75.75 0 0 1-1.482-.236A5.507 5.507 0 0 1 3.102 8.05 3.493 3.493 0 0 1 2 5.5ZM11 4a3.001 3.001 0 0 1 2.22 5.018 5.01 5.01 0 0 1 2.56 3.012.749.749 0 0 1-.885.954.752.752 0 0 1-.549-.514 3.507 3.507 0 0 0-2.522-2.372.75.75 0 0 1-.574-.73v-.352a.75.75 0 0 1 .416-.672A1.5 1.5 0 0 0 11 5.5.75.75 0 0 1 11 4Zm-5.5-.5a2 2 0 1 0-.001 3.999A2 2 0 0 0 5.5 3.5Z"></path>
</svg>
</template>

<template id="project-icon">
  <svg aria-hidden="true" height="16" viewBox="0 0 16 16" version="1.1" width="16" data-view-component="true" class="octicon octicon-project">
    <path d="M1.75 0h12.5C15.216 0 16 .784 16 1.75v12.5A1.75 1.75 0 0 1 14.25 16H1.75A1.75 1.75 0 0 1 0 14.25V1.75C0 .784.784 0 1.75 0ZM1.5 1.75v12.5c0 .138.112.25.25.25h12.5a.25.25 0 0 0 .25-.25V1.75a.25.25 0 0 0-.25-.25H1.75a.25.25 0 0 0-.25.25ZM11.75 3a.75.75 0 0 1 .75.75v7.5a.75.75 0 0 1-1.5 0v-7.5a.75.75 0 0 1 .75-.75Zm-8.25.75a.75.75 0 0 1 1.5 0v5.5a.75.75 0 0 1-1.5 0ZM8 3a.75.75 0 0 1 .75.75v3.5a.75.75 0 0 1-1.5 0v-3.5A.75.75 0 0 1 8 3Z"></path>
</svg>
</template>

<template id="pencil-icon">
  <svg aria-hidden="true" height="16" viewBox="0 0 16 16" version="1.1" width="16" data-view-component="true" class="octicon octicon-pencil">
    <path d="M11.013 1.427a1.75 1.75 0 0 1 2.474 0l1.086 1.086a1.75 1.75 0 0 1 0 2.474l-8.61 8.61c-.21.21-.47.364-.756.445l-3.251.93a.75.75 0 0 1-.927-.928l.929-3.25c.081-.286.235-.547.445-.758l8.61-8.61Zm.176 4.823L9.75 4.81l-6.286 6.287a.253.253 0 0 0-.064.108l-.558 1.953 1.953-.558a.253.253 0 0 0 .108-.064Zm1.238-3.763a.25.25 0 0 0-.354 0L10.811 3.75l1.439 1.44 1.263-1.263a.25.25 0 0 0 0-.354Z"></path>
</svg>
</template>

<template id="copilot-icon">
  <svg aria-hidden="true" height="16" viewBox="0 0 16 16" version="1.1" width="16" data-view-component="true" class="octicon octicon-copilot">
    <path d="M7.998 15.035c-4.562 0-7.873-2.914-7.998-3.749V9.338c.085-.628.677-1.686 1.588-2.065.013-.07.024-.143.036-.218.029-.183.06-.384.126-.612-.201-.508-.254-1.084-.254-1.656 0-.87.128-1.769.693-2.484.579-.733 1.494-1.124 2.724-1.261 1.206-.134 2.262.034 2.944.765.05.053.096.108.139.165.044-.057.094-.112.143-.165.682-.731 1.738-.899 2.944-.765 1.23.137 2.145.528 2.724 1.261.566.715.693 1.614.693 2.484 0 .572-.053 1.148-.254 1.656.066.228.098.429.126.612.012.076.024.148.037.218.924.385 1.522 1.471 1.591 2.095v1.872c0 .766-3.351 3.795-8.002 3.795Zm0-1.485c2.28 0 4.584-1.11 5.002-1.433V7.862l-.023-.116c-.49.21-1.075.291-1.727.291-1.146 0-2.059-.327-2.71-.991A3.222 3.222 0 0 1 8 6.303a3.24 3.24 0 0 1-.544.743c-.65.664-1.563.991-2.71.991-.652 0-1.236-.081-1.727-.291l-.023.116v4.255c.419.323 2.722 1.433 5.002 1.433ZM6.762 2.83c-.193-.206-.637-.413-1.682-.297-1.019.113-1.479.404-1.713.7-.247.312-.369.789-.369 1.554 0 .793.129 1.171.308 1.371.162.181.519.379 1.442.379.853 0 1.339-.235 1.638-.54.315-.322.527-.827.617-1.553.117-.935-.037-1.395-.241-1.614Zm4.155-.297c-1.044-.116-1.488.091-1.681.297-.204.219-.359.679-.242 1.614.091.726.303 1.231.618 1.553.299.305.784.54 1.638.54.922 0 1.28-.198 1.442-.379.179-.2.308-.578.308-1.371 0-.765-.123-1.242-.37-1.554-.233-.296-.693-.587-1.713-.7Z"></path><path d="M6.25 9.037a.75.75 0 0 1 .75.75v1.501a.75.75 0 0 1-1.5 0V9.787a.75.75 0 0 1 .75-.75Zm4.25.75v1.501a.75.75 0 0 1-1.5 0V9.787a.75.75 0 0 1 1.5 0Z"></path>
</svg>
</template>

<template id="workflow-icon">
  <svg aria-hidden="true" height="16" viewBox="0 0 16 16" version="1.1" width="16" data-view-component="true" class="octicon octicon-workflow">
    <path d="M0 1.75C0 .784.784 0 1.75 0h3.5C6.216 0 7 .784 7 1.75v3.5A1.75 1.75 0 0 1 5.25 7H4v4a1 1 0 0 0 1 1h4v-1.25C9 9.784 9.784 9 10.75 9h3.5c.966 0 1.75.784 1.75 1.75v3.5A1.75 1.75 0 0 1 14.25 16h-3.5A1.75 1.75 0 0 1 9 14.25v-.75H5A2.5 2.5 0 0 1 2.5 11V7h-.75A1.75 1.75 0 0 1 0 5.25Zm1.75-.25a.25.25 0 0 0-.25.25v3.5c0 .138.112.25.25.25h3.5a.25.25 0 0 0 .25-.25v-3.5a.25.25 0 0 0-.25-.25Zm9 9a.25.25 0 0 0-.25.25v3.5c0 .138.112.25.25.25h3.5a.25.25 0 0 0 .25-.25v-3.5a.25.25 0 0 0-.25-.25Z"></path>
</svg>
</template>

<template id="book-icon">
  <svg aria-hidden="true" height="16" viewBox="0 0 16 16" version="1.1" width="16" data-view-component="true" class="octicon octicon-book">
    <path d="M0 1.75A.75.75 0 0 1 .75 1h4.253c1.227 0 2.317.59 3 1.501A3.743 3.743 0 0 1 11.006 1h4.245a.75.75 0 0 1 .75.75v10.5a.75.75 0 0 1-.75.75h-4.507a2.25 2.25 0 0 0-1.591.659l-.622.621a.75.75 0 0 1-1.06 0l-.622-.621A2.25 2.25 0 0 0 5.258 13H.75a.75.75 0 0 1-.75-.75Zm7.251 10.324.004-5.073-.002-2.253A2.25 2.25 0 0 0 5.003 2.5H1.5v9h3.757a3.75 3.75 0 0 1 1.994.574ZM8.755 4.75l-.004 7.322a3.752 3.752 0 0 1 1.992-.572H14.5v-9h-3.495a2.25 2.25 0 0 0-2.25 2.25Z"></path>
</svg>
</template>

<template id="code-review-icon">
  <svg aria-hidden="true" height="16" viewBox="0 0 16 16" version="1.1" width="16" data-view-component="true" class="octicon octicon-code-review">
    <path d="M1.75 1h12.5c.966 0 1.75.784 1.75 1.75v8.5A1.75 1.75 0 0 1 14.25 13H8.061l-2.574 2.573A1.458 1.458 0 0 1 3 14.543V13H1.75A1.75 1.75 0 0 1 0 11.25v-8.5C0 1.784.784 1 1.75 1ZM1.5 2.75v8.5c0 .138.112.25.25.25h2a.75.75 0 0 1 .75.75v2.19l2.72-2.72a.749.749 0 0 1 .53-.22h6.5a.25.25 0 0 0 .25-.25v-8.5a.25.25 0 0 0-.25-.25H1.75a.25.25 0 0 0-.25.25Zm5.28 1.72a.75.75 0 0 1 0 1.06L5.31 7l1.47 1.47a.751.751 0 0 1-.018 1.042.751.751 0 0 1-1.042.018l-2-2a.75.75 0 0 1 0-1.06l2-2a.75.75 0 0 1 1.06 0Zm2.44 0a.75.75 0 0 1 1.06 0l2 2a.75.75 0 0 1 0 1.06l-2 2a.751.751 0 0 1-1.042-.018.751.751 0 0 1-.018-1.042L10.69 7 9.22 5.53a.75.75 0 0 1 0-1.06Z"></path>
</svg>
</template>

<template id="codespaces-icon">
  <svg aria-hidden="true" height="16" viewBox="0 0 16 16" version="1.1" width="16" data-view-component="true" class="octicon octicon-codespaces">
    <path d="M0 11.25c0-.966.784-1.75 1.75-1.75h12.5c.966 0 1.75.784 1.75 1.75v3A1.75 1.75 0 0 1 14.25 16H1.75A1.75 1.75 0 0 1 0 14.25Zm2-9.5C2 .784 2.784 0 3.75 0h8.5C13.216 0 14 .784 14 1.75v5a1.75 1.75 0 0 1-1.75 1.75h-8.5A1.75 1.75 0 0 1 2 6.75Zm1.75-.25a.25.25 0 0 0-.25.25v5c0 .138.112.25.25.25h8.5a.25.25 0 0 0 .25-.25v-5a.25.25 0 0 0-.25-.25Zm-2 9.5a.25.25 0 0 0-.25.25v3c0 .138.112.25.25.25h12.5a.25.25 0 0 0 .25-.25v-3a.25.25 0 0 0-.25-.25Z"></path><path d="M7 12.75a.75.75 0 0 1 .75-.75h4.5a.75.75 0 0 1 0 1.5h-4.5a.75.75 0 0 1-.75-.75Zm-4 0a.75.75 0 0 1 .75-.75h.5a.75.75 0 0 1 0 1.5h-.5a.75.75 0 0 1-.75-.75Z"></path>
</svg>
</template>

<template id="comment-icon">
  <svg aria-hidden="true" height="16" viewBox="0 0 16 16" version="1.1" width="16" data-view-component="true" class="octicon octicon-comment">
    <path d="M1 2.75C1 1.784 1.784 1 2.75 1h10.5c.966 0 1.75.784 1.75 1.75v7.5A1.75 1.75 0 0 1 13.25 12H9.06l-2.573 2.573A1.458 1.458 0 0 1 4 13.543V12H2.75A1.75 1.75 0 0 1 1 10.25Zm1.75-.25a.25.25 0 0 0-.25.25v7.5c0 .138.112.25.25.25h2a.75.75 0 0 1 .75.75v2.19l2.72-2.72a.749.749 0 0 1 .53-.22h4.5a.25.25 0 0 0 .25-.25v-7.5a.25.25 0 0 0-.25-.25Z"></path>
</svg>
</template>

<template id="comment-discussion-icon">
  <svg aria-hidden="true" height="16" viewBox="0 0 16 16" version="1.1" width="16" data-view-component="true" class="octicon octicon-comment-discussion">
    <path d="M1.75 1h8.5c.966 0 1.75.784 1.75 1.75v5.5A1.75 1.75 0 0 1 10.25 10H7.061l-2.574 2.573A1.458 1.458 0 0 1 2 11.543V10h-.25A1.75 1.75 0 0 1 0 8.25v-5.5C0 1.784.784 1 1.75 1ZM1.5 2.75v5.5c0 .138.112.25.25.25h1a.75.75 0 0 1 .75.75v2.19l2.72-2.72a.749.749 0 0 1 .53-.22h3.5a.25.25 0 0 0 .25-.25v-5.5a.25.25 0 0 0-.25-.25h-8.5a.25.25 0 0 0-.25.25Zm13 2a.25.25 0 0 0-.25-.25h-.5a.75.75 0 0 1 0-1.5h.5c.966 0 1.75.784 1.75 1.75v5.5A1.75 1.75 0 0 1 14.25 12H14v1.543a1.458 1.458 0 0 1-2.487 1.03L9.22 12.28a.749.749 0 0 1 .326-1.275.749.749 0 0 1 .734.215l2.22 2.22v-2.19a.75.75 0 0 1 .75-.75h1a.25.25 0 0 0 .25-.25Z"></path>
</svg>
</template>

<template id="organization-icon">
  <svg aria-hidden="true" height="16" viewBox="0 0 16 16" version="1.1" width="16" data-view-component="true" class="octicon octicon-organization">
    <path d="M1.75 16A1.75 1.75 0 0 1 0 14.25V1.75C0 .784.784 0 1.75 0h8.5C11.216 0 12 .784 12 1.75v12.5c0 .085-.006.168-.018.25h2.268a.25.25 0 0 0 .25-.25V8.285a.25.25 0 0 0-.111-.208l-1.055-.703a.749.749 0 1 1 .832-1.248l1.055.703c.487.325.779.871.779 1.456v5.965A1.75 1.75 0 0 1 14.25 16h-3.5a.766.766 0 0 1-.197-.026c-.099.017-.2.026-.303.026h-3a.75.75 0 0 1-.75-.75V14h-1v1.25a.75.75 0 0 1-.75.75Zm-.25-1.75c0 .138.112.25.25.25H4v-1.25a.75.75 0 0 1 .75-.75h2.5a.75.75 0 0 1 .75.75v1.25h2.25a.25.25 0 0 0 .25-.25V1.75a.25.25 0 0 0-.25-.25h-8.5a.25.25 0 0 0-.25.25ZM3.75 6h.5a.75.75 0 0 1 0 1.5h-.5a.75.75 0 0 1 0-1.5ZM3 3.75A.75.75 0 0 1 3.75 3h.5a.75.75 0 0 1 0 1.5h-.5A.75.75 0 0 1 3 3.75Zm4 3A.75.75 0 0 1 7.75 6h.5a.75.75 0 0 1 0 1.5h-.5A.75.75 0 0 1 7 6.75ZM7.75 3h.5a.75.75 0 0 1 0 1.5h-.5a.75.75 0 0 1 0-1.5ZM3 9.75A.75.75 0 0 1 3.75 9h.5a.75.75 0 0 1 0 1.5h-.5A.75.75 0 0 1 3 9.75ZM7.75 9h.5a.75.75 0 0 1 0 1.5h-.5a.75.75 0 0 1 0-1.5Z"></path>
</svg>
</template>

<template id="rocket-icon">
  <svg aria-hidden="true" height="16" viewBox="0 0 16 16" version="1.1" width="16" data-view-component="true" class="octicon octicon-rocket">
    <path d="M14.064 0h.186C15.216 0 16 .784 16 1.75v.186a8.752 8.752 0 0 1-2.564 6.186l-.458.459c-.314.314-.641.616-.979.904v3.207c0 .608-.315 1.172-.833 1.49l-2.774 1.707a.749.749 0 0 1-1.11-.418l-.954-3.102a1.214 1.214 0 0 1-.145-.125L3.754 9.816a1.218 1.218 0 0 1-.124-.145L.528 8.717a.749.749 0 0 1-.418-1.11l1.71-2.774A1.748 1.748 0 0 1 3.31 4h3.204c.288-.338.59-.665.904-.979l.459-.458A8.749 8.749 0 0 1 14.064 0ZM8.938 3.623h-.002l-.458.458c-.76.76-1.437 1.598-2.02 2.5l-1.5 2.317 2.143 2.143 2.317-1.5c.902-.583 1.74-1.26 2.499-2.02l.459-.458a7.25 7.25 0 0 0 2.123-5.127V1.75a.25.25 0 0 0-.25-.25h-.186a7.249 7.249 0 0 0-5.125 2.123ZM3.56 14.56c-.732.732-2.334 1.045-3.005 1.148a.234.234 0 0 1-.201-.064.234.234 0 0 1-.064-.201c.103-.671.416-2.273 1.15-3.003a1.502 1.502 0 1 1 2.12 2.12Zm6.94-3.935c-.088.06-.177.118-.266.175l-2.35 1.521.548 1.783 1.949-1.2a.25.25 0 0 0 .119-.213ZM3.678 8.116 5.2 5.766c.058-.09.117-.178.176-.266H3.309a.25.25 0 0 0-.213.119l-1.2 1.95ZM12 5a1 1 0 1 1-2 0 1 1 0 0 1 2 0Z"></path>
</svg>
</template>

<template id="shield-check-icon">
  <svg aria-hidden="true" height="16" viewBox="0 0 16 16" version="1.1" width="16" data-view-component="true" class="octicon octicon-shield-check">
    <path d="m8.533.133 5.25 1.68A1.75 1.75 0 0 1 15 3.48V7c0 1.566-.32 3.182-1.303 4.682-.983 1.498-2.585 2.813-5.032 3.855a1.697 1.697 0 0 1-1.33 0c-2.447-1.042-4.049-2.357-5.032-3.855C1.32 10.182 1 8.566 1 7V3.48a1.75 1.75 0 0 1 1.217-1.667l5.25-1.68a1.748 1.748 0 0 1 1.066 0Zm-.61 1.429.001.001-5.25 1.68a.251.251 0 0 0-.174.237V7c0 1.36.275 2.666 1.057 3.859.784 1.194 2.121 2.342 4.366 3.298a.196.196 0 0 0 .154 0c2.245-.957 3.582-2.103 4.366-3.297C13.225 9.666 13.5 8.358 13.5 7V3.48a.25.25 0 0 0-.174-.238l-5.25-1.68a.25.25 0 0 0-.153 0ZM11.28 6.28l-3.5 3.5a.75.75 0 0 1-1.06 0l-1.5-1.5a.749.749 0 0 1 .326-1.275.749.749 0 0 1 .734.215l.97.97 2.97-2.97a.751.751 0 0 1 1.042.018.751.751 0 0 1 .018 1.042Z"></path>
</svg>
</template>

<template id="heart-icon">
  <svg aria-hidden="true" height="16" viewBox="0 0 16 16" version="1.1" width="16" data-view-component="true" class="octicon octicon-heart">
    <path d="m8 14.25.345.666a.75.75 0 0 1-.69 0l-.008-.004-.018-.01a7.152 7.152 0 0 1-.31-.17 22.055 22.055 0 0 1-3.434-2.414C2.045 10.731 0 8.35 0 5.5 0 2.836 2.086 1 4.25 1 5.797 1 7.153 1.802 8 3.02 8.847 1.802 10.203 1 11.75 1 13.914 1 16 2.836 16 5.5c0 2.85-2.045 5.231-3.885 6.818a22.066 22.066 0 0 1-3.744 2.584l-.018.01-.006.003h-.002ZM4.25 2.5c-1.336 0-2.75 1.164-2.75 3 0 2.15 1.58 4.144 3.365 5.682A20.58 20.58 0 0 0 8 13.393a20.58 20.58 0 0 0 3.135-2.211C12.92 9.644 14.5 7.65 14.5 5.5c0-1.836-1.414-3-2.75-3-1.373 0-2.609.986-3.029 2.456a.749.749 0 0 1-1.442 0C6.859 3.486 5.623 2.5 4.25 2.5Z"></path>
</svg>
</template>

<template id="server-icon">
  <svg aria-hidden="true" height="16" viewBox="0 0 16 16" version="1.1" width="16" data-view-component="true" class="octicon octicon-server">
    <path d="M1.75 1h12.5c.966 0 1.75.784 1.75 1.75v4c0 .372-.116.717-.314 1 .198.283.314.628.314 1v4a1.75 1.75 0 0 1-1.75 1.75H1.75A1.75 1.75 0 0 1 0 12.75v-4c0-.358.109-.707.314-1a1.739 1.739 0 0 1-.314-1v-4C0 1.784.784 1 1.75 1ZM1.5 2.75v4c0 .138.112.25.25.25h12.5a.25.25 0 0 0 .25-.25v-4a.25.25 0 0 0-.25-.25H1.75a.25.25 0 0 0-.25.25Zm.25 5.75a.25.25 0 0 0-.25.25v4c0 .138.112.25.25.25h12.5a.25.25 0 0 0 .25-.25v-4a.25.25 0 0 0-.25-.25ZM7 4.75A.75.75 0 0 1 7.75 4h4.5a.75.75 0 0 1 0 1.5h-4.5A.75.75 0 0 1 7 4.75ZM7.75 10h4.5a.75.75 0 0 1 0 1.5h-4.5a.75.75 0 0 1 0-1.5ZM3 4.75A.75.75 0 0 1 3.75 4h.5a.75.75 0 0 1 0 1.5h-.5A.75.75 0 0 1 3 4.75ZM3.75 10h.5a.75.75 0 0 1 0 1.5h-.5a.75.75 0 0 1 0-1.5Z"></path>
</svg>
</template>

<template id="globe-icon">
  <svg aria-hidden="true" height="16" viewBox="0 0 16 16" version="1.1" width="16" data-view-component="true" class="octicon octicon-globe">
    <path d="M8 0a8 8 0 1 1 0 16A8 8 0 0 1 8 0ZM5.78 8.75a9.64 9.64 0 0 0 1.363 4.177c.255.426.542.832.857 1.215.245-.296.551-.705.857-1.215A9.64 9.64 0 0 0 10.22 8.75Zm4.44-1.5a9.64 9.64 0 0 0-1.363-4.177c-.307-.51-.612-.919-.857-1.215a9.927 9.927 0 0 0-.857 1.215A9.64 9.64 0 0 0 5.78 7.25Zm-5.944 1.5H1.543a6.507 6.507 0 0 0 4.666 5.5c-.123-.181-.24-.365-.352-.552-.715-1.192-1.437-2.874-1.581-4.948Zm-2.733-1.5h2.733c.144-2.074.866-3.756 1.58-4.948.12-.197.237-.381.353-.552a6.507 6.507 0 0 0-4.666 5.5Zm10.181 1.5c-.144 2.074-.866 3.756-1.58 4.948-.12.197-.237.381-.353.552a6.507 6.507 0 0 0 4.666-5.5Zm2.733-1.5a6.507 6.507 0 0 0-4.666-5.5c.123.181.24.365.353.552.714 1.192 1.436 2.874 1.58 4.948Z"></path>
</svg>
</template>

<template id="issue-opened-icon">
  <svg aria-hidden="true" height="16" viewBox="0 0 16 16" version="1.1" width="16" data-view-component="true" class="octicon octicon-issue-opened">
    <path d="M8 9.5a1.5 1.5 0 1 0 0-3 1.5 1.5 0 0 0 0 3Z"></path><path d="M8 0a8 8 0 1 1 0 16A8 8 0 0 1 8 0ZM1.5 8a6.5 6.5 0 1 0 13 0 6.5 6.5 0 0 0-13 0Z"></path>
</svg>
</template>

<template id="device-mobile-icon">
  <svg aria-hidden="true" height="16" viewBox="0 0 16 16" version="1.1" width="16" data-view-component="true" class="octicon octicon-device-mobile">
    <path d="M3.75 0h8.5C13.216 0 14 .784 14 1.75v12.5A1.75 1.75 0 0 1 12.25 16h-8.5A1.75 1.75 0 0 1 2 14.25V1.75C2 .784 2.784 0 3.75 0ZM3.5 1.75v12.5c0 .138.112.25.25.25h8.5a.25.25 0 0 0 .25-.25V1.75a.25.25 0 0 0-.25-.25h-8.5a.25.25 0 0 0-.25.25ZM8 13a1 1 0 1 1 0-2 1 1 0 0 1 0 2Z"></path>
</svg>
</template>

<template id="package-icon">
  <svg aria-hidden="true" height="16" viewBox="0 0 16 16" version="1.1" width="16" data-view-component="true" class="octicon octicon-package">
    <path d="m8.878.392 5.25 3.045c.54.314.872.89.872 1.514v6.098a1.75 1.75 0 0 1-.872 1.514l-5.25 3.045a1.75 1.75 0 0 1-1.756 0l-5.25-3.045A1.75 1.75 0 0 1 1 11.049V4.951c0-.624.332-1.201.872-1.514L7.122.392a1.75 1.75 0 0 1 1.756 0ZM7.875 1.69l-4.63 2.685L8 7.133l4.755-2.758-4.63-2.685a.248.248 0 0 0-.25 0ZM2.5 5.677v5.372c0 .09.047.171.125.216l4.625 2.683V8.432Zm6.25 8.271 4.625-2.683a.25.25 0 0 0 .125-.216V5.677L8.75 8.432Z"></path>
</svg>
</template>

<template id="credit-card-icon">
  <svg aria-hidden="true" height="16" viewBox="0 0 16 16" version="1.1" width="16" data-view-component="true" class="octicon octicon-credit-card">
    <path d="M10.75 9a.75.75 0 0 0 0 1.5h1.5a.75.75 0 0 0 0-1.5h-1.5Z"></path><path d="M0 3.75C0 2.784.784 2 1.75 2h12.5c.966 0 1.75.784 1.75 1.75v8.5A1.75 1.75 0 0 1 14.25 14H1.75A1.75 1.75 0 0 1 0 12.25ZM14.5 6.5h-13v5.75c0 .138.112.25.25.25h12.5a.25.25 0 0 0 .25-.25Zm0-2.75a.25.25 0 0 0-.25-.25H1.75a.25.25 0 0 0-.25.25V5h13Z"></path>
</svg>
</template>

<template id="play-icon">
  <svg aria-hidden="true" height="16" viewBox="0 0 16 16" version="1.1" width="16" data-view-component="true" class="octicon octicon-play">
    <path d="M8 0a8 8 0 1 1 0 16A8 8 0 0 1 8 0ZM1.5 8a6.5 6.5 0 1 0 13 0 6.5 6.5 0 0 0-13 0Zm4.879-2.773 4.264 2.559a.25.25 0 0 1 0 .428l-4.264 2.559A.25.25 0 0 1 6 10.559V5.442a.25.25 0 0 1 .379-.215Z"></path>
</svg>
</template>

<template id="gift-icon">
  <svg aria-hidden="true" height="16" viewBox="0 0 16 16" version="1.1" width="16" data-view-component="true" class="octicon octicon-gift">
    <path d="M2 2.75A2.75 2.75 0 0 1 4.75 0c.983 0 1.873.42 2.57 1.232.268.318.497.668.68 1.042.183-.375.411-.725.68-1.044C9.376.42 10.266 0 11.25 0a2.75 2.75 0 0 1 2.45 4h.55c.966 0 1.75.784 1.75 1.75v2c0 .698-.409 1.301-1 1.582v4.918A1.75 1.75 0 0 1 13.25 16H2.75A1.75 1.75 0 0 1 1 14.25V9.332C.409 9.05 0 8.448 0 7.75v-2C0 4.784.784 4 1.75 4h.55c-.192-.375-.3-.8-.3-1.25ZM7.25 9.5H2.5v4.75c0 .138.112.25.25.25h4.5Zm1.5 0v5h4.5a.25.25 0 0 0 .25-.25V9.5Zm0-4V8h5.5a.25.25 0 0 0 .25-.25v-2a.25.25 0 0 0-.25-.25Zm-7 0a.25.25 0 0 0-.25.25v2c0 .138.112.25.25.25h5.5V5.5h-5.5Zm3-4a1.25 1.25 0 0 0 0 2.5h2.309c-.233-.818-.542-1.401-.878-1.793-.43-.502-.915-.707-1.431-.707ZM8.941 4h2.309a1.25 1.25 0 0 0 0-2.5c-.516 0-1 .205-1.43.707-.337.392-.646.975-.879 1.793Z"></path>
</svg>
</template>

<template id="code-square-icon">
  <svg aria-hidden="true" height="16" viewBox="0 0 16 16" version="1.1" width="16" data-view-component="true" class="octicon octicon-code-square">
    <path d="M0 1.75C0 .784.784 0 1.75 0h12.5C15.216 0 16 .784 16 1.75v12.5A1.75 1.75 0 0 1 14.25 16H1.75A1.75 1.75 0 0 1 0 14.25Zm1.75-.25a.25.25 0 0 0-.25.25v12.5c0 .138.112.25.25.25h12.5a.25.25 0 0 0 .25-.25V1.75a.25.25 0 0 0-.25-.25Zm7.47 3.97a.75.75 0 0 1 1.06 0l2 2a.75.75 0 0 1 0 1.06l-2 2a.749.749 0 0 1-1.275-.326.749.749 0 0 1 .215-.734L10.69 8 9.22 6.53a.75.75 0 0 1 0-1.06ZM6.78 6.53 5.31 8l1.47 1.47a.749.749 0 0 1-.326 1.275.749.749 0 0 1-.734-.215l-2-2a.75.75 0 0 1 0-1.06l2-2a.751.751 0 0 1 1.042.018.751.751 0 0 1 .018 1.042Z"></path>
</svg>
</template>

<template id="device-desktop-icon">
  <svg aria-hidden="true" height="16" viewBox="0 0 16 16" version="1.1" width="16" data-view-component="true" class="octicon octicon-device-desktop">
    <path d="M14.25 1c.966 0 1.75.784 1.75 1.75v7.5A1.75 1.75 0 0 1 14.25 12h-3.727c.099 1.041.52 1.872 1.292 2.757A.752.752 0 0 1 11.25 16h-6.5a.75.75 0 0 1-.565-1.243c.772-.885 1.192-1.716 1.292-2.757H1.75A1.75 1.75 0 0 1 0 10.25v-7.5C0 1.784.784 1 1.75 1ZM1.75 2.5a.25.25 0 0 0-.25.25v7.5c0 .138.112.25.25.25h12.5a.25.25 0 0 0 .25-.25v-7.5a.25.25 0 0 0-.25-.25ZM9.018 12H6.982a5.72 5.72 0 0 1-.765 2.5h3.566a5.72 5.72 0 0 1-.765-2.5Z"></path>
</svg>
</template>

        <div class="position-relative">
                <ul
                  role="listbox"
                  class="ActionListWrap QueryBuilder-ListWrap"
                  aria-label="Suggestions"
                  data-action="
                    combobox-commit:query-builder#comboboxCommit
                    mousedown:query-builder#resultsMousedown
                  "
                  data-target="query-builder.resultsList"
                  data-persist-list=false
                  id="query-builder-test-results"
                ></ul>
        </div>
      <div class="FormControl-inlineValidation" id="validation-baa7d29d-da9f-4a13-9ab7-70b2727e0f00" hidden="hidden">
        <span class="FormControl-inlineValidation--visual">
          <svg aria-hidden="true" height="12" viewBox="0 0 12 12" version="1.1" width="12" data-view-component="true" class="octicon octicon-alert-fill">
    <path d="M4.855.708c.5-.896 1.79-.896 2.29 0l4.675 8.351a1.312 1.312 0 0 1-1.146 1.954H1.33A1.313 1.313 0 0 1 .183 9.058ZM7 7V3H5v4Zm-1 3a1 1 0 1 0 0-2 1 1 0 0 0 0 2Z"></path>
</svg>
        </span>
        <span></span>
</div>    </div>
    <div data-target="query-builder.screenReaderFeedback" aria-live="polite" aria-atomic="true" class="sr-only"></div>
</query-builder></form>
          <div class="d-flex flex-row color-fg-muted px-3 text-small color-bg-default search-feedback-prompt">
            <a target="_blank" href="https://docs.github.com/search-github/github-code-search/understanding-github-code-search-syntax" data-view-component="true" class="Link color-fg-accent text-normal ml-2">
              Search syntax tips
</a>            <div class="d-flex flex-1"></div>
          </div>
        </div>
</div>

    </div>
</modal-dialog></div>
  </div>
  <div data-action="click:qbsearch-input#retract" class="dark-backdrop position-fixed" hidden data-target="qbsearch-input.darkBackdrop"></div>
  <div class="color-fg-default">
    
<dialog-helper>
  <dialog data-target="qbsearch-input.feedbackDialog" data-action="close:qbsearch-input#handleDialogClose cancel:qbsearch-input#handleDialogClose" id="feedback-dialog" aria-modal="true" aria-labelledby="feedback-dialog-title" aria-describedby="feedback-dialog-description" data-view-component="true" class="Overlay Overlay-whenNarrow Overlay--size-medium Overlay--motion-scaleFade">
    <div data-view-component="true" class="Overlay-header">
  <div class="Overlay-headerContentWrap">
    <div class="Overlay-titleWrap">
      <h1 class="Overlay-title " id="feedback-dialog-title">
        Provide feedback
      </h1>
        
    </div>
    <div class="Overlay-actionWrap">
      <button data-close-dialog-id="feedback-dialog" aria-label="Close" type="button" data-view-component="true" class="close-button Overlay-closeButton"><svg aria-hidden="true" height="16" viewBox="0 0 16 16" version="1.1" width="16" data-view-component="true" class="octicon octicon-x">
    <path d="M3.72 3.72a.75.75 0 0 1 1.06 0L8 6.94l3.22-3.22a.749.749 0 0 1 1.275.326.749.749 0 0 1-.215.734L9.06 8l3.22 3.22a.749.749 0 0 1-.326 1.275.749.749 0 0 1-.734-.215L8 9.06l-3.22 3.22a.751.751 0 0 1-1.042-.018.751.751 0 0 1-.018-1.042L6.94 8 3.72 4.78a.75.75 0 0 1 0-1.06Z"></path>
</svg></button>
    </div>
  </div>
  
</div>
      <scrollable-region data-labelled-by="feedback-dialog-title">
        <div data-view-component="true" class="Overlay-body">        <!-- '"` --><!-- </textarea></xmp> --></option></form><form id="code-search-feedback-form" data-turbo="false" action="/search/feedback" accept-charset="UTF-8" method="post"><input type="hidden" data-csrf="true" name="authenticity_token" value="x/Yc7DElgB9maGuOaG/uV5MdesDShBCCikn+72grgXTy899KboXIKZ6Tj1HphDL76KszqA2qZpaIzW/V8zHZQw==" />
          <p>We read every piece of feedback, and take your input very seriously.</p>
          <textarea name="feedback" class="form-control width-full mb-2" style="height: 120px" id="feedback"></textarea>
          <input name="include_email" id="include_email" aria-label="Include my email address so I can be contacted" class="form-control mr-2" type="checkbox">
          <label for="include_email" style="font-weight: normal">Include my email address so I can be contacted</label>
</form></div>
      </scrollable-region>
      <div data-view-component="true" class="Overlay-footer Overlay-footer--alignEnd">          <button data-close-dialog-id="feedback-dialog" type="button" data-view-component="true" class="btn">    Cancel
</button>
          <button form="code-search-feedback-form" data-action="click:qbsearch-input#submitFeedback" type="submit" data-view-component="true" class="btn-primary btn">    Submit feedback
</button>
</div>
</dialog></dialog-helper>

    <custom-scopes data-target="qbsearch-input.customScopesManager">
    
<dialog-helper>
  <dialog data-target="custom-scopes.customScopesModalDialog" data-action="close:qbsearch-input#handleDialogClose cancel:qbsearch-input#handleDialogClose" id="custom-scopes-dialog" aria-modal="true" aria-labelledby="custom-scopes-dialog-title" aria-describedby="custom-scopes-dialog-description" data-view-component="true" class="Overlay Overlay-whenNarrow Overlay--size-medium Overlay--motion-scaleFade">
    <div data-view-component="true" class="Overlay-header Overlay-header--divided">
  <div class="Overlay-headerContentWrap">
    <div class="Overlay-titleWrap">
      <h1 class="Overlay-title " id="custom-scopes-dialog-title">
        Saved searches
      </h1>
        <h2 id="custom-scopes-dialog-description" class="Overlay-description">Use saved searches to filter your results more quickly</h2>
    </div>
    <div class="Overlay-actionWrap">
      <button data-close-dialog-id="custom-scopes-dialog" aria-label="Close" type="button" data-view-component="true" class="close-button Overlay-closeButton"><svg aria-hidden="true" height="16" viewBox="0 0 16 16" version="1.1" width="16" data-view-component="true" class="octicon octicon-x">
    <path d="M3.72 3.72a.75.75 0 0 1 1.06 0L8 6.94l3.22-3.22a.749.749 0 0 1 1.275.326.749.749 0 0 1-.215.734L9.06 8l3.22 3.22a.749.749 0 0 1-.326 1.275.749.749 0 0 1-.734-.215L8 9.06l-3.22 3.22a.751.751 0 0 1-1.042-.018.751.751 0 0 1-.018-1.042L6.94 8 3.72 4.78a.75.75 0 0 1 0-1.06Z"></path>
</svg></button>
    </div>
  </div>
  
</div>
      <scrollable-region data-labelled-by="custom-scopes-dialog-title">
        <div data-view-component="true" class="Overlay-body">        <div data-target="custom-scopes.customScopesModalDialogFlash"></div>

        <div hidden class="create-custom-scope-form" data-target="custom-scopes.createCustomScopeForm">
        <!-- '"` --><!-- </textarea></xmp> --></option></form><form id="custom-scopes-dialog-form" data-turbo="false" action="/search/custom_scopes" accept-charset="UTF-8" method="post"><input type="hidden" data-csrf="true" name="authenticity_token" value="trgtaCrKzbsFtqCgh0M3MKdFEIZohQ9tBhlp9RrcrANjwe/F58dfPynD+p28BI7umZg2BNVQKygw+NWjG6I0Dw==" />
          <div data-target="custom-scopes.customScopesModalDialogFlash"></div>

          <input type="hidden" id="custom_scope_id" name="custom_scope_id" data-target="custom-scopes.customScopesIdField">

          <div class="form-group">
            <label for="custom_scope_name">Name</label>
            <auto-check src="/search/custom_scopes/check_name" required>
              <input
                type="text"
                name="custom_scope_name"
                id="custom_scope_name"
                data-target="custom-scopes.customScopesNameField"
                class="form-control"
                autocomplete="off"
                placeholder="github-ruby"
                required
                maxlength="50">
              <input type="hidden" data-csrf="true" value="VR+tYyhCWc227KCBevg7ZZm45Uc0RlZJnMuyAdiPSSn8RClmTI3JDnVQ0lyjdGvGPT0M3FX3xI/2SoTwrw/NnQ==" />
            </auto-check>
          </div>

          <div class="form-group">
            <label for="custom_scope_query">Query</label>
            <input
              type="text"
              name="custom_scope_query"
              id="custom_scope_query"
              data-target="custom-scopes.customScopesQueryField"
              class="form-control"
              autocomplete="off"
              placeholder="(repo:mona/a OR repo:mona/b) AND lang:python"
              required
              maxlength="500">
          </div>

          <p class="text-small color-fg-muted">
            To see all available qualifiers, see our <a class="Link--inTextBlock" href="https://docs.github.com/search-github/github-code-search/understanding-github-code-search-syntax">documentation</a>.
          </p>
</form>        </div>

        <div data-target="custom-scopes.manageCustomScopesForm">
          <div data-target="custom-scopes.list"></div>
        </div>

</div>
      </scrollable-region>
      <div data-view-component="true" class="Overlay-footer Overlay-footer--alignEnd Overlay-footer--divided">          <button data-action="click:custom-scopes#customScopesCancel" type="button" data-view-component="true" class="btn">    Cancel
</button>
          <button form="custom-scopes-dialog-form" data-action="click:custom-scopes#customScopesSubmit" data-target="custom-scopes.customScopesSubmitButton" type="submit" data-view-component="true" class="btn-primary btn">    Create saved search
</button>
</div>
</dialog></dialog-helper>
    </custom-scopes>
  </div>
</qbsearch-input><input type="hidden" data-csrf="true" class="js-data-jump-to-suggestions-path-csrf" value="6a+fxCiwvh6ybnF4gjfhp+NKkOdhVI+fvnS3b6/hJPfct6pHjYnWHP57697NxIqRmyNASP6ddYvvH9u0ubKSCQ==" />


          <div class="position-relative mr-lg-3 d-lg-inline-block">
            <a href="/login?return_to=https%3A%2F%2Fgithub.com%2Fshantanu1109%2FCoursera-DeepLearning.AI-AI-FOR-MEDICINE-SPECIALIZATION%2Fblob%2Fmain%2FCourse-2-AI%2520for%2520Medical%2520Prognosis%2FCourse-2-Week-3%2FCourse-2-Week-3-Practice-Labs%2FCourse-2-Week-3-Practice-Labs-1-Survival-Estimates-that-Vary-with-Time.ipynb"
              class="HeaderMenu-link HeaderMenu-link--sign-in flex-shrink-0 no-underline d-block d-lg-inline-block border border-lg-0 rounded rounded-lg-0 p-2 p-lg-0"
              data-hydro-click="{&quot;event_type&quot;:&quot;authentication.click&quot;,&quot;payload&quot;:{&quot;location_in_page&quot;:&quot;site header menu&quot;,&quot;repository_id&quot;:null,&quot;auth_type&quot;:&quot;SIGN_UP&quot;,&quot;originating_url&quot;:&quot;https://github.com/shantanu1109/Coursera-DeepLearning.AI-AI-FOR-MEDICINE-SPECIALIZATION/blob/main/Course-2-AI%20for%20Medical%20Prognosis/Course-2-Week-3/Course-2-Week-3-Practice-Labs/Course-2-Week-3-Practice-Labs-1-Survival-Estimates-that-Vary-with-Time.ipynb&quot;,&quot;user_id&quot;:null}}" data-hydro-click-hmac="e7be4294528ba0557dddea842fae958ca652b632c1fa2c113b0ef5bc3315d5d1"
              data-ga-click="(Logged out) Header, clicked Sign in, text:sign-in">
              Sign in
            </a>
          </div>

            <a href="/signup?ref_cta=Sign+up&amp;ref_loc=header+logged+out&amp;ref_page=%2F%3Cuser-name%3E%2F%3Crepo-name%3E%2Fblob%2Fshow&amp;source=header-repo&amp;source_repo=shantanu1109%2FCoursera-DeepLearning.AI-AI-FOR-MEDICINE-SPECIALIZATION"
              class="HeaderMenu-link HeaderMenu-link--sign-up flex-shrink-0 d-none d-lg-inline-block no-underline border color-border-default rounded px-2 py-1"
              data-hydro-click="{&quot;event_type&quot;:&quot;authentication.click&quot;,&quot;payload&quot;:{&quot;location_in_page&quot;:&quot;site header menu&quot;,&quot;repository_id&quot;:null,&quot;auth_type&quot;:&quot;SIGN_UP&quot;,&quot;originating_url&quot;:&quot;https://github.com/shantanu1109/Coursera-DeepLearning.AI-AI-FOR-MEDICINE-SPECIALIZATION/blob/main/Course-2-AI%20for%20Medical%20Prognosis/Course-2-Week-3/Course-2-Week-3-Practice-Labs/Course-2-Week-3-Practice-Labs-1-Survival-Estimates-that-Vary-with-Time.ipynb&quot;,&quot;user_id&quot;:null}}" data-hydro-click-hmac="e7be4294528ba0557dddea842fae958ca652b632c1fa2c113b0ef5bc3315d5d1"
              data-analytics-event="{&quot;category&quot;:&quot;Sign up&quot;,&quot;action&quot;:&quot;click to sign up for account&quot;,&quot;label&quot;:&quot;ref_page:/&lt;user-name&gt;/&lt;repo-name&gt;/blob/show;ref_cta:Sign up;ref_loc:header logged out&quot;}"
            >
              Sign up
            </a>
        </div>
      </div>
    </div>
  </div>
</header>

      <div hidden="hidden" data-view-component="true" class="js-stale-session-flash stale-session-flash flash flash-warn flash-full mb-3">
  
        <svg aria-hidden="true" height="16" viewBox="0 0 16 16" version="1.1" width="16" data-view-component="true" class="octicon octicon-alert">
    <path d="M6.457 1.047c.659-1.234 2.427-1.234 3.086 0l6.082 11.378A1.75 1.75 0 0 1 14.082 15H1.918a1.75 1.75 0 0 1-1.543-2.575Zm1.763.707a.25.25 0 0 0-.44 0L1.698 13.132a.25.25 0 0 0 .22.368h12.164a.25.25 0 0 0 .22-.368Zm.53 3.996v2.5a.75.75 0 0 1-1.5 0v-2.5a.75.75 0 0 1 1.5 0ZM9 11a1 1 0 1 1-2 0 1 1 0 0 1 2 0Z"></path>
</svg>
        <span class="js-stale-session-flash-signed-in" hidden>You signed in with another tab or window. <a class="Link--inTextBlock" href="">Reload</a> to refresh your session.</span>
        <span class="js-stale-session-flash-signed-out" hidden>You signed out in another tab or window. <a class="Link--inTextBlock" href="">Reload</a> to refresh your session.</span>
        <span class="js-stale-session-flash-switched" hidden>You switched accounts on another tab or window. <a class="Link--inTextBlock" href="">Reload</a> to refresh your session.</span>

    <button id="icon-button-eef7a7da-acab-4ee5-9713-a0ca800923df" aria-labelledby="tooltip-276cc116-6740-42f4-84ba-d790da90135b" type="button" data-view-component="true" class="Button Button--iconOnly Button--invisible Button--medium flash-close js-flash-close">  <svg aria-hidden="true" height="16" viewBox="0 0 16 16" version="1.1" width="16" data-view-component="true" class="octicon octicon-x Button-visual">
    <path d="M3.72 3.72a.75.75 0 0 1 1.06 0L8 6.94l3.22-3.22a.749.749 0 0 1 1.275.326.749.749 0 0 1-.215.734L9.06 8l3.22 3.22a.749.749 0 0 1-.326 1.275.749.749 0 0 1-.734-.215L8 9.06l-3.22 3.22a.751.751 0 0 1-1.042-.018.751.751 0 0 1-.018-1.042L6.94 8 3.72 4.78a.75.75 0 0 1 0-1.06Z"></path>
</svg>
</button><tool-tip id="tooltip-276cc116-6740-42f4-84ba-d790da90135b" for="icon-button-eef7a7da-acab-4ee5-9713-a0ca800923df" popover="manual" data-direction="s" data-type="label" data-view-component="true" class="sr-only position-absolute">Dismiss alert</tool-tip>


  
</div>
    </div>

  <div id="start-of-content" class="show-on-focus"></div>








    <div id="js-flash-container" class="flash-container" data-turbo-replace>





  <template class="js-flash-template">
    
<div class="flash flash-full   {{ className }}">
  <div >
    <button autofocus class="flash-close js-flash-close" type="button" aria-label="Dismiss this message">
      <svg aria-hidden="true" height="16" viewBox="0 0 16 16" version="1.1" width="16" data-view-component="true" class="octicon octicon-x">
    <path d="M3.72 3.72a.75.75 0 0 1 1.06 0L8 6.94l3.22-3.22a.749.749 0 0 1 1.275.326.749.749 0 0 1-.215.734L9.06 8l3.22 3.22a.749.749 0 0 1-.326 1.275.749.749 0 0 1-.734-.215L8 9.06l-3.22 3.22a.751.751 0 0 1-1.042-.018.751.751 0 0 1-.018-1.042L6.94 8 3.72 4.78a.75.75 0 0 1 0-1.06Z"></path>
</svg>
    </button>
    <div aria-atomic="true" role="alert" class="js-flash-alert">
      
      <div>{{ message }}</div>

    </div>
  </div>
</div>
  </template>
</div>


    
    <include-fragment class="js-notification-shelf-include-fragment" data-base-src="https://github.com/notifications/beta/shelf"></include-fragment>





  <div
    class="application-main "
    data-commit-hovercards-enabled
    data-discussion-hovercards-enabled
    data-issue-and-pr-hovercards-enabled
  >
        <div itemscope itemtype="http://schema.org/SoftwareSourceCode" class="">
    <main id="js-repo-pjax-container" >
      
      






  
  <div id="repository-container-header"  class="pt-3 hide-full-screen" style="background-color: var(--page-header-bgColor, var(--color-page-header-bg));" data-turbo-replace>

      <div class="d-flex flex-wrap flex-justify-end mb-3  px-3 px-md-4 px-lg-5" style="gap: 1rem;">

        <div class="flex-auto min-width-0 width-fit mr-3">
            
  <div class=" d-flex flex-wrap flex-items-center wb-break-word f3 text-normal">
      <svg aria-hidden="true" height="16" viewBox="0 0 16 16" version="1.1" width="16" data-view-component="true" class="octicon octicon-repo color-fg-muted mr-2">
    <path d="M2 2.5A2.5 2.5 0 0 1 4.5 0h8.75a.75.75 0 0 1 .75.75v12.5a.75.75 0 0 1-.75.75h-2.5a.75.75 0 0 1 0-1.5h1.75v-2h-8a1 1 0 0 0-.714 1.7.75.75 0 1 1-1.072 1.05A2.495 2.495 0 0 1 2 11.5Zm10.5-1h-8a1 1 0 0 0-1 1v6.708A2.486 2.486 0 0 1 4.5 9h8ZM5 12.25a.25.25 0 0 1 .25-.25h3.5a.25.25 0 0 1 .25.25v3.25a.25.25 0 0 1-.4.2l-1.45-1.087a.249.249 0 0 0-.3 0L5.4 15.7a.25.25 0 0 1-.4-.2Z"></path>
</svg>
    
    <span class="author flex-self-stretch" itemprop="author">
      <a class="url fn" rel="author" data-hovercard-type="user" data-hovercard-url="/users/shantanu1109/hovercard" data-octo-click="hovercard-link-click" data-octo-dimensions="link_type:self" href="/shantanu1109">
        shantanu1109
</a>    </span>
    <span class="mx-1 flex-self-stretch color-fg-muted">/</span>
    <strong itemprop="name" class="mr-2 flex-self-stretch">
      <a data-pjax="#repo-content-pjax-container" data-turbo-frame="repo-content-turbo-frame" href="/shantanu1109/Coursera-DeepLearning.AI-AI-FOR-MEDICINE-SPECIALIZATION">Coursera-DeepLearning.AI-AI-FOR-MEDICINE-SPECIALIZATION</a>
    </strong>

    <span></span><span class="Label Label--secondary v-align-middle mr-1">Public</span>
  </div>


        </div>

        <div id="repository-details-container" data-turbo-replace>
            <ul class="pagehead-actions flex-shrink-0 d-none d-md-inline" style="padding: 2px 0;">
    
      

  <li>
            <a href="/login?return_to=%2Fshantanu1109%2FCoursera-DeepLearning.AI-AI-FOR-MEDICINE-SPECIALIZATION" rel="nofollow" id="repository-details-watch-button" data-hydro-click="{&quot;event_type&quot;:&quot;authentication.click&quot;,&quot;payload&quot;:{&quot;location_in_page&quot;:&quot;notification subscription menu watch&quot;,&quot;repository_id&quot;:null,&quot;auth_type&quot;:&quot;LOG_IN&quot;,&quot;originating_url&quot;:&quot;https://github.com/shantanu1109/Coursera-DeepLearning.AI-AI-FOR-MEDICINE-SPECIALIZATION/blob/main/Course-2-AI%20for%20Medical%20Prognosis/Course-2-Week-3/Course-2-Week-3-Practice-Labs/Course-2-Week-3-Practice-Labs-1-Survival-Estimates-that-Vary-with-Time.ipynb&quot;,&quot;user_id&quot;:null}}" data-hydro-click-hmac="2858eb259ed5c54ccfb16070bfa0e8ed24c5a76111b9a5b2144e461bf10377f6" aria-label="You must be signed in to change notification settings" data-view-component="true" class="btn-sm btn">    <svg aria-hidden="true" height="16" viewBox="0 0 16 16" version="1.1" width="16" data-view-component="true" class="octicon octicon-bell mr-2">
    <path d="M8 16a2 2 0 0 0 1.985-1.75c.017-.137-.097-.25-.235-.25h-3.5c-.138 0-.252.113-.235.25A2 2 0 0 0 8 16ZM3 5a5 5 0 0 1 10 0v2.947c0 .05.015.098.042.139l1.703 2.555A1.519 1.519 0 0 1 13.482 13H2.518a1.516 1.516 0 0 1-1.263-2.36l1.703-2.554A.255.255 0 0 0 3 7.947Zm5-3.5A3.5 3.5 0 0 0 4.5 5v2.947c0 .346-.102.683-.294.97l-1.703 2.556a.017.017 0 0 0-.003.01l.001.006c0 .002.002.004.004.006l.006.004.007.001h10.964l.007-.001.006-.004.004-.006.001-.007a.017.017 0 0 0-.003-.01l-1.703-2.554a1.745 1.745 0 0 1-.294-.97V5A3.5 3.5 0 0 0 8 1.5Z"></path>
</svg>Notifications
</a>    <tool-tip id="tooltip-eb11926f-e6b6-4b91-ba2e-0de95969fca6" for="repository-details-watch-button" popover="manual" data-direction="s" data-type="description" data-view-component="true" class="sr-only position-absolute">You must be signed in to change notification settings</tool-tip>

  </li>

  <li>
          <a icon="repo-forked" id="fork-button" href="/login?return_to=%2Fshantanu1109%2FCoursera-DeepLearning.AI-AI-FOR-MEDICINE-SPECIALIZATION" rel="nofollow" data-hydro-click="{&quot;event_type&quot;:&quot;authentication.click&quot;,&quot;payload&quot;:{&quot;location_in_page&quot;:&quot;repo details fork button&quot;,&quot;repository_id&quot;:645241650,&quot;auth_type&quot;:&quot;LOG_IN&quot;,&quot;originating_url&quot;:&quot;https://github.com/shantanu1109/Coursera-DeepLearning.AI-AI-FOR-MEDICINE-SPECIALIZATION/blob/main/Course-2-AI%20for%20Medical%20Prognosis/Course-2-Week-3/Course-2-Week-3-Practice-Labs/Course-2-Week-3-Practice-Labs-1-Survival-Estimates-that-Vary-with-Time.ipynb&quot;,&quot;user_id&quot;:null}}" data-hydro-click-hmac="42b560a78e059cf678734518a811ee7495d175d434694912a04fb9cb925d9ac6" data-view-component="true" class="btn-sm btn">    <svg aria-hidden="true" height="16" viewBox="0 0 16 16" version="1.1" width="16" data-view-component="true" class="octicon octicon-repo-forked mr-2">
    <path d="M5 5.372v.878c0 .414.336.75.75.75h4.5a.75.75 0 0 0 .75-.75v-.878a2.25 2.25 0 1 1 1.5 0v.878a2.25 2.25 0 0 1-2.25 2.25h-1.5v2.128a2.251 2.251 0 1 1-1.5 0V8.5h-1.5A2.25 2.25 0 0 1 3.5 6.25v-.878a2.25 2.25 0 1 1 1.5 0ZM5 3.25a.75.75 0 1 0-1.5 0 .75.75 0 0 0 1.5 0Zm6.75.75a.75.75 0 1 0 0-1.5.75.75 0 0 0 0 1.5Zm-3 8.75a.75.75 0 1 0-1.5 0 .75.75 0 0 0 1.5 0Z"></path>
</svg>Fork
    <span id="repo-network-counter" data-pjax-replace="true" data-turbo-replace="true" title="0" data-view-component="true" class="Counter">0</span>
</a>
  </li>

  <li>
        <div data-view-component="true" class="BtnGroup d-flex">
        <a href="/login?return_to=%2Fshantanu1109%2FCoursera-DeepLearning.AI-AI-FOR-MEDICINE-SPECIALIZATION" rel="nofollow" data-hydro-click="{&quot;event_type&quot;:&quot;authentication.click&quot;,&quot;payload&quot;:{&quot;location_in_page&quot;:&quot;star button&quot;,&quot;repository_id&quot;:645241650,&quot;auth_type&quot;:&quot;LOG_IN&quot;,&quot;originating_url&quot;:&quot;https://github.com/shantanu1109/Coursera-DeepLearning.AI-AI-FOR-MEDICINE-SPECIALIZATION/blob/main/Course-2-AI%20for%20Medical%20Prognosis/Course-2-Week-3/Course-2-Week-3-Practice-Labs/Course-2-Week-3-Practice-Labs-1-Survival-Estimates-that-Vary-with-Time.ipynb&quot;,&quot;user_id&quot;:null}}" data-hydro-click-hmac="1f09579d7da903b2628976650406a5c6723af26749337d7086643d70c61afc56" aria-label="You must be signed in to star a repository" data-view-component="true" class="tooltipped tooltipped-s btn-sm btn BtnGroup-item">    <svg aria-hidden="true" height="16" viewBox="0 0 16 16" version="1.1" width="16" data-view-component="true" class="octicon octicon-star v-align-text-bottom d-inline-block mr-2">
    <path d="M8 .25a.75.75 0 0 1 .673.418l1.882 3.815 4.21.612a.75.75 0 0 1 .416 1.279l-3.046 2.97.719 4.192a.751.751 0 0 1-1.088.791L8 12.347l-3.766 1.98a.75.75 0 0 1-1.088-.79l.72-4.194L.818 6.374a.75.75 0 0 1 .416-1.28l4.21-.611L7.327.668A.75.75 0 0 1 8 .25Zm0 2.445L6.615 5.5a.75.75 0 0 1-.564.41l-3.097.45 2.24 2.184a.75.75 0 0 1 .216.664l-.528 3.084 2.769-1.456a.75.75 0 0 1 .698 0l2.77 1.456-.53-3.084a.75.75 0 0 1 .216-.664l2.24-2.183-3.096-.45a.75.75 0 0 1-.564-.41L8 2.694Z"></path>
</svg><span data-view-component="true" class="d-inline">
          Star
</span>          <span id="repo-stars-counter-star" aria-label="2 users starred this repository" data-singular-suffix="user starred this repository" data-plural-suffix="users starred this repository" data-turbo-replace="true" title="2" data-view-component="true" class="Counter js-social-count">2</span>
</a>        <button aria-label="You must be signed in to add this repository to a list" type="button" disabled="disabled" data-view-component="true" class="btn-sm btn BtnGroup-item px-2">    <svg aria-hidden="true" height="16" viewBox="0 0 16 16" version="1.1" width="16" data-view-component="true" class="octicon octicon-triangle-down">
    <path d="m4.427 7.427 3.396 3.396a.25.25 0 0 0 .354 0l3.396-3.396A.25.25 0 0 0 11.396 7H4.604a.25.25 0 0 0-.177.427Z"></path>
</svg>
</button></div>
  </li>

    <li>
        

    </li>
</ul>

        </div>
      </div>

        <div id="responsive-meta-container" data-turbo-replace>
</div>


          <nav data-pjax="#js-repo-pjax-container" aria-label="Repository" data-view-component="true" class="js-repo-nav js-sidenav-container-pjax js-responsive-underlinenav overflow-hidden UnderlineNav px-3 px-md-4 px-lg-5">

  <ul data-view-component="true" class="UnderlineNav-body list-style-none">
      <li data-view-component="true" class="d-inline-flex">
  <a id="code-tab" href="/shantanu1109/Coursera-DeepLearning.AI-AI-FOR-MEDICINE-SPECIALIZATION" data-tab-item="i0code-tab" data-selected-links="repo_source repo_downloads repo_commits repo_releases repo_tags repo_branches repo_packages repo_deployments repo_attestations /shantanu1109/Coursera-DeepLearning.AI-AI-FOR-MEDICINE-SPECIALIZATION" data-pjax="#repo-content-pjax-container" data-turbo-frame="repo-content-turbo-frame" data-hotkey="g c" data-analytics-event="{&quot;category&quot;:&quot;Underline navbar&quot;,&quot;action&quot;:&quot;Click tab&quot;,&quot;label&quot;:&quot;Code&quot;,&quot;target&quot;:&quot;UNDERLINE_NAV.TAB&quot;}" aria-current="page" data-view-component="true" class="UnderlineNav-item no-wrap js-responsive-underlinenav-item js-selected-navigation-item selected">
    
              <svg aria-hidden="true" height="16" viewBox="0 0 16 16" version="1.1" width="16" data-view-component="true" class="octicon octicon-code UnderlineNav-octicon d-none d-sm-inline">
    <path d="m11.28 3.22 4.25 4.25a.75.75 0 0 1 0 1.06l-4.25 4.25a.749.749 0 0 1-1.275-.326.749.749 0 0 1 .215-.734L13.94 8l-3.72-3.72a.749.749 0 0 1 .326-1.275.749.749 0 0 1 .734.215Zm-6.56 0a.751.751 0 0 1 1.042.018.751.751 0 0 1 .018 1.042L2.06 8l3.72 3.72a.749.749 0 0 1-.326 1.275.749.749 0 0 1-.734-.215L.47 8.53a.75.75 0 0 1 0-1.06Z"></path>
</svg>
        <span data-content="Code">Code</span>
          <span id="code-repo-tab-count" data-pjax-replace="" data-turbo-replace="" title="Not available" data-view-component="true" class="Counter"></span>


    
</a></li>
      <li data-view-component="true" class="d-inline-flex">
  <a id="issues-tab" href="/shantanu1109/Coursera-DeepLearning.AI-AI-FOR-MEDICINE-SPECIALIZATION/issues" data-tab-item="i1issues-tab" data-selected-links="repo_issues repo_labels repo_milestones /shantanu1109/Coursera-DeepLearning.AI-AI-FOR-MEDICINE-SPECIALIZATION/issues /_view_fragments/issues/index/shantanu1109/Coursera-DeepLearning.AI-AI-FOR-MEDICINE-SPECIALIZATION/layout" data-pjax="#repo-content-pjax-container" data-turbo-frame="repo-content-turbo-frame" data-hotkey="g i" data-analytics-event="{&quot;category&quot;:&quot;Underline navbar&quot;,&quot;action&quot;:&quot;Click tab&quot;,&quot;label&quot;:&quot;Issues&quot;,&quot;target&quot;:&quot;UNDERLINE_NAV.TAB&quot;}" data-view-component="true" class="UnderlineNav-item no-wrap js-responsive-underlinenav-item js-selected-navigation-item">
    
              <svg aria-hidden="true" height="16" viewBox="0 0 16 16" version="1.1" width="16" data-view-component="true" class="octicon octicon-issue-opened UnderlineNav-octicon d-none d-sm-inline">
    <path d="M8 9.5a1.5 1.5 0 1 0 0-3 1.5 1.5 0 0 0 0 3Z"></path><path d="M8 0a8 8 0 1 1 0 16A8 8 0 0 1 8 0ZM1.5 8a6.5 6.5 0 1 0 13 0 6.5 6.5 0 0 0-13 0Z"></path>
</svg>
        <span data-content="Issues">Issues</span>
          <span id="issues-repo-tab-count" data-pjax-replace="" data-turbo-replace="" title="0" hidden="hidden" data-view-component="true" class="Counter">0</span>


    
</a></li>
      <li data-view-component="true" class="d-inline-flex">
  <a id="pull-requests-tab" href="/shantanu1109/Coursera-DeepLearning.AI-AI-FOR-MEDICINE-SPECIALIZATION/pulls" data-tab-item="i2pull-requests-tab" data-selected-links="repo_pulls checks /shantanu1109/Coursera-DeepLearning.AI-AI-FOR-MEDICINE-SPECIALIZATION/pulls" data-pjax="#repo-content-pjax-container" data-turbo-frame="repo-content-turbo-frame" data-hotkey="g p" data-analytics-event="{&quot;category&quot;:&quot;Underline navbar&quot;,&quot;action&quot;:&quot;Click tab&quot;,&quot;label&quot;:&quot;Pull requests&quot;,&quot;target&quot;:&quot;UNDERLINE_NAV.TAB&quot;}" data-view-component="true" class="UnderlineNav-item no-wrap js-responsive-underlinenav-item js-selected-navigation-item">
    
              <svg aria-hidden="true" height="16" viewBox="0 0 16 16" version="1.1" width="16" data-view-component="true" class="octicon octicon-git-pull-request UnderlineNav-octicon d-none d-sm-inline">
    <path d="M1.5 3.25a2.25 2.25 0 1 1 3 2.122v5.256a2.251 2.251 0 1 1-1.5 0V5.372A2.25 2.25 0 0 1 1.5 3.25Zm5.677-.177L9.573.677A.25.25 0 0 1 10 .854V2.5h1A2.5 2.5 0 0 1 13.5 5v5.628a2.251 2.251 0 1 1-1.5 0V5a1 1 0 0 0-1-1h-1v1.646a.25.25 0 0 1-.427.177L7.177 3.427a.25.25 0 0 1 0-.354ZM3.75 2.5a.75.75 0 1 0 0 1.5.75.75 0 0 0 0-1.5Zm0 9.5a.75.75 0 1 0 0 1.5.75.75 0 0 0 0-1.5Zm8.25.75a.75.75 0 1 0 1.5 0 .75.75 0 0 0-1.5 0Z"></path>
</svg>
        <span data-content="Pull requests">Pull requests</span>
          <span id="pull-requests-repo-tab-count" data-pjax-replace="" data-turbo-replace="" title="0" hidden="hidden" data-view-component="true" class="Counter">0</span>


    
</a></li>
      <li data-view-component="true" class="d-inline-flex">
  <a id="actions-tab" href="/shantanu1109/Coursera-DeepLearning.AI-AI-FOR-MEDICINE-SPECIALIZATION/actions" data-tab-item="i3actions-tab" data-selected-links="repo_actions /shantanu1109/Coursera-DeepLearning.AI-AI-FOR-MEDICINE-SPECIALIZATION/actions" data-pjax="#repo-content-pjax-container" data-turbo-frame="repo-content-turbo-frame" data-hotkey="g a" data-analytics-event="{&quot;category&quot;:&quot;Underline navbar&quot;,&quot;action&quot;:&quot;Click tab&quot;,&quot;label&quot;:&quot;Actions&quot;,&quot;target&quot;:&quot;UNDERLINE_NAV.TAB&quot;}" data-view-component="true" class="UnderlineNav-item no-wrap js-responsive-underlinenav-item js-selected-navigation-item">
    
              <svg aria-hidden="true" height="16" viewBox="0 0 16 16" version="1.1" width="16" data-view-component="true" class="octicon octicon-play UnderlineNav-octicon d-none d-sm-inline">
    <path d="M8 0a8 8 0 1 1 0 16A8 8 0 0 1 8 0ZM1.5 8a6.5 6.5 0 1 0 13 0 6.5 6.5 0 0 0-13 0Zm4.879-2.773 4.264 2.559a.25.25 0 0 1 0 .428l-4.264 2.559A.25.25 0 0 1 6 10.559V5.442a.25.25 0 0 1 .379-.215Z"></path>
</svg>
        <span data-content="Actions">Actions</span>
          <span id="actions-repo-tab-count" data-pjax-replace="" data-turbo-replace="" title="Not available" data-view-component="true" class="Counter"></span>


    
</a></li>
      <li data-view-component="true" class="d-inline-flex">
  <a id="projects-tab" href="/shantanu1109/Coursera-DeepLearning.AI-AI-FOR-MEDICINE-SPECIALIZATION/projects" data-tab-item="i4projects-tab" data-selected-links="repo_projects new_repo_project repo_project /shantanu1109/Coursera-DeepLearning.AI-AI-FOR-MEDICINE-SPECIALIZATION/projects" data-pjax="#repo-content-pjax-container" data-turbo-frame="repo-content-turbo-frame" data-hotkey="g b" data-analytics-event="{&quot;category&quot;:&quot;Underline navbar&quot;,&quot;action&quot;:&quot;Click tab&quot;,&quot;label&quot;:&quot;Projects&quot;,&quot;target&quot;:&quot;UNDERLINE_NAV.TAB&quot;}" data-view-component="true" class="UnderlineNav-item no-wrap js-responsive-underlinenav-item js-selected-navigation-item">
    
              <svg aria-hidden="true" height="16" viewBox="0 0 16 16" version="1.1" width="16" data-view-component="true" class="octicon octicon-table UnderlineNav-octicon d-none d-sm-inline">
    <path d="M0 1.75C0 .784.784 0 1.75 0h12.5C15.216 0 16 .784 16 1.75v12.5A1.75 1.75 0 0 1 14.25 16H1.75A1.75 1.75 0 0 1 0 14.25ZM6.5 6.5v8h7.75a.25.25 0 0 0 .25-.25V6.5Zm8-1.5V1.75a.25.25 0 0 0-.25-.25H6.5V5Zm-13 1.5v7.75c0 .138.112.25.25.25H5v-8ZM5 5V1.5H1.75a.25.25 0 0 0-.25.25V5Z"></path>
</svg>
        <span data-content="Projects">Projects</span>
          <span id="projects-repo-tab-count" data-pjax-replace="" data-turbo-replace="" title="0" hidden="hidden" data-view-component="true" class="Counter">0</span>


    
</a></li>
      <li data-view-component="true" class="d-inline-flex">
  <a id="security-tab" href="/shantanu1109/Coursera-DeepLearning.AI-AI-FOR-MEDICINE-SPECIALIZATION/security" data-tab-item="i5security-tab" data-selected-links="security overview alerts policy token_scanning code_scanning /shantanu1109/Coursera-DeepLearning.AI-AI-FOR-MEDICINE-SPECIALIZATION/security" data-pjax="#repo-content-pjax-container" data-turbo-frame="repo-content-turbo-frame" data-hotkey="g s" data-analytics-event="{&quot;category&quot;:&quot;Underline navbar&quot;,&quot;action&quot;:&quot;Click tab&quot;,&quot;label&quot;:&quot;Security&quot;,&quot;target&quot;:&quot;UNDERLINE_NAV.TAB&quot;}" data-view-component="true" class="UnderlineNav-item no-wrap js-responsive-underlinenav-item js-selected-navigation-item">
    
              <svg aria-hidden="true" height="16" viewBox="0 0 16 16" version="1.1" width="16" data-view-component="true" class="octicon octicon-shield UnderlineNav-octicon d-none d-sm-inline">
    <path d="M7.467.133a1.748 1.748 0 0 1 1.066 0l5.25 1.68A1.75 1.75 0 0 1 15 3.48V7c0 1.566-.32 3.182-1.303 4.682-.983 1.498-2.585 2.813-5.032 3.855a1.697 1.697 0 0 1-1.33 0c-2.447-1.042-4.049-2.357-5.032-3.855C1.32 10.182 1 8.566 1 7V3.48a1.75 1.75 0 0 1 1.217-1.667Zm.61 1.429a.25.25 0 0 0-.153 0l-5.25 1.68a.25.25 0 0 0-.174.238V7c0 1.358.275 2.666 1.057 3.86.784 1.194 2.121 2.34 4.366 3.297a.196.196 0 0 0 .154 0c2.245-.956 3.582-2.104 4.366-3.298C13.225 9.666 13.5 8.36 13.5 7V3.48a.251.251 0 0 0-.174-.237l-5.25-1.68ZM8.75 4.75v3a.75.75 0 0 1-1.5 0v-3a.75.75 0 0 1 1.5 0ZM9 10.5a1 1 0 1 1-2 0 1 1 0 0 1 2 0Z"></path>
</svg>
        <span data-content="Security">Security</span>
          <include-fragment src="/shantanu1109/Coursera-DeepLearning.AI-AI-FOR-MEDICINE-SPECIALIZATION/security/overall-count" accept="text/fragment+html"></include-fragment>

    
</a></li>
      <li data-view-component="true" class="d-inline-flex">
  <a id="insights-tab" href="/shantanu1109/Coursera-DeepLearning.AI-AI-FOR-MEDICINE-SPECIALIZATION/pulse" data-tab-item="i6insights-tab" data-selected-links="repo_graphs repo_contributors dependency_graph dependabot_updates pulse people community /shantanu1109/Coursera-DeepLearning.AI-AI-FOR-MEDICINE-SPECIALIZATION/pulse" data-pjax="#repo-content-pjax-container" data-turbo-frame="repo-content-turbo-frame" data-analytics-event="{&quot;category&quot;:&quot;Underline navbar&quot;,&quot;action&quot;:&quot;Click tab&quot;,&quot;label&quot;:&quot;Insights&quot;,&quot;target&quot;:&quot;UNDERLINE_NAV.TAB&quot;}" data-view-component="true" class="UnderlineNav-item no-wrap js-responsive-underlinenav-item js-selected-navigation-item">
    
              <svg aria-hidden="true" height="16" viewBox="0 0 16 16" version="1.1" width="16" data-view-component="true" class="octicon octicon-graph UnderlineNav-octicon d-none d-sm-inline">
    <path d="M1.5 1.75V13.5h13.75a.75.75 0 0 1 0 1.5H.75a.75.75 0 0 1-.75-.75V1.75a.75.75 0 0 1 1.5 0Zm14.28 2.53-5.25 5.25a.75.75 0 0 1-1.06 0L7 7.06 4.28 9.78a.751.751 0 0 1-1.042-.018.751.751 0 0 1-.018-1.042l3.25-3.25a.75.75 0 0 1 1.06 0L10 7.94l4.72-4.72a.751.751 0 0 1 1.042.018.751.751 0 0 1 .018 1.042Z"></path>
</svg>
        <span data-content="Insights">Insights</span>
          <span id="insights-repo-tab-count" data-pjax-replace="" data-turbo-replace="" title="Not available" data-view-component="true" class="Counter"></span>


    
</a></li>
</ul>
    <div style="visibility:hidden;" data-view-component="true" class="UnderlineNav-actions js-responsive-underlinenav-overflow position-absolute pr-3 pr-md-4 pr-lg-5 right-0">      <action-menu data-select-variant="none" data-view-component="true">
  <focus-group direction="vertical" mnemonics retain>
    <button id="action-menu-5f047619-0bc2-419a-9a55-0c5bb4d4ee1c-button" popovertarget="action-menu-5f047619-0bc2-419a-9a55-0c5bb4d4ee1c-overlay" aria-controls="action-menu-5f047619-0bc2-419a-9a55-0c5bb4d4ee1c-list" aria-haspopup="true" aria-labelledby="tooltip-c0a9c6d6-59f3-4e4c-9b5b-e0644e49e3b0" type="button" data-view-component="true" class="Button Button--iconOnly Button--secondary Button--medium UnderlineNav-item">  <svg aria-hidden="true" height="16" viewBox="0 0 16 16" version="1.1" width="16" data-view-component="true" class="octicon octicon-kebab-horizontal Button-visual">
    <path d="M8 9a1.5 1.5 0 1 0 0-3 1.5 1.5 0 0 0 0 3ZM1.5 9a1.5 1.5 0 1 0 0-3 1.5 1.5 0 0 0 0 3Zm13 0a1.5 1.5 0 1 0 0-3 1.5 1.5 0 0 0 0 3Z"></path>
</svg>
</button><tool-tip id="tooltip-c0a9c6d6-59f3-4e4c-9b5b-e0644e49e3b0" for="action-menu-5f047619-0bc2-419a-9a55-0c5bb4d4ee1c-button" popover="manual" data-direction="s" data-type="label" data-view-component="true" class="sr-only position-absolute">Additional navigation options</tool-tip>


<anchored-position id="action-menu-5f047619-0bc2-419a-9a55-0c5bb4d4ee1c-overlay" anchor="action-menu-5f047619-0bc2-419a-9a55-0c5bb4d4ee1c-button" align="start" side="outside-bottom" anchor-offset="normal" popover="auto" data-view-component="true">
  <div data-view-component="true" class="Overlay Overlay--size-auto">
    
      <div data-view-component="true" class="Overlay-body Overlay-body--paddingNone">          <action-list>
  <div data-view-component="true">
    <ul aria-labelledby="action-menu-5f047619-0bc2-419a-9a55-0c5bb4d4ee1c-button" id="action-menu-5f047619-0bc2-419a-9a55-0c5bb4d4ee1c-list" role="menu" data-view-component="true" class="ActionListWrap--inset ActionListWrap">
        <li hidden="hidden" data-menu-item="i0code-tab" data-targets="action-list.items" role="none" data-view-component="true" class="ActionListItem">
    
    
    <a tabindex="-1" id="item-79d70e05-f2ae-4d96-8d9e-3a4b4a7568c5" href="/shantanu1109/Coursera-DeepLearning.AI-AI-FOR-MEDICINE-SPECIALIZATION" role="menuitem" data-view-component="true" class="ActionListContent ActionListContent--visual16">
        <span class="ActionListItem-visual ActionListItem-visual--leading">
          <svg aria-hidden="true" height="16" viewBox="0 0 16 16" version="1.1" width="16" data-view-component="true" class="octicon octicon-code">
    <path d="m11.28 3.22 4.25 4.25a.75.75 0 0 1 0 1.06l-4.25 4.25a.749.749 0 0 1-1.275-.326.749.749 0 0 1 .215-.734L13.94 8l-3.72-3.72a.749.749 0 0 1 .326-1.275.749.749 0 0 1 .734.215Zm-6.56 0a.751.751 0 0 1 1.042.018.751.751 0 0 1 .018 1.042L2.06 8l3.72 3.72a.749.749 0 0 1-.326 1.275.749.749 0 0 1-.734-.215L.47 8.53a.75.75 0 0 1 0-1.06Z"></path>
</svg>
        </span>
      
        <span data-view-component="true" class="ActionListItem-label">
          Code
</span></a>
  
</li>
        <li hidden="hidden" data-menu-item="i1issues-tab" data-targets="action-list.items" role="none" data-view-component="true" class="ActionListItem">
    
    
    <a tabindex="-1" id="item-bb076096-6f96-4051-919a-297a604551eb" href="/shantanu1109/Coursera-DeepLearning.AI-AI-FOR-MEDICINE-SPECIALIZATION/issues" role="menuitem" data-view-component="true" class="ActionListContent ActionListContent--visual16">
        <span class="ActionListItem-visual ActionListItem-visual--leading">
          <svg aria-hidden="true" height="16" viewBox="0 0 16 16" version="1.1" width="16" data-view-component="true" class="octicon octicon-issue-opened">
    <path d="M8 9.5a1.5 1.5 0 1 0 0-3 1.5 1.5 0 0 0 0 3Z"></path><path d="M8 0a8 8 0 1 1 0 16A8 8 0 0 1 8 0ZM1.5 8a6.5 6.5 0 1 0 13 0 6.5 6.5 0 0 0-13 0Z"></path>
</svg>
        </span>
      
        <span data-view-component="true" class="ActionListItem-label">
          Issues
</span></a>
  
</li>
        <li hidden="hidden" data-menu-item="i2pull-requests-tab" data-targets="action-list.items" role="none" data-view-component="true" class="ActionListItem">
    
    
    <a tabindex="-1" id="item-49e05b57-c309-4c3d-845a-6f587ae95e63" href="/shantanu1109/Coursera-DeepLearning.AI-AI-FOR-MEDICINE-SPECIALIZATION/pulls" role="menuitem" data-view-component="true" class="ActionListContent ActionListContent--visual16">
        <span class="ActionListItem-visual ActionListItem-visual--leading">
          <svg aria-hidden="true" height="16" viewBox="0 0 16 16" version="1.1" width="16" data-view-component="true" class="octicon octicon-git-pull-request">
    <path d="M1.5 3.25a2.25 2.25 0 1 1 3 2.122v5.256a2.251 2.251 0 1 1-1.5 0V5.372A2.25 2.25 0 0 1 1.5 3.25Zm5.677-.177L9.573.677A.25.25 0 0 1 10 .854V2.5h1A2.5 2.5 0 0 1 13.5 5v5.628a2.251 2.251 0 1 1-1.5 0V5a1 1 0 0 0-1-1h-1v1.646a.25.25 0 0 1-.427.177L7.177 3.427a.25.25 0 0 1 0-.354ZM3.75 2.5a.75.75 0 1 0 0 1.5.75.75 0 0 0 0-1.5Zm0 9.5a.75.75 0 1 0 0 1.5.75.75 0 0 0 0-1.5Zm8.25.75a.75.75 0 1 0 1.5 0 .75.75 0 0 0-1.5 0Z"></path>
</svg>
        </span>
      
        <span data-view-component="true" class="ActionListItem-label">
          Pull requests
</span></a>
  
</li>
        <li hidden="hidden" data-menu-item="i3actions-tab" data-targets="action-list.items" role="none" data-view-component="true" class="ActionListItem">
    
    
    <a tabindex="-1" id="item-f5512f7c-510d-405b-a131-29195dd2a6d4" href="/shantanu1109/Coursera-DeepLearning.AI-AI-FOR-MEDICINE-SPECIALIZATION/actions" role="menuitem" data-view-component="true" class="ActionListContent ActionListContent--visual16">
        <span class="ActionListItem-visual ActionListItem-visual--leading">
          <svg aria-hidden="true" height="16" viewBox="0 0 16 16" version="1.1" width="16" data-view-component="true" class="octicon octicon-play">
    <path d="M8 0a8 8 0 1 1 0 16A8 8 0 0 1 8 0ZM1.5 8a6.5 6.5 0 1 0 13 0 6.5 6.5 0 0 0-13 0Zm4.879-2.773 4.264 2.559a.25.25 0 0 1 0 .428l-4.264 2.559A.25.25 0 0 1 6 10.559V5.442a.25.25 0 0 1 .379-.215Z"></path>
</svg>
        </span>
      
        <span data-view-component="true" class="ActionListItem-label">
          Actions
</span></a>
  
</li>
        <li hidden="hidden" data-menu-item="i4projects-tab" data-targets="action-list.items" role="none" data-view-component="true" class="ActionListItem">
    
    
    <a tabindex="-1" id="item-42ebadc1-03a5-4902-bae6-891bb0af7e10" href="/shantanu1109/Coursera-DeepLearning.AI-AI-FOR-MEDICINE-SPECIALIZATION/projects" role="menuitem" data-view-component="true" class="ActionListContent ActionListContent--visual16">
        <span class="ActionListItem-visual ActionListItem-visual--leading">
          <svg aria-hidden="true" height="16" viewBox="0 0 16 16" version="1.1" width="16" data-view-component="true" class="octicon octicon-table">
    <path d="M0 1.75C0 .784.784 0 1.75 0h12.5C15.216 0 16 .784 16 1.75v12.5A1.75 1.75 0 0 1 14.25 16H1.75A1.75 1.75 0 0 1 0 14.25ZM6.5 6.5v8h7.75a.25.25 0 0 0 .25-.25V6.5Zm8-1.5V1.75a.25.25 0 0 0-.25-.25H6.5V5Zm-13 1.5v7.75c0 .138.112.25.25.25H5v-8ZM5 5V1.5H1.75a.25.25 0 0 0-.25.25V5Z"></path>
</svg>
        </span>
      
        <span data-view-component="true" class="ActionListItem-label">
          Projects
</span></a>
  
</li>
        <li hidden="hidden" data-menu-item="i5security-tab" data-targets="action-list.items" role="none" data-view-component="true" class="ActionListItem">
    
    
    <a tabindex="-1" id="item-e2fd42b0-d305-4bf4-a623-5f9b9325a13a" href="/shantanu1109/Coursera-DeepLearning.AI-AI-FOR-MEDICINE-SPECIALIZATION/security" role="menuitem" data-view-component="true" class="ActionListContent ActionListContent--visual16">
        <span class="ActionListItem-visual ActionListItem-visual--leading">
          <svg aria-hidden="true" height="16" viewBox="0 0 16 16" version="1.1" width="16" data-view-component="true" class="octicon octicon-shield">
    <path d="M7.467.133a1.748 1.748 0 0 1 1.066 0l5.25 1.68A1.75 1.75 0 0 1 15 3.48V7c0 1.566-.32 3.182-1.303 4.682-.983 1.498-2.585 2.813-5.032 3.855a1.697 1.697 0 0 1-1.33 0c-2.447-1.042-4.049-2.357-5.032-3.855C1.32 10.182 1 8.566 1 7V3.48a1.75 1.75 0 0 1 1.217-1.667Zm.61 1.429a.25.25 0 0 0-.153 0l-5.25 1.68a.25.25 0 0 0-.174.238V7c0 1.358.275 2.666 1.057 3.86.784 1.194 2.121 2.34 4.366 3.297a.196.196 0 0 0 .154 0c2.245-.956 3.582-2.104 4.366-3.298C13.225 9.666 13.5 8.36 13.5 7V3.48a.251.251 0 0 0-.174-.237l-5.25-1.68ZM8.75 4.75v3a.75.75 0 0 1-1.5 0v-3a.75.75 0 0 1 1.5 0ZM9 10.5a1 1 0 1 1-2 0 1 1 0 0 1 2 0Z"></path>
</svg>
        </span>
      
        <span data-view-component="true" class="ActionListItem-label">
          Security
</span></a>
  
</li>
        <li hidden="hidden" data-menu-item="i6insights-tab" data-targets="action-list.items" role="none" data-view-component="true" class="ActionListItem">
    
    
    <a tabindex="-1" id="item-aeaa5352-1e81-48b7-88cc-a3c482c1ca0e" href="/shantanu1109/Coursera-DeepLearning.AI-AI-FOR-MEDICINE-SPECIALIZATION/pulse" role="menuitem" data-view-component="true" class="ActionListContent ActionListContent--visual16">
        <span class="ActionListItem-visual ActionListItem-visual--leading">
          <svg aria-hidden="true" height="16" viewBox="0 0 16 16" version="1.1" width="16" data-view-component="true" class="octicon octicon-graph">
    <path d="M1.5 1.75V13.5h13.75a.75.75 0 0 1 0 1.5H.75a.75.75 0 0 1-.75-.75V1.75a.75.75 0 0 1 1.5 0Zm14.28 2.53-5.25 5.25a.75.75 0 0 1-1.06 0L7 7.06 4.28 9.78a.751.751 0 0 1-1.042-.018.751.751 0 0 1-.018-1.042l3.25-3.25a.75.75 0 0 1 1.06 0L10 7.94l4.72-4.72a.751.751 0 0 1 1.042.018.751.751 0 0 1 .018 1.042Z"></path>
</svg>
        </span>
      
        <span data-view-component="true" class="ActionListItem-label">
          Insights
</span></a>
  
</li>
</ul>    
</div></action-list>


</div>
      
</div></anchored-position>  </focus-group>
</action-menu></div>
</nav>

  </div>

  



<turbo-frame id="repo-content-turbo-frame" target="_top" data-turbo-action="advance" class="">
    <div id="repo-content-pjax-container" class="repository-content " >
    



    
      
    






<react-app
  app-name="react-code-view"
  initial-path="/shantanu1109/Coursera-DeepLearning.AI-AI-FOR-MEDICINE-SPECIALIZATION/blob/main/Course-2-AI%20for%20Medical%20Prognosis/Course-2-Week-3/Course-2-Week-3-Practice-Labs/Course-2-Week-3-Practice-Labs-1-Survival-Estimates-that-Vary-with-Time.ipynb"
  style="display: block; min-height: calc(100vh - 64px)" 
  data-ssr="true"
  data-lazy="false"
  data-alternate="false"
>
  
  <script type="application/json" data-target="react-app.embeddedData">{"payload":{"allShortcutsEnabled":false,"fileTree":{"Course-2-AI for Medical Prognosis/Course-2-Week-3/Course-2-Week-3-Practice-Labs":{"items":[{"name":"Course-2-Week-3-Practice-Labs-1-Survival-Estimates-that-Vary-with-Time.ipynb","path":"Course-2-AI for Medical Prognosis/Course-2-Week-3/Course-2-Week-3-Practice-Labs/Course-2-Week-3-Practice-Labs-1-Survival-Estimates-that-Vary-with-Time.ipynb","contentType":"file"},{"name":"Course-2-Week-3-Practice-Labs.md","path":"Course-2-AI for Medical Prognosis/Course-2-Week-3/Course-2-Week-3-Practice-Labs/Course-2-Week-3-Practice-Labs.md","contentType":"file"}],"totalCount":2},"Course-2-AI for Medical Prognosis/Course-2-Week-3":{"items":[{"name":"Course-2-Week-3-Optional-Labs","path":"Course-2-AI for Medical Prognosis/Course-2-Week-3/Course-2-Week-3-Optional-Labs","contentType":"directory"},{"name":"Course-2-Week-3-Practice-Labs","path":"Course-2-AI for Medical Prognosis/Course-2-Week-3/Course-2-Week-3-Practice-Labs","contentType":"directory"},{"name":"Course-2-Week-3-Practice-Quiz","path":"Course-2-AI for Medical Prognosis/Course-2-Week-3/Course-2-Week-3-Practice-Quiz","contentType":"directory"},{"name":"Course-2-Week-3.md","path":"Course-2-AI for Medical Prognosis/Course-2-Week-3/Course-2-Week-3.md","contentType":"file"}],"totalCount":4},"Course-2-AI for Medical Prognosis":{"items":[{"name":"Course-2-Week-1","path":"Course-2-AI for Medical Prognosis/Course-2-Week-1","contentType":"directory"},{"name":"Course-2-Week-2","path":"Course-2-AI for Medical Prognosis/Course-2-Week-2","contentType":"directory"},{"name":"Course-2-Week-3","path":"Course-2-AI for Medical Prognosis/Course-2-Week-3","contentType":"directory"},{"name":"Course-2-Week-4","path":"Course-2-AI for Medical Prognosis/Course-2-Week-4","contentType":"directory"},{"name":"Course-2.md","path":"Course-2-AI for Medical Prognosis/Course-2.md","contentType":"file"}],"totalCount":5},"":{"items":[{"name":"Course-1-AI for Medical Diagnosis","path":"Course-1-AI for Medical Diagnosis","contentType":"directory"},{"name":"Course-2-AI for Medical Prognosis","path":"Course-2-AI for Medical Prognosis","contentType":"directory"},{"name":"Course-3-AI For Medical Treatment","path":"Course-3-AI For Medical Treatment","contentType":"directory"},{"name":"Course-Certificates","path":"Course-Certificates","contentType":"directory"},{"name":"CODE_OF_CONDUCT.md","path":"CODE_OF_CONDUCT.md","contentType":"file"},{"name":"LICENSE","path":"LICENSE","contentType":"file"},{"name":"README.md","path":"README.md","contentType":"file"}],"totalCount":7}},"fileTreeProcessingTime":16.536225,"foldersToFetch":[],"repo":{"id":645241650,"defaultBranch":"main","name":"Coursera-DeepLearning.AI-AI-FOR-MEDICINE-SPECIALIZATION","ownerLogin":"shantanu1109","currentUserCanPush":false,"isFork":false,"isEmpty":false,"createdAt":"2023-05-25T08:18:16.000Z","ownerAvatar":"https://avatars.githubusercontent.com/u/43478328?v=4","public":true,"private":false,"isOrgOwned":false},"codeLineWrapEnabled":false,"symbolsExpanded":false,"treeExpanded":true,"refInfo":{"name":"main","listCacheKey":"v0:1686657041.6368818","canEdit":false,"refType":"branch","currentOid":"2fbd40f94e9cd3a72f4e0f0b811aef3b96475b27"},"path":"Course-2-AI for Medical Prognosis/Course-2-Week-3/Course-2-Week-3-Practice-Labs/Course-2-Week-3-Practice-Labs-1-Survival-Estimates-that-Vary-with-Time.ipynb","currentUser":null,"blob":{"rawLines":["{"," \"cells\": [","  {","   \"cell_type\": \"markdown\",","   \"metadata\": {","    \"colab_type\": \"text\",","    \"id\": \"3Q2KuaRamHfr\"","   },","   \"source\": [","    \"# Survival Estimates that Vary with Time\\n\",","    \"\\n\",","    \"Welcome to the third assignment of Course 2. In this assignment, we'll use Python to build some of the statistical models we learned this past week to analyze surivival estimates for a dataset of lymphoma patients. We'll also evaluate these models and interpret their outputs. Along the way, you will be learning about the following: \\n\",","    \"\\n\",","    \"- Censored Data\\n\",","    \"- Kaplan-Meier Estimates\\n\",","    \"- Subgroup Analysis\"","   ]","  },","  {","   \"cell_type\": \"markdown\",","   \"metadata\": {},","   \"source\": [","    \"## Table of Contents\\n\",","    \"\\n\",","    \"- [1. Import Packages](#1)\\n\",","    \"- [2. Load the Dataset](#2)\\n\",","    \"- [3. Censored Data](#3)\\n\",","    \"    - [Exercise 1 - frac_censored](#ex-1)\\n\",","    \"- [4. Survival Estimates](#4)\\n\",","    \"    - [Exercise 2 - naive_estimator](#ex-2)\\n\",","    \"    - [Exercise 3 - HomemadeKM](#ex-3)\\n\",","    \"- [5. Subgroup Analysis](#5)\\n\",","    \"    - [5.1 Bonus: Log Rank Test](#5-1)\"","   ]","  },","  {","   \"cell_type\": \"markdown\",","   \"metadata\": {","    \"colab_type\": \"text\",","    \"id\": \"UopnLTeLkViX\"","   },","   \"source\": [","    \"\u003ca name='1'\u003e\u003c/a\u003e\\n\",","    \"## 1. Import Packages\\n\",","    \"\\n\",","    \"We'll first import all the packages that we need for this assignment. \\n\",","    \"\\n\",","    \"- `lifelines` is an open-source library for data analysis.\\n\",","    \"- `numpy` is the fundamental package for scientific computing in python.\\n\",","    \"- `pandas` is what we'll use to manipulate our data.\\n\",","    \"- `matplotlib` is a plotting library.\"","   ]","  },","  {","   \"cell_type\": \"code\",","   \"execution_count\": 1,","   \"metadata\": {","    \"colab\": {},","    \"colab_type\": \"code\",","    \"id\": \"TZyXoADQmYlt\"","   },","   \"outputs\": [],","   \"source\": [","    \"import lifelines\\n\",","    \"import numpy as np\\n\",","    \"import pandas as pd\\n\",","    \"import matplotlib.pyplot as plt\\n\",","    \"\\n\",","    \"from util import load_data\\n\",","    \"\\n\",","    \"from lifelines import KaplanMeierFitter as KM\\n\",","    \"from lifelines.statistics import logrank_test\\n\",","    \"\\n\",","    \"from public_tests import *\"","   ]","  },","  {","   \"cell_type\": \"markdown\",","   \"metadata\": {","    \"colab_type\": \"text\",","    \"id\": \"5rp2TD1qnGmp\"","   },","   \"source\": [","    \"\u003ca name='2'\u003e\u003c/a\u003e\\n\",","    \"## 2. Load the Dataset\\n\"","   ]","  },","  {","   \"cell_type\": \"markdown\",","   \"metadata\": {","    \"colab_type\": \"text\",","    \"id\": \"WEbu3MtrVsnU\"","   },","   \"source\": [","    \"Run the next cell to load the lymphoma data set. \"","   ]","  },","  {","   \"cell_type\": \"code\",","   \"execution_count\": 2,","   \"metadata\": {","    \"colab\": {},","    \"colab_type\": \"code\",","    \"id\": \"e3wHdLrEnSNa\"","   },","   \"outputs\": [],","   \"source\": [","    \"data = load_data()\"","   ]","  },","  {","   \"cell_type\": \"markdown\",","   \"metadata\": {","    \"colab_type\": \"text\",","    \"id\": \"3hrHa0dPqU08\"","   },","   \"source\": [","    \"As always, you first look over your data.\"","   ]","  },","  {","   \"cell_type\": \"code\",","   \"execution_count\": 3,","   \"metadata\": {","    \"colab\": {","     \"base_uri\": \"https://localhost:8080/\",","     \"height\": 221","    },","    \"colab_type\": \"code\",","    \"id\": \"QEd504pKqWuc\",","    \"outputId\": \"7297830a-d316-4623-bb6a-77f8f96b8805\"","   },","   \"outputs\": [","    {","     \"name\": \"stdout\",","     \"output_type\": \"stream\",","     \"text\": [","      \"data shape: (80, 3)\\n\"","     ]","    },","    {","     \"data\": {","      \"text/html\": [","       \"\u003cdiv\u003e\\n\",","       \"\u003cstyle scoped\u003e\\n\",","       \"    .dataframe tbody tr th:only-of-type {\\n\",","       \"        vertical-align: middle;\\n\",","       \"    }\\n\",","       \"\\n\",","       \"    .dataframe tbody tr th {\\n\",","       \"        vertical-align: top;\\n\",","       \"    }\\n\",","       \"\\n\",","       \"    .dataframe thead th {\\n\",","       \"        text-align: right;\\n\",","       \"    }\\n\",","       \"\u003c/style\u003e\\n\",","       \"\u003ctable border=\\\"1\\\" class=\\\"dataframe\\\"\u003e\\n\",","       \"  \u003cthead\u003e\\n\",","       \"    \u003ctr style=\\\"text-align: right;\\\"\u003e\\n\",","       \"      \u003cth\u003e\u003c/th\u003e\\n\",","       \"      \u003cth\u003eStage_group\u003c/th\u003e\\n\",","       \"      \u003cth\u003eTime\u003c/th\u003e\\n\",","       \"      \u003cth\u003eEvent\u003c/th\u003e\\n\",","       \"    \u003c/tr\u003e\\n\",","       \"  \u003c/thead\u003e\\n\",","       \"  \u003ctbody\u003e\\n\",","       \"    \u003ctr\u003e\\n\",","       \"      \u003cth\u003e0\u003c/th\u003e\\n\",","       \"      \u003ctd\u003e1\u003c/td\u003e\\n\",","       \"      \u003ctd\u003e6\u003c/td\u003e\\n\",","       \"      \u003ctd\u003e1\u003c/td\u003e\\n\",","       \"    \u003c/tr\u003e\\n\",","       \"    \u003ctr\u003e\\n\",","       \"      \u003cth\u003e1\u003c/th\u003e\\n\",","       \"      \u003ctd\u003e1\u003c/td\u003e\\n\",","       \"      \u003ctd\u003e19\u003c/td\u003e\\n\",","       \"      \u003ctd\u003e1\u003c/td\u003e\\n\",","       \"    \u003c/tr\u003e\\n\",","       \"    \u003ctr\u003e\\n\",","       \"      \u003cth\u003e2\u003c/th\u003e\\n\",","       \"      \u003ctd\u003e1\u003c/td\u003e\\n\",","       \"      \u003ctd\u003e32\u003c/td\u003e\\n\",","       \"      \u003ctd\u003e1\u003c/td\u003e\\n\",","       \"    \u003c/tr\u003e\\n\",","       \"    \u003ctr\u003e\\n\",","       \"      \u003cth\u003e3\u003c/th\u003e\\n\",","       \"      \u003ctd\u003e1\u003c/td\u003e\\n\",","       \"      \u003ctd\u003e42\u003c/td\u003e\\n\",","       \"      \u003ctd\u003e1\u003c/td\u003e\\n\",","       \"    \u003c/tr\u003e\\n\",","       \"    \u003ctr\u003e\\n\",","       \"      \u003cth\u003e4\u003c/th\u003e\\n\",","       \"      \u003ctd\u003e1\u003c/td\u003e\\n\",","       \"      \u003ctd\u003e42\u003c/td\u003e\\n\",","       \"      \u003ctd\u003e1\u003c/td\u003e\\n\",","       \"    \u003c/tr\u003e\\n\",","       \"  \u003c/tbody\u003e\\n\",","       \"\u003c/table\u003e\\n\",","       \"\u003c/div\u003e\"","      ],","      \"text/plain\": [","       \"   Stage_group  Time  Event\\n\",","       \"0            1     6      1\\n\",","       \"1            1    19      1\\n\",","       \"2            1    32      1\\n\",","       \"3            1    42      1\\n\",","       \"4            1    42      1\"","      ]","     },","     \"execution_count\": 3,","     \"metadata\": {},","     \"output_type\": \"execute_result\"","    }","   ],","   \"source\": [","    \"print(\\\"data shape: {}\\\".format(data.shape))\\n\",","    \"data.head()\"","   ]","  },","  {","   \"cell_type\": \"markdown\",","   \"metadata\": {","    \"colab_type\": \"text\",","    \"id\": \"dblUOLQS4UU0\"","   },","   \"source\": [","    \"The column `Time` states how long the patient lived before they died or were censored.\\n\",","    \"\\n\",","    \"The column `Event` says whether a death was observed or not. `Event` is 1 if the event is observed (i.e. the patient died) and 0 if data was censored.\\n\",","    \"\\n\",","    \"Censorship here means that the observation has ended without any observed event.\\n\",","    \"For example, let a patient be in a hospital for 100 days at most. If a patient dies after only 44 days, their event will be recorded as `Time` = 44 and `Event` = 1. If a patient walks out after 100 days and dies 3 days later (103 days total), this event is not observed in our process and the corresponding row has `Time` = 100 and `Event` = 0. If a patient survives for 25 years after being admitted, their data for are still `Time` = 100 and `Event` = 0.\"","   ]","  },","  {","   \"cell_type\": \"markdown\",","   \"metadata\": {","    \"colab_type\": \"text\",","    \"id\": \"L0d2s2wtn2Pf\"","   },","   \"source\": [","    \"\u003ca name='3'\u003e\u003c/a\u003e\\n\",","    \"## 3. Censored Data\\n\",","    \"\\n\",","    \"We can plot a histogram of the survival times to see in general how long cases survived before censorship or events.\"","   ]","  },","  {","   \"cell_type\": \"code\",","   \"execution_count\": 4,","   \"metadata\": {","    \"colab\": {","     \"base_uri\": \"https://localhost:8080/\",","     \"height\": 285","    },","    \"colab_type\": \"code\",","    \"id\": \"cFrvXrODZklx\",","    \"outputId\": \"a260b523-e792-47dd-9833-7677cd4b5741\"","   },","   \"outputs\": [","    {","     \"data\": {","      \"image/png\": \"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\\n\",","      \"text/plain\": [","       \"\u003cFigure size 432x288 with 1 Axes\u003e\"","      ]","     },","     \"metadata\": {","      \"needs_background\": \"light\"","     },","     \"output_type\": \"display_data\"","    }","   ],","   \"source\": [","    \"data.Time.hist();\\n\",","    \"plt.xlabel(\\\"Observation time before death or censorship (days)\\\");\\n\",","    \"plt.ylabel(\\\"Frequency (number of patients)\\\");\\n\",","    \"# Note that the semicolon at the end of the plotting line\\n\",","    \"# silences unnecessary textual output - try removing it\\n\",","    \"# to observe its effect\"","   ]","  },","  {","   \"cell_type\": \"markdown\",","   \"metadata\": {","    \"colab_type\": \"text\",","    \"id\": \"ohXd70ZBaRWJ\"","   },","   \"source\": [","    \"\u003ca name='ex-1'\u003e\u003c/a\u003e\\n\",","    \"### Exercise 1 - frac_censored\\n\",","    \"\\n\",","    \"In the next cell, write a function to compute the fraction ($\\\\in [0, 1]$) of observations which were censored. \"","   ]","  },","  {","   \"cell_type\": \"markdown\",","   \"metadata\": {},","   \"source\": [","    \"\u003cdetails\u003e    \\n\",","    \"\u003csummary\u003e\\n\",","    \"    \u003cfont size=\\\"3\\\" color=\\\"darkgreen\\\"\u003e\u003cb\u003eHints\u003c/b\u003e\u003c/font\u003e\\n\",","    \"\u003c/summary\u003e\\n\",","    \"\u003cp\u003e\\n\",","    \"\u003cul\u003e\\n\",","    \"    \u003cli\u003eSumming up the \u003ccode\u003e'Event'\u003c/code\u003e column will give you the number of observations where censorship has NOT occurred.\u003c/li\u003e\\n\",","    \"    \\n\",","    \"\u003c/ul\u003e\\n\",","    \"\u003c/p\u003e\"","   ]","  },","  {","   \"cell_type\": \"code\",","   \"execution_count\": 5,","   \"metadata\": {","    \"colab\": {","     \"base_uri\": \"https://localhost:8080/\",","     \"height\": 34","    },","    \"colab_type\": \"code\",","    \"id\": \"9fkHnfJ6bD0f\",","    \"outputId\": \"21ec0301-5884-48f2-8ed1-10795d567c31\"","   },","   \"outputs\": [],","   \"source\": [","    \"# UNQ_C1 (UNIQUE CELL IDENTIFIER, DO NOT EDIT)\\n\",","    \"def frac_censored(df):\\n\",","    \"    \\\"\\\"\\\"\\n\",","    \"    Return percent of observations which were censored.\\n\",","    \"    \\n\",","    \"    Args:\\n\",","    \"        df (dataframe): dataframe which contains column 'Event' which is \\n\",","    \"                        1 if an event occurred (death)\\n\",","    \"                        0 if the event did not occur (censored)\\n\",","    \"    Returns:\\n\",","    \"        frac_censored (float): fraction of cases which were censored. \\n\",","    \"    \\\"\\\"\\\"\\n\",","    \"    result = 0.0\\n\",","    \"    \\n\",","    \"    ### START CODE HERE ###\\n\",","    \"    \\n\",","    \"    censored_count = sum(df['Event'] == 0)\\n\",","    \"    result = censored_count / len(df)\\n\",","    \"    \\n\",","    \"    ### END CODE HERE ###\\n\",","    \"    \\n\",","    \"    return result\"","   ]","  },","  {","   \"cell_type\": \"code\",","   \"execution_count\": 6,","   \"metadata\": {},","   \"outputs\": [","    {","     \"name\": \"stdout\",","     \"output_type\": \"stream\",","     \"text\": [","      \"Observations which were censored:  0.325\\n\",","      \"\\u001b[92m All tests passed.\\n\"","     ]","    }","   ],","   \"source\": [","    \"### do not edit this code cell\\n\",","    \"frac_censored_test(frac_censored, data)\"","   ]","  },","  {","   \"cell_type\": \"markdown\",","   \"metadata\": {},","   \"source\": [","    \"#### Expected Output:\\n\",","    \"```\\n\",","    \"Observations which were censored:  0.325\\n\",","    \" All tests passed.\\n\",","    \"```\"","   ]","  },","  {","   \"cell_type\": \"markdown\",","   \"metadata\": {","    \"colab_type\": \"text\",","    \"id\": \"BpzYWXUpbk6x\"","   },","   \"source\": [","    \"Run the next cell to see the distributions of survival times for censored and uncensored examples.\"","   ]","  },","  {","   \"cell_type\": \"code\",","   \"execution_count\": 7,","   \"metadata\": {","    \"colab\": {","     \"base_uri\": \"https://localhost:8080/\",","     \"height\": 545","    },","    \"colab_type\": \"code\",","    \"id\": \"1k3qlTQLbulW\",","    \"outputId\": \"de331041-6612-4df7-953d-41efbc741e49\"","   },","   \"outputs\": [","    {","     \"data\": {","      \"image/png\": \"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\\n\",","      \"text/plain\": [","       \"\u003cFigure size 432x288 with 1 Axes\u003e\"","      ]","     },","     \"metadata\": {","      \"needs_background\": \"light\"","     },","     \"output_type\": \"display_data\"","    },","    {","     \"data\": {","      \"image/png\": \"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\\n\",","      \"text/plain\": [","       \"\u003cFigure size 432x288 with 1 Axes\u003e\"","      ]","     },","     \"metadata\": {","      \"needs_background\": \"light\"","     },","     \"output_type\": \"display_data\"","    }","   ],","   \"source\": [","    \"df_censored = data[data.Event == 0]\\n\",","    \"df_uncensored = data[data.Event == 1]\\n\",","    \"\\n\",","    \"df_censored.Time.hist()\\n\",","    \"plt.title(\\\"Censored\\\")\\n\",","    \"plt.xlabel(\\\"Time (days)\\\")\\n\",","    \"plt.ylabel(\\\"Frequency\\\")\\n\",","    \"plt.show()\\n\",","    \"\\n\",","    \"df_uncensored.Time.hist()\\n\",","    \"plt.title(\\\"Uncensored\\\")\\n\",","    \"plt.xlabel(\\\"Time (days)\\\")\\n\",","    \"plt.ylabel(\\\"Frequency\\\")\\n\",","    \"plt.show()\"","   ]","  },","  {","   \"cell_type\": \"markdown\",","   \"metadata\": {","    \"colab_type\": \"text\",","    \"id\": \"WmFDrzYrn-JA\"","   },","   \"source\": [","    \"\u003ca name='4'\u003e\u003c/a\u003e\\n\",","    \"## 4. Survival Estimates\\n\",","    \"\\n\",","    \"We'll now try to estimate the survival function:\\n\",","    \"\\n\",","    \"$$\\n\",","    \"S(t) = P(T \u003e t)\\n\",","    \"$$\\n\",","    \"\\n\",","    \"To illustrate the strengths of Kaplan Meier, we'll start with a naive estimator of the above survival function. To estimate this quantity, we'll divide the number of people who we know lived past time $t$ by the number of people who were not censored before $t$.\\n\",","    \"\\n\",","    \"Formally, let $i$ = 1, ..., $n$ be the cases, and let $T_i$ be the time when $i$ was censored or an event happened. Let $e_i= 1$ if an event was observed for $i$ and 0 otherwise. Then let $X_t = \\\\{i : T_i \u003e t\\\\}$, and let $M_t = \\\\{i : e_i = 1 \\\\text{ or } T_i \u003e t\\\\}$. The estimator you will compute will be:\\n\",","    \"\\n\",","    \"$$\\n\",","    \"\\\\hat{S}(t) = \\\\frac{|X_t|}{|M_t|}\\n\",","    \"$$\\n\",","    \"\\n\"","   ]","  },","  {","   \"cell_type\": \"markdown\",","   \"metadata\": {},","   \"source\": [","    \"\u003ca name='ex-2'\u003e\u003c/a\u003e\\n\",","    \"### Exercise 2 - naive_estimator\\n\",","    \"Write a function to compute this estimate for arbitrary $t$ in the cell below.\"","   ]","  },","  {","   \"cell_type\": \"code\",","   \"execution_count\": 8,","   \"metadata\": {","    \"colab\": {","     \"base_uri\": \"https://localhost:8080/\",","     \"height\": 306","    },","    \"colab_type\": \"code\",","    \"id\": \"qUoKpBHJjZM-\",","    \"outputId\": \"9477925d-ee39-4489-e8be-9af3780f9fc4\"","   },","   \"outputs\": [],","   \"source\": [","    \"# UNQ_C2 (UNIQUE CELL IDENTIFIER, DO NOT EDIT)\\n\",","    \"def naive_estimator(t, df):\\n\",","    \"    \\\"\\\"\\\"\\n\",","    \"    Return naive estimate for S(t), the probability\\n\",","    \"    of surviving past time t. Given by number\\n\",","    \"    of cases who survived past time t divided by the\\n\",","    \"    number of cases who weren't censored before time t.\\n\",","    \"    \\n\",","    \"    Args:\\n\",","    \"        t (int): query time\\n\",","    \"        df (dataframe): survival data. Has a Time column,\\n\",","    \"                        which says how long until that case\\n\",","    \"                        experienced an event or was censored,\\n\",","    \"                        and an Event column, which is 1 if an event\\n\",","    \"                        was observed and 0 otherwise.\\n\",","    \"    Returns:\\n\",","    \"        S_t (float): estimator for survival function evaluated at t.\\n\",","    \"    \\\"\\\"\\\"\\n\",","    \"    S_t = 0.0\\n\",","    \"    \\n\",","    \"    ### START CODE HERE ###\\n\",","    \"    \\n\",","    \"    X = df[df['Time'] \u003e t]\\n\",","    \"    \\n\",","    \"    M = df[(df['Time'] \u003e t) | (df['Event'] == 0)].shape[0]\\n\",","    \"    \\n\",","    \"    S_t = X.shape[0]/M\\n\",","    \"    \\n\",","    \"    ### END CODE HERE ###\\n\",","    \"    \\n\",","    \"    return S_t\"","   ]","  },","  {","   \"cell_type\": \"code\",","   \"execution_count\": 9,","   \"metadata\": {},","   \"outputs\": [","    {","     \"name\": \"stdout\",","     \"output_type\": \"stream\",","     \"text\": [","      \"Sample 1 dataframe for testing code:\\n\",","      \"\\n\",","      \"   Time  Event\\n\",","      \"0     5      0\\n\",","      \"1    10      1\\n\",","      \"2    15      0\\n\",","      \"\\n\",","      \"\\n\",","      \"Test Case 1: S(3)\\n\",","      \"Output:  1.0\\n\",","      \"\\n\",","      \"Test Case 2: S(12)\\n\",","      \"Output:  0.5\\n\",","      \"\\n\",","      \"Test Case 3: S(20)\\n\",","      \"Output:  0.0\\n\",","      \"\\n\",","      \"Sample 2 dataframe for testing code:\\n\",","      \"\\n\",","      \"\\n\",","      \"    Time  Event\\n\",","      \"0     5      0\\n\",","      \"1     5      1\\n\",","      \"2    10      0 \\n\",","      \"\\n\",","      \"Test case 4: S(5)\\n\",","      \"Output:  0.5 \\n\",","      \"\\n\",","      \"\\u001b[92m All tests passed.\\n\"","     ]","    }","   ],","   \"source\": [","    \"### do not edit this code cell\\n\",","    \"naive_estimator_test(naive_estimator)    \"","   ]","  },","  {","   \"cell_type\": \"markdown\",","   \"metadata\": {},","   \"source\": [","    \"#### Expected Output:\\n\",","    \"```\\n\",","    \"Test Case 1: S(3)\\n\",","    \"Output:  1.0\\n\",","    \"\\n\",","    \"Test Case 2: S(12)\\n\",","    \"Output:  0.5\\n\",","    \"\\n\",","    \"Test Case 3: S(20)\\n\",","    \"Output:  0.0\\n\",","    \"\\n\",","    \"Test case 4: S(5)\\n\",","    \"Output:  0.5 \\n\",","    \"\\n\",","    \" All tests passed.\\n\",","    \"\\n\",","    \"```\"","   ]","  },","  {","   \"cell_type\": \"markdown\",","   \"metadata\": {","    \"colab_type\": \"text\",","    \"id\": \"gKMsSOzfmGwD\"","   },","   \"source\": [","    \"In the next cell, we will plot the naive estimator using the real data up to the maximum time in the dataset. \"","   ]","  },","  {","   \"cell_type\": \"code\",","   \"execution_count\": 10,","   \"metadata\": {","    \"colab\": {","     \"base_uri\": \"https://localhost:8080/\",","     \"height\": 281","    },","    \"colab_type\": \"code\",","    \"id\": \"nauOrVd9mNDs\",","    \"outputId\": \"fc884506-6758-4d22-ab04-6310145f9ed3\"","   },","   \"outputs\": [","    {","     \"data\": {","      \"image/png\": \"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\\n\",","      \"text/plain\": [","       \"\u003cFigure size 432x288 with 1 Axes\u003e\"","      ]","     },","     \"metadata\": {","      \"needs_background\": \"light\"","     },","     \"output_type\": \"display_data\"","    }","   ],","   \"source\": [","    \"max_time = data.Time.max()\\n\",","    \"x = range(0, max_time+1)\\n\",","    \"y = np.zeros(len(x))\\n\",","    \"for i, t in enumerate(x):\\n\",","    \"    y[i] = naive_estimator(t, data)\\n\",","    \"    \\n\",","    \"plt.plot(x, y)\\n\",","    \"plt.title(\\\"Naive Survival Estimate\\\")\\n\",","    \"plt.xlabel(\\\"Time\\\")\\n\",","    \"plt.ylabel(\\\"Estimated cumulative survival rate\\\")\\n\",","    \"plt.show()\"","   ]","  },","  {","   \"cell_type\": \"markdown\",","   \"metadata\": {","    \"colab_type\": \"text\",","    \"id\": \"jg4VTizxqgKM\"","   },","   \"source\": [","    \"\u003ca name='ex-3'\u003e\u003c/a\u003e\\n\",","    \"### Exercise 3 - HomemadeKM\\n\",","    \"\\n\",","    \"Next let's compare this with the Kaplan Meier estimate. In the cell below, write a function that computes the Kaplan Meier estimate of $S(t)$ at every distinct time in the dataset. \\n\",","    \"\\n\",","    \"Recall the Kaplan-Meier estimate:\\n\",","    \"\\n\",","    \"$$\\n\",","    \"S(t) = \\\\prod_{t_i \\\\leq t} (1 - \\\\frac{d_i}{n_i})\\n\",","    \"$$\\n\",","    \"\\n\",","    \"where $t_i$ are the events observed in the dataset and $d_i$ is the number of deaths at time $t_i$ and $n_i$ is the number of people who we know have survived up to time $t_i$.\"","   ]","  },","  {","   \"cell_type\": \"markdown\",","   \"metadata\": {},","   \"source\": [","    \"\u003cdetails\u003e    \\n\",","    \"\u003csummary\u003e\\n\",","    \"    \u003cfont size=\\\"3\\\" color=\\\"darkgreen\\\"\u003e\u003cb\u003eHints\u003c/b\u003e\u003c/font\u003e\\n\",","    \"\u003c/summary\u003e\\n\",","    \"\u003cp\u003e\\n\",","    \"\u003cul\u003e\\n\",","    \"    \u003cli\u003eTry sorting by Time.\u003c/li\u003e\\n\",","    \"    \u003cli\u003eUse \u003ca href=\\\"https://pandas.pydata.org/pandas-docs/stable/reference/api/pandas.Series.unique.html\\\"\u003epandas.Series.unique\u003ca\u003e \u003c/li\u003e\\n\",","    \"    \u003cli\u003eIf you get a division by zero error, please double-check how you calculated `n_t`\u003c/li\u003e\\n\",","    \"\u003c/ul\u003e\\n\",","    \"\u003c/p\u003e\"","   ]","  },","  {","   \"cell_type\": \"code\",","   \"execution_count\": 11,","   \"metadata\": {","    \"colab\": {","     \"base_uri\": \"https://localhost:8080/\",","     \"height\": 527","    },","    \"colab_type\": \"code\",","    \"id\": \"jnwysrz7CzNG\",","    \"outputId\": \"a26f0a84-98c2-4fe2-c40e-b18402f8bf20\"","   },","   \"outputs\": [],","   \"source\": [","    \"# UNQ_C3 (UNIQUE CELL IDENTIFIER, DO NOT EDIT)\\n\",","    \"def HomemadeKM(df):\\n\",","    \"    \\\"\\\"\\\"\\n\",","    \"    Return KM estimate evaluated at every distinct\\n\",","    \"    time (event or censored) recorded in the dataset.\\n\",","    \"    Event times and probabilities should begin with\\n\",","    \"    time 0 and probability 1.\\n\",","    \"    \\n\",","    \"    Example:\\n\",","    \"    \\n\",","    \"    input: \\n\",","    \"    \\n\",","    \"         Time  Censor\\n\",","    \"    0     5       0\\n\",","    \"    1    10       1\\n\",","    \"    2    15       0\\n\",","    \"    \\n\",","    \"    correct output: \\n\",","    \"    \\n\",","    \"    event_times: [0, 5, 10, 15]\\n\",","    \"    S: [1.0, 1.0, 0.5, 0.5]\\n\",","    \"    \\n\",","    \"    Args:\\n\",","    \"        df (dataframe): dataframe which has columns for Time\\n\",","    \"                          and Event, defined as usual.\\n\",","    \"                          \\n\",","    \"    Returns:\\n\",","    \"        event_times (list of ints): array of unique event times\\n\",","    \"                                      (begins with 0).\\n\",","    \"        S (list of floats): array of survival probabilites, so that\\n\",","    \"                            S[i] = P(T \u003e event_times[i]). This \\n\",","    \"                            begins with 1.0 (since no one dies at time\\n\",","    \"                            0).\\n\",","    \"    \\\"\\\"\\\"\\n\",","    \"    # individuals are considered to have survival probability 1\\n\",","    \"    # at time 0\\n\",","    \"    event_times = [0]\\n\",","    \"    p = 1.0\\n\",","    \"    S = [p]\\n\",","    \"    \\n\",","    \"    ### START CODE HERE (REPLACE INSTANCES OF 'None' with your code) ###\\n\",","    \"    \\n\",","    \"    # get collection of unique observed event times\\n\",","    \"    observed_event_times = df['Time'].unique()\\n\",","    \"  \\n\",","    \"    # sort event times\\n\",","    \"    observed_event_times.sort()\\n\",","    \"    \\n\",","    \"    # iterate through event times\\n\",","    \"    for t in observed_event_times:\\n\",","    \"  \\n\",","    \"        # compute n_t, number of people who survive to time t\\n\",","    \"        n_t = df[df['Time'] \u003e= t].shape[0]\\n\",","    \"  \\n\",","    \"        # compute d_t, number of people who die at time t\\n\",","    \"        d_t = df[(df['Time'] == t) \u0026 (df['Event'] == 1)].shape[0]\\n\",","    \"        \\n\",","    \"        # update p\\n\",","    \"        p = p * (n_t - d_t) / n_t\\n\",","    \"  \\n\",","    \"        # update S and event_times (ADD code below)\\n\",","    \"        # hint: use append\\n\",","    \"        event_times.append(t)\\n\",","    \"        S.append(p)\\n\",","    \"    \\n\",","    \"    ### END CODE HERE ###\\n\",","    \"  \\n\",","    \"    return event_times, S\"","   ]","  },","  {","   \"cell_type\": \"code\",","   \"execution_count\": 12,","   \"metadata\": {},","   \"outputs\": [","    {","     \"name\": \"stdout\",","     \"output_type\": \"stream\",","     \"text\": [","      \"Test Case 1\\n\",","      \"\\n\",","      \"   Time  Event\\n\",","      \"0     5      0\\n\",","      \"1    10      1\\n\",","      \"2    15      0 \\n\",","      \"\\n\",","      \"Test Case 1 Event times: [0, 5, 10, 15], Survival Probabilities: [1.0, 1.0, 0.5, 0.5]\\n\",","      \"\\n\",","      \"Test Case 2\\n\",","      \"\\n\",","      \"   Time  Event\\n\",","      \"0     2      0\\n\",","      \"1    15      0\\n\",","      \"2    12      1\\n\",","      \"3    10      1\\n\",","      \"4    20      1 \\n\",","      \"\\n\",","      \"Test Case 2 Event times: [0, 2, 10, 12, 15, 20], Survival Probabilities: [1.0, 1.0, 0.75, 0.5, 0.5, 0.0] \\n\",","      \"\\n\",","      \"\\u001b[92m All tests passed.\\n\"","     ]","    }","   ],","   \"source\": [","    \"### do not edit this code cell   \\n\",","    \"HomemadeKM_test(HomemadeKM)    \"","   ]","  },","  {","   \"cell_type\": \"markdown\",","   \"metadata\": {},","   \"source\": [","    \"#### Expected Output:\\n\",","    \"```\\n\",","    \"Test Case 1 Event times: [0, 5, 10, 15], Survival Probabilities: [1.0, 1.0, 0.5, 0.5]\\n\",","    \"Test Case 2 Event times: [0, 2, 10, 12, 15, 20], Survival Probabilities: [1.0, 1.0, 0.75, 0.5, 0.5, 0.0] \\n\",","    \"\\n\",","    \" All tests passed.\\n\",","    \"```\"","   ]","  },","  {","   \"cell_type\": \"markdown\",","   \"metadata\": {","    \"colab_type\": \"text\",","    \"id\": \"G7OAiWjS7hLA\"","   },","   \"source\": [","    \"Now let's plot the two against each other on the data to see the difference.\"","   ]","  },","  {","   \"cell_type\": \"code\",","   \"execution_count\": 13,","   \"metadata\": {","    \"colab\": {","     \"base_uri\": \"https://localhost:8080/\",","     \"height\": 265","    },","    \"colab_type\": \"code\",","    \"id\": \"JbPlC5717gM_\",","    \"outputId\": \"06553ed7-9396-4f16-eab3-43a1c6ecddfd\"","   },","   \"outputs\": [","    {","     \"data\": {","      \"image/png\": \"iVBORw0KGgoAAAANSUhEUgAAAYIAAAEGCAYAAABo25JHAAAABHNCSVQICAgIfAhkiAAAAAlwSFlzAAALEgAACxIB0t1+/AAAADh0RVh0U29mdHdhcmUAbWF0cGxvdGxpYiB2ZXJzaW9uMy4xLjIsIGh0dHA6Ly9tYXRwbG90bGliLm9yZy8li6FKAAAgAElEQVR4nO3deXhU9fX48ffJQhIIJBAgJIQlIsoOYgAVRHHFpdBWFG1/2lKfYqtYW6x+1bYW/bZ+ra17bS11twuuLai4K1qlIKAossi+hLAvYRECSc7vj7kThpBMbpK5c28y5/U882TuOieXkJPPLqqKMcaYxJXkdwDGGGP8ZYnAGGMSnCUCY4xJcJYIjDEmwVkiMMaYBJfidwD11b59e+3evbvfYRhjTJOyYMGC7araoaZjTS4RdO/enfnz5/sdhjHGNCkisq62Y1Y1ZIwxCc4SgTHGJDhLBMYYk+CaXBuBMSY4Dh8+THFxMQcPHvQ7FONIT0+noKCA1NRU19dYIjDGNFhxcTGtW7eme/fuiIjf4SQ8VWXHjh0UFxdTWFjo+jrPqoZE5AkR2SoiX9ZyXETkIRFZKSJfiMhgr2Ixxnjj4MGD5OTkWBIICBEhJyen3iU0L9sIngJGRzl+AdDTeU0E/uxhLMYYj1gSCJaG/Ht4VjWkqh+KSPcop4wFntHQPNhzRCRbRPJUdZMX8Wx+7qeU7D7ArMLJXty+3lqmpfCD4YW0SLH2emOMv/xsI+gMbIjYLnb2HZMIRGQioVIDXbt2bdCHVW76gkM7v+bhtSsbdH0shZeAKGzfivP7dvI3GGOaOBFh8uTJ3HvvvQD84Q9/YN++fUyZMqXWa2bMmMGSJUu45ZZb4hRlsDWJxmJVnQpMBSgqKmrQSjr5WRnkZ2WwZsJFMY2tIcrKK+g/5S3mrdlpicCYRkpLS+Pll1/m1ltvpX379q6uGTNmDGPGjPE4sqbDz3qJjUCXiO0CZ593Ni+CJy868pr/pKcfV5u0lGQGdcnmk7U7ffl8Y5qTlJQUJk6cyP3333/MsVdeeYVhw4Zx0kkncc4557BlyxYAnnrqKSZNmkRpaSndunWjsrISgP3799OlSxcOHz7MqlWrGD16NCeffDKnn346y5Yti+v3FU9+lghmAJNEZBowDCj1qn0AgP7jjt7evCj0tWiCZx8ZzbDCdjz83kp+Pf1L7hjbz5cYjImlO15ZzJKSPTG9Z5/8Nvz6G33rPO+6665jwIAB3HzzzUftHzFiBHPmzEFEeOyxx7jnnnuqqpAAsrKyGDRoEB988AGjRo3i1Vdf5fzzzyc1NZWJEyfy6KOP0rNnT+bOncu1117Le++9F9PvLyg8SwQi8k/gTKC9iBQDvwZSAVT1UWAmcCGwEvga8PY3ctGEo3/pP+lvFdGlJ3fhqY/X8vR/13Hz6F60SmsStXTGBFKbNm246qqreOihh8jIyKjaX1xczPjx49m0aROHDh2qsW/9+PHjee655xg1ahTTpk3j2muvZd++fcyePZtLL7206ryysrK4fC9+8LLX0BV1HFfgOq8+P+i65rTkN9/qxw3TFrKp9ADHd2ztd0jGNIqbv9y99NOf/pTBgwczYcKRP/iuv/56Jk+ezJgxY5g1a1aNDchjxozhtttuY+fOnSxYsICzzjqL/fv3k52dzcKFC+P4HfjH+i76KD879JfLxt02PN+YxmrXrh2XXXYZjz/+eNW+0tJSOnfuDMDTTz9d43WZmZkMGTKEG264gYsvvpjk5GTatGlDYWEhL7zwAhAasfv55597/034JLETQbjx2KdG47ysdABKdh/w5fONaW5uvPFGtm/fXrU9ZcoULr30Uk4++eSoPYrGjx/P3/72N8aPH1+17+9//zuPP/44AwcOpG/fvkyfPt3T2P0kqg3qjemboqIijcnCNPOfhEUvhpJBp/4w4bXG37OeDldUcuIvX2fSqOOZfN6Jcf98Yxpr6dKl9O7d2+8wTDU1/buIyAJVLarp/MQtERRNCP3y79T/6G6lcSwdpCYnkdsm3aqGjDG+sq4qkd1KfehSmp+dwZcbSzl4uIL01OS4fa4xxoRZIojsVupDl9IubTP498ISBtzxFid3bUvHNmkApKck0zuvNakRcxEliXBip9ZkZRyZZzwvK52WLeyf0RjTcPYbxGc3je7F0MIcVm/bx9w1O9m0IdRwXHrgMM/N31DH1TCke1te+NFpXodpjGnGLBH4rHN2Bt8ZduxEepWVyvb9ZRDRll9WXsniklLKykPD4V/6dCNfFO+OV6jGmGbKEkFAJSUJHVunH7O/S7uWVe837PyaD5dvs/YFY0yjJG6voWYgt00oUWzZY72OTOLKzMysej9z5kxOOOEE1q1bV+/7rF27ln79YjPv19q1axERfvnLX1bt2759O6mpqUyaNCnqtTNmzODuu++OSRxuWSJowjo5A9I2lVoiMObdd9/lJz/5Ca+//jrdunXzOxwKCwt57bUj45NeeOEF+vatexqOMWPG1GudhPLy8gbFF8kSQXXrPvJtpHF9hUcmW4nAJLoPP/yQH/7wh7z66qv06NEDqH0K6ilTpnDllVdy6qmn0rNnT/76178ec7+1a9dy+umnM3jwYAYPHszs2bMBmDVrFmeeeSbjxo2jV69efPe736W2QbktW7akd+/ehAfAPvfcc1x22WVVx7dt28Yll1zCkCFDGDJkCB9//DFwZIrsaOeEv4fhw4dz5ZVXNvr5WRtBpP7jQolg0Yu+TU9dH+Gqoc1WIjBB8PotR8bixEqn/nBB9GqSsrIyvvnNbzJr1ix69epVtT/aFNRffPEFc+bMYf/+/Zx00klcdNHRXcc7duzI22+/TXp6OitWrOCKK66o+oX+2WefsXjxYvLz8xk+fDgff/wxI0aMqDG2yy+/nGnTppGbm0tycjL5+fmUlJQAcMMNN/Czn/2MESNGsH79es4//3yWLl161PXRzlmyZAkfffTRUbOtNpQlgkhFE45MO/HkRaHEEOCE0Do9lVYtkq1qyCS01NRUTjvtNB5//HEefPDBqv3RpqAeO3YsGRkZZGRkMGrUKD755BMGDRpUdfzw4cNMmjSJhQsXkpyczPLly6uODR06lIKCAgAGDRrE2rVra00Eo0eP5le/+hW5ublHzWME8M4777BkyZKq7T179rBv3z7X54wZMyYmSQAsERwrPNLY54Vr3OqUlc5Ts9eyZc9B+nXOqtrfITONiwfmkZrsrvYvSYTkJPEqTJMI6vjL3StJSUk8//zznH322dx1113cdtttQPQpqEWO/lmvvn3//feTm5vL559/TmVlJenpR3rwpaWlVb1PTk6mvLycuXPncs011wBw5513MmDAAABatGjBySefzL333suSJUuYMWNG1bWVlZXMmTPnqHtXF+2cVq1a1fVoXLNEUF14pPGTFx0pGUBgSwc3j+7FO0u28Mbizbz+5eajj730hev7JCcJF/XPo1NWOvlZ6XzrpAJapCSR0cK6pZrga9myJa+99hqnn346ubm5XH311VGnoJ4+fTq33nor+/fvZ9asWdx9990cOnSo6nhpaSkFBQUkJSXx9NNPU1FREfXzhw0bdtTaBWvXrq16f+ONN3LGGWfQrl27o64577zzePjhh7npppsAWLhw4VGlErfnxIIlgtr4PAeRW+f37cT5fTtx9yUDqKg80mg1f91OPl23y/V9SkoP8srnJRyuqOTg4UqmvBIqjg4rbMdvv9XPFs4xgdeuXTveeOMNRo4cSYcOHaqmoG7bti1nnXUWa9asqTp3wIABjBo1iu3bt/OrX/2K/Pz8o355X3vttVxyySU888wzjB49ulF/ffft27fG3kIPPfRQ1RKb5eXljBw5kkcffbTe58RC4k5DXR/hUoEPU1X74ZM1O/ls/S72l5Xz9H/X8fWhciYML6R7Tivys9M544QOxxSlTWJqitNQT5kyhczMTH7+85/7HYpn6jsNtZUI3GoiDcixMLSwHUMLQ8XYq07rzl2vLWXqh6urjl/QrxPXn9WT1OTak0HXnJakpVi1kjFNgSUCN5pYA3Istc9M477xg/jVxX0oK6/k3ws3cu9bXx3THlFdYftWjBmYT2TB4cg+K00Y/9S0bnGis0TgRmQDcoJq26oFAD86owfn9sll6aY9tZ67v6ycB99ZwYPvrjjm2MPvraRlPRugC9u34oHxgyyBBJSq2r9NgDSkut8Sgam3Hh0y6dEhM+o5lxV1OWpbFZ6avZb/rNhWr8/aVHqQ6QtL+MWFvenYpvZudsYf6enp7Nixg5ycHEsGAaCq7NixI2qX1JpYIjCeOLafNvxgRCE/GFFYyxU1m71yO995bC4rtu6zRBBABQUFFBcXs21b/RK88U56enrVgDe3XCUCEekG9FTVd0QkA0hR1b0NiLHpC89FlEDtBH46PjdU8lixZS/Dj2/vczSmutTU1KNG7Jqmqc5hpyLyQ+BF4C/OrgLg314GFVjhRuNFL/obRwLpkJlGVkYqy7fuq/tkY0yDuCkRXAcMBeYCqOoKEenoaVRBFZ6LyEoFcSMi9OyYyZxVO5j64apjjudlZXDxgDyrnzamEdwkgjJVPRT+jyYiKRy1gGKCaWIzlDYHpxyXwx/fX8ldM5fVePzVL0rIz87g3D65nNbDqo+MqS83ieADEbkNyBCRc4FrgVe8DSvAwqUCEzc/P/9Efnxmj2P2K/Dwuyv45yfrOVRRyd/mrOMbA/JJitHkeQMLsrjy1O4xuZcxQVbnFBMikgRcDZwHCPCmqh67kkOc+DLFRHVPXhQqFVz8gJUKAqL0wGGu/+dnrIpRW8Keg4cpK69k6Z2jbVZW0yw0doqJ61X1QaDql7+I3ODsS0xWPRQ4WRmpPPODoTG737RP1nPLy4vYuOsAXXNaxuy+xgSRm8nqv1fDvu/HOI6mpWgCdKt5IQrTPPToGOq2umq79VYyzV+tiUBErhCRV4BCEZkR8Xof2Onm5iIyWkS+EpGVInLMaswi0lVE3heRz0TkCxG5sOHfijGxEx45HauqJmOCLFrV0GxgE9AeuDdi/16gzhVPRCQZeAQ4FygG5onIDFVdEnHaL4HnVfXPItIHmAl0r9d3YIwH2rVqQduWqazatt/vUIzxXK2JQFXXAeuAUxt476HASlVdDSAi04CxQGQiUKCN8z4LKGngZ/nDxhM0az06ZDJt3npeWlBc4/Hz+ubyx+8MjnNUxsRenY3FInIK8DDQG2gBJAP7VbVN1AuhM7AhYrsYGFbtnCnAWyJyPdAKOKeWGCYCEwG6du1aV8jxYQ3Gzd4tF/Ti3WVbazz28crtfLxye5wjMsYbbnoN/RG4HHgBKAKuAk6I0edfATylqveKyKnAsyLST1UrI09S1anAVAh1H43RZzdOeDxB5LrGYQmweE0iKOrejqLu7Wo89udZq/jdG8vYV1ZOZprN3WiaNje9hlDVlUCyqlao6pPAaBeXbQQi5yIucPZFuhp43vmM/wLphNokmob+46BT/6P3bV5kA84SQEHbDAA27jrgcyTGNJ6bP2W+FpEWwEIRuYdQA7KbBDIP6CkihYQSwOXAd6qdsx44G3hKRHoTSgRNZz7b8II1kRJ48ZpEEk4EG3Z+zYmdWvscjTGN4+YX+pWE2gUmAfsJ/ZV/SV0XqWq5c82bwFJCvYMWi8idIjLGOe1G4Ici8jnwT+D72pDldYyJsy7tQoPMind97XMkxjRenSUCp/cQwAHgjvrcXFVnEuoSGrnv9oj3S4Dh9bmnMUGQ06oF6alJFFvVkGkG3KxHcLEz4GuniOwRkb0iUvuCteZIt1LTbIkIXdq25LGP1vDAO8v9DseYRnFTNfQAoWkmclS1jaq2dtF1NHHZ4jUJ446xfRl5QgceencF//vqErbvK/M7JGMaxE0i2AB8aXX3Ltk8RAnjtB7tefiKkxjUJZunZq/l9ulfcuBQhd9hGVNvbhLBzcBMEblVRCaHX14H1uRZ9VBCyMpI5eVrh/OTs3oyc9FmTvm/d1mz3aalME2Lm+6jvwX2Eera2cLbcJoJG3WccK4d1YNuOS257V+LuOmFzzm9Z4caz8vPTufSoi41HjPGL24SQb6q9vM8kubEVjFLOKnJSXzzpM6UHjjMHa8sZv66XbWe27VdS4YdlxPH6IyJzk0imCki56nqW55HY0wT973TunPlKd1qPHawvIIzfz+L6/7xKfnZGfW+d/ecVjwwflDMluI0JsxNIvgx8HMRKQMOE1quUq3nkDE1q+0XdcsWKdz1rf78fe66Go9Hs6+snBmfl3Bh/06M7pfX2BCNOYqbAWU2fr6hbJpqU805fXI5p09uva+rqFTOue8Dfvz3T0mJSDTpqclMm3gKffOzYhmmSTC1JgIR6aWqy0SkxgnXVfVT78JqBqzB2MRQcpLwwPhBvLl481H7n/3vOv48axX3XjYQgBbJSYhY1ZGpn2glgsmE1gC4t4ZjCpzlSUTNRbjB2EoFJkYGdslmYJfso/aVVypTP1zNq19sAmDsoHwevPwkP8IzTVi0FcomOm8vUNWDkcdEJN3TqJoLKxUYj1036njaZ7bgcIXyxpebWRClt5IxtXHTWDwbqF49VNM+U511IzUey8pIZeLIHgAcOFTBnz9YRXlFJSnJrpYaMQaIMrJYRDqJyMlAhoicJCKDndeZQMu4Rdgc2ChjEwcFbTOoqFQ27zlY98nGRIhWIjgf+D6hlcXuJdRtFGAvcJu3YTUjVj1k4qSgbXiNhANV741xI1obwdPA0yJyiaq+FMeYmpfa1ja2dY1NjIVXTbM1Ekx9ualILBCRNhLymIh8KiLneR5Zc1J9bWNb19h4IC87HRFbNc3Un9Q1u7SIfK6qA0XkfOBHwC+BZ1XVl8bioqIinT9/vh8fHTtPXhSqLrr4ASsVmJg65a532br3YNTG4mQR/nDpQC4aYCOUE4mILFDVopqOuek1FG4buBB4xll32EasNIa1GxiP/Oab/aJOeAfwyuclPPnxGksEpoqbRLBARN4CCoFbRaQ1UOltWM2cdSs1HnEzhUV2y1Tufn0Zk59bSLIzXcUpx+VwyckF8QjRBJCbRHA1MAhYrapfi0gOYH/GGtNEXTK4gH9/tpE5q3cAUHrgMB8s32aJIIG5SQQK9AEuBu4EWhFapMYY0wR1aJ3GGz8dWbX9wDvLeeCdFZSVV5CWkuxjZMYvbnoN/Qk4FbjC2d4LPOJZRMaYuOrsrI2wudQGoiUqN4lgmKpeBxwEUNVd2JKVsREeW2Cjjo2Pwolgo40/SFhuqoYOi0gyoSoiRKQD1ljceP3Hhb5uXhT6ar2HjE86OwPRNu62RJCo3JQIHgL+BXQUkd8CHwF3eRpVIiiaABNeCw00s5KB8VGnrNBANEsEicvNCmV/F5EFwNmExhR8U1WXeh5ZorCSgfFZWkoyHTLT+HT9bt5btuWY44XtMyls38qHyEy8uKkaQlWXAcs8jiUxFU0IvSLnITImznrmZvLh8m18uHzbMccK2mbw0f/YOlTNmatEYOLEVjMzPvnTd09m7fb9x+x/bv4G/vnJeg6VV9IixdY4aK7sXzYowlVENuLY+CArI7VqKczI16Au2ajCplJrP2jO6kwEInK9iLRtyM1FZLSIfCUiK0XkllrOuUxElojIYhH5R0M+p1komgDdRhxpOLbGYxMABdnWoygRuKkaygXmicinwBPAm1rXlKWA0+X0EeBcoNi5xwxVXRJxTk/gVmC4qu4SkY4N+SaajXCpAKzx2ARCvo0xSAh1lghU9ZdAT+BxQiuWrRCRu0SkRx2XDgVWqupqVT0ETAPGVjvnh8AjziA1VHVrPeNvXsJdSsPdSo3xWV52aDYZKxE0b257DamIbAY2A+VAW+BFEXlbVW+u5bLOwIaI7WJgWLVzTgAQkY+BZGCKqr5R/UYiMhGYCNC1a1c3ITcP1Vc1q42tdmY8kpaSTMfWaVYiaObqTAQicgNwFbAdeAy4SVUPi0gSsAKoLRG4/fyewJmE1kb+UET6q+ruyJNUdSowFUIL0zTi85qOyGqiaKwKyXisoG0GL35azPSFJVHPS04S/vidkzi7d/RpsE3wuCkRtAO+rarrIneqaqWIXBzluo1Al4jtAmdfpGJgrqoeBtaIyHJCiWGei7iat/D4grrY+APjsf8Z3YtZNYwvqO6x/6xm3tpdlgiaIDeJ4LjqSUBEnlXVK+sYYTwP6CkihYQSwOXAd6qd829Cs5o+KSLtCVUVrXYdvQkJVyFZFZHxwLDjchh2XE6d5732xSZrS2ii3CSCvpEbTm+gk+u6SFXLRWQS8Cah+v8nnGUu7wTmq+oM59h5IrIEqCBU7bSjvt9EQrMpKkxAdM7OoMQSQZNUayIQkVuB24AMEdkT3g0cwqmvr4uqzgRmVtt3e8R7BSY7L9MQkVNUVG9cthKCiaPObTP4aMV2v8MwDVBr91FV/T9VbQ38XlXbOK/WqpqjqrfGMUbjRv9xR3c53bzIRimbuMrPzmDL3oMcKrdZ6puaaCWCXs5kcy+IyODqx1X1U08jM/VTvXHZGpFNnBVkZ6AaWumsa05Lv8Mx9RCtjeBGQgO+7q3hmAI2HWHQuR2HEGZVSaYRwgvc/OLfi8hueWQRwwv7deKC/nl+hWVcqDURqOoPna+j4heOiRm34xDCrLHZNFK//CwGdslm464DVQPQtu0tY/HGUksEARetaujb0S5U1ZdjH46JGbfjEMKsKsk0UlbLVKZfN/yofY/9ZzW/eW0pm0oPkJeV4VNkpi7Rqoa+EeWYApYImpvIqiSrJjIxcFqP9gDc//Zy7hzbj/TUZJ8jMjWJVjVkvwUSic18ajzQq1NrOrZO4/n5xfTokMk1Z9Q1V6XxQ7Sqof+nqn8TkRr7+Kvqfd6FZeIusirJqolMjCQlCTMmjeCU/3uXtTuOXQHNBEO0qqHwatWt4xGICRirJjIx0ikrnQEFWZTsPuh3KKYW0aqG/uJ8vSN+4ZhAsGoiE2N5Wems3mYlgqBys1TlcSLyiohsE5GtIjJdRI6LR3DGJ9UXyFn3kS2baRol35mHyMXihsYHbhav/wfwPJAH5AMvAP/0MigTIOHSgU1XYRohPyuD/Ycq2HOw3O9QTA3cJIKWqvqsqpY7r78B6V4HZgKiaAJ0G+F3FKaJC699bLOTBlO0XkPtnLevi8gthNYcVmA81WYUNcaYaPKdtY9/PX0xOZmh6SeGdG/HD0YU+hmWcUTrNbSA0C9+cbaviTimgM1Aaoxx5cROrRlW2I5dXx9i94FDbNtbxuxVOywRBES0XkP2L2SMiYmWLVJ47ppTq7b/NGsl97zxFfvLymmV5mZ9LOMlV/8CItIP6ENE24CqPuNVUCaAbFyBiaHOTpvBptIDHN/Rhir5rc5EICK/Bs4klAhmAhcAHwGWCBKFjSswMRZuPN64+6AlggBwUyIYBwwEPlPVCSKSC/zN27BMoNj0EybG8rJClQubrBdRILjpPnpAVSuBchFpA2wFungblgk0G2BmGim3TTpJYt1Jg8JNIpgvItnAXwn1JPoU+K+nUZngsgFmJgZSk5PIbZPO2h1fU/r14VpfNhI5PqQ+D1pEugNtVPULrwKqS1FRkc6fP9+vjzcQqh7avCg0/UQ01qhsorj00dnMW7sr6jnfP607U8b0jVNEzZuILFDVopqOue019G1gBKHxAx8BviUCEwBulsG0RmVThzvG9GPO6h21Hv/73HUs2lgax4gSl5teQ38CjufI/ELXiMg5qnqdp5GZ4HKzDKY1Kps69MlvQ5/8NrUeX1yyh9mrtscxosTlpkRwFtBbnTokEXkaWOxpVKZ5iBx70FhWzZRwOmens2XPQcorKklJdtOcaRrKzdNdCXSN2O7i7DOmdv3H1d2G4NbmRdY4nYDysjOoVNiyt8zvUJq9aJPOvUKoTaA1sFREPnEODQU+qe06YwB31UduWTVTQoqcsTQ8Etl4I1rV0B/iFoUxdYlWzWTVRs1SZ2fGUhtr4L1ok859EH7vjCYe4mx+oqpbvQ7MmCrReilZ76RmKy8rVAqYsbDE9XrHhe1bMbpfJy/Dapbc9Bq6DPg9MIvQlNQPi8hNqmqVtiY+olUzWbVRs9UqLYUTc1vz7rKtvLvM3d+eSQJL/3c0aSnJHkfXvLjpNfQLYEi4FCAiHYB3AEsEJhhi2TupOqt28tXMG07ncEWlq3Nf/nQjt/1rEVtKy+ia09LjyJoXN72GkqpVBe1weR0iMlpEvhKRlc4qZ7Wdd4mIqIjUOOrNmFrFsndSddZbyXfJSUJ6arKrVzfnl/9Ga1OoNzclgjdE5E2ODChztVSliCQDjwDnAsXAPBGZoapLqp3XGrgBmFufwI0BYts7qTqrdmpSqmY0LbVEUF91JgJVvSliigmAqar6Lxf3HgqsVNXVACIyDRgLLKl23v8CvwNuch21MfFSV7WTVR0FRmR3U1M/UROB81f9O6o6Cni5nvfuDGyI2C4GhlW7/2Cgi6q+JiK1JgIRmQhMBOjatWttpxkTW3XNqWQ9lgIlPTWZdq1aUFLqroeROSJqIlDVChGpFJEsVY3p7E8ikgTcB3y/rnNVdSowFUKzj8YyDmNqVVe1k1UdBU5+drqVCBrATRvBPmCRiLwN7A/vVNWf1HHdRo5ewKbA2RfWGugHzBIRgE7ADBEZo6o2z7RpGsJVR1ZFFAh5WRl88NU2Rt7zftW+li2Seex7RRS0tZ5EtXGTCF6m/tVCAPOAniJSSCgBXA58J3zQKWG0D2+LyCzg55YETJMRrjqyKqLAmDC8O5lpR36t7Ssr5+0lW/hs/W5LBFG4aSx+WkRaAL0IzT30laoecnFduYhMAt4EkoEnVHWxiNwJzFfVGY2M3Rh/hauOrIooME7r0Z7TelT9fcneg4fpP+Utqy6qg5uRxRcCfwFWERpZXCgi16jq63Vdq6ozqdbVVFVvr+XcM90EbEwghddxtlJBoLROT6V1eoolgjq4GRh2HzBKVc9U1TOAUcD93oZlTBNi6zgHWn5WhvUkqoObRLBXVSPXH1gN7PUoHmOanqIJ0G1E3ecZX1hPorq5SQTzRWSmiHxfRL4HvEJolPC3nYFmxhg40oNo/pN+R0ZzDCIAAA/dSURBVGIi5GVnWCKog5teQ+nAFuAMZ3sbkAF8g1DjcUN6FBnTvFgPosDqnJ3Brq8Pc+BQBRktbFbSmrjpNWQ/0cbUxXoQBVZ+eIGb0gP06JDpczTB5KZEYIypD5ufKFDCC9xs2n3QEkEtLBEYE0s2P1HgdLbJ6OpkicCYWLL5iQInt006IrZOQTS1JgIRmRztQlW9L/bhGJMAGrOimlUr1VuLlCQ6ZKbZOgVRRCsRtI5bFMYkirqqjqKxaqUGy8/OoGS3DSqrTa2JQFXviGcgxiSExqyoZtVKDdY5O4Olm/b4HUZguZlrKB24GuhLaEwBAKr6Aw/jMsbUxE21klUfHSMvK523lmxm0j8+jXreyJ4duGxIl6jnNEduGoufBZYB5wN3At8FlnoZlDGmBm6qlaz6qEajenXkg+XbWBKlVLBtbxmfrd9tiaAWx6vqpSIy1pmS+h/Af7wOzBhTjZtqJas+qtHw49vz9uQzop5zzxvLmPrhaioqleQkiVNkweAmERx2vu4WkX7AZqCjdyEZYxqlMb2SYqGJVk3lZ2dQXqls31dGbpv0ui9oRtwkgqki0hb4FTADyHTeG2OCpjG9kmKhCVdNhaei2Lj7gCWCGjypqhXAB8BxHsdjjGmMxvRKioUmXDWVHzECeXDXtj5HE19upqFeIyJTReRscVaZN8aY5iacCDYl4HgDNyWCXsDFwHXAEyLyCjBNVT/yNDJjTNPkdxtFA7UBXkjbSbs5LWBVQCen69QfLrg75rets0Sgql+r6vOq+m1gEKHn9UHMIzHGNH39x4V+WTVRaSlJbNtXlnDzErmadE5EzgDGA6OB+cBlXgZljGmi/G6jaKSK9bu4/E+zOb99Ln+5ssjvcOLGzcjitcBnwPPATaq63+ugjDHGDyd1bcvIEzok3LxEbkoEA1TVJukwxiSEztnpLCkp9TuMuIo2DfXNqnoP8FsR0erHVfUnnkZmjDE+yMvKYPu+Qxw8XEF6amKscRytRBCeT2h+PAIxxpggCHcj3Vx6kO7tW/kcTXxEm4b6FeftIlWNPmWfMcY0E/lZzmL3uw9YIohwr4h0Al4EnlPVLz2OyRhjfBMuETw/fwOLS440j/YvyOKU43L8CstTdSYCVR3lJILLgL+ISBtCCeE3nkdnjDFxlpedTofWafx7YQn/XlhStb9zdgYf33KWj5F5x9U4AlXdDDwkIu8DNwO3A5YIjDHNTlpKMrNvOYuy8sqqfX98byVTP1xFeUUlKcluZuZpWur8jkSkt4hMEZFFwMPAbKDA88iMMcYnqclJZKalVL265bSkUmHL3jK/Q/OEm9T2BLALOF9Vz1TVP6vqVjc3F5HRIvKViKwUkVtqOD5ZRJaIyBci8q6IdKtn/MYY47nImUmbo6iJQESSgTWq+qCqlkQ7t5ZrHwEuAPoAV4hIn2qnfQYUqeoAQo3R99TnM4wxJh4iexI1R1ETgbMOQRcRadGAew8FVqrqalU9BEwDxla7//uq+rWzOQercjLGBFBeVYmgeU494aaxeA3wsYjMAKrmGVLV++q4rjOwIWK7GBgW5fyrgddrOiAiE4GJAF27dnURsjHGxE5mWgpt0lPYVNo8SwRuEsEq55UEtPYiCBH5f0ARUOPq0qo6FZgKUFRUdMx0F8YY47X87AxeWlDMRyu2V+1r26oFz/xgKK3SXHXADCw34wjuaOC9NwJdIrYLnH1HEZFzgF8AZ6hq82ySN8Y0edeOOp63l2yp2t629yBzVu9kxdZ9DOqS7WNkjedmGur3gZomnatrZMU8oKeIFBJKAJcD36l275OAvwCj3fZEMsYYP4wZmM+YgflV20tK9nDhQ/9h0+4DzT8RAD+PeJ8OXAKU13WRqpaLyCTgTSAZeEJVF4vIncB8VZ0B/B7IBF5wlkNer6pj6vk9GGNM3OVnh3oSNYfVzNxUDS2otutjEfnEzc1VdSYws9q+2yPen+PmPsYYEzRZGam0bJHcLHoSuakaahexmQScDGR5FpExxjQBIkJ+dkaz6EnkpmpoAaE2AiFUJbSGUFdPY4xJaHlZ6c1ikJmbqqHCeARijDFNTefsDBaX7GHO6h0Nvkdh+1bktkmPYVT1F22pyiHABmfmUUTkKkINxeuAKaq6Mz4hGmNMMBW2b8XO/Ye4fOqcBt/jxNzWvPmzkTGMqv6ilQj+ApwDICIjgbuB64FBhAZ3jfM8OmOMCbDvD+/OoC7ZVGjDxrk+N28Dr3+5GVXF6Tnpi2iJIDnir/7xwFRVfQl4SUQWeh+aMcYEW1pKMsMasWrZ8s17mb6whB37D9E+My2GkdVPtEnnkkUknCjOBt6LONa0x1MbY0wABGV662iJ4J/AByIyHTgA/AdARI4HSuMQmzHGNGv5AZnVtNa/7FX1tyLyLpAHvKVaVQmWRKitwBhjTCMEpUQQtYpHVY9pClfV5d6FY4wxiaNty1TSUpJ8H5Rmdf3GGOMTEaFzdgZvLN7Mtoj1kNu1SuO2C3uRkuxmNeHGs0RgjDE+unhAHtM/L+GzDbsB+PpQBdv2lnFpUQG989rEJQZLBMYY46PJ553I5PNOrNr+dP0uvv2n2WwqPRC3RBCfcocxxhhXOjsNyBvj2JPIEoExxgRI+8w0UpKETXHsSWSJwBhjAiQ5SegU51lNLREYY0zA5GdlxHWQmSUCY4wJmPzsdDbuPsCBQxUcOFTh+edZIjDGmIApaNuSjbsP0Pv2N+h9+xvc88YyTz/Puo8aY0zAXHVqN7IyUqlQ5R9z1/PZ+t2efp4lAmOMCZiObdL54cjjAFhcsodFxd4mAqsaMsaYAMvPTqek9CCVlQ1b/MYNSwTGGBNg+VkZHCqvZMf+Q559hiUCY4wJsPBU1V7OUGqJwBhjAiwvKx3wds0CSwTGGBNg8Zh7yBKBMcYEWHbLVNJTkzyde8gSgTHGBJiIkJ+dQYm1ERhjTOLqnJ1hVUPGGJPI8rLSrWrIGGMSWX52Blv3llFW7s0EdJ4mAhEZLSJfichKEbmlhuNpIvKcc3yuiHT3Mh5jjGmK8rNCPYe2lJbVcWbDeJYIRCQZeAS4AOgDXCEifaqddjWwS1WPB+4HfudVPMYY01SFB5V51WDsZYlgKLBSVVer6iFgGjC22jljgaed9y8CZ4uIeBiTMcY0OXnZ3g4q8zIRdAY2RGwXO/tqPEdVy4FSIKf6jURkoojMF5H527Zt8yhcY4wJpvysDM7tk0tOZpon928S01Cr6lRgKkBRUZF3U/AZY0wAZbRI5q9XFXl2fy9LBBuBLhHbBc6+Gs8RkRQgC9jhYUzGGGOq8TIRzAN6ikihiLQALgdmVDtnBvA95/044D1Vtb/4jTEmjjyrGlLVchGZBLwJJANPqOpiEbkTmK+qM4DHgWdFZCWwk1CyMMYYE0eethGo6kxgZrV9t0e8Pwhc6mUMxhhjorORxcYYk+AsERhjTIKzRGCMMQnOEoExxiQ4aWq9NUVkG7CugZe3B7bHMByvWbzesni9ZfF6q77xdlPVDjUdaHKJoDFEZL6qejc8L8YsXm9ZvN6yeL0Vy3itasgYYxKcJQJjjElwiZYIpvodQD1ZvN6yeL1l8XorZvEmVBuBMcaYYyVaicAYY0w1lgiMMSbBJUwiEJHRIvKViKwUkVv8jqcmIrJWRBaJyEIRme/saycib4vICudrWx/je0JEtorIlxH7aoxPQh5ynvcXIjI4IPFOEZGNzjNeKCIXRhy71Yn3KxE534d4u4jI+yKyREQWi8gNzv7APeMosQb5+aaLyCci8rkT8x3O/kIRmevE9pwzbT4ikuZsr3SOdw9ArE+JyJqI5zvI2d+4nwVVbfYvQtNgrwKOA1oAnwN9/I6rhjjXAu2r7bsHuMV5fwvwOx/jGwkMBr6sKz7gQuB1QIBTgLkBiXcK8PMazu3j/FykAYXOz0tynOPNAwY771sDy524AveMo8Qa5OcrQKbzPhWY6zy354HLnf2PAj923l8LPOq8vxx4LgCxPgWMq+H8Rv0sJEqJYCiwUlVXq+ohYBow1ueY3BoLPO28fxr4pl+BqOqHhNaNiFRbfGOBZzRkDpAtInnxiTSklnhrMxaYpqplqroGWEno5yZuVHWTqn7qvN8LLCW0rnfgnnGUWGsThOerqrrP2Ux1XgqcBbzo7K/+fMPP/UXgbBERn2OtTaN+FhIlEXQGNkRsFxP9h9YvCrwlIgtEZKKzL1dVNznvNwO5/oRWq9riC/Izn+QUn5+IqGoLVLxONcRJhP4SDPQzrhYrBPj5ikiyiCwEtgJvEyqZ7FbV8hriqorZOV4K5PgVq6qGn+9vned7v4iEV7Nv1PNNlETQVIxQ1cHABcB1IjIy8qCGyoCB7e8b9PgcfwZ6AIOATcC9/oZzLBHJBF4CfqqqeyKPBe0Z1xBroJ+vqlao6iBCa6gPBXr5HFKtqscqIv2AWwnFPARoB/xPLD4rURLBRqBLxHaBsy9QVHWj83Ur8C9CP6hbwkU85+tW/yKsUW3xBfKZq+oW5z9YJfBXjlRPBCJeEUkl9Iv176r6srM7kM+4pliD/nzDVHU38D5wKqFqlPBqjZFxVcXsHM8CdsQ51MhYRztVcqqqZcCTxOj5JkoimAf0dHoHtCDU8DPD55iOIiKtRKR1+D1wHvAloTi/55z2PWC6PxHWqrb4ZgBXOb0ZTgFKI6o3fFOt3vRbhJ4xhOK93OkpUgj0BD6Jc2xCaB3vpap6X8ShwD3j2mIN+PPtICLZzvsM4FxCbRvvA+Oc06o/3/BzHwe855TI/Ip1WcQfBEKoLSPy+Tb8ZyFereB+vwi1qi8nVCf4C7/jqSG+4wj1qvgcWByOkVCd5LvACuAdoJ2PMf6TUHH/MKE6yKtri49Q74VHnOe9CCgKSLzPOvF84fznyYs4/xdOvF8BF/gQ7whC1T5fAAud14VBfMZRYg3y8x0AfObE9iVwu7P/OEJJaSXwApDm7E93tlc6x48LQKzvOc/3S+BvHOlZ1KifBZtiwhhjElyiVA0ZY4yphSUCY4xJcJYIjDEmwVkiMMaYBGeJwBhjElxK3acYk5hEJNxtE6ATUAFsc7a/VtXTfAnMmBiz7qPGuCAiU4B9qvoHv2MxJtasasiYBhCRfc7XM0XkAxGZLiKrReRuEfmuM5f8IhHp4ZzXQUReEpF5zmu4v9+BMUdYIjCm8QYCPwJ6A1cCJ6jqUOAx4HrnnAeB+1V1CHCJc8yYQLA2AmMab54687qIyCrgLWf/ImCU8/4coE/EdPZtRCRTj8w5b4xvLBEY03hlEe8rI7YrOfJ/LAk4RVUPxjMwY9ywqiFj4uMtjlQTEV5r1pggsERgTHz8BChyVpZaQqhNwZhAsO6jxhiT4KxEYIwxCc4SgTHGJDhLBMYYk+AsERhjTIKzRGCMMQnOEoExxiQ4SwTGGJPg/j92CSKNxonsgQAAAABJRU5ErkJggg==\\n\",","      \"text/plain\": [","       \"\u003cFigure size 432x288 with 1 Axes\u003e\"","      ]","     },","     \"metadata\": {","      \"needs_background\": \"light\"","     },","     \"output_type\": \"display_data\"","    }","   ],","   \"source\": [","    \"max_time = data.Time.max()\\n\",","    \"x = range(0, max_time+1)\\n\",","    \"y = np.zeros(len(x))\\n\",","    \"for i, t in enumerate(x):\\n\",","    \"    y[i] = naive_estimator(t, data)\\n\",","    \"    \\n\",","    \"plt.plot(x, y, label=\\\"Naive\\\")\\n\",","    \"\\n\",","    \"x, y = HomemadeKM(data)\\n\",","    \"plt.step(x, y, label=\\\"Kaplan-Meier\\\")\\n\",","    \"plt.xlabel(\\\"Time\\\")\\n\",","    \"plt.ylabel(\\\"Survival probability estimate\\\")\\n\",","    \"plt.legend()\\n\",","    \"plt.show()\"","   ]","  },","  {","   \"cell_type\": \"markdown\",","   \"metadata\": {","    \"colab_type\": \"text\",","    \"id\": \"iY__6ufG3sDk\"","   },","   \"source\": [","    \"### Question\\n\",","    \"\\n\",","    \"What differences do you observe between the naive estimator and Kaplan-Meier estimator? Do any of our earlier explorations of the dataset help to explain these differences?\"","   ]","  },","  {","   \"cell_type\": \"markdown\",","   \"metadata\": {","    \"colab_type\": \"text\",","    \"id\": \"i7tElIKVoQ4R\"","   },","   \"source\": [","    \"\u003ca name='5'\u003e\u003c/a\u003e\\n\",","    \"## 5. Subgroup Analysis\\n\",","    \"\\n\",","    \"We see that along with Time and Censor, we have a column called `Stage_group`. \\n\",","    \"- A value of 1 in this column denotes a patient with stage III cancer\\n\",","    \"- A value of 2 denotes stage IV. \\n\",","    \"\\n\",","    \"We want to compare the survival functions of these two groups.\\n\",","    \"\\n\",","    \"This time we'll use the `KaplanMeierFitter` class from `lifelines`. Run the next cell to fit and plot the Kaplan Meier curves for each group. \"","   ]","  },","  {","   \"cell_type\": \"code\",","   \"execution_count\": 14,","   \"metadata\": {","    \"colab\": {","     \"base_uri\": \"https://localhost:8080/\",","     \"height\": 279","    },","    \"colab_type\": \"code\",","    \"id\": \"Ge6P3fgVrZLS\",","    \"outputId\": \"efbf8e54-7623-4d96-e24a-2fbf07ae2aac\"","   },","   \"outputs\": [","    {","     \"data\": {","      \"image/png\": \"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\\n\",","      \"text/plain\": [","       \"\u003cFigure size 432x288 with 1 Axes\u003e\"","      ]","     },","     \"metadata\": {","      \"needs_background\": \"light\"","     },","     \"output_type\": \"display_data\"","    }","   ],","   \"source\": [","    \"S1 = data[data.Stage_group == 1]\\n\",","    \"km1 = KM()\\n\",","    \"km1.fit(S1.loc[:, 'Time'], event_observed = S1.loc[:, 'Event'], label = 'Stage III')\\n\",","    \"\\n\",","    \"S2 = data[data.Stage_group == 2]\\n\",","    \"km2 = KM()\\n\",","    \"km2.fit(S2.loc[:, \\\"Time\\\"], event_observed = S2.loc[:, 'Event'], label = 'Stage IV')\\n\",","    \"\\n\",","    \"ax = km1.plot(ci_show=False)\\n\",","    \"km2.plot(ax = ax, ci_show=False)\\n\",","    \"plt.xlabel('time')\\n\",","    \"plt.ylabel('Survival probability estimate')\\n\",","    \"plt.savefig('two_km_curves', dpi=300)\"","   ]","  },","  {","   \"cell_type\": \"markdown\",","   \"metadata\": {","    \"colab_type\": \"text\",","    \"id\": \"M4DwaOVEs19Q\"","   },","   \"source\": [","    \"Let's compare the survival functions at 90, 180, 270, and 360 days\"","   ]","  },","  {","   \"cell_type\": \"code\",","   \"execution_count\": 15,","   \"metadata\": {","    \"colab\": {},","    \"colab_type\": \"code\",","    \"id\": \"11dhdsUOtEqe\"","   },","   \"outputs\": [],","   \"source\": [","    \"survivals = pd.DataFrame([90, 180, 270, 360], columns = ['time'])\\n\",","    \"survivals.loc[:, 'Group 1'] = km1.survival_function_at_times(survivals['time']).values\\n\",","    \"survivals.loc[:, 'Group 2'] = km2.survival_function_at_times(survivals['time']).values\"","   ]","  },","  {","   \"cell_type\": \"code\",","   \"execution_count\": 16,","   \"metadata\": {","    \"colab\": {","     \"base_uri\": \"https://localhost:8080/\",","     \"height\": 173","    },","    \"colab_type\": \"code\",","    \"id\": \"-zRlM1SAtYdl\",","    \"outputId\": \"3642dc3e-01b0-4e96-e91f-8e39c6c0e3e5\"","   },","   \"outputs\": [","    {","     \"data\": {","      \"text/html\": [","       \"\u003cdiv\u003e\\n\",","       \"\u003cstyle scoped\u003e\\n\",","       \"    .dataframe tbody tr th:only-of-type {\\n\",","       \"        vertical-align: middle;\\n\",","       \"    }\\n\",","       \"\\n\",","       \"    .dataframe tbody tr th {\\n\",","       \"        vertical-align: top;\\n\",","       \"    }\\n\",","       \"\\n\",","       \"    .dataframe thead th {\\n\",","       \"        text-align: right;\\n\",","       \"    }\\n\",","       \"\u003c/style\u003e\\n\",","       \"\u003ctable border=\\\"1\\\" class=\\\"dataframe\\\"\u003e\\n\",","       \"  \u003cthead\u003e\\n\",","       \"    \u003ctr style=\\\"text-align: right;\\\"\u003e\\n\",","       \"      \u003cth\u003e\u003c/th\u003e\\n\",","       \"      \u003cth\u003etime\u003c/th\u003e\\n\",","       \"      \u003cth\u003eGroup 1\u003c/th\u003e\\n\",","       \"      \u003cth\u003eGroup 2\u003c/th\u003e\\n\",","       \"    \u003c/tr\u003e\\n\",","       \"  \u003c/thead\u003e\\n\",","       \"  \u003ctbody\u003e\\n\",","       \"    \u003ctr\u003e\\n\",","       \"      \u003cth\u003e0\u003c/th\u003e\\n\",","       \"      \u003ctd\u003e90\u003c/td\u003e\\n\",","       \"      \u003ctd\u003e0.736842\u003c/td\u003e\\n\",","       \"      \u003ctd\u003e0.424529\u003c/td\u003e\\n\",","       \"    \u003c/tr\u003e\\n\",","       \"    \u003ctr\u003e\\n\",","       \"      \u003cth\u003e1\u003c/th\u003e\\n\",","       \"      \u003ctd\u003e180\u003c/td\u003e\\n\",","       \"      \u003ctd\u003e0.680162\u003c/td\u003e\\n\",","       \"      \u003ctd\u003e0.254066\u003c/td\u003e\\n\",","       \"    \u003c/tr\u003e\\n\",","       \"    \u003ctr\u003e\\n\",","       \"      \u003cth\u003e2\u003c/th\u003e\\n\",","       \"      \u003ctd\u003e270\u003c/td\u003e\\n\",","       \"      \u003ctd\u003e0.524696\u003c/td\u003e\\n\",","       \"      \u003ctd\u003e0.195436\u003c/td\u003e\\n\",","       \"    \u003c/tr\u003e\\n\",","       \"    \u003ctr\u003e\\n\",","       \"      \u003cth\u003e3\u003c/th\u003e\\n\",","       \"      \u003ctd\u003e360\u003c/td\u003e\\n\",","       \"      \u003ctd\u003e0.524696\u003c/td\u003e\\n\",","       \"      \u003ctd\u003e0.195436\u003c/td\u003e\\n\",","       \"    \u003c/tr\u003e\\n\",","       \"  \u003c/tbody\u003e\\n\",","       \"\u003c/table\u003e\\n\",","       \"\u003c/div\u003e\"","      ],","      \"text/plain\": [","       \"   time   Group 1   Group 2\\n\",","       \"0    90  0.736842  0.424529\\n\",","       \"1   180  0.680162  0.254066\\n\",","       \"2   270  0.524696  0.195436\\n\",","       \"3   360  0.524696  0.195436\"","      ]","     },","     \"execution_count\": 16,","     \"metadata\": {},","     \"output_type\": \"execute_result\"","    }","   ],","   \"source\": [","    \"survivals\"","   ]","  },","  {","   \"cell_type\": \"markdown\",","   \"metadata\": {","    \"colab_type\": \"text\",","    \"id\": \"RA3amMk__J6e\"","   },","   \"source\": [","    \"This makes clear the difference in survival between the Stage III and IV cancer groups in the dataset. \"","   ]","  },","  {","   \"cell_type\": \"markdown\",","   \"metadata\": {","    \"colab_type\": \"text\",","    \"id\": \"3VoOQREQoXny\"","   },","   \"source\": [","    \"\u003ca name='5-1'\u003e\u003c/a\u003e\\n\",","    \"## 5.1 Bonus: Log-Rank Test\\n\",","    \"\\n\",","    \"To say whether there is a statistical difference between the survival curves we can run the log-rank test. This test tells us the probability that we could observe this data if the two curves were the same. The derivation of the log-rank test is somewhat complicated, but luckily `lifelines` has a simple function to compute it. \\n\",","    \"\\n\",","    \"Run the next cell to compute a p-value using `lifelines.statistics.logrank_test`.\"","   ]","  },","  {","   \"cell_type\": \"code\",","   \"execution_count\": 17,","   \"metadata\": {","    \"colab\": {","     \"base_uri\": \"https://localhost:8080/\",","     \"height\": 34","    },","    \"colab_type\": \"code\",","    \"id\": \"_7-QIy8ovsgC\",","    \"outputId\": \"c7582d94-4c42-4cae-d83d-72a8873fe985\"","   },","   \"outputs\": [","    {","     \"data\": {","      \"text/plain\": [","       \"0.009588929834755544\"","      ]","     },","     \"execution_count\": 17,","     \"metadata\": {},","     \"output_type\": \"execute_result\"","    }","   ],","   \"source\": [","    \"def logrank_p_value(group_1_data, group_2_data):\\n\",","    \"    result = logrank_test(group_1_data.Time, group_2_data.Time,\\n\",","    \"                          group_1_data.Event, group_2_data.Event)\\n\",","    \"    return result.p_value\\n\",","    \"\\n\",","    \"logrank_p_value(S1, S2)\"","   ]","  },","  {","   \"cell_type\": \"markdown\",","   \"metadata\": {","    \"colab_type\": \"text\",","    \"id\": \"nUbv_csdJRSw\"","   },","   \"source\": [","    \"If everything is correct, you should see a p value of less than 0.05, which indicates that the difference in the curves is indeed statistically significant.\"","   ]","  },","  {","   \"cell_type\": \"markdown\",","   \"metadata\": {},","   \"source\": [","    \"# Congratulations!\\n\",","    \"\\n\",","    \"You've completed the third assignment of Course 2. You've learned about the Kaplan Meier estimator, a fundamental non-parametric estimator in survival analysis. Next week we'll learn how to take into account patient covariates in our survival estimates!\"","   ]","  }"," ],"," \"metadata\": {","  \"colab\": {","   \"collapsed_sections\": [","    \"3VoOQREQoXny\"","   ],","   \"include_colab_link\": true,","   \"name\": \"C2_W3_Assignment.ipynb\",","   \"provenance\": [],","   \"toc_visible\": true","  },","  \"kernelspec\": {","   \"display_name\": \"Python 3\",","   \"language\": \"python\",","   \"name\": \"python3\"","  },","  \"language_info\": {","   \"codemirror_mode\": {","    \"name\": \"ipython\",","    \"version\": 3","   },","   \"file_extension\": \".py\",","   \"mimetype\": \"text/x-python\",","   \"name\": \"python\",","   \"nbconvert_exporter\": \"python\",","   \"pygments_lexer\": \"ipython3\",","   \"version\": \"3.7.6\"","  }"," },"," \"nbformat\": 4,"," \"nbformat_minor\": 4","}"],"stylingDirectives":null,"colorizedLines":null,"csv":null,"csvError":null,"dependabotInfo":{"showConfigurationBanner":false,"configFilePath":null,"networkDependabotPath":"/shantanu1109/Coursera-DeepLearning.AI-AI-FOR-MEDICINE-SPECIALIZATION/network/updates","dismissConfigurationNoticePath":"/settings/dismiss-notice/dependabot_configuration_notice","configurationNoticeDismissed":null},"displayName":"Course-2-Week-3-Practice-Labs-1-Survival-Estimates-that-Vary-with-Time.ipynb","displayUrl":"https://notebooks.githubusercontent.com/view/ipynb?browser=unknown_browser\u0026bypass_fastly=true\u0026color_mode=auto\u0026commit=2fbd40f94e9cd3a72f4e0f0b811aef3b96475b27\u0026device=unknown_device\u0026docs_host=https%3A%2F%2Fdocs.github.com\u0026enc_url=68747470733a2f2f7261772e67697468756275736572636f6e74656e742e636f6d2f7368616e74616e75313130392f436f7572736572612d446565704c6561726e696e672e41492d41492d464f522d4d45444943494e452d5350454349414c495a4154494f4e2f326662643430663934653963643361373266346530663062383131616566336239363437356232372f436f757273652d322d4149253230666f722532304d65646963616c25323050726f676e6f7369732f436f757273652d322d5765656b2d332f436f757273652d322d5765656b2d332d50726163746963652d4c6162732f436f757273652d322d5765656b2d332d50726163746963652d4c6162732d312d537572766976616c2d457374696d617465732d746861742d566172792d776974682d54696d652e6970796e62\u0026logged_in=false\u0026nwo=shantanu1109%2FCoursera-DeepLearning.AI-AI-FOR-MEDICINE-SPECIALIZATION\u0026path=Course-2-AI+for+Medical+Prognosis%2FCourse-2-Week-3%2FCourse-2-Week-3-Practice-Labs%2FCourse-2-Week-3-Practice-Labs-1-Survival-Estimates-that-Vary-with-Time.ipynb\u0026platform=unknown_platform\u0026repository_id=645241650\u0026repository_type=Repository\u0026version=0","headerInfo":{"blobSize":"102 KB","deleteTooltip":"You must be signed in to make or propose changes","editTooltip":"You must be signed in to make or propose changes","ghDesktopPath":"https://desktop.github.com","isGitLfs":false,"onBranch":true,"shortPath":"ab9db49","siteNavLoginPath":"/login?return_to=https%3A%2F%2Fgithub.com%2Fshantanu1109%2FCoursera-DeepLearning.AI-AI-FOR-MEDICINE-SPECIALIZATION%2Fblob%2Fmain%2FCourse-2-AI%2520for%2520Medical%2520Prognosis%2FCourse-2-Week-3%2FCourse-2-Week-3-Practice-Labs%2FCourse-2-Week-3-Practice-Labs-1-Survival-Estimates-that-Vary-with-Time.ipynb","isCSV":false,"isRichtext":false,"toc":null,"lineInfo":{"truncatedLoc":"1164","truncatedSloc":"1164"},"mode":"file"},"image":false,"isCodeownersFile":null,"isPlain":false,"isValidLegacyIssueTemplate":false,"issueTemplate":null,"discussionTemplate":null,"language":"Jupyter Notebook","languageID":185,"large":false,"planSupportInfo":{"repoIsFork":null,"repoOwnedByCurrentUser":null,"requestFullPath":"/shantanu1109/Coursera-DeepLearning.AI-AI-FOR-MEDICINE-SPECIALIZATION/blob/main/Course-2-AI%20for%20Medical%20Prognosis/Course-2-Week-3/Course-2-Week-3-Practice-Labs/Course-2-Week-3-Practice-Labs-1-Survival-Estimates-that-Vary-with-Time.ipynb","showFreeOrgGatedFeatureMessage":null,"showPlanSupportBanner":null,"upgradeDataAttributes":null,"upgradePath":null},"publishBannersInfo":{"dismissActionNoticePath":"/settings/dismiss-notice/publish_action_from_dockerfile","releasePath":"/shantanu1109/Coursera-DeepLearning.AI-AI-FOR-MEDICINE-SPECIALIZATION/releases/new?marketplace=true","showPublishActionBanner":false},"rawBlobUrl":"https://github.com/shantanu1109/Coursera-DeepLearning.AI-AI-FOR-MEDICINE-SPECIALIZATION/raw/main/Course-2-AI%20for%20Medical%20Prognosis/Course-2-Week-3/Course-2-Week-3-Practice-Labs/Course-2-Week-3-Practice-Labs-1-Survival-Estimates-that-Vary-with-Time.ipynb","renderImageOrRaw":false,"richText":null,"renderedFileInfo":{"identityUUID":"3fa140c6-f780-446e-a581-1207c98421ae","renderFileType":"ipynb","size":104610},"shortPath":null,"symbolsEnabled":true,"tabSize":8,"topBannersInfo":{"overridingGlobalFundingFile":false,"globalPreferredFundingPath":null,"showInvalidCitationWarning":false,"citationHelpUrl":"https://docs.github.com/github/creating-cloning-and-archiving-repositories/creating-a-repository-on-github/about-citation-files","actionsOnboardingTip":null},"truncated":false,"viewable":true,"workflowRedirectUrl":null,"symbols":{"timed_out":false,"not_analyzed":true,"symbols":[]}},"copilotInfo":null,"copilotAccessAllowed":false,"csrf_tokens":{"/shantanu1109/Coursera-DeepLearning.AI-AI-FOR-MEDICINE-SPECIALIZATION/branches":{"post":"Rlx0tqZLy2eCN5ExlIKskLdZHgYw9Z-RpDYcXGg07KaK-8S4DcYbLW4wNin9eBZ5dG39QTgEpQAyo3HLzeHglg"},"/repos/preferences":{"post":"rCALZXhx7PudGqt2a9rowlsq61hYuE3dDxFFatjoZTKzgy5nUv8mbyQukIuKoJwbbUf6hZg97jKqUYB2Y_OkkA"}}},"title":"Coursera-DeepLearning.AI-AI-FOR-MEDICINE-SPECIALIZATION/Course-2-AI for Medical Prognosis/Course-2-Week-3/Course-2-Week-3-Practice-Labs/Course-2-Week-3-Practice-Labs-1-Survival-Estimates-that-Vary-with-Time.ipynb at main · shantanu1109/Coursera-DeepLearning.AI-AI-FOR-MEDICINE-SPECIALIZATION","appPayload":{"helpUrl":"https://docs.github.com","findFileWorkerPath":"/assets-cdn/worker/find-file-worker-1583894afd38.js","findInFileWorkerPath":"/assets-cdn/worker/find-in-file-worker-3a63a487027b.js","githubDevUrl":null,"enabled_features":{"code_nav_ui_events":false,"react_blob_overlay":false,"copilot_conversational_ux_embedding_update":false,"copilot_smell_icebreaker_ux":true,"copilot_workspace":false}}}</script>
  <div data-target="react-app.reactRoot"><style data-styled="true" data-styled-version="5.3.6">.jUriTl{font-weight:600;font-size:32px;margin:0;display:-webkit-box;display:-webkit-flex;display:-ms-flexbox;display:flex;font-size:14px;}/*!sc*/
.cgQnMS{font-weight:600;font-size:32px;margin:0;}/*!sc*/
.diwsLq{font-weight:600;font-size:32px;margin:0;font-weight:600;display:inline-block;max-width:100%;font-size:16px;}/*!sc*/
.jAEDJk{font-weight:600;font-size:32px;margin:0;font-weight:600;display:inline-block;max-width:100%;font-size:14px;}/*!sc*/
data-styled.g1[id="Heading__StyledHeading-sc-1c1dgg0-0"]{content:"jUriTl,cgQnMS,diwsLq,jAEDJk,"}/*!sc*/
.fSWWem{padding:0;}/*!sc*/
.kPPmzM{max-width:100%;margin-left:auto;margin-right:auto;display:-webkit-box;display:-webkit-flex;display:-ms-flexbox;display:flex;-webkit-flex-wrap:wrap;-ms-flex-wrap:wrap;flex-wrap:wrap;}/*!sc*/
.cIAPDV{display:-webkit-box;display:-webkit-flex;display:-ms-flexbox;display:flex;-webkit-flex:1 1 100%;-ms-flex:1 1 100%;flex:1 1 100%;-webkit-flex-wrap:wrap;-ms-flex-wrap:wrap;flex-wrap:wrap;max-width:100%;}/*!sc*/
.gvCnwW{width:100%;}/*!sc*/
@media screen and (min-width:544px){.gvCnwW{width:100%;}}/*!sc*/
@media screen and (min-width:768px){.gvCnwW{width:auto;}}/*!sc*/
.esrURn{display:none;-webkit-order:1;-ms-flex-order:1;order:1;width:100%;margin-left:0;margin-right:0;-webkit-flex-direction:column;-ms-flex-direction:column;flex-direction:column;margin-bottom:0;min-width:0;}/*!sc*/
@media screen and (min-width:544px){.esrURn{-webkit-flex-direction:column;-ms-flex-direction:column;flex-direction:column;}}/*!sc*/
@media screen and (min-width:768px){.esrURn{width:auto;margin-top:0 !important;margin-bottom:0 !important;position:-webkit-sticky;position:sticky;top:0px;max-height:var(--sticky-pane-height);-webkit-flex-direction:row;-ms-flex-direction:row;flex-direction:row;margin-right:0;}}/*!sc*/
@media screen and (min-width:769px){.esrURn{height:100vh;max-height:100vh !important;}}/*!sc*/
@media print,screen and (max-width:1011px) and (min-width:768px){.esrURn{display:none;}}/*!sc*/
.eUyHuk{margin-left:0;margin-right:0;display:none;margin-top:0;}/*!sc*/
@media screen and (min-width:768px){.eUyHuk{margin-left:0 !important;margin-right:0 !important;}}/*!sc*/
.gNdDUH{--pane-min-width:256px;--pane-max-width-diff:511px;--pane-max-width:calc(100vw - var(--pane-max-width-diff));width:100%;padding:0;}/*!sc*/
@media screen and (min-width:544px){}/*!sc*/
@media screen and (min-width:768px){.gNdDUH{width:clamp(var(--pane-min-width),var(--pane-width),var(--pane-max-width));overflow:auto;}}/*!sc*/
@media screen and (min-width:1280px){.gNdDUH{--pane-max-width-diff:959px;}}/*!sc*/
.hAeDYA{height:100%;position:relative;display:none;margin-left:0;}/*!sc*/
.fjdBNx{position:absolute;inset:0 -2px;cursor:col-resize;background-color:transparent;-webkit-transition-delay:0.1s;transition-delay:0.1s;}/*!sc*/
.fjdBNx:hover{background-color:var(--bgColor-neutral-muted,var(--color-neutral-muted,rgba(175,184,193,0.2)));}/*!sc*/
.emFMJu{display:-webkit-box;display:-webkit-flex;display:-ms-flexbox;display:flex;-webkit-flex-direction:column;-ms-flex-direction:column;flex-direction:column;-webkit-order:2;-ms-flex-order:2;order:2;-webkit-flex-basis:0;-ms-flex-preferred-size:0;flex-basis:0;-webkit-box-flex:1;-webkit-flex-grow:1;-ms-flex-positive:1;flex-grow:1;-webkit-flex-shrink:1;-ms-flex-negative:1;flex-shrink:1;min-width:1px;margin-right:auto;}/*!sc*/
@media print{.emFMJu{display:-webkit-box !important;display:-webkit-flex !important;display:-ms-flexbox !important;display:flex !important;}}/*!sc*/
.hlUAHL{width:100%;max-width:100%;margin-left:auto;margin-right:auto;-webkit-box-flex:1;-webkit-flex-grow:1;-ms-flex-positive:1;flex-grow:1;padding:0;}/*!sc*/
.iStsmI{margin-left:auto;margin-right:auto;-webkit-flex-direction:column;-ms-flex-direction:column;flex-direction:column;padding-bottom:40px;max-width:100%;margin-top:0;}/*!sc*/
.eIgvIk{display:inherit;}/*!sc*/
.eVFfWF{width:100%;}/*!sc*/
.fywjmm{display:-webkit-box;display:-webkit-flex;display:-ms-flexbox;display:flex;gap:8px;-webkit-flex-direction:column;-ms-flex-direction:column;flex-direction:column;width:100%;}/*!sc*/
.dyczTK{display:-webkit-box;display:-webkit-flex;display:-ms-flexbox;display:flex;-webkit-align-items:start;-webkit-box-align:start;-ms-flex-align:start;align-items:start;-webkit-box-pack:justify;-webkit-justify-content:space-between;-ms-flex-pack:justify;justify-content:space-between;gap:8px;}/*!sc*/
.cpXcux{display:-webkit-box;display:-webkit-flex;display:-ms-flexbox;display:flex;-webkit-align-items:start;-webkit-box-align:start;-ms-flex-align:start;align-items:start;min-width:0;}/*!sc*/
.iPEkxH{display:block;margin-right:8px;}/*!sc*/
@media screen and (min-width:1360px){.iPEkxH{display:block;}}/*!sc*/
.kkrdEu{-webkit-box-pack:center;-webkit-justify-content:center;-ms-flex-pack:center;justify-content:center;}/*!sc*/
.trpoQ{display:-webkit-box;display:-webkit-flex;display:-ms-flexbox;display:flex;pointer-events:none;}/*!sc*/
.bKgizp{display:-webkit-box;display:-webkit-flex;display:-ms-flexbox;display:flex;width:100%;}/*!sc*/
.iPGYsi{margin-right:4px;color:var(--fgColor-muted,var(--color-fg-muted,#656d76));}/*!sc*/
.dKmYfk{font-size:14px;min-width:0;max-width:125px;overflow:hidden;text-overflow:ellipsis;white-space:nowrap;}/*!sc*/
.ehCeGn{-webkit-align-self:center;-ms-flex-item-align:center;align-self:center;display:-webkit-box;display:-webkit-flex;display:-ms-flexbox;display:flex;padding-left:8px;padding-right:8px;min-width:0;}/*!sc*/
.eTvGbF{display:-webkit-box;display:-webkit-flex;display:-ms-flexbox;display:flex;-webkit-flex-direction:row;-ms-flex-direction:row;flex-direction:row;font-size:16px;min-width:0;-webkit-flex-shrink:1;-ms-flex-negative:1;flex-shrink:1;-webkit-flex-wrap:wrap;-ms-flex-wrap:wrap;flex-wrap:wrap;max-width:100%;-webkit-align-items:center;-webkit-box-align:center;-ms-flex-align:center;align-items:center;}/*!sc*/
.kzRgrI{max-width:100%;}/*!sc*/
.cmAPIB{max-width:100%;list-style:none;display:inline-block;}/*!sc*/
.jwXCBK{display:inline-block;max-width:100%;}/*!sc*/
.gtBUEp{min-height:32px;display:-webkit-box;display:-webkit-flex;display:-ms-flexbox;display:flex;-webkit-align-items:start;-webkit-box-align:start;-ms-flex-align:start;align-items:start;}/*!sc*/
.kfYOBR{margin-left:4px;margin-right:4px;}/*!sc*/
.hVZtwF{margin-left:16px;margin-right:16px;}/*!sc*/
.cMYnca{display:-webkit-box;display:-webkit-flex;display:-ms-flexbox;display:flex;-webkit-flex-direction:column;-ms-flex-direction:column;flex-direction:column;}/*!sc*/
.brJRqk{display:-webkit-box;display:-webkit-flex;display:-ms-flexbox;display:flex;-webkit-flex-direction:row;-ms-flex-direction:row;flex-direction:row;-webkit-flex-wrap:wrap;-ms-flex-wrap:wrap;flex-wrap:wrap;-webkit-box-pack:justify;-webkit-justify-content:space-between;-ms-flex-pack:justify;justify-content:space-between;-webkit-align-items:center;-webkit-box-align:center;-ms-flex-align:center;align-items:center;gap:8px;min-width:273px;padding:8px;}/*!sc*/
@media screen and (min-width:544px){.brJRqk{-webkit-flex-wrap:nowrap;-ms-flex-wrap:nowrap;flex-wrap:nowrap;}}/*!sc*/
.iJmJly{display:-webkit-box;display:-webkit-flex;display:-ms-flexbox;display:flex;-webkit-flex-direction:row;-ms-flex-direction:row;flex-direction:row;}/*!sc*/
.jACbi{width:100%;height:-webkit-fit-content;height:-moz-fit-content;height:fit-content;min-width:0;margin-right:0;}/*!sc*/
.gIJuDf{height:40px;padding-left:4px;padding-bottom:16px;}/*!sc*/
.fleZSW{-webkit-align-items:center;-webkit-box-align:center;-ms-flex-align:center;align-items:center;}/*!sc*/
.BnySK{font-size:12px;-webkit-flex:auto;-ms-flex:auto;flex:auto;padding-right:16px;color:var(--fgColor-muted,var(--color-fg-muted,#656d76));min-width:0;}/*!sc*/
.VHzRk{top:0px;z-index:4;background:var(--bgColor-default,var(--color-canvas-default));position:-webkit-sticky;position:sticky;}/*!sc*/
.ePiodO{display:-webkit-box;display:-webkit-flex;display:-ms-flexbox;display:flex;-webkit-flex-direction:column;-ms-flex-direction:column;flex-direction:column;width:100%;position:absolute;}/*!sc*/
.kQJlnf{display:none;min-width:0;padding-top:8px;padding-bottom:8px;}/*!sc*/
.nSWSp{display:-webkit-box;display:-webkit-flex;display:-ms-flexbox;display:flex;-webkit-align-items:center;-webkit-box-align:center;-ms-flex-align:center;align-items:center;overflow:hidden;margin-left:8px;margin-right:8px;-webkit-flex-direction:row;-ms-flex-direction:row;flex-direction:row;-webkit-box-pack:justify;-webkit-justify-content:space-between;-ms-flex-pack:justify;justify-content:space-between;width:100%;}/*!sc*/
.lhFvfi{display:-webkit-box;display:-webkit-flex;display:-ms-flexbox;display:flex;-webkit-align-items:center;-webkit-box-align:center;-ms-flex-align:center;align-items:center;}/*!sc*/
.doiYd{margin-left:4px;margin-right:8px;}/*!sc*/
.jKPiSV{text-overflow:ellipsis;overflow:hidden;display:-webkit-box;display:-webkit-flex;display:-ms-flexbox;display:flex;}/*!sc*/
.iZJewz{display:-webkit-box;display:-webkit-flex;display:-ms-flexbox;display:flex;-webkit-flex-direction:row;-ms-flex-direction:row;flex-direction:row;font-size:14px;min-width:0;-webkit-flex-shrink:1;-ms-flex-negative:1;flex-shrink:1;-webkit-flex-wrap:wrap;-ms-flex-wrap:wrap;flex-wrap:wrap;max-width:100%;-webkit-align-items:center;-webkit-box-align:center;-ms-flex-align:center;align-items:center;}/*!sc*/
.jfjHXm{padding-left:8px;padding-top:8px;padding-bottom:8px;display:-webkit-box;display:-webkit-flex;display:-ms-flexbox;display:flex;-webkit-flex:1;-ms-flex:1;flex:1;-webkit-align-items:center;-webkit-box-align:center;-ms-flex-align:center;align-items:center;-webkit-box-pack:justify;-webkit-justify-content:space-between;-ms-flex-pack:justify;justify-content:space-between;background-color:var(--bgColor-muted,var(--color-canvas-subtle,#f6f8fa));border:1px solid var(--borderColor-default,var(--color-border-default));border-radius:6px 6px 0px 0px;}/*!sc*/
.bfkNRF{display:-webkit-box;display:-webkit-flex;display:-ms-flexbox;display:flex;-webkit-align-items:center;-webkit-box-align:center;-ms-flex-align:center;align-items:center;gap:8px;min-width:0;}/*!sc*/
.fXBLEV{display:block;position:relative;-webkit-box-flex:1;-webkit-flex-grow:1;-ms-flex-positive:1;flex-grow:1;margin-top:-1px;margin-bottom:-1px;--separator-color:transparent;}/*!sc*/
.fXBLEV:not(:last-child){margin-right:1px;}/*!sc*/
.fXBLEV:not(:last-child):after{background-color:var(--separator-color);content:"";position:absolute;right:-2px;top:8px;bottom:8px;width:1px;}/*!sc*/
.fXBLEV:focus-within:has(:focus-visible){--separator-color:transparent;}/*!sc*/
.fXBLEV:first-child{margin-left:-1px;}/*!sc*/
.fXBLEV:last-child{margin-right:-1px;}/*!sc*/
.gMPsNT{display:block;position:relative;-webkit-box-flex:1;-webkit-flex-grow:1;-ms-flex-positive:1;flex-grow:1;margin-top:-1px;margin-bottom:-1px;--separator-color:var(--borderColor-default,var(--color-border-default,#d0d7de));}/*!sc*/
.gMPsNT:not(:last-child){margin-right:1px;}/*!sc*/
.gMPsNT:not(:last-child):after{background-color:var(--separator-color);content:"";position:absolute;right:-2px;top:8px;bottom:8px;width:1px;}/*!sc*/
.gMPsNT:focus-within:has(:focus-visible){--separator-color:transparent;}/*!sc*/
.gMPsNT:first-child{margin-left:-1px;}/*!sc*/
.gMPsNT:last-child{margin-right:-1px;}/*!sc*/
.iBylDf{display:-webkit-box;display:-webkit-flex;display:-ms-flexbox;display:flex;-webkit-align-items:center;-webkit-box-align:center;-ms-flex-align:center;align-items:center;gap:8px;margin-right:8px;}/*!sc*/
.kSGBPx{gap:8px;}/*!sc*/
.ytOJl{border:1px solid;border-top:none;border-color:var(--borderColor-default,var(--color-border-default,#d0d7de));border-radius:0px 0px 6px 6px;min-width:273px;}/*!sc*/
.eJsjkT{background-color:var(--bgColor-default,var(--color-canvas-default));border:0px;border-width:0;border-radius:0px 0px 6px 6px;padding:0;min-width:0;margin-top:46px;overflow:auto;}/*!sc*/
.aZrVR{position:fixed;top:0;right:0;height:100%;width:15px;-webkit-transition:-webkit-transform 0.3s;-webkit-transition:transform 0.3s;transition:transform 0.3s;z-index:1;}/*!sc*/
.aZrVR:hover{-webkit-transform:scaleX(1.5);-ms-transform:scaleX(1.5);transform:scaleX(1.5);}/*!sc*/
.bAzdCq{display:-webkit-box;display:-webkit-flex;display:-ms-flexbox;display:flex;-webkit-flex-direction:column;-ms-flex-direction:column;flex-direction:column;-webkit-align-items:center;-webkit-box-align:center;-ms-flex-align:center;align-items:center;padding-top:16px;padding-bottom:16px;}/*!sc*/
data-styled.g2[id="Box-sc-g0xbh4-0"]{content:"fSWWem,kPPmzM,cIAPDV,gvCnwW,esrURn,eUyHuk,gNdDUH,hAeDYA,fjdBNx,emFMJu,hlUAHL,iStsmI,eIgvIk,eVFfWF,fywjmm,dyczTK,cpXcux,iPEkxH,kkrdEu,trpoQ,bKgizp,iPGYsi,dKmYfk,ehCeGn,eTvGbF,kzRgrI,cmAPIB,jwXCBK,gtBUEp,kfYOBR,hVZtwF,cMYnca,brJRqk,iJmJly,jACbi,gIJuDf,fleZSW,BnySK,VHzRk,ePiodO,kQJlnf,nSWSp,lhFvfi,doiYd,jKPiSV,iZJewz,jfjHXm,bfkNRF,fXBLEV,gMPsNT,iBylDf,kSGBPx,ytOJl,eJsjkT,aZrVR,bAzdCq,"}/*!sc*/
.blmaBs{border-radius:6px;border:1px solid;border-color:transparent;font-family:inherit;font-weight:500;font-size:14px;cursor:pointer;-webkit-appearance:none;-moz-appearance:none;appearance:none;-webkit-user-select:none;-moz-user-select:none;-ms-user-select:none;user-select:none;-webkit-text-decoration:none;text-decoration:none;text-align:center;display:-webkit-box;display:-webkit-flex;display:-ms-flexbox;display:flex;-webkit-align-items:center;-webkit-box-align:center;-ms-flex-align:center;align-items:center;-webkit-box-pack:justify;-webkit-justify-content:space-between;-ms-flex-pack:justify;justify-content:space-between;height:32px;padding:0 12px;gap:8px;min-width:-webkit-max-content;min-width:-moz-max-content;min-width:max-content;-webkit-transition:80ms cubic-bezier(0.65,0,0.35,1);transition:80ms cubic-bezier(0.65,0,0.35,1);-webkit-transition-property:color,fill,background-color,border-color;transition-property:color,fill,background-color,border-color;color:var(--button-default-fgColor-rest,var(--color-btn-text,#24292f));background-color:transparent;box-shadow:none;}/*!sc*/
.blmaBs:focus:not(:disabled){box-shadow:none;outline:2px solid var(--fgColor-accent,var(--color-accent-fg,#0969da));outline-offset:-2px;}/*!sc*/
.blmaBs:focus:not(:disabled):not(:focus-visible){outline:solid 1px transparent;}/*!sc*/
.blmaBs:focus-visible:not(:disabled){box-shadow:none;outline:2px solid var(--fgColor-accent,var(--color-accent-fg,#0969da));outline-offset:-2px;}/*!sc*/
.blmaBs[href]{display:-webkit-inline-box;display:-webkit-inline-flex;display:-ms-inline-flexbox;display:inline-flex;}/*!sc*/
.blmaBs[href]:hover{-webkit-text-decoration:none;text-decoration:none;}/*!sc*/
.blmaBs:hover{-webkit-transition-duration:80ms;transition-duration:80ms;}/*!sc*/
.blmaBs:active{-webkit-transition:none;transition:none;}/*!sc*/
.blmaBs[data-inactive]{cursor:auto;}/*!sc*/
.blmaBs:disabled{cursor:not-allowed;box-shadow:none;color:var(--fgColor-disabled,var(--color-primer-fg-disabled,#8c959f));}/*!sc*/
.blmaBs:disabled [data-component=ButtonCounter],.blmaBs:disabled [data-component="leadingVisual"],.blmaBs:disabled [data-component="trailingAction"]{color:inherit;}/*!sc*/
@media (forced-colors:active){.blmaBs:focus{outline:solid 1px transparent;}}/*!sc*/
.blmaBs [data-component=ButtonCounter]{font-size:12px;}/*!sc*/
.blmaBs[data-component=IconButton]{display:inline-grid;padding:unset;place-content:center;width:32px;min-width:unset;}/*!sc*/
.blmaBs[data-size="small"]{padding:0 8px;height:28px;gap:4px;font-size:12px;}/*!sc*/
.blmaBs[data-size="small"] [data-component="text"]{line-height:calc(20 / 12);}/*!sc*/
.blmaBs[data-size="small"] [data-component=ButtonCounter]{font-size:12px;}/*!sc*/
.blmaBs[data-size="small"] [data-component="buttonContent"] > :not(:last-child){margin-right:4px;}/*!sc*/
.blmaBs[data-size="small"][data-component=IconButton]{width:28px;padding:unset;}/*!sc*/
.blmaBs[data-size="large"]{padding:0 16px;height:40px;gap:8px;}/*!sc*/
.blmaBs[data-size="large"] [data-component="buttonContent"] > :not(:last-child){margin-right:8px;}/*!sc*/
.blmaBs[data-size="large"][data-component=IconButton]{width:40px;padding:unset;}/*!sc*/
.blmaBs[data-block="block"]{width:100%;}/*!sc*/
.blmaBs[data-inactive]:not([disabled]){background-color:var(--button-inactive-bgColor,var(--button-inactive-bgColor-rest,var(--color-btn-inactive-bg,#eaeef2)));border-color:var(--button-inactive-bgColor,var(--button-inactive-bgColor-rest,var(--color-btn-inactive-bg,#eaeef2)));color:var(--button-inactive-fgColor,var(--button-inactive-fgColor-rest,var(--color-btn-inactive-text,#57606a)));}/*!sc*/
.blmaBs[data-inactive]:not([disabled]):focus-visible{box-shadow:none;}/*!sc*/
.blmaBs [data-component="leadingVisual"]{grid-area:leadingVisual;color:var(--fgColor-muted,var(--color-fg-muted,#656d76));}/*!sc*/
.blmaBs [data-component="text"]{grid-area:text;line-height:calc(20/14);white-space:nowrap;}/*!sc*/
.blmaBs [data-component="trailingVisual"]{grid-area:trailingVisual;}/*!sc*/
.blmaBs [data-component="trailingAction"]{margin-right:-4px;color:var(--fgColor-muted,var(--color-fg-muted,#656d76));}/*!sc*/
.blmaBs [data-component="buttonContent"]{-webkit-flex:1 0 auto;-ms-flex:1 0 auto;flex:1 0 auto;display:grid;grid-template-areas:"leadingVisual text trailingVisual";grid-template-columns:min-content minmax(0,auto) min-content;-webkit-align-items:center;-webkit-box-align:center;-ms-flex-align:center;align-items:center;-webkit-align-content:center;-ms-flex-line-pack:center;align-content:center;}/*!sc*/
.blmaBs [data-component="buttonContent"] > :not(:last-child){margin-right:8px;}/*!sc*/
.blmaBs:hover:not([disabled]){background-color:var(--control-transparent-bgColor-hover,var(--color-action-list-item-default-hover-bg,rgba(208,215,222,0.32)));}/*!sc*/
.blmaBs:active:not([disabled]){background-color:var(--control-transparent-bgColor-active,var(--color-action-list-item-default-active-bg,rgba(208,215,222,0.48)));}/*!sc*/
.blmaBs[aria-expanded=true]{background-color:var(--control-transparent-bgColor-selected,var(--color-action-list-item-default-selected-bg,rgba(208,215,222,0.24)));}/*!sc*/
.blmaBs[data-component="IconButton"][data-no-visuals]{color:var(--fgColor-muted,var(--color-fg-muted,#656d76));}/*!sc*/
.blmaBs[data-no-visuals]{color:var(--fgColor-accent,var(--color-accent-fg,#0969da));}/*!sc*/
.blmaBs:has([data-component="ButtonCounter"]){color:var(--button-default-fgColor-rest,var(--color-btn-text,#24292f));}/*!sc*/
.blmaBs:disabled[data-no-visuals]{color:var(--fgColor-disabled,var(--color-primer-fg-disabled,#8c959f));}/*!sc*/
.blmaBs:disabled[data-no-visuals] [data-component=ButtonCounter]{color:inherit;}/*!sc*/
.blmaBs{color:var(--fgColor-muted,var(--color-fg-muted,#656d76));padding-left:8px;padding-right:8px;display:none;}/*!sc*/
@media screen and (max-width:768px){.blmaBs{display:block;}}/*!sc*/
.hkJzmn{border-radius:6px;border:1px solid;border-color:transparent;font-family:inherit;font-weight:500;font-size:14px;cursor:pointer;-webkit-appearance:none;-moz-appearance:none;appearance:none;-webkit-user-select:none;-moz-user-select:none;-ms-user-select:none;user-select:none;-webkit-text-decoration:none;text-decoration:none;text-align:center;display:-webkit-box;display:-webkit-flex;display:-ms-flexbox;display:flex;-webkit-align-items:center;-webkit-box-align:center;-ms-flex-align:center;align-items:center;-webkit-box-pack:justify;-webkit-justify-content:space-between;-ms-flex-pack:justify;justify-content:space-between;height:32px;padding:0 12px;gap:8px;min-width:-webkit-max-content;min-width:-moz-max-content;min-width:max-content;-webkit-transition:80ms cubic-bezier(0.65,0,0.35,1);transition:80ms cubic-bezier(0.65,0,0.35,1);-webkit-transition-property:color,fill,background-color,border-color;transition-property:color,fill,background-color,border-color;color:var(--button-default-fgColor-rest,var(--color-btn-text,#24292f));background-color:transparent;box-shadow:none;}/*!sc*/
.hkJzmn:focus:not(:disabled){box-shadow:none;outline:2px solid var(--fgColor-accent,var(--color-accent-fg,#0969da));outline-offset:-2px;}/*!sc*/
.hkJzmn:focus:not(:disabled):not(:focus-visible){outline:solid 1px transparent;}/*!sc*/
.hkJzmn:focus-visible:not(:disabled){box-shadow:none;outline:2px solid var(--fgColor-accent,var(--color-accent-fg,#0969da));outline-offset:-2px;}/*!sc*/
.hkJzmn[href]{display:-webkit-inline-box;display:-webkit-inline-flex;display:-ms-inline-flexbox;display:inline-flex;}/*!sc*/
.hkJzmn[href]:hover{-webkit-text-decoration:none;text-decoration:none;}/*!sc*/
.hkJzmn:hover{-webkit-transition-duration:80ms;transition-duration:80ms;}/*!sc*/
.hkJzmn:active{-webkit-transition:none;transition:none;}/*!sc*/
.hkJzmn[data-inactive]{cursor:auto;}/*!sc*/
.hkJzmn:disabled{cursor:not-allowed;box-shadow:none;color:var(--fgColor-disabled,var(--color-primer-fg-disabled,#8c959f));}/*!sc*/
.hkJzmn:disabled [data-component=ButtonCounter],.hkJzmn:disabled [data-component="leadingVisual"],.hkJzmn:disabled [data-component="trailingAction"]{color:inherit;}/*!sc*/
@media (forced-colors:active){.hkJzmn:focus{outline:solid 1px transparent;}}/*!sc*/
.hkJzmn [data-component=ButtonCounter]{font-size:12px;}/*!sc*/
.hkJzmn[data-component=IconButton]{display:inline-grid;padding:unset;place-content:center;width:32px;min-width:unset;}/*!sc*/
.hkJzmn[data-size="small"]{padding:0 8px;height:28px;gap:4px;font-size:12px;}/*!sc*/
.hkJzmn[data-size="small"] [data-component="text"]{line-height:calc(20 / 12);}/*!sc*/
.hkJzmn[data-size="small"] [data-component=ButtonCounter]{font-size:12px;}/*!sc*/
.hkJzmn[data-size="small"] [data-component="buttonContent"] > :not(:last-child){margin-right:4px;}/*!sc*/
.hkJzmn[data-size="small"][data-component=IconButton]{width:28px;padding:unset;}/*!sc*/
.hkJzmn[data-size="large"]{padding:0 16px;height:40px;gap:8px;}/*!sc*/
.hkJzmn[data-size="large"] [data-component="buttonContent"] > :not(:last-child){margin-right:8px;}/*!sc*/
.hkJzmn[data-size="large"][data-component=IconButton]{width:40px;padding:unset;}/*!sc*/
.hkJzmn[data-block="block"]{width:100%;}/*!sc*/
.hkJzmn[data-inactive]:not([disabled]){background-color:var(--button-inactive-bgColor,var(--button-inactive-bgColor-rest,var(--color-btn-inactive-bg,#eaeef2)));border-color:var(--button-inactive-bgColor,var(--button-inactive-bgColor-rest,var(--color-btn-inactive-bg,#eaeef2)));color:var(--button-inactive-fgColor,var(--button-inactive-fgColor-rest,var(--color-btn-inactive-text,#57606a)));}/*!sc*/
.hkJzmn[data-inactive]:not([disabled]):focus-visible{box-shadow:none;}/*!sc*/
.hkJzmn [data-component="leadingVisual"]{grid-area:leadingVisual;color:var(--fgColor-muted,var(--color-fg-muted,#656d76));}/*!sc*/
.hkJzmn [data-component="text"]{grid-area:text;line-height:calc(20/14);white-space:nowrap;}/*!sc*/
.hkJzmn [data-component="trailingVisual"]{grid-area:trailingVisual;}/*!sc*/
.hkJzmn [data-component="trailingAction"]{margin-right:-4px;color:var(--fgColor-muted,var(--color-fg-muted,#656d76));}/*!sc*/
.hkJzmn [data-component="buttonContent"]{-webkit-flex:1 0 auto;-ms-flex:1 0 auto;flex:1 0 auto;display:grid;grid-template-areas:"leadingVisual text trailingVisual";grid-template-columns:min-content minmax(0,auto) min-content;-webkit-align-items:center;-webkit-box-align:center;-ms-flex-align:center;align-items:center;-webkit-align-content:center;-ms-flex-line-pack:center;align-content:center;}/*!sc*/
.hkJzmn [data-component="buttonContent"] > :not(:last-child){margin-right:8px;}/*!sc*/
.hkJzmn:hover:not([disabled]){background-color:var(--control-transparent-bgColor-hover,var(--color-action-list-item-default-hover-bg,rgba(208,215,222,0.32)));}/*!sc*/
.hkJzmn:active:not([disabled]){background-color:var(--control-transparent-bgColor-active,var(--color-action-list-item-default-active-bg,rgba(208,215,222,0.48)));}/*!sc*/
.hkJzmn[aria-expanded=true]{background-color:var(--control-transparent-bgColor-selected,var(--color-action-list-item-default-selected-bg,rgba(208,215,222,0.24)));}/*!sc*/
.hkJzmn[data-component="IconButton"][data-no-visuals]{color:var(--fgColor-muted,var(--color-fg-muted,#656d76));}/*!sc*/
.hkJzmn[data-no-visuals]{color:var(--fgColor-muted,var(--color-fg-muted,#656d76));height:32px;position:relative;}/*!sc*/
@media screen and (max-width:768px){.hkJzmn[data-no-visuals]{display:none;}}/*!sc*/
.hkJzmn:has([data-component="ButtonCounter"]){color:var(--button-default-fgColor-rest,var(--color-btn-text,#24292f));}/*!sc*/
.hkJzmn:disabled[data-no-visuals]{color:var(--fgColor-disabled,var(--color-primer-fg-disabled,#8c959f));}/*!sc*/
.hkJzmn:disabled[data-no-visuals] [data-component=ButtonCounter]{color:inherit;}/*!sc*/
.hILMMl{border-radius:6px;border:1px solid;border-color:var(--button-default-borderColor-rest,var(--button-default-borderColor-rest,var(--color-btn-border,rgba(31,35,40,0.15))));font-family:inherit;font-weight:500;font-size:14px;cursor:pointer;-webkit-appearance:none;-moz-appearance:none;appearance:none;-webkit-user-select:none;-moz-user-select:none;-ms-user-select:none;user-select:none;-webkit-text-decoration:none;text-decoration:none;text-align:center;display:-webkit-box;display:-webkit-flex;display:-ms-flexbox;display:flex;-webkit-align-items:center;-webkit-box-align:center;-ms-flex-align:center;align-items:center;-webkit-box-pack:justify;-webkit-justify-content:space-between;-ms-flex-pack:justify;justify-content:space-between;height:32px;padding:0 12px;gap:8px;min-width:-webkit-max-content;min-width:-moz-max-content;min-width:max-content;-webkit-transition:80ms cubic-bezier(0.65,0,0.35,1);transition:80ms cubic-bezier(0.65,0,0.35,1);-webkit-transition-property:color,fill,background-color,border-color;transition-property:color,fill,background-color,border-color;color:var(--button-default-fgColor-rest,var(--color-btn-text,#24292f));background-color:var(--button-default-bgColor-rest,var(--color-btn-bg,#f6f8fa));box-shadow:var(--button-default-shadow-resting,var(--color-btn-shadow,0 1px 0 rgba(31,35,40,0.04))),var(--button-default-shadow-inset,var(--color-btn-inset-shadow,inset 0 1px 0 rgba(255,255,255,0.25)));}/*!sc*/
.hILMMl:focus:not(:disabled){box-shadow:none;outline:2px solid var(--fgColor-accent,var(--color-accent-fg,#0969da));outline-offset:-2px;}/*!sc*/
.hILMMl:focus:not(:disabled):not(:focus-visible){outline:solid 1px transparent;}/*!sc*/
.hILMMl:focus-visible:not(:disabled){box-shadow:none;outline:2px solid var(--fgColor-accent,var(--color-accent-fg,#0969da));outline-offset:-2px;}/*!sc*/
.hILMMl[href]{display:-webkit-inline-box;display:-webkit-inline-flex;display:-ms-inline-flexbox;display:inline-flex;}/*!sc*/
.hILMMl[href]:hover{-webkit-text-decoration:none;text-decoration:none;}/*!sc*/
.hILMMl:hover{-webkit-transition-duration:80ms;transition-duration:80ms;}/*!sc*/
.hILMMl:active{-webkit-transition:none;transition:none;}/*!sc*/
.hILMMl[data-inactive]{cursor:auto;}/*!sc*/
.hILMMl:disabled{cursor:not-allowed;box-shadow:none;color:var(--fgColor-disabled,var(--color-primer-fg-disabled,#8c959f));border-color:var(--button-default-borderColor-disabled,var(--button-default-borderColor-rest,var(--color-btn-border,rgba(31,35,40,0.15))));background-color:var(--button-default-bgColor-disabled,var(--control-bgColor-disabled,var(--color-input-disabled-bg,rgba(175,184,193,0.2))));}/*!sc*/
.hILMMl:disabled [data-component=ButtonCounter]{color:inherit;}/*!sc*/
@media (forced-colors:active){.hILMMl:focus{outline:solid 1px transparent;}}/*!sc*/
.hILMMl [data-component=ButtonCounter]{font-size:12px;background-color:var(--buttonCounter-default-bgColor-rest,var(--color-btn-counter-bg,rgba(31,35,40,0.08)));}/*!sc*/
.hILMMl[data-component=IconButton]{display:inline-grid;padding:unset;place-content:center;width:32px;min-width:unset;}/*!sc*/
.hILMMl[data-size="small"]{padding:0 8px;height:28px;gap:4px;font-size:12px;}/*!sc*/
.hILMMl[data-size="small"] [data-component="text"]{line-height:calc(20 / 12);}/*!sc*/
.hILMMl[data-size="small"] [data-component=ButtonCounter]{font-size:12px;}/*!sc*/
.hILMMl[data-size="small"] [data-component="buttonContent"] > :not(:last-child){margin-right:4px;}/*!sc*/
.hILMMl[data-size="small"][data-component=IconButton]{width:28px;padding:unset;}/*!sc*/
.hILMMl[data-size="large"]{padding:0 16px;height:40px;gap:8px;}/*!sc*/
.hILMMl[data-size="large"] [data-component="buttonContent"] > :not(:last-child){margin-right:8px;}/*!sc*/
.hILMMl[data-size="large"][data-component=IconButton]{width:40px;padding:unset;}/*!sc*/
.hILMMl[data-block="block"]{width:100%;}/*!sc*/
.hILMMl[data-inactive]:not([disabled]){background-color:var(--button-inactive-bgColor,var(--button-inactive-bgColor-rest,var(--color-btn-inactive-bg,#eaeef2)));border-color:var(--button-inactive-bgColor,var(--button-inactive-bgColor-rest,var(--color-btn-inactive-bg,#eaeef2)));color:var(--button-inactive-fgColor,var(--button-inactive-fgColor-rest,var(--color-btn-inactive-text,#57606a)));}/*!sc*/
.hILMMl[data-inactive]:not([disabled]):focus-visible{box-shadow:none;}/*!sc*/
.hILMMl [data-component="leadingVisual"]{grid-area:leadingVisual;}/*!sc*/
.hILMMl [data-component="text"]{grid-area:text;line-height:calc(20/14);white-space:nowrap;}/*!sc*/
.hILMMl [data-component="trailingVisual"]{grid-area:trailingVisual;}/*!sc*/
.hILMMl [data-component="trailingAction"]{margin-right:-4px;}/*!sc*/
.hILMMl [data-component="buttonContent"]{-webkit-flex:1 0 auto;-ms-flex:1 0 auto;flex:1 0 auto;display:grid;grid-template-areas:"leadingVisual text trailingVisual";grid-template-columns:min-content minmax(0,auto) min-content;-webkit-align-items:center;-webkit-box-align:center;-ms-flex-align:center;align-items:center;-webkit-align-content:center;-ms-flex-line-pack:center;align-content:center;}/*!sc*/
.hILMMl [data-component="buttonContent"] > :not(:last-child){margin-right:8px;}/*!sc*/
.hILMMl:hover:not([disabled]):not([data-inactive]){background-color:var(--button-default-bgColor-hover,var(--color-btn-hover-bg,#f3f4f6));border-color:var(--button-default-borderColor-hover,var(--button-default-borderColor-hover,var(--color-btn-hover-border,rgba(31,35,40,0.15))));}/*!sc*/
.hILMMl:active:not([disabled]):not([data-inactive]){background-color:var(--button-default-bgColor-active,var(--color-btn-active-bg,hsla(220,14%,93%,1)));border-color:var(--button-default-borderColor-active,var(--button-default-borderColor-active,var(--color-btn-active-border,rgba(31,35,40,0.15))));}/*!sc*/
.hILMMl[aria-expanded=true]{background-color:var(--button-default-bgColor-active,var(--color-btn-active-bg,hsla(220,14%,93%,1)));border-color:var(--button-default-borderColor-active,var(--button-default-borderColor-active,var(--color-btn-active-border,rgba(31,35,40,0.15))));}/*!sc*/
.hILMMl [data-component="leadingVisual"],.hILMMl [data-component="trailingVisual"],.hILMMl [data-component="trailingAction"]{color:var(--button-color,var(--fgColor-muted,var(--color-fg-muted,#656d76)));}/*!sc*/
.hILMMl[data-component="IconButton"][data-no-visuals]{color:var(--fgColor-muted,var(--color-fg-muted,#656d76));}/*!sc*/
.hILMMl{display:-webkit-box;display:-webkit-flex;display:-ms-flexbox;display:flex;}/*!sc*/
.hILMMl svg{color:var(--fgColor-muted,var(--color-fg-muted,#656d76));}/*!sc*/
.hILMMl > span{width:inherit;}/*!sc*/
.dOnKJi{border-radius:6px;border:1px solid;border-color:transparent;font-family:inherit;font-weight:500;font-size:14px;cursor:pointer;-webkit-appearance:none;-moz-appearance:none;appearance:none;-webkit-user-select:none;-moz-user-select:none;-ms-user-select:none;user-select:none;-webkit-text-decoration:none;text-decoration:none;text-align:center;display:-webkit-box;display:-webkit-flex;display:-ms-flexbox;display:flex;-webkit-align-items:center;-webkit-box-align:center;-ms-flex-align:center;align-items:center;-webkit-box-pack:justify;-webkit-justify-content:space-between;-ms-flex-pack:justify;justify-content:space-between;height:32px;padding:0 12px;gap:8px;min-width:-webkit-max-content;min-width:-moz-max-content;min-width:max-content;-webkit-transition:80ms cubic-bezier(0.65,0,0.35,1);transition:80ms cubic-bezier(0.65,0,0.35,1);-webkit-transition-property:color,fill,background-color,border-color;transition-property:color,fill,background-color,border-color;color:var(--button-default-fgColor-rest,var(--color-btn-text,#24292f));background-color:transparent;box-shadow:none;}/*!sc*/
.dOnKJi:focus:not(:disabled){box-shadow:none;outline:2px solid var(--fgColor-accent,var(--color-accent-fg,#0969da));outline-offset:-2px;}/*!sc*/
.dOnKJi:focus:not(:disabled):not(:focus-visible){outline:solid 1px transparent;}/*!sc*/
.dOnKJi:focus-visible:not(:disabled){box-shadow:none;outline:2px solid var(--fgColor-accent,var(--color-accent-fg,#0969da));outline-offset:-2px;}/*!sc*/
.dOnKJi[href]{display:-webkit-inline-box;display:-webkit-inline-flex;display:-ms-inline-flexbox;display:inline-flex;}/*!sc*/
.dOnKJi[href]:hover{-webkit-text-decoration:none;text-decoration:none;}/*!sc*/
.dOnKJi:hover{-webkit-transition-duration:80ms;transition-duration:80ms;}/*!sc*/
.dOnKJi:active{-webkit-transition:none;transition:none;}/*!sc*/
.dOnKJi[data-inactive]{cursor:auto;}/*!sc*/
.dOnKJi:disabled{cursor:not-allowed;box-shadow:none;color:var(--fgColor-disabled,var(--color-primer-fg-disabled,#8c959f));}/*!sc*/
.dOnKJi:disabled [data-component=ButtonCounter],.dOnKJi:disabled [data-component="leadingVisual"],.dOnKJi:disabled [data-component="trailingAction"]{color:inherit;}/*!sc*/
@media (forced-colors:active){.dOnKJi:focus{outline:solid 1px transparent;}}/*!sc*/
.dOnKJi [data-component=ButtonCounter]{font-size:12px;}/*!sc*/
.dOnKJi[data-component=IconButton]{display:inline-grid;padding:unset;place-content:center;width:32px;min-width:unset;}/*!sc*/
.dOnKJi[data-size="small"]{padding:0 8px;height:28px;gap:4px;font-size:12px;}/*!sc*/
.dOnKJi[data-size="small"] [data-component="text"]{line-height:calc(20 / 12);}/*!sc*/
.dOnKJi[data-size="small"] [data-component=ButtonCounter]{font-size:12px;}/*!sc*/
.dOnKJi[data-size="small"] [data-component="buttonContent"] > :not(:last-child){margin-right:4px;}/*!sc*/
.dOnKJi[data-size="small"][data-component=IconButton]{width:28px;padding:unset;}/*!sc*/
.dOnKJi[data-size="large"]{padding:0 16px;height:40px;gap:8px;}/*!sc*/
.dOnKJi[data-size="large"] [data-component="buttonContent"] > :not(:last-child){margin-right:8px;}/*!sc*/
.dOnKJi[data-size="large"][data-component=IconButton]{width:40px;padding:unset;}/*!sc*/
.dOnKJi[data-block="block"]{width:100%;}/*!sc*/
.dOnKJi[data-inactive]:not([disabled]){background-color:var(--button-inactive-bgColor,var(--button-inactive-bgColor-rest,var(--color-btn-inactive-bg,#eaeef2)));border-color:var(--button-inactive-bgColor,var(--button-inactive-bgColor-rest,var(--color-btn-inactive-bg,#eaeef2)));color:var(--button-inactive-fgColor,var(--button-inactive-fgColor-rest,var(--color-btn-inactive-text,#57606a)));}/*!sc*/
.dOnKJi[data-inactive]:not([disabled]):focus-visible{box-shadow:none;}/*!sc*/
.dOnKJi [data-component="leadingVisual"]{grid-area:leadingVisual;color:var(--fgColor-muted,var(--color-fg-muted,#656d76));}/*!sc*/
.dOnKJi [data-component="text"]{grid-area:text;line-height:calc(20/14);white-space:nowrap;}/*!sc*/
.dOnKJi [data-component="trailingVisual"]{grid-area:trailingVisual;}/*!sc*/
.dOnKJi [data-component="trailingAction"]{margin-right:-4px;color:var(--fgColor-muted,var(--color-fg-muted,#656d76));}/*!sc*/
.dOnKJi [data-component="buttonContent"]{-webkit-flex:1 0 auto;-ms-flex:1 0 auto;flex:1 0 auto;display:grid;grid-template-areas:"leadingVisual text trailingVisual";grid-template-columns:min-content minmax(0,auto) min-content;-webkit-align-items:center;-webkit-box-align:center;-ms-flex-align:center;align-items:center;-webkit-align-content:center;-ms-flex-line-pack:center;align-content:center;}/*!sc*/
.dOnKJi [data-component="buttonContent"] > :not(:last-child){margin-right:8px;}/*!sc*/
.dOnKJi:hover:not([disabled]){background-color:var(--control-transparent-bgColor-hover,var(--color-action-list-item-default-hover-bg,rgba(208,215,222,0.32)));}/*!sc*/
.dOnKJi:active:not([disabled]){background-color:var(--control-transparent-bgColor-active,var(--color-action-list-item-default-active-bg,rgba(208,215,222,0.48)));}/*!sc*/
.dOnKJi[aria-expanded=true]{background-color:var(--control-transparent-bgColor-selected,var(--color-action-list-item-default-selected-bg,rgba(208,215,222,0.24)));}/*!sc*/
.dOnKJi[data-component="IconButton"][data-no-visuals]{color:var(--fgColor-muted,var(--color-fg-muted,#656d76));}/*!sc*/
.dOnKJi[data-no-visuals]{color:var(--fgColor-accent,var(--color-accent-fg,#0969da));}/*!sc*/
.dOnKJi:has([data-component="ButtonCounter"]){color:var(--button-default-fgColor-rest,var(--color-btn-text,#24292f));}/*!sc*/
.dOnKJi:disabled[data-no-visuals]{color:var(--fgColor-disabled,var(--color-primer-fg-disabled,#8c959f));}/*!sc*/
.dOnKJi:disabled[data-no-visuals] [data-component=ButtonCounter]{color:inherit;}/*!sc*/
.hviaoI{border-radius:6px;border:1px solid;border-color:var(--button-default-borderColor-rest,var(--button-default-borderColor-rest,var(--color-btn-border,rgba(31,35,40,0.15))));font-family:inherit;font-weight:500;font-size:14px;cursor:pointer;-webkit-appearance:none;-moz-appearance:none;appearance:none;-webkit-user-select:none;-moz-user-select:none;-ms-user-select:none;user-select:none;-webkit-text-decoration:none;text-decoration:none;text-align:center;display:-webkit-box;display:-webkit-flex;display:-ms-flexbox;display:flex;-webkit-align-items:center;-webkit-box-align:center;-ms-flex-align:center;align-items:center;-webkit-box-pack:justify;-webkit-justify-content:space-between;-ms-flex-pack:justify;justify-content:space-between;height:32px;padding:0 12px;gap:8px;min-width:-webkit-max-content;min-width:-moz-max-content;min-width:max-content;-webkit-transition:80ms cubic-bezier(0.65,0,0.35,1);transition:80ms cubic-bezier(0.65,0,0.35,1);-webkit-transition-property:color,fill,background-color,border-color;transition-property:color,fill,background-color,border-color;color:var(--button-default-fgColor-rest,var(--color-btn-text,#24292f));background-color:var(--button-default-bgColor-rest,var(--color-btn-bg,#f6f8fa));box-shadow:var(--button-default-shadow-resting,var(--color-btn-shadow,0 1px 0 rgba(31,35,40,0.04))),var(--button-default-shadow-inset,var(--color-btn-inset-shadow,inset 0 1px 0 rgba(255,255,255,0.25)));}/*!sc*/
.hviaoI:focus:not(:disabled){box-shadow:none;outline:2px solid var(--fgColor-accent,var(--color-accent-fg,#0969da));outline-offset:-2px;}/*!sc*/
.hviaoI:focus:not(:disabled):not(:focus-visible){outline:solid 1px transparent;}/*!sc*/
.hviaoI:focus-visible:not(:disabled){box-shadow:none;outline:2px solid var(--fgColor-accent,var(--color-accent-fg,#0969da));outline-offset:-2px;}/*!sc*/
.hviaoI[href]{display:-webkit-inline-box;display:-webkit-inline-flex;display:-ms-inline-flexbox;display:inline-flex;}/*!sc*/
.hviaoI[href]:hover{-webkit-text-decoration:none;text-decoration:none;}/*!sc*/
.hviaoI:hover{-webkit-transition-duration:80ms;transition-duration:80ms;}/*!sc*/
.hviaoI:active{-webkit-transition:none;transition:none;}/*!sc*/
.hviaoI[data-inactive]{cursor:auto;}/*!sc*/
.hviaoI:disabled{cursor:not-allowed;box-shadow:none;color:var(--fgColor-disabled,var(--color-primer-fg-disabled,#8c959f));border-color:var(--button-default-borderColor-disabled,var(--button-default-borderColor-rest,var(--color-btn-border,rgba(31,35,40,0.15))));background-color:var(--button-default-bgColor-disabled,var(--control-bgColor-disabled,var(--color-input-disabled-bg,rgba(175,184,193,0.2))));}/*!sc*/
.hviaoI:disabled [data-component=ButtonCounter]{color:inherit;}/*!sc*/
@media (forced-colors:active){.hviaoI:focus{outline:solid 1px transparent;}}/*!sc*/
.hviaoI [data-component=ButtonCounter]{font-size:12px;background-color:var(--buttonCounter-default-bgColor-rest,var(--color-btn-counter-bg,rgba(31,35,40,0.08)));}/*!sc*/
.hviaoI[data-component=IconButton]{display:inline-grid;padding:unset;place-content:center;width:32px;min-width:unset;}/*!sc*/
.hviaoI[data-size="small"]{padding:0 8px;height:28px;gap:4px;font-size:12px;}/*!sc*/
.hviaoI[data-size="small"] [data-component="text"]{line-height:calc(20 / 12);}/*!sc*/
.hviaoI[data-size="small"] [data-component=ButtonCounter]{font-size:12px;}/*!sc*/
.hviaoI[data-size="small"] [data-component="buttonContent"] > :not(:last-child){margin-right:4px;}/*!sc*/
.hviaoI[data-size="small"][data-component=IconButton]{width:28px;padding:unset;}/*!sc*/
.hviaoI[data-size="large"]{padding:0 16px;height:40px;gap:8px;}/*!sc*/
.hviaoI[data-size="large"] [data-component="buttonContent"] > :not(:last-child){margin-right:8px;}/*!sc*/
.hviaoI[data-size="large"][data-component=IconButton]{width:40px;padding:unset;}/*!sc*/
.hviaoI[data-block="block"]{width:100%;}/*!sc*/
.hviaoI[data-inactive]:not([disabled]){background-color:var(--button-inactive-bgColor,var(--button-inactive-bgColor-rest,var(--color-btn-inactive-bg,#eaeef2)));border-color:var(--button-inactive-bgColor,var(--button-inactive-bgColor-rest,var(--color-btn-inactive-bg,#eaeef2)));color:var(--button-inactive-fgColor,var(--button-inactive-fgColor-rest,var(--color-btn-inactive-text,#57606a)));}/*!sc*/
.hviaoI[data-inactive]:not([disabled]):focus-visible{box-shadow:none;}/*!sc*/
.hviaoI [data-component="leadingVisual"]{grid-area:leadingVisual;}/*!sc*/
.hviaoI [data-component="text"]{grid-area:text;line-height:calc(20/14);white-space:nowrap;}/*!sc*/
.hviaoI [data-component="trailingVisual"]{grid-area:trailingVisual;}/*!sc*/
.hviaoI [data-component="trailingAction"]{margin-right:-4px;}/*!sc*/
.hviaoI [data-component="buttonContent"]{-webkit-flex:1 0 auto;-ms-flex:1 0 auto;flex:1 0 auto;display:grid;grid-template-areas:"leadingVisual text trailingVisual";grid-template-columns:min-content minmax(0,auto) min-content;-webkit-align-items:center;-webkit-box-align:center;-ms-flex-align:center;align-items:center;-webkit-align-content:center;-ms-flex-line-pack:center;align-content:center;}/*!sc*/
.hviaoI [data-component="buttonContent"] > :not(:last-child){margin-right:8px;}/*!sc*/
.hviaoI:hover:not([disabled]):not([data-inactive]){background-color:var(--button-default-bgColor-hover,var(--color-btn-hover-bg,#f3f4f6));border-color:var(--button-default-borderColor-hover,var(--button-default-borderColor-hover,var(--color-btn-hover-border,rgba(31,35,40,0.15))));}/*!sc*/
.hviaoI:active:not([disabled]):not([data-inactive]){background-color:var(--button-default-bgColor-active,var(--color-btn-active-bg,hsla(220,14%,93%,1)));border-color:var(--button-default-borderColor-active,var(--button-default-borderColor-active,var(--color-btn-active-border,rgba(31,35,40,0.15))));}/*!sc*/
.hviaoI[aria-expanded=true]{background-color:var(--button-default-bgColor-active,var(--color-btn-active-bg,hsla(220,14%,93%,1)));border-color:var(--button-default-borderColor-active,var(--button-default-borderColor-active,var(--color-btn-active-border,rgba(31,35,40,0.15))));}/*!sc*/
.hviaoI [data-component="leadingVisual"],.hviaoI [data-component="trailingVisual"],.hviaoI [data-component="trailingAction"]{color:var(--button-color,var(--fgColor-muted,var(--color-fg-muted,#656d76)));}/*!sc*/
.hviaoI[data-component="IconButton"][data-no-visuals]{color:var(--fgColor-muted,var(--color-fg-muted,#656d76));}/*!sc*/
.hviaoI[data-no-visuals]{border-top-left-radius:0;border-bottom-left-radius:0;display:none;}/*!sc*/
.jXTShb{border-radius:6px;border:1px solid;border-color:var(--button-default-borderColor-rest,var(--button-default-borderColor-rest,var(--color-btn-border,rgba(31,35,40,0.15))));font-family:inherit;font-weight:500;font-size:14px;cursor:pointer;-webkit-appearance:none;-moz-appearance:none;appearance:none;-webkit-user-select:none;-moz-user-select:none;-ms-user-select:none;user-select:none;-webkit-text-decoration:none;text-decoration:none;text-align:center;display:-webkit-box;display:-webkit-flex;display:-ms-flexbox;display:flex;-webkit-align-items:center;-webkit-box-align:center;-ms-flex-align:center;align-items:center;-webkit-box-pack:justify;-webkit-justify-content:space-between;-ms-flex-pack:justify;justify-content:space-between;height:32px;padding:0 12px;gap:8px;min-width:-webkit-max-content;min-width:-moz-max-content;min-width:max-content;-webkit-transition:80ms cubic-bezier(0.65,0,0.35,1);transition:80ms cubic-bezier(0.65,0,0.35,1);-webkit-transition-property:color,fill,background-color,border-color;transition-property:color,fill,background-color,border-color;color:var(--button-default-fgColor-rest,var(--color-btn-text,#24292f));background-color:var(--button-default-bgColor-rest,var(--color-btn-bg,#f6f8fa));box-shadow:var(--button-default-shadow-resting,var(--color-btn-shadow,0 1px 0 rgba(31,35,40,0.04))),var(--button-default-shadow-inset,var(--color-btn-inset-shadow,inset 0 1px 0 rgba(255,255,255,0.25)));}/*!sc*/
.jXTShb:focus:not(:disabled){box-shadow:none;outline:2px solid var(--fgColor-accent,var(--color-accent-fg,#0969da));outline-offset:-2px;}/*!sc*/
.jXTShb:focus:not(:disabled):not(:focus-visible){outline:solid 1px transparent;}/*!sc*/
.jXTShb:focus-visible:not(:disabled){box-shadow:none;outline:2px solid var(--fgColor-accent,var(--color-accent-fg,#0969da));outline-offset:-2px;}/*!sc*/
.jXTShb[href]{display:-webkit-inline-box;display:-webkit-inline-flex;display:-ms-inline-flexbox;display:inline-flex;}/*!sc*/
.jXTShb[href]:hover{-webkit-text-decoration:none;text-decoration:none;}/*!sc*/
.jXTShb:hover{-webkit-transition-duration:80ms;transition-duration:80ms;}/*!sc*/
.jXTShb:active{-webkit-transition:none;transition:none;}/*!sc*/
.jXTShb[data-inactive]{cursor:auto;}/*!sc*/
.jXTShb:disabled{cursor:not-allowed;box-shadow:none;color:var(--fgColor-disabled,var(--color-primer-fg-disabled,#8c959f));border-color:var(--button-default-borderColor-disabled,var(--button-default-borderColor-rest,var(--color-btn-border,rgba(31,35,40,0.15))));background-color:var(--button-default-bgColor-disabled,var(--control-bgColor-disabled,var(--color-input-disabled-bg,rgba(175,184,193,0.2))));}/*!sc*/
.jXTShb:disabled [data-component=ButtonCounter]{color:inherit;}/*!sc*/
@media (forced-colors:active){.jXTShb:focus{outline:solid 1px transparent;}}/*!sc*/
.jXTShb [data-component=ButtonCounter]{font-size:12px;background-color:var(--buttonCounter-default-bgColor-rest,var(--color-btn-counter-bg,rgba(31,35,40,0.08)));}/*!sc*/
.jXTShb[data-component=IconButton]{display:inline-grid;padding:unset;place-content:center;width:32px;min-width:unset;}/*!sc*/
.jXTShb[data-size="small"]{padding:0 8px;height:28px;gap:4px;font-size:12px;}/*!sc*/
.jXTShb[data-size="small"] [data-component="text"]{line-height:calc(20 / 12);}/*!sc*/
.jXTShb[data-size="small"] [data-component=ButtonCounter]{font-size:12px;}/*!sc*/
.jXTShb[data-size="small"] [data-component="buttonContent"] > :not(:last-child){margin-right:4px;}/*!sc*/
.jXTShb[data-size="small"][data-component=IconButton]{width:28px;padding:unset;}/*!sc*/
.jXTShb[data-size="large"]{padding:0 16px;height:40px;gap:8px;}/*!sc*/
.jXTShb[data-size="large"] [data-component="buttonContent"] > :not(:last-child){margin-right:8px;}/*!sc*/
.jXTShb[data-size="large"][data-component=IconButton]{width:40px;padding:unset;}/*!sc*/
.jXTShb[data-block="block"]{width:100%;}/*!sc*/
.jXTShb[data-inactive]:not([disabled]){background-color:var(--button-inactive-bgColor,var(--button-inactive-bgColor-rest,var(--color-btn-inactive-bg,#eaeef2)));border-color:var(--button-inactive-bgColor,var(--button-inactive-bgColor-rest,var(--color-btn-inactive-bg,#eaeef2)));color:var(--button-inactive-fgColor,var(--button-inactive-fgColor-rest,var(--color-btn-inactive-text,#57606a)));}/*!sc*/
.jXTShb[data-inactive]:not([disabled]):focus-visible{box-shadow:none;}/*!sc*/
.jXTShb [data-component="leadingVisual"]{grid-area:leadingVisual;}/*!sc*/
.jXTShb [data-component="text"]{grid-area:text;line-height:calc(20/14);white-space:nowrap;}/*!sc*/
.jXTShb [data-component="trailingVisual"]{grid-area:trailingVisual;}/*!sc*/
.jXTShb [data-component="trailingAction"]{margin-right:-4px;}/*!sc*/
.jXTShb [data-component="buttonContent"]{-webkit-flex:1 0 auto;-ms-flex:1 0 auto;flex:1 0 auto;display:grid;grid-template-areas:"leadingVisual text trailingVisual";grid-template-columns:min-content minmax(0,auto) min-content;-webkit-align-items:center;-webkit-box-align:center;-ms-flex-align:center;align-items:center;-webkit-align-content:center;-ms-flex-line-pack:center;align-content:center;}/*!sc*/
.jXTShb [data-component="buttonContent"] > :not(:last-child){margin-right:8px;}/*!sc*/
.jXTShb:hover:not([disabled]):not([data-inactive]){background-color:var(--button-default-bgColor-hover,var(--color-btn-hover-bg,#f3f4f6));border-color:var(--button-default-borderColor-hover,var(--button-default-borderColor-hover,var(--color-btn-hover-border,rgba(31,35,40,0.15))));}/*!sc*/
.jXTShb:active:not([disabled]):not([data-inactive]){background-color:var(--button-default-bgColor-active,var(--color-btn-active-bg,hsla(220,14%,93%,1)));border-color:var(--button-default-borderColor-active,var(--button-default-borderColor-active,var(--color-btn-active-border,rgba(31,35,40,0.15))));}/*!sc*/
.jXTShb[aria-expanded=true]{background-color:var(--button-default-bgColor-active,var(--color-btn-active-bg,hsla(220,14%,93%,1)));border-color:var(--button-default-borderColor-active,var(--button-default-borderColor-active,var(--color-btn-active-border,rgba(31,35,40,0.15))));}/*!sc*/
.jXTShb [data-component="leadingVisual"],.jXTShb [data-component="trailingVisual"],.jXTShb [data-component="trailingAction"]{color:var(--button-color,var(--fgColor-muted,var(--color-fg-muted,#656d76)));}/*!sc*/
.jXTShb[data-component="IconButton"][data-no-visuals]{color:var(--fgColor-muted,var(--color-fg-muted,#656d76));}/*!sc*/
.jXTShb[data-no-visuals]{color:var(--fgColor-muted,var(--color-fg-muted,#656d76));}/*!sc*/
.gfKkfV{border-radius:6px;border:1px solid;border-color:transparent;font-family:inherit;font-weight:500;font-size:14px;cursor:pointer;-webkit-appearance:none;-moz-appearance:none;appearance:none;-webkit-user-select:none;-moz-user-select:none;-ms-user-select:none;user-select:none;-webkit-text-decoration:none;text-decoration:none;text-align:center;display:-webkit-box;display:-webkit-flex;display:-ms-flexbox;display:flex;-webkit-align-items:center;-webkit-box-align:center;-ms-flex-align:center;align-items:center;-webkit-box-pack:justify;-webkit-justify-content:space-between;-ms-flex-pack:justify;justify-content:space-between;height:32px;padding:0 12px;gap:8px;min-width:-webkit-max-content;min-width:-moz-max-content;min-width:max-content;-webkit-transition:80ms cubic-bezier(0.65,0,0.35,1);transition:80ms cubic-bezier(0.65,0,0.35,1);-webkit-transition-property:color,fill,background-color,border-color;transition-property:color,fill,background-color,border-color;color:var(--button-default-fgColor-rest,var(--color-btn-text,#24292f));background-color:transparent;box-shadow:none;}/*!sc*/
.gfKkfV:focus:not(:disabled){box-shadow:none;outline:2px solid var(--fgColor-accent,var(--color-accent-fg,#0969da));outline-offset:-2px;}/*!sc*/
.gfKkfV:focus:not(:disabled):not(:focus-visible){outline:solid 1px transparent;}/*!sc*/
.gfKkfV:focus-visible:not(:disabled){box-shadow:none;outline:2px solid var(--fgColor-accent,var(--color-accent-fg,#0969da));outline-offset:-2px;}/*!sc*/
.gfKkfV[href]{display:-webkit-inline-box;display:-webkit-inline-flex;display:-ms-inline-flexbox;display:inline-flex;}/*!sc*/
.gfKkfV[href]:hover{-webkit-text-decoration:none;text-decoration:none;}/*!sc*/
.gfKkfV:hover{-webkit-transition-duration:80ms;transition-duration:80ms;}/*!sc*/
.gfKkfV:active{-webkit-transition:none;transition:none;}/*!sc*/
.gfKkfV[data-inactive]{cursor:auto;}/*!sc*/
.gfKkfV:disabled{cursor:not-allowed;box-shadow:none;color:var(--fgColor-disabled,var(--color-primer-fg-disabled,#8c959f));}/*!sc*/
.gfKkfV:disabled [data-component=ButtonCounter],.gfKkfV:disabled [data-component="leadingVisual"],.gfKkfV:disabled [data-component="trailingAction"]{color:inherit;}/*!sc*/
@media (forced-colors:active){.gfKkfV:focus{outline:solid 1px transparent;}}/*!sc*/
.gfKkfV [data-component=ButtonCounter]{font-size:12px;}/*!sc*/
.gfKkfV[data-component=IconButton]{display:inline-grid;padding:unset;place-content:center;width:32px;min-width:unset;}/*!sc*/
.gfKkfV[data-size="small"]{padding:0 8px;height:28px;gap:4px;font-size:12px;color:var(--fgColor-default,var(--color-fg-default,#1F2328));margin-left:8px;}/*!sc*/
.gfKkfV[data-size="small"] [data-component="text"]{line-height:calc(20 / 12);}/*!sc*/
.gfKkfV[data-size="small"] [data-component=ButtonCounter]{font-size:12px;}/*!sc*/
.gfKkfV[data-size="small"] [data-component="buttonContent"] > :not(:last-child){margin-right:4px;}/*!sc*/
.gfKkfV[data-size="small"][data-component=IconButton]{width:28px;padding:unset;}/*!sc*/
.gfKkfV[data-size="large"]{padding:0 16px;height:40px;gap:8px;}/*!sc*/
.gfKkfV[data-size="large"] [data-component="buttonContent"] > :not(:last-child){margin-right:8px;}/*!sc*/
.gfKkfV[data-size="large"][data-component=IconButton]{width:40px;padding:unset;}/*!sc*/
.gfKkfV[data-block="block"]{width:100%;}/*!sc*/
.gfKkfV[data-inactive]:not([disabled]){background-color:var(--button-inactive-bgColor,var(--button-inactive-bgColor-rest,var(--color-btn-inactive-bg,#eaeef2)));border-color:var(--button-inactive-bgColor,var(--button-inactive-bgColor-rest,var(--color-btn-inactive-bg,#eaeef2)));color:var(--button-inactive-fgColor,var(--button-inactive-fgColor-rest,var(--color-btn-inactive-text,#57606a)));}/*!sc*/
.gfKkfV[data-inactive]:not([disabled]):focus-visible{box-shadow:none;}/*!sc*/
.gfKkfV [data-component="leadingVisual"]{grid-area:leadingVisual;color:var(--fgColor-muted,var(--color-fg-muted,#656d76));}/*!sc*/
.gfKkfV [data-component="text"]{grid-area:text;line-height:calc(20/14);white-space:nowrap;}/*!sc*/
.gfKkfV [data-component="trailingVisual"]{grid-area:trailingVisual;}/*!sc*/
.gfKkfV [data-component="trailingAction"]{margin-right:-4px;color:var(--fgColor-muted,var(--color-fg-muted,#656d76));}/*!sc*/
.gfKkfV [data-component="buttonContent"]{-webkit-flex:1 0 auto;-ms-flex:1 0 auto;flex:1 0 auto;display:grid;grid-template-areas:"leadingVisual text trailingVisual";grid-template-columns:min-content minmax(0,auto) min-content;-webkit-align-items:center;-webkit-box-align:center;-ms-flex-align:center;align-items:center;-webkit-align-content:center;-ms-flex-line-pack:center;align-content:center;}/*!sc*/
.gfKkfV [data-component="buttonContent"] > :not(:last-child){margin-right:8px;}/*!sc*/
.gfKkfV:hover:not([disabled]){background-color:var(--control-transparent-bgColor-hover,var(--color-action-list-item-default-hover-bg,rgba(208,215,222,0.32)));}/*!sc*/
.gfKkfV:active:not([disabled]){background-color:var(--control-transparent-bgColor-active,var(--color-action-list-item-default-active-bg,rgba(208,215,222,0.48)));}/*!sc*/
.gfKkfV[aria-expanded=true]{background-color:var(--control-transparent-bgColor-selected,var(--color-action-list-item-default-selected-bg,rgba(208,215,222,0.24)));}/*!sc*/
.gfKkfV[data-component="IconButton"][data-no-visuals]{color:var(--fgColor-muted,var(--color-fg-muted,#656d76));}/*!sc*/
.gfKkfV[data-no-visuals]{color:var(--fgColor-accent,var(--color-accent-fg,#0969da));}/*!sc*/
.gfKkfV:has([data-component="ButtonCounter"]){color:var(--button-default-fgColor-rest,var(--color-btn-text,#24292f));}/*!sc*/
.gfKkfV:disabled[data-no-visuals]{color:var(--fgColor-disabled,var(--color-primer-fg-disabled,#8c959f));}/*!sc*/
.gfKkfV:disabled[data-no-visuals] [data-component=ButtonCounter]{color:inherit;}/*!sc*/
.dTgfec{border-radius:6px;border:1px solid;border-color:var(--button-default-borderColor-rest,var(--button-default-borderColor-rest,var(--color-btn-border,rgba(31,35,40,0.15))));font-family:inherit;font-weight:500;font-size:14px;cursor:pointer;-webkit-appearance:none;-moz-appearance:none;appearance:none;-webkit-user-select:none;-moz-user-select:none;-ms-user-select:none;user-select:none;-webkit-text-decoration:none;text-decoration:none;text-align:center;display:-webkit-box;display:-webkit-flex;display:-ms-flexbox;display:flex;-webkit-align-items:center;-webkit-box-align:center;-ms-flex-align:center;align-items:center;-webkit-box-pack:justify;-webkit-justify-content:space-between;-ms-flex-pack:justify;justify-content:space-between;height:32px;padding:0 12px;gap:8px;min-width:-webkit-max-content;min-width:-moz-max-content;min-width:max-content;-webkit-transition:80ms cubic-bezier(0.65,0,0.35,1);transition:80ms cubic-bezier(0.65,0,0.35,1);-webkit-transition-property:color,fill,background-color,border-color;transition-property:color,fill,background-color,border-color;color:var(--button-default-fgColor-rest,var(--color-btn-text,#24292f));background-color:var(--button-default-bgColor-rest,var(--color-btn-bg,#f6f8fa));box-shadow:var(--button-default-shadow-resting,var(--color-btn-shadow,0 1px 0 rgba(31,35,40,0.04))),var(--button-default-shadow-inset,var(--color-btn-inset-shadow,inset 0 1px 0 rgba(255,255,255,0.25)));padding-left:8px;padding-right:8px;}/*!sc*/
.dTgfec:focus:not(:disabled){box-shadow:none;outline:2px solid var(--fgColor-accent,var(--color-accent-fg,#0969da));outline-offset:-2px;}/*!sc*/
.dTgfec:focus:not(:disabled):not(:focus-visible){outline:solid 1px transparent;}/*!sc*/
.dTgfec:focus-visible:not(:disabled){box-shadow:none;outline:2px solid var(--fgColor-accent,var(--color-accent-fg,#0969da));outline-offset:-2px;}/*!sc*/
.dTgfec[href]{display:-webkit-inline-box;display:-webkit-inline-flex;display:-ms-inline-flexbox;display:inline-flex;}/*!sc*/
.dTgfec[href]:hover{-webkit-text-decoration:none;text-decoration:none;}/*!sc*/
.dTgfec:hover{-webkit-transition-duration:80ms;transition-duration:80ms;}/*!sc*/
.dTgfec:active{-webkit-transition:none;transition:none;}/*!sc*/
.dTgfec[data-inactive]{cursor:auto;}/*!sc*/
.dTgfec:disabled{cursor:not-allowed;box-shadow:none;color:var(--fgColor-disabled,var(--color-primer-fg-disabled,#8c959f));border-color:var(--button-default-borderColor-disabled,var(--button-default-borderColor-rest,var(--color-btn-border,rgba(31,35,40,0.15))));background-color:var(--button-default-bgColor-disabled,var(--control-bgColor-disabled,var(--color-input-disabled-bg,rgba(175,184,193,0.2))));}/*!sc*/
.dTgfec:disabled [data-component=ButtonCounter]{color:inherit;}/*!sc*/
@media (forced-colors:active){.dTgfec:focus{outline:solid 1px transparent;}}/*!sc*/
.dTgfec [data-component=ButtonCounter]{font-size:12px;background-color:var(--buttonCounter-default-bgColor-rest,var(--color-btn-counter-bg,rgba(31,35,40,0.08)));}/*!sc*/
.dTgfec[data-component=IconButton]{display:inline-grid;padding:unset;place-content:center;width:32px;min-width:unset;}/*!sc*/
.dTgfec[data-size="small"]{padding:0 8px;height:28px;gap:4px;font-size:12px;}/*!sc*/
.dTgfec[data-size="small"] [data-component="text"]{line-height:calc(20 / 12);}/*!sc*/
.dTgfec[data-size="small"] [data-component=ButtonCounter]{font-size:12px;}/*!sc*/
.dTgfec[data-size="small"] [data-component="buttonContent"] > :not(:last-child){margin-right:4px;}/*!sc*/
.dTgfec[data-size="small"][data-component=IconButton]{width:28px;padding:unset;}/*!sc*/
.dTgfec[data-size="large"]{padding:0 16px;height:40px;gap:8px;}/*!sc*/
.dTgfec[data-size="large"] [data-component="buttonContent"] > :not(:last-child){margin-right:8px;}/*!sc*/
.dTgfec[data-size="large"][data-component=IconButton]{width:40px;padding:unset;}/*!sc*/
.dTgfec[data-block="block"]{width:100%;}/*!sc*/
.dTgfec[data-inactive]:not([disabled]){background-color:var(--button-inactive-bgColor,var(--button-inactive-bgColor-rest,var(--color-btn-inactive-bg,#eaeef2)));border-color:var(--button-inactive-bgColor,var(--button-inactive-bgColor-rest,var(--color-btn-inactive-bg,#eaeef2)));color:var(--button-inactive-fgColor,var(--button-inactive-fgColor-rest,var(--color-btn-inactive-text,#57606a)));}/*!sc*/
.dTgfec[data-inactive]:not([disabled]):focus-visible{box-shadow:none;}/*!sc*/
.dTgfec [data-component="leadingVisual"]{grid-area:leadingVisual;}/*!sc*/
.dTgfec [data-component="text"]{grid-area:text;line-height:calc(20/14);white-space:nowrap;}/*!sc*/
.dTgfec [data-component="trailingVisual"]{grid-area:trailingVisual;}/*!sc*/
.dTgfec [data-component="trailingAction"]{margin-right:-4px;}/*!sc*/
.dTgfec [data-component="buttonContent"]{-webkit-flex:1 0 auto;-ms-flex:1 0 auto;flex:1 0 auto;display:grid;grid-template-areas:"leadingVisual text trailingVisual";grid-template-columns:min-content minmax(0,auto) min-content;-webkit-align-items:center;-webkit-box-align:center;-ms-flex-align:center;align-items:center;-webkit-align-content:center;-ms-flex-line-pack:center;align-content:center;}/*!sc*/
.dTgfec [data-component="buttonContent"] > :not(:last-child){margin-right:8px;}/*!sc*/
.dTgfec:hover:not([disabled]):not([data-inactive]){background-color:var(--button-default-bgColor-hover,var(--color-btn-hover-bg,#f3f4f6));border-color:var(--button-default-borderColor-hover,var(--button-default-borderColor-hover,var(--color-btn-hover-border,rgba(31,35,40,0.15))));}/*!sc*/
.dTgfec:active:not([disabled]):not([data-inactive]){background-color:var(--button-default-bgColor-active,var(--color-btn-active-bg,hsla(220,14%,93%,1)));border-color:var(--button-default-borderColor-active,var(--button-default-borderColor-active,var(--color-btn-active-border,rgba(31,35,40,0.15))));}/*!sc*/
.dTgfec[aria-expanded=true]{background-color:var(--button-default-bgColor-active,var(--color-btn-active-bg,hsla(220,14%,93%,1)));border-color:var(--button-default-borderColor-active,var(--button-default-borderColor-active,var(--color-btn-active-border,rgba(31,35,40,0.15))));}/*!sc*/
.dTgfec [data-component="leadingVisual"],.dTgfec [data-component="trailingVisual"],.dTgfec [data-component="trailingAction"]{color:var(--button-color,var(--fgColor-muted,var(--color-fg-muted,#656d76)));}/*!sc*/
.dTgfec[data-component="IconButton"][data-no-visuals]{color:var(--fgColor-muted,var(--color-fg-muted,#656d76));}/*!sc*/
.dTgfec linkButtonSx:hover:not([disabled]){-webkit-text-decoration:none;text-decoration:none;}/*!sc*/
.dTgfec linkButtonSx:focus:not([disabled]){-webkit-text-decoration:none;text-decoration:none;}/*!sc*/
.dTgfec linkButtonSx:active:not([disabled]){-webkit-text-decoration:none;text-decoration:none;}/*!sc*/
.pyyxt{border-radius:6px;border:1px solid;border-color:var(--button-default-borderColor-rest,var(--button-default-borderColor-rest,var(--color-btn-border,rgba(31,35,40,0.15))));font-family:inherit;font-weight:500;font-size:14px;cursor:pointer;-webkit-appearance:none;-moz-appearance:none;appearance:none;-webkit-user-select:none;-moz-user-select:none;-ms-user-select:none;user-select:none;-webkit-text-decoration:none;text-decoration:none;text-align:center;display:-webkit-box;display:-webkit-flex;display:-ms-flexbox;display:flex;-webkit-align-items:center;-webkit-box-align:center;-ms-flex-align:center;align-items:center;-webkit-box-pack:justify;-webkit-justify-content:space-between;-ms-flex-pack:justify;justify-content:space-between;height:32px;padding:0 12px;gap:8px;min-width:-webkit-max-content;min-width:-moz-max-content;min-width:max-content;-webkit-transition:80ms cubic-bezier(0.65,0,0.35,1);transition:80ms cubic-bezier(0.65,0,0.35,1);-webkit-transition-property:color,fill,background-color,border-color;transition-property:color,fill,background-color,border-color;color:var(--button-default-fgColor-rest,var(--color-btn-text,#24292f));background-color:var(--button-default-bgColor-rest,var(--color-btn-bg,#f6f8fa));box-shadow:var(--button-default-shadow-resting,var(--color-btn-shadow,0 1px 0 rgba(31,35,40,0.04))),var(--button-default-shadow-inset,var(--color-btn-inset-shadow,inset 0 1px 0 rgba(255,255,255,0.25)));}/*!sc*/
.pyyxt:focus:not(:disabled){box-shadow:none;outline:2px solid var(--fgColor-accent,var(--color-accent-fg,#0969da));outline-offset:-2px;}/*!sc*/
.pyyxt:focus:not(:disabled):not(:focus-visible){outline:solid 1px transparent;}/*!sc*/
.pyyxt:focus-visible:not(:disabled){box-shadow:none;outline:2px solid var(--fgColor-accent,var(--color-accent-fg,#0969da));outline-offset:-2px;}/*!sc*/
.pyyxt[href]{display:-webkit-inline-box;display:-webkit-inline-flex;display:-ms-inline-flexbox;display:inline-flex;}/*!sc*/
.pyyxt[href]:hover{-webkit-text-decoration:none;text-decoration:none;}/*!sc*/
.pyyxt:hover{-webkit-transition-duration:80ms;transition-duration:80ms;}/*!sc*/
.pyyxt:active{-webkit-transition:none;transition:none;}/*!sc*/
.pyyxt[data-inactive]{cursor:auto;}/*!sc*/
.pyyxt:disabled{cursor:not-allowed;box-shadow:none;color:var(--fgColor-disabled,var(--color-primer-fg-disabled,#8c959f));border-color:var(--button-default-borderColor-disabled,var(--button-default-borderColor-rest,var(--color-btn-border,rgba(31,35,40,0.15))));background-color:var(--button-default-bgColor-disabled,var(--control-bgColor-disabled,var(--color-input-disabled-bg,rgba(175,184,193,0.2))));}/*!sc*/
.pyyxt:disabled [data-component=ButtonCounter]{color:inherit;}/*!sc*/
@media (forced-colors:active){.pyyxt:focus{outline:solid 1px transparent;}}/*!sc*/
.pyyxt [data-component=ButtonCounter]{font-size:12px;background-color:var(--buttonCounter-default-bgColor-rest,var(--color-btn-counter-bg,rgba(31,35,40,0.08)));}/*!sc*/
.pyyxt[data-component=IconButton]{display:inline-grid;padding:unset;place-content:center;width:32px;min-width:unset;}/*!sc*/
.pyyxt[data-size="small"]{padding:0 8px;height:28px;gap:4px;font-size:12px;}/*!sc*/
.pyyxt[data-size="small"] [data-component="text"]{line-height:calc(20 / 12);}/*!sc*/
.pyyxt[data-size="small"] [data-component=ButtonCounter]{font-size:12px;}/*!sc*/
.pyyxt[data-size="small"] [data-component="buttonContent"] > :not(:last-child){margin-right:4px;}/*!sc*/
.pyyxt[data-size="small"][data-component=IconButton]{width:28px;padding:unset;}/*!sc*/
.pyyxt[data-size="large"]{padding:0 16px;height:40px;gap:8px;}/*!sc*/
.pyyxt[data-size="large"] [data-component="buttonContent"] > :not(:last-child){margin-right:8px;}/*!sc*/
.pyyxt[data-size="large"][data-component=IconButton]{width:40px;padding:unset;}/*!sc*/
.pyyxt[data-block="block"]{width:100%;}/*!sc*/
.pyyxt[data-inactive]:not([disabled]){background-color:var(--button-inactive-bgColor,var(--button-inactive-bgColor-rest,var(--color-btn-inactive-bg,#eaeef2)));border-color:var(--button-inactive-bgColor,var(--button-inactive-bgColor-rest,var(--color-btn-inactive-bg,#eaeef2)));color:var(--button-inactive-fgColor,var(--button-inactive-fgColor-rest,var(--color-btn-inactive-text,#57606a)));}/*!sc*/
.pyyxt[data-inactive]:not([disabled]):focus-visible{box-shadow:none;}/*!sc*/
.pyyxt [data-component="leadingVisual"]{grid-area:leadingVisual;}/*!sc*/
.pyyxt [data-component="text"]{grid-area:text;line-height:calc(20/14);white-space:nowrap;}/*!sc*/
.pyyxt [data-component="trailingVisual"]{grid-area:trailingVisual;}/*!sc*/
.pyyxt [data-component="trailingAction"]{margin-right:-4px;}/*!sc*/
.pyyxt [data-component="buttonContent"]{-webkit-flex:1 0 auto;-ms-flex:1 0 auto;flex:1 0 auto;display:grid;grid-template-areas:"leadingVisual text trailingVisual";grid-template-columns:min-content minmax(0,auto) min-content;-webkit-align-items:center;-webkit-box-align:center;-ms-flex-align:center;align-items:center;-webkit-align-content:center;-ms-flex-line-pack:center;align-content:center;}/*!sc*/
.pyyxt [data-component="buttonContent"] > :not(:last-child){margin-right:8px;}/*!sc*/
.pyyxt:hover:not([disabled]):not([data-inactive]){background-color:var(--button-default-bgColor-hover,var(--color-btn-hover-bg,#f3f4f6));border-color:var(--button-default-borderColor-hover,var(--button-default-borderColor-hover,var(--color-btn-hover-border,rgba(31,35,40,0.15))));}/*!sc*/
.pyyxt:active:not([disabled]):not([data-inactive]){background-color:var(--button-default-bgColor-active,var(--color-btn-active-bg,hsla(220,14%,93%,1)));border-color:var(--button-default-borderColor-active,var(--button-default-borderColor-active,var(--color-btn-active-border,rgba(31,35,40,0.15))));}/*!sc*/
.pyyxt[aria-expanded=true]{background-color:var(--button-default-bgColor-active,var(--color-btn-active-bg,hsla(220,14%,93%,1)));border-color:var(--button-default-borderColor-active,var(--button-default-borderColor-active,var(--color-btn-active-border,rgba(31,35,40,0.15))));}/*!sc*/
.pyyxt [data-component="leadingVisual"],.pyyxt [data-component="trailingVisual"],.pyyxt [data-component="trailingAction"]{color:var(--button-color,var(--fgColor-muted,var(--color-fg-muted,#656d76)));}/*!sc*/
.pyyxt[data-component="IconButton"][data-no-visuals]{color:var(--fgColor-muted,var(--color-fg-muted,#656d76));}/*!sc*/
.fmvlPZ{border-radius:6px;border:1px solid;border-color:var(--button-default-borderColor-rest,var(--button-default-borderColor-rest,var(--color-btn-border,rgba(31,35,40,0.15))));font-family:inherit;font-weight:500;font-size:14px;cursor:pointer;-webkit-appearance:none;-moz-appearance:none;appearance:none;-webkit-user-select:none;-moz-user-select:none;-ms-user-select:none;user-select:none;-webkit-text-decoration:none;text-decoration:none;text-align:center;display:-webkit-box;display:-webkit-flex;display:-ms-flexbox;display:flex;-webkit-align-items:center;-webkit-box-align:center;-ms-flex-align:center;align-items:center;-webkit-box-pack:justify;-webkit-justify-content:space-between;-ms-flex-pack:justify;justify-content:space-between;height:32px;padding:0 12px;gap:8px;min-width:-webkit-max-content;min-width:-moz-max-content;min-width:max-content;-webkit-transition:80ms cubic-bezier(0.65,0,0.35,1);transition:80ms cubic-bezier(0.65,0,0.35,1);-webkit-transition-property:color,fill,background-color,border-color;transition-property:color,fill,background-color,border-color;color:var(--button-default-fgColor-rest,var(--color-btn-text,#24292f));background-color:var(--button-default-bgColor-rest,var(--color-btn-bg,#f6f8fa));box-shadow:var(--button-default-shadow-resting,var(--color-btn-shadow,0 1px 0 rgba(31,35,40,0.04))),var(--button-default-shadow-inset,var(--color-btn-inset-shadow,inset 0 1px 0 rgba(255,255,255,0.25)));}/*!sc*/
.fmvlPZ:focus:not(:disabled){box-shadow:none;outline:2px solid var(--fgColor-accent,var(--color-accent-fg,#0969da));outline-offset:-2px;}/*!sc*/
.fmvlPZ:focus:not(:disabled):not(:focus-visible){outline:solid 1px transparent;}/*!sc*/
.fmvlPZ:focus-visible:not(:disabled){box-shadow:none;outline:2px solid var(--fgColor-accent,var(--color-accent-fg,#0969da));outline-offset:-2px;}/*!sc*/
.fmvlPZ[href]{display:-webkit-inline-box;display:-webkit-inline-flex;display:-ms-inline-flexbox;display:inline-flex;}/*!sc*/
.fmvlPZ[href]:hover{-webkit-text-decoration:none;text-decoration:none;}/*!sc*/
.fmvlPZ:hover{-webkit-transition-duration:80ms;transition-duration:80ms;}/*!sc*/
.fmvlPZ:active{-webkit-transition:none;transition:none;}/*!sc*/
.fmvlPZ[data-inactive]{cursor:auto;}/*!sc*/
.fmvlPZ:disabled{cursor:not-allowed;box-shadow:none;color:var(--fgColor-disabled,var(--color-primer-fg-disabled,#8c959f));border-color:var(--button-default-borderColor-disabled,var(--button-default-borderColor-rest,var(--color-btn-border,rgba(31,35,40,0.15))));background-color:var(--button-default-bgColor-disabled,var(--control-bgColor-disabled,var(--color-input-disabled-bg,rgba(175,184,193,0.2))));}/*!sc*/
.fmvlPZ:disabled [data-component=ButtonCounter]{color:inherit;}/*!sc*/
@media (forced-colors:active){.fmvlPZ:focus{outline:solid 1px transparent;}}/*!sc*/
.fmvlPZ [data-component=ButtonCounter]{font-size:12px;background-color:var(--buttonCounter-default-bgColor-rest,var(--color-btn-counter-bg,rgba(31,35,40,0.08)));}/*!sc*/
.fmvlPZ[data-component=IconButton]{display:inline-grid;padding:unset;place-content:center;width:32px;min-width:unset;}/*!sc*/
.fmvlPZ[data-size="small"]{padding:0 8px;height:28px;gap:4px;font-size:12px;}/*!sc*/
.fmvlPZ[data-size="small"] [data-component="text"]{line-height:calc(20 / 12);}/*!sc*/
.fmvlPZ[data-size="small"] [data-component=ButtonCounter]{font-size:12px;}/*!sc*/
.fmvlPZ[data-size="small"] [data-component="buttonContent"] > :not(:last-child){margin-right:4px;}/*!sc*/
.fmvlPZ[data-size="small"][data-component=IconButton]{width:28px;padding:unset;}/*!sc*/
.fmvlPZ[data-size="large"]{padding:0 16px;height:40px;gap:8px;}/*!sc*/
.fmvlPZ[data-size="large"] [data-component="buttonContent"] > :not(:last-child){margin-right:8px;}/*!sc*/
.fmvlPZ[data-size="large"][data-component=IconButton]{width:40px;padding:unset;}/*!sc*/
.fmvlPZ[data-block="block"]{width:100%;}/*!sc*/
.fmvlPZ[data-inactive]:not([disabled]){background-color:var(--button-inactive-bgColor,var(--button-inactive-bgColor-rest,var(--color-btn-inactive-bg,#eaeef2)));border-color:var(--button-inactive-bgColor,var(--button-inactive-bgColor-rest,var(--color-btn-inactive-bg,#eaeef2)));color:var(--button-inactive-fgColor,var(--button-inactive-fgColor-rest,var(--color-btn-inactive-text,#57606a)));}/*!sc*/
.fmvlPZ[data-inactive]:not([disabled]):focus-visible{box-shadow:none;}/*!sc*/
.fmvlPZ [data-component="leadingVisual"]{grid-area:leadingVisual;}/*!sc*/
.fmvlPZ [data-component="text"]{grid-area:text;line-height:calc(20/14);white-space:nowrap;}/*!sc*/
.fmvlPZ [data-component="trailingVisual"]{grid-area:trailingVisual;}/*!sc*/
.fmvlPZ [data-component="trailingAction"]{margin-right:-4px;}/*!sc*/
.fmvlPZ [data-component="buttonContent"]{-webkit-flex:1 0 auto;-ms-flex:1 0 auto;flex:1 0 auto;display:grid;grid-template-areas:"leadingVisual text trailingVisual";grid-template-columns:min-content minmax(0,auto) min-content;-webkit-align-items:center;-webkit-box-align:center;-ms-flex-align:center;align-items:center;-webkit-align-content:center;-ms-flex-line-pack:center;align-content:center;}/*!sc*/
.fmvlPZ [data-component="buttonContent"] > :not(:last-child){margin-right:8px;}/*!sc*/
.fmvlPZ:hover:not([disabled]):not([data-inactive]){background-color:var(--button-default-bgColor-hover,var(--color-btn-hover-bg,#f3f4f6));border-color:var(--button-default-borderColor-hover,var(--button-default-borderColor-hover,var(--color-btn-hover-border,rgba(31,35,40,0.15))));}/*!sc*/
.fmvlPZ:active:not([disabled]):not([data-inactive]){background-color:var(--button-default-bgColor-active,var(--color-btn-active-bg,hsla(220,14%,93%,1)));border-color:var(--button-default-borderColor-active,var(--button-default-borderColor-active,var(--color-btn-active-border,rgba(31,35,40,0.15))));}/*!sc*/
.fmvlPZ[aria-expanded=true]{background-color:var(--button-default-bgColor-active,var(--color-btn-active-bg,hsla(220,14%,93%,1)));border-color:var(--button-default-borderColor-active,var(--button-default-borderColor-active,var(--color-btn-active-border,rgba(31,35,40,0.15))));}/*!sc*/
.fmvlPZ [data-component="leadingVisual"],.fmvlPZ [data-component="trailingVisual"],.fmvlPZ [data-component="trailingAction"]{color:var(--button-color,var(--fgColor-muted,var(--color-fg-muted,#656d76)));}/*!sc*/
.fmvlPZ[data-component="IconButton"][data-no-visuals]{color:var(--fgColor-muted,var(--color-fg-muted,#656d76));}/*!sc*/
.fmvlPZ[data-size="small"][data-no-visuals]{border-top-left-radius:0;border-bottom-left-radius:0;}/*!sc*/
.dGDIQc{border-radius:6px;border:1px solid;border-color:transparent;font-family:inherit;font-weight:500;font-size:14px;cursor:pointer;-webkit-appearance:none;-moz-appearance:none;appearance:none;-webkit-user-select:none;-moz-user-select:none;-ms-user-select:none;user-select:none;-webkit-text-decoration:none;text-decoration:none;text-align:center;display:-webkit-box;display:-webkit-flex;display:-ms-flexbox;display:flex;-webkit-align-items:center;-webkit-box-align:center;-ms-flex-align:center;align-items:center;-webkit-box-pack:justify;-webkit-justify-content:space-between;-ms-flex-pack:justify;justify-content:space-between;height:32px;padding:0 12px;gap:8px;min-width:-webkit-max-content;min-width:-moz-max-content;min-width:max-content;-webkit-transition:80ms cubic-bezier(0.65,0,0.35,1);transition:80ms cubic-bezier(0.65,0,0.35,1);-webkit-transition-property:color,fill,background-color,border-color;transition-property:color,fill,background-color,border-color;color:var(--button-default-fgColor-rest,var(--color-btn-text,#24292f));background-color:transparent;box-shadow:none;}/*!sc*/
.dGDIQc:focus:not(:disabled){box-shadow:none;outline:2px solid var(--fgColor-accent,var(--color-accent-fg,#0969da));outline-offset:-2px;}/*!sc*/
.dGDIQc:focus:not(:disabled):not(:focus-visible){outline:solid 1px transparent;}/*!sc*/
.dGDIQc:focus-visible:not(:disabled){box-shadow:none;outline:2px solid var(--fgColor-accent,var(--color-accent-fg,#0969da));outline-offset:-2px;}/*!sc*/
.dGDIQc[href]{display:-webkit-inline-box;display:-webkit-inline-flex;display:-ms-inline-flexbox;display:inline-flex;}/*!sc*/
.dGDIQc[href]:hover{-webkit-text-decoration:none;text-decoration:none;}/*!sc*/
.dGDIQc:hover{-webkit-transition-duration:80ms;transition-duration:80ms;}/*!sc*/
.dGDIQc:active{-webkit-transition:none;transition:none;}/*!sc*/
.dGDIQc[data-inactive]{cursor:auto;}/*!sc*/
.dGDIQc:disabled{cursor:not-allowed;box-shadow:none;color:var(--fgColor-disabled,var(--color-primer-fg-disabled,#8c959f));}/*!sc*/
.dGDIQc:disabled [data-component=ButtonCounter],.dGDIQc:disabled [data-component="leadingVisual"],.dGDIQc:disabled [data-component="trailingAction"]{color:inherit;}/*!sc*/
@media (forced-colors:active){.dGDIQc:focus{outline:solid 1px transparent;}}/*!sc*/
.dGDIQc [data-component=ButtonCounter]{font-size:12px;}/*!sc*/
.dGDIQc[data-component=IconButton]{display:inline-grid;padding:unset;place-content:center;width:32px;min-width:unset;}/*!sc*/
.dGDIQc[data-size="small"]{padding:0 8px;height:28px;gap:4px;font-size:12px;}/*!sc*/
.dGDIQc[data-size="small"] [data-component="text"]{line-height:calc(20 / 12);}/*!sc*/
.dGDIQc[data-size="small"] [data-component=ButtonCounter]{font-size:12px;}/*!sc*/
.dGDIQc[data-size="small"] [data-component="buttonContent"] > :not(:last-child){margin-right:4px;}/*!sc*/
.dGDIQc[data-size="small"][data-component=IconButton]{width:28px;padding:unset;}/*!sc*/
.dGDIQc[data-size="large"]{padding:0 16px;height:40px;gap:8px;}/*!sc*/
.dGDIQc[data-size="large"] [data-component="buttonContent"] > :not(:last-child){margin-right:8px;}/*!sc*/
.dGDIQc[data-size="large"][data-component=IconButton]{width:40px;padding:unset;}/*!sc*/
.dGDIQc[data-block="block"]{width:100%;}/*!sc*/
.dGDIQc[data-inactive]:not([disabled]){background-color:var(--button-inactive-bgColor,var(--button-inactive-bgColor-rest,var(--color-btn-inactive-bg,#eaeef2)));border-color:var(--button-inactive-bgColor,var(--button-inactive-bgColor-rest,var(--color-btn-inactive-bg,#eaeef2)));color:var(--button-inactive-fgColor,var(--button-inactive-fgColor-rest,var(--color-btn-inactive-text,#57606a)));}/*!sc*/
.dGDIQc[data-inactive]:not([disabled]):focus-visible{box-shadow:none;}/*!sc*/
.dGDIQc [data-component="leadingVisual"]{grid-area:leadingVisual;color:var(--fgColor-muted,var(--color-fg-muted,#656d76));}/*!sc*/
.dGDIQc [data-component="text"]{grid-area:text;line-height:calc(20/14);white-space:nowrap;}/*!sc*/
.dGDIQc [data-component="trailingVisual"]{grid-area:trailingVisual;}/*!sc*/
.dGDIQc [data-component="trailingAction"]{margin-right:-4px;color:var(--fgColor-muted,var(--color-fg-muted,#656d76));}/*!sc*/
.dGDIQc [data-component="buttonContent"]{-webkit-flex:1 0 auto;-ms-flex:1 0 auto;flex:1 0 auto;display:grid;grid-template-areas:"leadingVisual text trailingVisual";grid-template-columns:min-content minmax(0,auto) min-content;-webkit-align-items:center;-webkit-box-align:center;-ms-flex-align:center;align-items:center;-webkit-align-content:center;-ms-flex-line-pack:center;align-content:center;}/*!sc*/
.dGDIQc [data-component="buttonContent"] > :not(:last-child){margin-right:8px;}/*!sc*/
.dGDIQc:hover:not([disabled]){background-color:var(--control-transparent-bgColor-hover,var(--color-action-list-item-default-hover-bg,rgba(208,215,222,0.32)));}/*!sc*/
.dGDIQc:active:not([disabled]){background-color:var(--control-transparent-bgColor-active,var(--color-action-list-item-default-active-bg,rgba(208,215,222,0.48)));}/*!sc*/
.dGDIQc[aria-expanded=true]{background-color:var(--control-transparent-bgColor-selected,var(--color-action-list-item-default-selected-bg,rgba(208,215,222,0.24)));}/*!sc*/
.dGDIQc[data-component="IconButton"][data-no-visuals]{color:var(--fgColor-muted,var(--color-fg-muted,#656d76));}/*!sc*/
.dGDIQc[data-no-visuals]{color:var(--fgColor-accent,var(--color-accent-fg,#0969da));}/*!sc*/
.dGDIQc:has([data-component="ButtonCounter"]){color:var(--button-default-fgColor-rest,var(--color-btn-text,#24292f));}/*!sc*/
.dGDIQc:disabled[data-no-visuals]{color:var(--fgColor-disabled,var(--color-primer-fg-disabled,#8c959f));}/*!sc*/
.dGDIQc:disabled[data-no-visuals] [data-component=ButtonCounter]{color:inherit;}/*!sc*/
.dGDIQc[data-size="small"][data-no-visuals]{color:var(--fgColor-muted,var(--color-fg-muted,#656d76));}/*!sc*/
data-styled.g4[id="types__StyledButton-sc-ws60qy-0"]{content:"blmaBs,hkJzmn,hILMMl,dOnKJi,hviaoI,jXTShb,gfKkfV,dTgfec,pyyxt,fmvlPZ,dGDIQc,"}/*!sc*/
.bOMzPg{min-width:0;}/*!sc*/
.fIsVJr{padding-left:4px;padding-right:4px;font-weight:400;color:var(--fgColor-muted,var(--color-fg-muted,#656d76));font-size:16px;}/*!sc*/
.cYjMDB{padding-left:4px;padding-right:4px;font-weight:400;color:var(--fgColor-muted,var(--color-fg-muted,#656d76));font-size:14px;}/*!sc*/
data-styled.g7[id="Text-sc-17v1xeu-0"]{content:"bOMzPg,fIsVJr,gPDEWA,cYjMDB,"}/*!sc*/
.ipyMWB{color:var(--fgColor-accent,var(--color-accent-fg,#0969da));-webkit-text-decoration:none;text-decoration:none;font-weight:600;}/*!sc*/
[data-a11y-link-underlines='true'] .Link__StyledLink-sc-14289xe-0[data-inline='true']{-webkit-text-decoration:underline;text-decoration:underline;}/*!sc*/
.ipyMWB:hover{-webkit-text-decoration:underline;text-decoration:underline;}/*!sc*/
.ipyMWB:is(button){display:inline-block;padding:0;font-size:inherit;white-space:nowrap;cursor:pointer;-webkit-user-select:none;-moz-user-select:none;-ms-user-select:none;user-select:none;background-color:transparent;border:0;-webkit-appearance:none;-moz-appearance:none;appearance:none;}/*!sc*/
.jmkYvv{color:var(--fgColor-accent,var(--color-accent-fg,#0969da));-webkit-text-decoration:none;text-decoration:none;font-weight:400;}/*!sc*/
[data-a11y-link-underlines='true'] .Link__StyledLink-sc-14289xe-0[data-inline='true']{-webkit-text-decoration:underline;text-decoration:underline;}/*!sc*/
.jmkYvv:hover{-webkit-text-decoration:underline;text-decoration:underline;}/*!sc*/
.jmkYvv:is(button){display:inline-block;padding:0;font-size:inherit;white-space:nowrap;cursor:pointer;-webkit-user-select:none;-moz-user-select:none;-ms-user-select:none;user-select:none;background-color:transparent;border:0;-webkit-appearance:none;-moz-appearance:none;appearance:none;}/*!sc*/
data-styled.g8[id="Link__StyledLink-sc-14289xe-0"]{content:"ipyMWB,jmkYvv,"}/*!sc*/
.gNgnVl{position:relative;display:inline-block;}/*!sc*/
.gNgnVl::after{position:absolute;z-index:1000000;display:none;padding:0.5em 0.75em;font:normal normal 11px/1.5 -apple-system,BlinkMacSystemFont,"Segoe UI","Noto Sans",Helvetica,Arial,sans-serif,"Apple Color Emoji","Segoe UI Emoji";-webkit-font-smoothing:subpixel-antialiased;color:var(--fgColor-onEmphasis,var(--color-fg-on-emphasis,#ffffff));text-align:center;-webkit-text-decoration:none;text-decoration:none;text-shadow:none;text-transform:none;-webkit-letter-spacing:normal;-moz-letter-spacing:normal;-ms-letter-spacing:normal;letter-spacing:normal;word-wrap:break-word;white-space:pre;pointer-events:none;content:attr(aria-label);background:var(--bgColor-emphasis,var(--color-neutral-emphasis-plus,#24292f));border-radius:6px;opacity:0;}/*!sc*/
@-webkit-keyframes tooltip-appear{from{opacity:0;}to{opacity:1;}}/*!sc*/
@keyframes tooltip-appear{from{opacity:0;}to{opacity:1;}}/*!sc*/
.gNgnVl:hover::after,.gNgnVl:active::after,.gNgnVl:focus::after,.gNgnVl:focus-within::after{display:inline-block;-webkit-text-decoration:none;text-decoration:none;-webkit-animation-name:tooltip-appear;animation-name:tooltip-appear;-webkit-animation-duration:0.1s;animation-duration:0.1s;-webkit-animation-fill-mode:forwards;animation-fill-mode:forwards;-webkit-animation-timing-function:ease-in;animation-timing-function:ease-in;-webkit-animation-delay:0s;animation-delay:0s;}/*!sc*/
.gNgnVl.tooltipped-no-delay:hover::after,.gNgnVl.tooltipped-no-delay:active::after,.gNgnVl.tooltipped-no-delay:focus::after,.gNgnVl.tooltipped-no-delay:focus-within::after{-webkit-animation-delay:0s;animation-delay:0s;}/*!sc*/
.gNgnVl.tooltipped-multiline:hover::after,.gNgnVl.tooltipped-multiline:active::after,.gNgnVl.tooltipped-multiline:focus::after,.gNgnVl.tooltipped-multiline:focus-within::after{display:table-cell;}/*!sc*/
.gNgnVl.tooltipped-s::after,.gNgnVl.tooltipped-se::after,.gNgnVl.tooltipped-sw::after{top:100%;right:50%;margin-top:6px;}/*!sc*/
.gNgnVl.tooltipped-se::after{right:auto;left:50%;margin-left:-16px;}/*!sc*/
.gNgnVl.tooltipped-sw::after{margin-right:-16px;}/*!sc*/
.gNgnVl.tooltipped-n::after,.gNgnVl.tooltipped-ne::after,.gNgnVl.tooltipped-nw::after{right:50%;bottom:100%;margin-bottom:6px;}/*!sc*/
.gNgnVl.tooltipped-ne::after{right:auto;left:50%;margin-left:-16px;}/*!sc*/
.gNgnVl.tooltipped-nw::after{margin-right:-16px;}/*!sc*/
.gNgnVl.tooltipped-s::after,.gNgnVl.tooltipped-n::after{-webkit-transform:translateX(50%);-ms-transform:translateX(50%);transform:translateX(50%);}/*!sc*/
.gNgnVl.tooltipped-w::after{right:100%;bottom:50%;margin-right:6px;-webkit-transform:translateY(50%);-ms-transform:translateY(50%);transform:translateY(50%);}/*!sc*/
.gNgnVl.tooltipped-e::after{bottom:50%;left:100%;margin-left:6px;-webkit-transform:translateY(50%);-ms-transform:translateY(50%);transform:translateY(50%);}/*!sc*/
.gNgnVl.tooltipped-multiline::after{width:-webkit-max-content;width:-moz-max-content;width:max-content;max-width:250px;word-wrap:break-word;white-space:pre-line;border-collapse:separate;}/*!sc*/
.gNgnVl.tooltipped-multiline.tooltipped-s::after,.gNgnVl.tooltipped-multiline.tooltipped-n::after{right:auto;left:50%;-webkit-transform:translateX(-50%);-ms-transform:translateX(-50%);transform:translateX(-50%);}/*!sc*/
.gNgnVl.tooltipped-multiline.tooltipped-w::after,.gNgnVl.tooltipped-multiline.tooltipped-e::after{right:100%;}/*!sc*/
.gNgnVl.tooltipped-align-right-2::after{right:0;margin-right:0;}/*!sc*/
.gNgnVl.tooltipped-align-left-2::after{left:0;margin-left:0;}/*!sc*/
data-styled.g9[id="Tooltip__TooltipBase-sc-17tf59c-0"]{content:"gNgnVl,"}/*!sc*/
.fUpWeN{display:inline-block;overflow:hidden;text-overflow:ellipsis;vertical-align:top;white-space:nowrap;max-width:125px;max-width:100%;}/*!sc*/
data-styled.g13[id="Truncate__StyledTruncate-sc-23o1d2-0"]{content:"fUpWeN,"}/*!sc*/
.hPEVNM{-webkit-animation:rotate-keyframes 1s linear infinite;animation:rotate-keyframes 1s linear infinite;}/*!sc*/
@-webkit-keyframes rotate-keyframes{100%{-webkit-transform:rotate(360deg);-ms-transform:rotate(360deg);transform:rotate(360deg);}}/*!sc*/
@keyframes rotate-keyframes{100%{-webkit-transform:rotate(360deg);-ms-transform:rotate(360deg);transform:rotate(360deg);}}/*!sc*/
data-styled.g16[id="Spinner__StyledSpinner-sc-1knt686-0"]{content:"hPEVNM,"}/*!sc*/
.cXNreu{font-size:14px;line-height:20px;color:var(--fgColor-default,var(--color-fg-default,#1F2328));vertical-align:middle;background-color:var(--bgColor-default,var(--color-canvas-default,#ffffff));border:1px solid var(--control-borderColor-rest,var(--borderColor-default,var(--color-border-default,#d0d7de)));border-radius:6px;outline:none;box-shadow:var(--shadow-inset,var(--color-primer-shadow-inset,inset 0 1px 0 rgba(208,215,222,0.2)));display:-webkit-inline-box;display:-webkit-inline-flex;display:-ms-inline-flexbox;display:inline-flex;-webkit-align-items:stretch;-webkit-box-align:stretch;-ms-flex-align:stretch;align-items:stretch;min-height:32px;overflow:hidden;display:-webkit-box;display:-webkit-flex;display:-ms-flexbox;display:flex;min-width:160px;}/*!sc*/
.cXNreu input,.cXNreu textarea{cursor:text;}/*!sc*/
.cXNreu select{cursor:pointer;}/*!sc*/
.cXNreu input::-webkit-input-placeholder,.cXNreu textarea::-webkit-input-placeholder,.cXNreu select::-webkit-input-placeholder{color:var(---control-fgColor-placeholder,var(--fgColor-muted,var(--color-fg-muted,#656d76)));}/*!sc*/
.cXNreu input::-moz-placeholder,.cXNreu textarea::-moz-placeholder,.cXNreu select::-moz-placeholder{color:var(---control-fgColor-placeholder,var(--fgColor-muted,var(--color-fg-muted,#656d76)));}/*!sc*/
.cXNreu input:-ms-input-placeholder,.cXNreu textarea:-ms-input-placeholder,.cXNreu select:-ms-input-placeholder{color:var(---control-fgColor-placeholder,var(--fgColor-muted,var(--color-fg-muted,#656d76)));}/*!sc*/
.cXNreu input::placeholder,.cXNreu textarea::placeholder,.cXNreu select::placeholder{color:var(---control-fgColor-placeholder,var(--fgColor-muted,var(--color-fg-muted,#656d76)));}/*!sc*/
.cXNreu:focus-within{border-color:var(--fgColor-accent,var(--color-accent-fg,#0969da));outline:2px solid var(--fgColor-accent,var(--color-accent-fg,#0969da));outline-offset:-1px;}/*!sc*/
.cXNreu > textarea{padding:12px;}/*!sc*/
@media (min-width:768px){.cXNreu{font-size:14px;}}/*!sc*/
data-styled.g17[id="TextInputWrapper__TextInputBaseWrapper-sc-1mqhpbi-0"]{content:"cXNreu,"}/*!sc*/
.jbzqwE{background-repeat:no-repeat;background-position:right 8px center;padding-left:12px;padding-right:12px;display:-webkit-box;display:-webkit-flex;display:-ms-flexbox;display:flex;min-width:160px;}/*!sc*/
.jbzqwE > :not(:last-child){margin-right:8px;}/*!sc*/
.jbzqwE .TextInput-icon,.jbzqwE .TextInput-action{-webkit-align-self:center;-ms-flex-item-align:center;align-self:center;color:var(--fgColor-muted,var(--color-fg-muted,#656d76));-webkit-flex-shrink:0;-ms-flex-negative:0;flex-shrink:0;}/*!sc*/
.jbzqwE > input,.jbzqwE > select{padding-left:0;padding-right:0;}/*!sc*/
data-styled.g18[id="TextInputWrapper-sc-1mqhpbi-1"]{content:"jbzqwE,"}/*!sc*/
.cDLBls{border:0;font-size:inherit;font-family:inherit;background-color:transparent;-webkit-appearance:none;color:inherit;width:100%;}/*!sc*/
.cDLBls:focus{outline:0;}/*!sc*/
data-styled.g19[id="UnstyledTextInput-sc-14ypya-0"]{content:"cDLBls,"}/*!sc*/
body[data-page-layout-dragging="true"]{cursor:col-resize;}/*!sc*/
body[data-page-layout-dragging="true"] *{-webkit-user-select:none;-moz-user-select:none;-ms-user-select:none;user-select:none;}/*!sc*/
data-styled.g28[id="sc-global-gbKrvU1"]{content:"sc-global-gbKrvU1,"}/*!sc*/
.cjbBGq{display:-webkit-inline-box;display:-webkit-inline-flex;display:-ms-inline-flexbox;display:inline-flex;vertical-align:middle;isolation:isolate;}/*!sc*/
.cjbBGq.cjbBGq > *{margin-inline-end:-1px;position:relative;border-radius:0;}/*!sc*/
.cjbBGq.cjbBGq > *:first-child{border-top-left-radius:6px;border-bottom-left-radius:6px;}/*!sc*/
.cjbBGq.cjbBGq > *:last-child{border-top-right-radius:6px;border-bottom-right-radius:6px;}/*!sc*/
.cjbBGq.cjbBGq > *:focus,.cjbBGq.cjbBGq > *:active,.cjbBGq.cjbBGq > *:hover{z-index:1;}/*!sc*/
data-styled.g47[id="ButtonGroup-sc-1gxhls1-0"]{content:"cjbBGq,"}/*!sc*/
.jEdVkE{--segmented-control-button-inner-padding:12px;--segmented-control-button-bg-inset:4px;--segmented-control-outer-radius:6px;background-color:transparent;border-color:transparent;border-radius:var(--segmented-control-outer-radius);border-width:0;color:currentColor;cursor:pointer;font-family:inherit;font-size:inherit;font-weight:600;padding:0;height:100%;width:100%;}/*!sc*/
.jEdVkE .segmentedControl-content{-webkit-align-items:center;-webkit-box-align:center;-ms-flex-align:center;align-items:center;background-color:var(--controlKnob-bgColor-rest,var(--color-segmented-control-button-bg,#ffffff));border-color:var(--controlKnob-borderColor-rest,var(--color-segmented-control-button-hover-active-selected-border,#8c959f));border-style:solid;border-width:1px;border-radius:var(--segmented-control-outer-radius);display:-webkit-box;display:-webkit-flex;display:-ms-flexbox;display:flex;height:100%;-webkit-box-pack:center;-webkit-justify-content:center;-ms-flex-pack:center;justify-content:center;padding-left:var(--segmented-control-button-inner-padding);padding-right:var(--segmented-control-button-inner-padding);}/*!sc*/
.jEdVkE svg{fill:var(--fgColor-muted,var(--color-fg-muted,#656d76));}/*!sc*/
.jEdVkE:focus:focus-visible:not(:last-child):after{width:0;}/*!sc*/
.jEdVkE .segmentedControl-text:after{content:"Preview";display:block;font-weight:600;height:0;overflow:hidden;pointer-events:none;-webkit-user-select:none;-moz-user-select:none;-ms-user-select:none;user-select:none;visibility:hidden;}/*!sc*/
@media (pointer:coarse){.jEdVkE:before{content:"";position:absolute;left:0;right:0;-webkit-transform:translateY(-50%);-ms-transform:translateY(-50%);transform:translateY(-50%);top:50%;min-height:44px;}}/*!sc*/
.TvbfG{--segmented-control-button-inner-padding:12px;--segmented-control-button-bg-inset:4px;--segmented-control-outer-radius:6px;background-color:transparent;border-color:transparent;border-radius:var(--segmented-control-outer-radius);border-width:0;color:currentColor;cursor:pointer;font-family:inherit;font-size:inherit;font-weight:400;padding:var(--segmented-control-button-bg-inset);height:100%;width:100%;}/*!sc*/
.TvbfG .segmentedControl-content{-webkit-align-items:center;-webkit-box-align:center;-ms-flex-align:center;align-items:center;background-color:transparent;border-color:transparent;border-style:solid;border-width:1px;border-radius:calc(var(--segmented-control-outer-radius) - var(--segmented-control-button-bg-inset) / 2);display:-webkit-box;display:-webkit-flex;display:-ms-flexbox;display:flex;height:100%;-webkit-box-pack:center;-webkit-justify-content:center;-ms-flex-pack:center;justify-content:center;padding-left:calc(var(--segmented-control-button-inner-padding) - var(--segmented-control-button-bg-inset));padding-right:calc(var(--segmented-control-button-inner-padding) - var(--segmented-control-button-bg-inset));}/*!sc*/
.TvbfG svg{fill:var(--fgColor-muted,var(--color-fg-muted,#656d76));}/*!sc*/
.TvbfG:hover .segmentedControl-content{background-color:var(--controlTrack-bgColor-hover,var(--color-segmented-control-button-hover-bg,rgba(175,184,193,0.2)));}/*!sc*/
.TvbfG:active .segmentedControl-content{background-color:var(--controlTrack-bgColor-active,var(--color-segmented-control-button-hover-active-bg,rgba(175,184,193,0.4)));}/*!sc*/
.TvbfG:focus:focus-visible:not(:last-child):after{width:0;}/*!sc*/
.TvbfG .segmentedControl-text:after{content:"Code";display:block;font-weight:600;height:0;overflow:hidden;pointer-events:none;-webkit-user-select:none;-moz-user-select:none;-ms-user-select:none;user-select:none;visibility:hidden;}/*!sc*/
@media (pointer:coarse){.TvbfG:before{content:"";position:absolute;left:0;right:0;-webkit-transform:translateY(-50%);-ms-transform:translateY(-50%);transform:translateY(-50%);top:50%;min-height:44px;}}/*!sc*/
.fIktcg{--segmented-control-button-inner-padding:12px;--segmented-control-button-bg-inset:4px;--segmented-control-outer-radius:6px;background-color:transparent;border-color:transparent;border-radius:var(--segmented-control-outer-radius);border-width:0;color:currentColor;cursor:pointer;font-family:inherit;font-size:inherit;font-weight:400;padding:var(--segmented-control-button-bg-inset);height:100%;width:100%;}/*!sc*/
.fIktcg .segmentedControl-content{-webkit-align-items:center;-webkit-box-align:center;-ms-flex-align:center;align-items:center;background-color:transparent;border-color:transparent;border-style:solid;border-width:1px;border-radius:calc(var(--segmented-control-outer-radius) - var(--segmented-control-button-bg-inset) / 2);display:-webkit-box;display:-webkit-flex;display:-ms-flexbox;display:flex;height:100%;-webkit-box-pack:center;-webkit-justify-content:center;-ms-flex-pack:center;justify-content:center;padding-left:calc(var(--segmented-control-button-inner-padding) - var(--segmented-control-button-bg-inset));padding-right:calc(var(--segmented-control-button-inner-padding) - var(--segmented-control-button-bg-inset));}/*!sc*/
.fIktcg svg{fill:var(--fgColor-muted,var(--color-fg-muted,#656d76));}/*!sc*/
.fIktcg:hover .segmentedControl-content{background-color:var(--controlTrack-bgColor-hover,var(--color-segmented-control-button-hover-bg,rgba(175,184,193,0.2)));}/*!sc*/
.fIktcg:active .segmentedControl-content{background-color:var(--controlTrack-bgColor-active,var(--color-segmented-control-button-hover-active-bg,rgba(175,184,193,0.4)));}/*!sc*/
.fIktcg:focus:focus-visible:not(:last-child):after{width:0;}/*!sc*/
.fIktcg .segmentedControl-text:after{content:"Blame";display:block;font-weight:600;height:0;overflow:hidden;pointer-events:none;-webkit-user-select:none;-moz-user-select:none;-ms-user-select:none;user-select:none;visibility:hidden;}/*!sc*/
@media (pointer:coarse){.fIktcg:before{content:"";position:absolute;left:0;right:0;-webkit-transform:translateY(-50%);-ms-transform:translateY(-50%);transform:translateY(-50%);top:50%;min-height:44px;}}/*!sc*/
data-styled.g58[id="SegmentedControlButton__SegmentedControlButtonStyled-sc-8lkgxl-0"]{content:"jEdVkE,TvbfG,fIktcg,"}/*!sc*/
.huxtnT{background-color:var(--controlTrack-bgColor-rest,var(--color-segmented-control-bg,#eaeef2));border-radius:6px;display:-webkit-inline-box;display:-webkit-inline-flex;display:-ms-inline-flexbox;display:inline-flex;font-size:14px;height:28px;margin:0;padding:0;}/*!sc*/
data-styled.g60[id="SegmentedControl__SegmentedControlList-sc-1rzig82-0"]{content:"huxtnT,"}/*!sc*/
</style><meta data-hydrostats="publish"/> <!-- --> <!-- --> <!-- --> <button hidden="" data-testid="header-permalink-button" data-hotkey-scope="read-only-cursor-text-area"></button><button hidden=""></button><div><div style="--sticky-pane-height:100vh" class="Box-sc-g0xbh4-0 fSWWem"><div class="Box-sc-g0xbh4-0 kPPmzM"><div class="Box-sc-g0xbh4-0 cIAPDV"><div tabindex="0" class="Box-sc-g0xbh4-0 gvCnwW"><div class="Box-sc-g0xbh4-0 esrURn"><div class="Box-sc-g0xbh4-0 eUyHuk"></div><div style="--pane-width:320px" class="Box-sc-g0xbh4-0 gNdDUH"></div><div class="Box-sc-g0xbh4-0 hAeDYA"><div role="slider" aria-label="Draggable pane splitter" aria-valuemin="0" aria-valuemax="0" aria-valuenow="0" aria-valuetext="Pane width 0 pixels" tabindex="0" class="Box-sc-g0xbh4-0 fjdBNx"></div></div></div></div><div class="Box-sc-g0xbh4-0 emFMJu"><div class="Box-sc-g0xbh4-0"></div><div class="Box-sc-g0xbh4-0 hlUAHL"><div data-selector="repos-split-pane-content" tabindex="0" class="Box-sc-g0xbh4-0 iStsmI"><div class="Box-sc-g0xbh4-0 eIgvIk"><div class="Box-sc-g0xbh4-0 eVFfWF container"><div class="px-3 pt-3 pb-0" id="StickyHeader"><div class="Box-sc-g0xbh4-0 fywjmm"><div class="Box-sc-g0xbh4-0 dyczTK"><div class="Box-sc-g0xbh4-0 cpXcux react-code-view-header-wrap--narrow"><div class="Box-sc-g0xbh4-0 iPEkxH"><h2 class="Heading__StyledHeading-sc-1c1dgg0-0 jUriTl"><button style="--button-color:fg.muted" type="button" aria-label="Expand file tree" data-testid="expand-file-tree-button-mobile" class="types__StyledButton-sc-ws60qy-0 blmaBs"><span data-component="buttonContent" class="Box-sc-g0xbh4-0 kkrdEu"><span data-component="leadingVisual" class="Box-sc-g0xbh4-0 trpoQ"><svg aria-hidden="true" focusable="false" role="img" class="octicon octicon-arrow-left" viewBox="0 0 16 16" width="16" height="16" fill="currentColor" style="display:inline-block;user-select:none;vertical-align:text-bottom;overflow:visible"><path d="M7.78 12.53a.75.75 0 0 1-1.06 0L2.47 8.28a.75.75 0 0 1 0-1.06l4.25-4.25a.751.751 0 0 1 1.042.018.751.751 0 0 1 .018 1.042L4.81 7h7.44a.75.75 0 0 1 0 1.5H4.81l2.97 2.97a.75.75 0 0 1 0 1.06Z"></path></svg></span><span data-component="text">Files</span></span></button><span role="tooltip" aria-label="Expand file tree" id="expand-button-file-tree-button" class="Tooltip__TooltipBase-sc-17tf59c-0 gNgnVl tooltipped-se"><button data-component="IconButton" type="button" data-testid="expand-file-tree-button" aria-labelledby="expand-button-file-tree-button" aria-controls="repos-file-tree" class="types__StyledButton-sc-ws60qy-0 hkJzmn" data-no-visuals="true"><svg aria-hidden="true" focusable="false" role="img" class="octicon octicon-sidebar-collapse" viewBox="0 0 16 16" width="16" height="16" fill="currentColor" style="display:inline-block;user-select:none;vertical-align:text-bottom;overflow:visible"><path d="M6.823 7.823a.25.25 0 0 1 0 .354l-2.396 2.396A.25.25 0 0 1 4 10.396V5.604a.25.25 0 0 1 .427-.177Z"></path><path d="M1.75 0h12.5C15.216 0 16 .784 16 1.75v12.5A1.75 1.75 0 0 1 14.25 16H1.75A1.75 1.75 0 0 1 0 14.25V1.75C0 .784.784 0 1.75 0ZM1.5 1.75v12.5c0 .138.112.25.25.25H9.5v-13H1.75a.25.25 0 0 0-.25.25ZM11 14.5h3.25a.25.25 0 0 0 .25-.25V1.75a.25.25 0 0 0-.25-.25H11Z"></path></svg></button></span><button hidden="" data-testid="" data-hotkey-scope="read-only-cursor-text-area"></button></h2></div><div class="react-code-view-header-mb--narrow mr-2"><button type="button" id="branch-picker-repos-header-ref-selector-wide" aria-haspopup="true" aria-expanded="false" tabindex="0" aria-label="main branch" data-testid="anchor-button" class="types__StyledButton-sc-ws60qy-0 hILMMl ref-selector-class"><span data-component="buttonContent" class="Box-sc-g0xbh4-0 kkrdEu"><span data-component="text"><div class="Box-sc-g0xbh4-0 bKgizp"><div class="Box-sc-g0xbh4-0 iPGYsi"><svg aria-hidden="true" focusable="false" role="img" class="octicon octicon-git-branch" viewBox="0 0 16 16" width="16" height="16" fill="currentColor" style="display:inline-block;user-select:none;vertical-align:text-bottom;overflow:visible"><path d="M9.5 3.25a2.25 2.25 0 1 1 3 2.122V6A2.5 2.5 0 0 1 10 8.5H6a1 1 0 0 0-1 1v1.128a2.251 2.251 0 1 1-1.5 0V5.372a2.25 2.25 0 1 1 1.5 0v1.836A2.493 2.493 0 0 1 6 7h4a1 1 0 0 0 1-1v-.628A2.25 2.25 0 0 1 9.5 3.25Zm-6 0a.75.75 0 1 0 1.5 0 .75.75 0 0 0-1.5 0Zm8.25-.75a.75.75 0 1 0 0 1.5.75.75 0 0 0 0-1.5ZM4.25 12a.75.75 0 1 0 0 1.5.75.75 0 0 0 0-1.5Z"></path></svg></div><div class="Box-sc-g0xbh4-0 dKmYfk ref-selector-button-text-container"><span class="Text-sc-17v1xeu-0 bOMzPg"> <!-- -->main</span></div></div></span><span data-component="trailingVisual" class="Box-sc-g0xbh4-0 trpoQ"><svg aria-hidden="true" focusable="false" role="img" class="octicon octicon-triangle-down" viewBox="0 0 16 16" width="16" height="16" fill="currentColor" style="display:inline-block;user-select:none;vertical-align:text-bottom;overflow:visible"><path d="m4.427 7.427 3.396 3.396a.25.25 0 0 0 .354 0l3.396-3.396A.25.25 0 0 0 11.396 7H4.604a.25.25 0 0 0-.177.427Z"></path></svg></span></span></button><button hidden="" data-hotkey-scope="read-only-cursor-text-area"></button></div><div class="Box-sc-g0xbh4-0 ehCeGn react-code-view-header-mb--narrow"><div class="Box-sc-g0xbh4-0 eTvGbF"><nav data-testid="breadcrumbs" aria-labelledby="repos-header-breadcrumb-heading" id="repos-header-breadcrumb" class="Box-sc-g0xbh4-0 kzRgrI"><h2 class="Heading__StyledHeading-sc-1c1dgg0-0 cgQnMS sr-only" data-testid="screen-reader-heading" id="repos-header-breadcrumb-heading">Breadcrumbs</h2><ol class="Box-sc-g0xbh4-0 cmAPIB"><li class="Box-sc-g0xbh4-0 jwXCBK"><a sx="[object Object]" data-testid="breadcrumbs-repo-link" class="Link__StyledLink-sc-14289xe-0 ipyMWB" href="/shantanu1109/Coursera-DeepLearning.AI-AI-FOR-MEDICINE-SPECIALIZATION/tree/main">Coursera-DeepLearning.AI-AI-FOR-MEDICINE-SPECIALIZATION</a></li><li class="Box-sc-g0xbh4-0 jwXCBK"><span aria-hidden="true" class="Text-sc-17v1xeu-0 fIsVJr">/</span><a sx="[object Object]" class="Link__StyledLink-sc-14289xe-0 jmkYvv" href="/shantanu1109/Coursera-DeepLearning.AI-AI-FOR-MEDICINE-SPECIALIZATION/tree/main/Course-2-AI%20for%20Medical%20Prognosis">Course-2-AI for Medical Prognosis</a></li><li class="Box-sc-g0xbh4-0 jwXCBK"><span aria-hidden="true" class="Text-sc-17v1xeu-0 fIsVJr">/</span><a sx="[object Object]" class="Link__StyledLink-sc-14289xe-0 jmkYvv" href="/shantanu1109/Coursera-DeepLearning.AI-AI-FOR-MEDICINE-SPECIALIZATION/tree/main/Course-2-AI%20for%20Medical%20Prognosis/Course-2-Week-3">Course-2-Week-3</a></li><li class="Box-sc-g0xbh4-0 jwXCBK"><span aria-hidden="true" class="Text-sc-17v1xeu-0 fIsVJr">/</span><a sx="[object Object]" class="Link__StyledLink-sc-14289xe-0 jmkYvv" href="/shantanu1109/Coursera-DeepLearning.AI-AI-FOR-MEDICINE-SPECIALIZATION/tree/main/Course-2-AI%20for%20Medical%20Prognosis/Course-2-Week-3/Course-2-Week-3-Practice-Labs">Course-2-Week-3-Practice-Labs</a></li></ol></nav><div data-testid="breadcrumbs-filename" class="Box-sc-g0xbh4-0 jwXCBK"><span aria-hidden="true" class="Text-sc-17v1xeu-0 fIsVJr">/</span><h1 tabindex="-1" id="file-name-id" class="Heading__StyledHeading-sc-1c1dgg0-0 diwsLq">Course-2-Week-3-Practice-Labs-1-Survival-Estimates-that-Vary-with-Time.ipynb</h1></div><div aria-describedby=":R1td9laeb:"><button data-component="IconButton" type="button" aria-label="Copy path" tabindex="0" class="types__StyledButton-sc-ws60qy-0 dOnKJi" data-size="small" data-no-visuals="true"><svg aria-hidden="true" focusable="false" role="img" class="octicon octicon-copy" viewBox="0 0 16 16" width="16" height="16" fill="currentColor" style="display:inline-block;user-select:none;vertical-align:text-bottom;overflow:visible"><path d="M0 6.75C0 5.784.784 5 1.75 5h1.5a.75.75 0 0 1 0 1.5h-1.5a.25.25 0 0 0-.25.25v7.5c0 .138.112.25.25.25h7.5a.25.25 0 0 0 .25-.25v-1.5a.75.75 0 0 1 1.5 0v1.5A1.75 1.75 0 0 1 9.25 16h-7.5A1.75 1.75 0 0 1 0 14.25Z"></path><path d="M5 1.75C5 .784 5.784 0 6.75 0h7.5C15.216 0 16 .784 16 1.75v7.5A1.75 1.75 0 0 1 14.25 11h-7.5A1.75 1.75 0 0 1 5 9.25Zm1.75-.25a.25.25 0 0 0-.25.25v7.5c0 .138.112.25.25.25h7.5a.25.25 0 0 0 .25-.25v-7.5a.25.25 0 0 0-.25-.25Z"></path></svg></button></div></div></div></div><div class="react-code-view-header-element--wide"><div class="Box-sc-g0xbh4-0 gtBUEp"><div class="d-flex gap-2"> <div><div class="Box-sc-g0xbh4-0 kfYOBR"><span class="TextInputWrapper__TextInputBaseWrapper-sc-1mqhpbi-0 TextInputWrapper-sc-1mqhpbi-1 cXNreu jbzqwE TextInput-wrapper" aria-busy="false"><span class="TextInput-icon"><svg aria-hidden="true" focusable="false" role="img" class="octicon octicon-search" viewBox="0 0 16 16" width="16" height="16" fill="currentColor" style="display:inline-block;user-select:none;vertical-align:text-bottom;overflow:visible"><path d="M10.68 11.74a6 6 0 0 1-7.922-8.982 6 6 0 0 1 8.982 7.922l3.04 3.04a.749.749 0 0 1-.326 1.275.749.749 0 0 1-.734-.215ZM11.5 7a4.499 4.499 0 1 0-8.997 0A4.499 4.499 0 0 0 11.5 7Z"></path></svg></span><input type="text" aria-label="Go to file" role="combobox" aria-controls="file-results-list" aria-expanded="false" aria-haspopup="dialog" autoCorrect="off" spellcheck="false" placeholder="Go to file" data-component="input" class="UnstyledTextInput-sc-14ypya-0 cDLBls" value=""/><span class="TextInput-icon"></span></span></div><button hidden="" data-testid="" data-hotkey-scope="read-only-cursor-text-area"></button><button hidden=""></button></div><button type="button" data-no-visuals="true" class="types__StyledButton-sc-ws60qy-0 hviaoI"><span data-component="buttonContent" class="Box-sc-g0xbh4-0 kkrdEu"><span data-component="text">Blame</span></span></button><button hidden="" data-testid="" data-hotkey-scope="read-only-cursor-text-area"></button><button data-component="IconButton" type="button" aria-label="More file actions" class="types__StyledButton-sc-ws60qy-0 jXTShb js-blob-dropdown-click" title="More file actions" data-testid="more-file-actions-button-nav-menu-wide" id=":R156d9laeb:" aria-haspopup="true" aria-expanded="false" tabindex="0" data-no-visuals="true"><svg aria-hidden="true" focusable="false" role="img" class="octicon octicon-kebab-horizontal" viewBox="0 0 16 16" width="16" height="16" fill="currentColor" style="display:inline-block;user-select:none;vertical-align:text-bottom;overflow:visible"><path d="M8 9a1.5 1.5 0 1 0 0-3 1.5 1.5 0 0 0 0 3ZM1.5 9a1.5 1.5 0 1 0 0-3 1.5 1.5 0 0 0 0 3Zm13 0a1.5 1.5 0 1 0 0-3 1.5 1.5 0 0 0 0 3Z"></path></svg></button> </div></div></div><div class="react-code-view-header-element--narrow"><div class="Box-sc-g0xbh4-0 gtBUEp"><div class="d-flex gap-2"> <button type="button" data-no-visuals="true" class="types__StyledButton-sc-ws60qy-0 hviaoI"><span data-component="buttonContent" class="Box-sc-g0xbh4-0 kkrdEu"><span data-component="text">Blame</span></span></button><button hidden="" data-testid="" data-hotkey-scope="read-only-cursor-text-area"></button><button data-component="IconButton" type="button" aria-label="More file actions" class="types__StyledButton-sc-ws60qy-0 jXTShb js-blob-dropdown-click" title="More file actions" data-testid="more-file-actions-button-nav-menu-narrow" id=":R157d9laeb:" aria-haspopup="true" aria-expanded="false" tabindex="0" data-no-visuals="true"><svg aria-hidden="true" focusable="false" role="img" class="octicon octicon-kebab-horizontal" viewBox="0 0 16 16" width="16" height="16" fill="currentColor" style="display:inline-block;user-select:none;vertical-align:text-bottom;overflow:visible"><path d="M8 9a1.5 1.5 0 1 0 0-3 1.5 1.5 0 0 0 0 3ZM1.5 9a1.5 1.5 0 1 0 0-3 1.5 1.5 0 0 0 0 3Zm13 0a1.5 1.5 0 1 0 0-3 1.5 1.5 0 0 0 0 3Z"></path></svg></button> </div></div></div></div></div></div></div></div><div class="Box-sc-g0xbh4-0 hVZtwF react-code-view-bottom-padding"> <div class="Box-sc-g0xbh4-0 cMYnca"></div> <!-- --> <!-- --> </div><div class="Box-sc-g0xbh4-0 hVZtwF"> <!-- --> <!-- --> <div class="d-flex flex-column border rounded-2 mb-3 pl-1"><div class="Box-sc-g0xbh4-0 brJRqk"><h2 class="Heading__StyledHeading-sc-1c1dgg0-0 cgQnMS sr-only" data-testid="screen-reader-heading">Latest commit</h2><div style="width:120px" class="Skeleton Skeleton--text" data-testid="loading"> </div><div class="d-flex flex-shrink-0 gap-2"><div data-testid="latest-commit-details" class="d-none d-sm-flex flex-items-center"></div><div class="d-flex gap-2"><h2 class="Heading__StyledHeading-sc-1c1dgg0-0 cgQnMS sr-only" data-testid="screen-reader-heading">History</h2><a aria-label="Commit history" class="types__StyledButton-sc-ws60qy-0 dOnKJi d-none d-lg-flex LinkButton-module__code-view-link-button--xvCGA flex-items-center fgColor-default" href="/shantanu1109/Coursera-DeepLearning.AI-AI-FOR-MEDICINE-SPECIALIZATION/commits/main/Course-2-AI%20for%20Medical%20Prognosis/Course-2-Week-3/Course-2-Week-3-Practice-Labs/Course-2-Week-3-Practice-Labs-1-Survival-Estimates-that-Vary-with-Time.ipynb" data-size="small"><span data-component="buttonContent" class="Box-sc-g0xbh4-0 kkrdEu"><span data-component="leadingVisual" class="Box-sc-g0xbh4-0 trpoQ"><svg aria-hidden="true" focusable="false" role="img" class="octicon octicon-history" viewBox="0 0 16 16" width="16" height="16" fill="currentColor" style="display:inline-block;user-select:none;vertical-align:text-bottom;overflow:visible"><path d="m.427 1.927 1.215 1.215a8.002 8.002 0 1 1-1.6 5.685.75.75 0 1 1 1.493-.154 6.5 6.5 0 1 0 1.18-4.458l1.358 1.358A.25.25 0 0 1 3.896 6H.25A.25.25 0 0 1 0 5.75V2.104a.25.25 0 0 1 .427-.177ZM7.75 4a.75.75 0 0 1 .75.75v2.992l2.028.812a.75.75 0 0 1-.557 1.392l-2.5-1A.751.751 0 0 1 7 8.25v-3.5A.75.75 0 0 1 7.75 4Z"></path></svg></span><span data-component="text"><span class="Text-sc-17v1xeu-0 gPDEWA fgColor-default">History</span></span></span></a><div class="d-sm-none"></div><div class="d-flex d-lg-none"><span role="tooltip" aria-label="History" id="history-icon-button-tooltip" class="Tooltip__TooltipBase-sc-17tf59c-0 gNgnVl tooltipped-n"><a aria-label="Commit history" aria-describedby="history-icon-button-tooltip" class="types__StyledButton-sc-ws60qy-0 dOnKJi LinkButton-module__code-view-link-button--xvCGA flex-items-center fgColor-default" href="/shantanu1109/Coursera-DeepLearning.AI-AI-FOR-MEDICINE-SPECIALIZATION/commits/main/Course-2-AI%20for%20Medical%20Prognosis/Course-2-Week-3/Course-2-Week-3-Practice-Labs/Course-2-Week-3-Practice-Labs-1-Survival-Estimates-that-Vary-with-Time.ipynb" data-size="small"><span data-component="buttonContent" class="Box-sc-g0xbh4-0 kkrdEu"><span data-component="leadingVisual" class="Box-sc-g0xbh4-0 trpoQ"><svg aria-hidden="true" focusable="false" role="img" class="octicon octicon-history" viewBox="0 0 16 16" width="16" height="16" fill="currentColor" style="display:inline-block;user-select:none;vertical-align:text-bottom;overflow:visible"><path d="m.427 1.927 1.215 1.215a8.002 8.002 0 1 1-1.6 5.685.75.75 0 1 1 1.493-.154 6.5 6.5 0 1 0 1.18-4.458l1.358 1.358A.25.25 0 0 1 3.896 6H.25A.25.25 0 0 1 0 5.75V2.104a.25.25 0 0 1 .427-.177ZM7.75 4a.75.75 0 0 1 .75.75v2.992l2.028.812a.75.75 0 0 1-.557 1.392l-2.5-1A.751.751 0 0 1 7 8.25v-3.5A.75.75 0 0 1 7.75 4Z"></path></svg></span></span></a></span></div></div></div></div></div><div class="Box-sc-g0xbh4-0 iJmJly"><div class="Box-sc-g0xbh4-0 jACbi container"><div class="Box-sc-g0xbh4-0 gIJuDf react-code-size-details-banner"><div class="Box-sc-g0xbh4-0 fleZSW react-code-size-details-banner"><div class="Box-sc-g0xbh4-0 BnySK text-mono"><div title="102 KB" data-testid="blob-size" class="Truncate__StyledTruncate-sc-23o1d2-0 fUpWeN"><span class="Text-sc-17v1xeu-0 gPDEWA">1164 lines (1164 loc) · 102 KB</span></div></div></div></div><div class="Box-sc-g0xbh4-0 VHzRk react-blob-view-header-sticky" id="repos-sticky-header"><div class="Box-sc-g0xbh4-0 ePiodO"><div class="Box-sc-g0xbh4-0 react-blob-sticky-header"><div class="Box-sc-g0xbh4-0 kQJlnf"><div class="Box-sc-g0xbh4-0 nSWSp"><div class="Box-sc-g0xbh4-0 lhFvfi"><div class="Box-sc-g0xbh4-0 doiYd"><button type="button" id="branch-picker-repos-header-ref-selector" aria-haspopup="true" aria-expanded="false" tabindex="0" aria-label="main branch" data-testid="anchor-button" class="types__StyledButton-sc-ws60qy-0 hILMMl ref-selector-class"><span data-component="buttonContent" class="Box-sc-g0xbh4-0 kkrdEu"><span data-component="text"><div class="Box-sc-g0xbh4-0 bKgizp"><div class="Box-sc-g0xbh4-0 iPGYsi"><svg aria-hidden="true" focusable="false" role="img" class="octicon octicon-git-branch" viewBox="0 0 16 16" width="16" height="16" fill="currentColor" style="display:inline-block;user-select:none;vertical-align:text-bottom;overflow:visible"><path d="M9.5 3.25a2.25 2.25 0 1 1 3 2.122V6A2.5 2.5 0 0 1 10 8.5H6a1 1 0 0 0-1 1v1.128a2.251 2.251 0 1 1-1.5 0V5.372a2.25 2.25 0 1 1 1.5 0v1.836A2.493 2.493 0 0 1 6 7h4a1 1 0 0 0 1-1v-.628A2.25 2.25 0 0 1 9.5 3.25Zm-6 0a.75.75 0 1 0 1.5 0 .75.75 0 0 0-1.5 0Zm8.25-.75a.75.75 0 1 0 0 1.5.75.75 0 0 0 0-1.5ZM4.25 12a.75.75 0 1 0 0 1.5.75.75 0 0 0 0-1.5Z"></path></svg></div><div class="Box-sc-g0xbh4-0 dKmYfk ref-selector-button-text-container"><span class="Text-sc-17v1xeu-0 bOMzPg"> <!-- -->main</span></div></div></span><span data-component="trailingVisual" class="Box-sc-g0xbh4-0 trpoQ"><svg aria-hidden="true" focusable="false" role="img" class="octicon octicon-triangle-down" viewBox="0 0 16 16" width="16" height="16" fill="currentColor" style="display:inline-block;user-select:none;vertical-align:text-bottom;overflow:visible"><path d="m4.427 7.427 3.396 3.396a.25.25 0 0 0 .354 0l3.396-3.396A.25.25 0 0 0 11.396 7H4.604a.25.25 0 0 0-.177.427Z"></path></svg></span></span></button><button hidden="" data-hotkey-scope="read-only-cursor-text-area"></button></div><div class="Box-sc-g0xbh4-0 jKPiSV"><div class="Box-sc-g0xbh4-0 iZJewz"><nav data-testid="breadcrumbs" aria-labelledby="sticky-breadcrumb-heading" id="sticky-breadcrumb" class="Box-sc-g0xbh4-0 kzRgrI"><h2 class="Heading__StyledHeading-sc-1c1dgg0-0 cgQnMS sr-only" data-testid="screen-reader-heading" id="sticky-breadcrumb-heading">Breadcrumbs</h2><ol class="Box-sc-g0xbh4-0 cmAPIB"><li class="Box-sc-g0xbh4-0 jwXCBK"><a sx="[object Object]" data-testid="breadcrumbs-repo-link" class="Link__StyledLink-sc-14289xe-0 ipyMWB" href="/shantanu1109/Coursera-DeepLearning.AI-AI-FOR-MEDICINE-SPECIALIZATION/tree/main">Coursera-DeepLearning.AI-AI-FOR-MEDICINE-SPECIALIZATION</a></li><li class="Box-sc-g0xbh4-0 jwXCBK"><span aria-hidden="true" class="Text-sc-17v1xeu-0 cYjMDB">/</span><a sx="[object Object]" class="Link__StyledLink-sc-14289xe-0 jmkYvv" href="/shantanu1109/Coursera-DeepLearning.AI-AI-FOR-MEDICINE-SPECIALIZATION/tree/main/Course-2-AI%20for%20Medical%20Prognosis">Course-2-AI for Medical Prognosis</a></li><li class="Box-sc-g0xbh4-0 jwXCBK"><span aria-hidden="true" class="Text-sc-17v1xeu-0 cYjMDB">/</span><a sx="[object Object]" class="Link__StyledLink-sc-14289xe-0 jmkYvv" href="/shantanu1109/Coursera-DeepLearning.AI-AI-FOR-MEDICINE-SPECIALIZATION/tree/main/Course-2-AI%20for%20Medical%20Prognosis/Course-2-Week-3">Course-2-Week-3</a></li><li class="Box-sc-g0xbh4-0 jwXCBK"><span aria-hidden="true" class="Text-sc-17v1xeu-0 cYjMDB">/</span><a sx="[object Object]" class="Link__StyledLink-sc-14289xe-0 jmkYvv" href="/shantanu1109/Coursera-DeepLearning.AI-AI-FOR-MEDICINE-SPECIALIZATION/tree/main/Course-2-AI%20for%20Medical%20Prognosis/Course-2-Week-3/Course-2-Week-3-Practice-Labs">Course-2-Week-3-Practice-Labs</a></li></ol></nav><div data-testid="breadcrumbs-filename" class="Box-sc-g0xbh4-0 jwXCBK"><span aria-hidden="true" class="Text-sc-17v1xeu-0 cYjMDB">/</span><h1 tabindex="-1" id="sticky-file-name-id" class="Heading__StyledHeading-sc-1c1dgg0-0 jAEDJk">Course-2-Week-3-Practice-Labs-1-Survival-Estimates-that-Vary-with-Time.ipynb</h1></div></div></div></div><button style="--button-color:fg.default" type="button" data-size="small" class="types__StyledButton-sc-ws60qy-0 gfKkfV"><span data-component="buttonContent" class="Box-sc-g0xbh4-0 kkrdEu"><span data-component="leadingVisual" class="Box-sc-g0xbh4-0 trpoQ"><svg aria-hidden="true" focusable="false" role="img" class="octicon octicon-arrow-up" viewBox="0 0 16 16" width="16" height="16" fill="currentColor" style="display:inline-block;user-select:none;vertical-align:text-bottom;overflow:visible"><path d="M3.47 7.78a.75.75 0 0 1 0-1.06l4.25-4.25a.75.75 0 0 1 1.06 0l4.25 4.25a.751.751 0 0 1-.018 1.042.751.751 0 0 1-1.042.018L9 4.81v7.44a.75.75 0 0 1-1.5 0V4.81L4.53 7.78a.75.75 0 0 1-1.06 0Z"></path></svg></span><span data-component="text">Top</span></span></button></div></div></div><div class="Box-sc-g0xbh4-0 jfjHXm"><h2 class="Heading__StyledHeading-sc-1c1dgg0-0 cgQnMS sr-only" data-testid="screen-reader-heading">File metadata and controls</h2><div class="Box-sc-g0xbh4-0 bfkNRF"><ul aria-label="File view" class="SegmentedControl__SegmentedControlList-sc-1rzig82-0 huxtnT"><li class="Box-sc-g0xbh4-0 fXBLEV"><button aria-current="true" type="button" class="SegmentedControlButton__SegmentedControlButtonStyled-sc-8lkgxl-0 jEdVkE"><span class="segmentedControl-content"><div class="Box-sc-g0xbh4-0 segmentedControl-text">Preview</div></span></button></li><li class="Box-sc-g0xbh4-0 gMPsNT"><button aria-current="false" type="button" class="SegmentedControlButton__SegmentedControlButtonStyled-sc-8lkgxl-0 TvbfG"><span class="segmentedControl-content"><div class="Box-sc-g0xbh4-0 segmentedControl-text">Code</div></span></button></li><li class="Box-sc-g0xbh4-0 gMPsNT"><button aria-current="false" type="button" class="SegmentedControlButton__SegmentedControlButtonStyled-sc-8lkgxl-0 fIktcg"><span class="segmentedControl-content"><div class="Box-sc-g0xbh4-0 segmentedControl-text">Blame</div></span></button></li></ul><button hidden="" data-testid="" data-hotkey-scope="read-only-cursor-text-area"></button><button hidden="" data-testid="" data-hotkey-scope="read-only-cursor-text-area"></button><button hidden="" data-testid="" data-hotkey-scope="read-only-cursor-text-area"></button><div class="Box-sc-g0xbh4-0 fleZSW react-code-size-details-in-header"><div class="Box-sc-g0xbh4-0 BnySK text-mono"><div title="102 KB" data-testid="blob-size" class="Truncate__StyledTruncate-sc-23o1d2-0 fUpWeN"><span class="Text-sc-17v1xeu-0 gPDEWA">1164 lines (1164 loc) · 102 KB</span></div></div></div></div><div class="Box-sc-g0xbh4-0 iBylDf"><div class="Box-sc-g0xbh4-0 kSGBPx react-blob-header-edit-and-raw-actions"><div class="ButtonGroup-sc-1gxhls1-0 cjbBGq"><a href="https://github.com/shantanu1109/Coursera-DeepLearning.AI-AI-FOR-MEDICINE-SPECIALIZATION/raw/main/Course-2-AI%20for%20Medical%20Prognosis/Course-2-Week-3/Course-2-Week-3-Practice-Labs/Course-2-Week-3-Practice-Labs-1-Survival-Estimates-that-Vary-with-Time.ipynb" data-testid="raw-button" data-size="small" data-no-visuals="true" class="types__StyledButton-sc-ws60qy-0 dTgfec"><span data-component="buttonContent" class="Box-sc-g0xbh4-0 kkrdEu"><span data-component="text">Raw</span></span></a><button data-component="IconButton" type="button" aria-label="Copy raw content" data-testid="copy-raw-button" data-size="small" data-no-visuals="true" class="types__StyledButton-sc-ws60qy-0 pyyxt"><svg aria-hidden="true" focusable="false" role="img" class="octicon octicon-copy" viewBox="0 0 16 16" width="16" height="16" fill="currentColor" style="display:inline-block;user-select:none;vertical-align:text-bottom;overflow:visible"><path d="M0 6.75C0 5.784.784 5 1.75 5h1.5a.75.75 0 0 1 0 1.5h-1.5a.25.25 0 0 0-.25.25v7.5c0 .138.112.25.25.25h7.5a.25.25 0 0 0 .25-.25v-1.5a.75.75 0 0 1 1.5 0v1.5A1.75 1.75 0 0 1 9.25 16h-7.5A1.75 1.75 0 0 1 0 14.25Z"></path><path d="M5 1.75C5 .784 5.784 0 6.75 0h7.5C15.216 0 16 .784 16 1.75v7.5A1.75 1.75 0 0 1 14.25 11h-7.5A1.75 1.75 0 0 1 5 9.25Zm1.75-.25a.25.25 0 0 0-.25.25v7.5c0 .138.112.25.25.25h7.5a.25.25 0 0 0 .25-.25v-7.5a.25.25 0 0 0-.25-.25Z"></path></svg></button><span role="tooltip" aria-label="Download raw file" id=":Rdcsptal9laeb:" class="Tooltip__TooltipBase-sc-17tf59c-0 gNgnVl tooltipped-n"><button data-component="IconButton" type="button" aria-label="Download raw content" data-testid="download-raw-button" data-size="small" data-no-visuals="true" class="types__StyledButton-sc-ws60qy-0 fmvlPZ"><svg aria-hidden="true" focusable="false" role="img" class="octicon octicon-download" viewBox="0 0 16 16" width="16" height="16" fill="currentColor" style="display:inline-block;user-select:none;vertical-align:text-bottom;overflow:visible"><path d="M2.75 14A1.75 1.75 0 0 1 1 12.25v-2.5a.75.75 0 0 1 1.5 0v2.5c0 .138.112.25.25.25h10.5a.25.25 0 0 0 .25-.25v-2.5a.75.75 0 0 1 1.5 0v2.5A1.75 1.75 0 0 1 13.25 14Z"></path><path d="M7.25 7.689V2a.75.75 0 0 1 1.5 0v5.689l1.97-1.969a.749.749 0 1 1 1.06 1.06l-3.25 3.25a.749.749 0 0 1-1.06 0L4.22 6.78a.749.749 0 1 1 1.06-1.06l1.97 1.969Z"></path></svg></button></span></div><button hidden="" data-testid="raw-button-shortcut" data-hotkey-scope="read-only-cursor-text-area"></button><button hidden="" data-testid="copy-raw-button-shortcut" data-hotkey-scope="read-only-cursor-text-area"></button><button hidden="" data-testid="download-raw-button-shortcut" data-hotkey-scope="read-only-cursor-text-area"></button></div><div class="Box-sc-g0xbh4-0 react-blob-header-edit-and-raw-actions-combined"><button data-component="IconButton" type="button" aria-label="Edit and raw actions" class="types__StyledButton-sc-ws60qy-0 dGDIQc js-blob-dropdown-click" title="More file actions" data-testid="more-file-actions-button" id=":Rnsptal9laeb:" aria-haspopup="true" aria-expanded="false" tabindex="0" data-size="small" data-no-visuals="true"><svg aria-hidden="true" focusable="false" role="img" class="octicon octicon-kebab-horizontal" viewBox="0 0 16 16" width="16" height="16" fill="currentColor" style="display:inline-block;user-select:none;vertical-align:text-bottom;overflow:visible"><path d="M8 9a1.5 1.5 0 1 0 0-3 1.5 1.5 0 0 0 0 3ZM1.5 9a1.5 1.5 0 1 0 0-3 1.5 1.5 0 0 0 0 3Zm13 0a1.5 1.5 0 1 0 0-3 1.5 1.5 0 0 0 0 3Z"></path></svg></button></div></div></div></div><div></div></div><div class="Box-sc-g0xbh4-0 ytOJl"><section aria-labelledby="file-name-id-wide file-name-id-mobile" class="Box-sc-g0xbh4-0 eJsjkT"><!--$!--><template></template><div data-testid="suspense-spinner" class="Box-sc-g0xbh4-0 bAzdCq"><svg height="32px" width="32px" viewBox="0 0 16 16" fill="none" aria-label="Loading" class="Spinner__StyledSpinner-sc-1knt686-0 hPEVNM"><circle cx="8" cy="8" r="7" stroke="currentColor" stroke-opacity="0.25" stroke-width="2" vector-effect="non-scaling-stroke"></circle><path d="M15 8a7.002 7.002 0 00-7-7" stroke="currentColor" stroke-width="2" stroke-linecap="round" vector-effect="non-scaling-stroke"></path></svg></div><!--/$--></section></div></div></div> <!-- --> <!-- --> </div></div></div><div class="Box-sc-g0xbh4-0"></div></div></div></div></div><div id="find-result-marks-container" class="Box-sc-g0xbh4-0 aZrVR"></div><button hidden="" data-testid="" data-hotkey-scope="read-only-cursor-text-area"></button><button hidden=""></button></div> <!-- --> <!-- --> <!-- --> <script type="application/json" id="__PRIMER_DATA_:R0:__">{"resolvedServerColorMode":"day"}</script></div>
</react-app>
</turbo-frame>



  </div>

</turbo-frame>

    </main>
  </div>

  </div>

          <footer class="footer pt-8 pb-6 f6 color-fg-muted p-responsive" role="contentinfo" >
  <h2 class='sr-only'>Footer</h2>

  


  <div class="d-flex flex-justify-center flex-items-center flex-column-reverse flex-lg-row flex-wrap flex-lg-nowrap">
    <div class="d-flex flex-items-center flex-shrink-0 mx-2">
      <a aria-label="Homepage" title="GitHub" class="footer-octicon mr-2" href="https://github.com">
        <svg aria-hidden="true" height="24" viewBox="0 0 16 16" version="1.1" width="24" data-view-component="true" class="octicon octicon-mark-github">
    <path d="M8 0c4.42 0 8 3.58 8 8a8.013 8.013 0 0 1-5.45 7.59c-.4.08-.55-.17-.55-.38 0-.27.01-1.13.01-2.2 0-.75-.25-1.23-.54-1.48 1.78-.2 3.65-.88 3.65-3.95 0-.88-.31-1.59-.82-2.15.08-.2.36-1.02-.08-2.12 0 0-.67-.22-2.2.82-.64-.18-1.32-.27-2-.27-.68 0-1.36.09-2 .27-1.53-1.03-2.2-.82-2.2-.82-.44 1.1-.16 1.92-.08 2.12-.51.56-.82 1.28-.82 2.15 0 3.06 1.86 3.75 3.64 3.95-.23.2-.44.55-.51 1.07-.46.21-1.61.55-2.33-.66-.15-.24-.6-.83-1.23-.82-.67.01-.27.38.01.53.34.19.73.9.82 1.13.16.45.68 1.31 2.69.94 0 .67.01 1.3.01 1.49 0 .21-.15.45-.55.38A7.995 7.995 0 0 1 0 8c0-4.42 3.58-8 8-8Z"></path>
</svg>
</a>
      <span>
        &copy; 2024 GitHub,&nbsp;Inc.
      </span>
    </div>

    <nav aria-label="Footer">
      <h3 class="sr-only" id="sr-footer-heading">Footer navigation</h3>

      <ul class="list-style-none d-flex flex-justify-center flex-wrap mb-2 mb-lg-0" aria-labelledby="sr-footer-heading">

          <li class="mx-2">
            <a data-analytics-event="{&quot;category&quot;:&quot;Footer&quot;,&quot;action&quot;:&quot;go to Terms&quot;,&quot;label&quot;:&quot;text:terms&quot;}" href="https://docs.github.com/site-policy/github-terms/github-terms-of-service" data-view-component="true" class="Link--secondary Link">Terms</a>
          </li>

          <li class="mx-2">
            <a data-analytics-event="{&quot;category&quot;:&quot;Footer&quot;,&quot;action&quot;:&quot;go to privacy&quot;,&quot;label&quot;:&quot;text:privacy&quot;}" href="https://docs.github.com/site-policy/privacy-policies/github-privacy-statement" data-view-component="true" class="Link--secondary Link">Privacy</a>
          </li>

          <li class="mx-2">
            <a data-analytics-event="{&quot;category&quot;:&quot;Footer&quot;,&quot;action&quot;:&quot;go to security&quot;,&quot;label&quot;:&quot;text:security&quot;}" href="https://github.com/security" data-view-component="true" class="Link--secondary Link">Security</a>
          </li>

          <li class="mx-2">
            <a data-analytics-event="{&quot;category&quot;:&quot;Footer&quot;,&quot;action&quot;:&quot;go to status&quot;,&quot;label&quot;:&quot;text:status&quot;}" href="https://www.githubstatus.com/" data-view-component="true" class="Link--secondary Link">Status</a>
          </li>

          <li class="mx-2">
            <a data-analytics-event="{&quot;category&quot;:&quot;Footer&quot;,&quot;action&quot;:&quot;go to docs&quot;,&quot;label&quot;:&quot;text:docs&quot;}" href="https://docs.github.com/" data-view-component="true" class="Link--secondary Link">Docs</a>
          </li>

          <li class="mx-2">
            <a data-analytics-event="{&quot;category&quot;:&quot;Footer&quot;,&quot;action&quot;:&quot;go to contact&quot;,&quot;label&quot;:&quot;text:contact&quot;}" href="https://support.github.com?tags=dotcom-footer" data-view-component="true" class="Link--secondary Link">Contact</a>
          </li>

          <li class="mr-3" >
  <cookie-consent-link>
    <button type="button" class="Link--secondary underline-on-hover border-0 p-0 color-bg-transparent" data-action="click:cookie-consent-link#showConsentManagement">
      Manage cookies
    </button>
  </cookie-consent-link>
</li>

<li class="mr-3">
  <cookie-consent-link>
    <button type="button" class="Link--secondary underline-on-hover border-0 p-0 color-bg-transparent" data-action="click:cookie-consent-link#showConsentManagement">
      Do not share my personal information
    </button>
  </cookie-consent-link>
</li>

      </ul>
    </nav>
  </div>
</footer>




    <ghcc-consent id="ghcc" class="position-fixed bottom-0 left-0" style="z-index: 999999" data-initial-cookie-consent-allowed="" data-cookie-consent-required="false"></ghcc-consent>


  <div id="ajax-error-message" class="ajax-error-message flash flash-error" hidden>
    <svg aria-hidden="true" height="16" viewBox="0 0 16 16" version="1.1" width="16" data-view-component="true" class="octicon octicon-alert">
    <path d="M6.457 1.047c.659-1.234 2.427-1.234 3.086 0l6.082 11.378A1.75 1.75 0 0 1 14.082 15H1.918a1.75 1.75 0 0 1-1.543-2.575Zm1.763.707a.25.25 0 0 0-.44 0L1.698 13.132a.25.25 0 0 0 .22.368h12.164a.25.25 0 0 0 .22-.368Zm.53 3.996v2.5a.75.75 0 0 1-1.5 0v-2.5a.75.75 0 0 1 1.5 0ZM9 11a1 1 0 1 1-2 0 1 1 0 0 1 2 0Z"></path>
</svg>
    <button type="button" class="flash-close js-ajax-error-dismiss" aria-label="Dismiss error">
      <svg aria-hidden="true" height="16" viewBox="0 0 16 16" version="1.1" width="16" data-view-component="true" class="octicon octicon-x">
    <path d="M3.72 3.72a.75.75 0 0 1 1.06 0L8 6.94l3.22-3.22a.749.749 0 0 1 1.275.326.749.749 0 0 1-.215.734L9.06 8l3.22 3.22a.749.749 0 0 1-.326 1.275.749.749 0 0 1-.734-.215L8 9.06l-3.22 3.22a.751.751 0 0 1-1.042-.018.751.751 0 0 1-.018-1.042L6.94 8 3.72 4.78a.75.75 0 0 1 0-1.06Z"></path>
</svg>
    </button>
    You can’t perform that action at this time.
  </div>

    <template id="site-details-dialog">
  <details class="details-reset details-overlay details-overlay-dark lh-default color-fg-default hx_rsm" open>
    <summary role="button" aria-label="Close dialog"></summary>
    <details-dialog class="Box Box--overlay d-flex flex-column anim-fade-in fast hx_rsm-dialog hx_rsm-modal">
      <button class="Box-btn-octicon m-0 btn-octicon position-absolute right-0 top-0" type="button" aria-label="Close dialog" data-close-dialog>
        <svg aria-hidden="true" height="16" viewBox="0 0 16 16" version="1.1" width="16" data-view-component="true" class="octicon octicon-x">
    <path d="M3.72 3.72a.75.75 0 0 1 1.06 0L8 6.94l3.22-3.22a.749.749 0 0 1 1.275.326.749.749 0 0 1-.215.734L9.06 8l3.22 3.22a.749.749 0 0 1-.326 1.275.749.749 0 0 1-.734-.215L8 9.06l-3.22 3.22a.751.751 0 0 1-1.042-.018.751.751 0 0 1-.018-1.042L6.94 8 3.72 4.78a.75.75 0 0 1 0-1.06Z"></path>
</svg>
      </button>
      <div class="octocat-spinner my-6 js-details-dialog-spinner"></div>
    </details-dialog>
  </details>
</template>

    <div class="Popover js-hovercard-content position-absolute" style="display: none; outline: none;" tabindex="0">
  <div class="Popover-message Popover-message--bottom-left Popover-message--large Box color-shadow-large" style="width:360px;">
  </div>
</div>

    <template id="snippet-clipboard-copy-button">
  <div class="zeroclipboard-container position-absolute right-0 top-0">
    <clipboard-copy aria-label="Copy" class="ClipboardButton btn js-clipboard-copy m-2 p-0 tooltipped-no-delay" data-copy-feedback="Copied!" data-tooltip-direction="w">
      <svg aria-hidden="true" height="16" viewBox="0 0 16 16" version="1.1" width="16" data-view-component="true" class="octicon octicon-copy js-clipboard-copy-icon m-2">
    <path d="M0 6.75C0 5.784.784 5 1.75 5h1.5a.75.75 0 0 1 0 1.5h-1.5a.25.25 0 0 0-.25.25v7.5c0 .138.112.25.25.25h7.5a.25.25 0 0 0 .25-.25v-1.5a.75.75 0 0 1 1.5 0v1.5A1.75 1.75 0 0 1 9.25 16h-7.5A1.75 1.75 0 0 1 0 14.25Z"></path><path d="M5 1.75C5 .784 5.784 0 6.75 0h7.5C15.216 0 16 .784 16 1.75v7.5A1.75 1.75 0 0 1 14.25 11h-7.5A1.75 1.75 0 0 1 5 9.25Zm1.75-.25a.25.25 0 0 0-.25.25v7.5c0 .138.112.25.25.25h7.5a.25.25 0 0 0 .25-.25v-7.5a.25.25 0 0 0-.25-.25Z"></path>
</svg>
      <svg aria-hidden="true" height="16" viewBox="0 0 16 16" version="1.1" width="16" data-view-component="true" class="octicon octicon-check js-clipboard-check-icon color-fg-success d-none m-2">
    <path d="M13.78 4.22a.75.75 0 0 1 0 1.06l-7.25 7.25a.75.75 0 0 1-1.06 0L2.22 9.28a.751.751 0 0 1 .018-1.042.751.751 0 0 1 1.042-.018L6 10.94l6.72-6.72a.75.75 0 0 1 1.06 0Z"></path>
</svg>
    </clipboard-copy>
  </div>
</template>
<template id="snippet-clipboard-copy-button-unpositioned">
  <div class="zeroclipboard-container">
    <clipboard-copy aria-label="Copy" class="ClipboardButton btn btn-invisible js-clipboard-copy m-2 p-0 tooltipped-no-delay d-flex flex-justify-center flex-items-center" data-copy-feedback="Copied!" data-tooltip-direction="w">
      <svg aria-hidden="true" height="16" viewBox="0 0 16 16" version="1.1" width="16" data-view-component="true" class="octicon octicon-copy js-clipboard-copy-icon">
    <path d="M0 6.75C0 5.784.784 5 1.75 5h1.5a.75.75 0 0 1 0 1.5h-1.5a.25.25 0 0 0-.25.25v7.5c0 .138.112.25.25.25h7.5a.25.25 0 0 0 .25-.25v-1.5a.75.75 0 0 1 1.5 0v1.5A1.75 1.75 0 0 1 9.25 16h-7.5A1.75 1.75 0 0 1 0 14.25Z"></path><path d="M5 1.75C5 .784 5.784 0 6.75 0h7.5C15.216 0 16 .784 16 1.75v7.5A1.75 1.75 0 0 1 14.25 11h-7.5A1.75 1.75 0 0 1 5 9.25Zm1.75-.25a.25.25 0 0 0-.25.25v7.5c0 .138.112.25.25.25h7.5a.25.25 0 0 0 .25-.25v-7.5a.25.25 0 0 0-.25-.25Z"></path>
</svg>
      <svg aria-hidden="true" height="16" viewBox="0 0 16 16" version="1.1" width="16" data-view-component="true" class="octicon octicon-check js-clipboard-check-icon color-fg-success d-none">
    <path d="M13.78 4.22a.75.75 0 0 1 0 1.06l-7.25 7.25a.75.75 0 0 1-1.06 0L2.22 9.28a.751.751 0 0 1 .018-1.042.751.751 0 0 1 1.042-.018L6 10.94l6.72-6.72a.75.75 0 0 1 1.06 0Z"></path>
</svg>
    </clipboard-copy>
  </div>
</template>




    </div>

    <div id="js-global-screen-reader-notice" class="sr-only mt-n1" aria-live="polite" aria-atomic="true" ></div>
    <div id="js-global-screen-reader-notice-assertive" class="sr-only mt-n1" aria-live="assertive" aria-atomic="true"></div>
  </body>
</html>

